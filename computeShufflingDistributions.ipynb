{
 "cells": [
  {
   "cell_type": "markdown",
   "metadata": {},
   "source": [
    "# Load translation voxel simulation data"
   ]
  },
  {
   "cell_type": "code",
   "execution_count": 1,
   "metadata": {},
   "outputs": [
    {
     "name": "stdout",
     "output_type": "stream",
     "text": [
      "Computing...\n",
      "Computing...\n",
      "Computing...\n",
      "Computing...\n",
      "Computing...\n",
      "Computing...\n",
      "Computing...\n",
      "Computing...\n",
      "Computing...\n",
      "Computing...\n",
      "Computing...\n",
      "Computing...\n",
      "Computing...\n"
     ]
    },
    {
     "ename": "TypeError",
     "evalue": "compute_gene_elongt() missing 1 required positional argument: 'codon_elongt'",
     "output_type": "error",
     "traceback": [
      "\u001b[0;31m---------------------------------------------------------------------------\u001b[0m",
      "\u001b[0;31mTypeError\u001b[0m                                 Traceback (most recent call last)",
      "\u001b[0;32m<timed exec>\u001b[0m in \u001b[0;36m<module>\u001b[0;34m\u001b[0m\n",
      "\u001b[0;31mTypeError\u001b[0m: compute_gene_elongt() missing 1 required positional argument: 'codon_elongt'"
     ]
    }
   ],
   "source": [
    "%%time\n",
    "%load_ext autoreload\n",
    "\n",
    "from analysis_utils import *\n",
    "from joblib import Parallel, delayed\n",
    "import multiprocessing  \n",
    "import numpy as np\n",
    "import pandas as pd\n",
    "\n",
    "#Growth rate = 3.0\n",
    "#Computes the translation latencies from our model with simulations containing\n",
    "#1 to 14 cognate ternary complexes in the voxel (14 to 42 not included because\n",
    "#the probability of voxels with that number of cognates is ~0)\n",
    "path = \"/Users/Akshay/Documents/tRNAShuffle/data/\"\n",
    "ensmbl_latency_dict = dict()\n",
    "rxndiff=dict()\n",
    "scalingFactor = 200\n",
    "NR_scaledrates = {'k1r':718*200/scalingFactor,'k2f':1475*200/scalingFactor,'k2r_nr':1120*200/scalingFactor,'k3_nr':6*200/scalingFactor,'k4':209*200/scalingFactor}\n",
    "\n",
    "\n",
    "data = \"191003_2210/\"\n",
    "for i in range(1,7):\n",
    "    sim_i = computeTransportRxnTimes(path+data,100*(i-1),100*(i-1)+100,cogtRNANum=i, ribosomeNum = 7,scaling=scalingFactor,NR_scaling = NR_scaledrates)\n",
    "    ensmbl_latency_dict[i] = (CellLatencies(sim_i))\n",
    "\n",
    "data = \"191105_0908/\"\n",
    "for i in range(7,14):\n",
    "    sim_i = computeTransportRxnTimes(path+data, 100*(i-1-6),100*(i-1-6)+100,cogtRNANum=i, ribosomeNum = 7,scaling=scalingFactor,NR_scaling = NR_scaledrates)\n",
    "    ensmbl_latency_dict[i] = (CellLatencies(sim_i))\n",
    "    \n",
    "#Experimentally obtained codon usage frequencies and tRNA abundances at growth rate = 2.5 dbl/hr\n",
    "gr25_Codon = np.array([2.36, 1.26, 45.55, 34.17, 16.97, 57.86, 19.27, 33.74, 14.98, 22.31, 43.18, 7.67, 24.11, 24.87, 39.49, 11.81, 0.03, 0.63, 2.19, 9.31, 17.22, 55.01, 5.61, 29.21, 21.67, 0.52, 15.79, 43.86, 4.17, 2.61, 20.64, 26.7, 7.03, 0.19, 2.76, 3.81, 6.72, 16.52, 4.27, 2.73, 7.92, 23.25, 2.51, 1.98, 16.33, 11.68, 0.62, 0.67, 43.82, 20.59, 27.28, 7.01, 6.78, 14.21, 60.75, 0.82, 3.86, 4.09, 28.82, 5.18, 4.38, 1.09])\n",
    "gr25_pCodon = gr25_Codon/np.sum(gr25_Codon)\n",
    "gr25_ptRNA = [0.0602409638554217, 0.010542168674698798, 0.07379518072289158, 0.00602409638554217, 0.010542168674698798, 0.00602409638554217, 0.021084337349397596, 0.043674698795180725, 0.021084337349397596, 0.01204819277108434, 0.01807228915662651, 0.08433734939759038, 0.03162650602409639, 0.07228915662650603, 0.01204819277108434, 0.07078313253012049, 0.06325301204819278, 0.01656626506024097, 0.009036144578313254, 0.027108433734939763, 0.010542168674698798, 0.03012048192771085, 0.013554216867469882, 0.015060240963855425, 0.0075301204819277125, 0.010542168674698798, 0.0075301204819277125, 0.003012048192771085, 0.021084337349397596, 0.004518072289156627, 0.01656626506024097, 0.01204819277108434, 0.0015060240963855425, 0.009036144578313254, 0.01656626506024097, 0.019578313253012052, 0.015060240963855425, 0.027108434, 0.05873493975903616, 0.019578313]\n",
    "gr25_ptRNA = gr25_ptRNA/np.sum(gr25_ptRNA)\n",
    "\n",
    "n_cores = 16\n",
    "\n",
    "##Compute the codon distribution and elongation latency of each gene weighted by transcript number\n",
    "codon_elongt = compute_codon_elongt(gr25_ptRNA, len(gr25_pCodon), ensmbl_latency_dict)\n",
    "gene_map, gene_latency = compute_gene_elongt(codon_elongt)\n",
    "pCodon_transcriptome, transcriptome_elongt = compute_transcript_distributions(gene_map,gene_latency)\n",
    "pCodon_transcriptome = np.array(pCodon_transcriptome)"
   ]
  },
  {
   "cell_type": "code",
   "execution_count": null,
   "metadata": {},
   "outputs": [],
   "source": [
    "min(gr25_ptRNA)"
   ]
  },
  {
   "cell_type": "code",
   "execution_count": null,
   "metadata": {},
   "outputs": [],
   "source": []
  },
  {
   "cell_type": "markdown",
   "metadata": {},
   "source": [
    "## Uniform Random tRNA, WT Codon usage, 100 samples"
   ]
  },
  {
   "cell_type": "code",
   "execution_count": 2,
   "metadata": {},
   "outputs": [
    {
     "name": "stdout",
     "output_type": "stream",
     "text": [
      "CPU times: user 13.3 s, sys: 421 ms, total: 13.7 s\n",
      "Wall time: 24.1 s\n"
     ]
    }
   ],
   "source": [
    "%%time\n",
    "elongt_list = list()\n",
    "ptRNA_list = list()\n",
    "inputs = list()\n",
    "\n",
    "for i in range(100):\n",
    "    ptRNA_uniform = np.random.uniform(min(gr25_ptRNA),max(gr25_ptRNA),len(gr25_ptRNA))\n",
    "    ptRNA_list.append(ptRNA_uniform)\n",
    "    inputs.append([ptRNA_uniform,pCodon_transcriptome,ensmbl_latency_dict])\n",
    "elongt_list = Parallel(n_jobs=n_cores,backend='loky')(delayed(computeElongationLatency_multithread)(i) for i in inputs)\n",
    "elongt_list = [elongt[0][0] for elongt in elongt_list]\n",
    "np.save('./data/UniformRandomtRNA_WTCodonUsage_100sample_elongt',elongt_list)\n",
    "np.save('./data/UniformRandomtRNA_WTCodonUsage_100sample_ptRNA',ptRNA_list)\n"
   ]
  },
  {
   "cell_type": "markdown",
   "metadata": {},
   "source": [
    "## Uniform Random tRNA, WT Codon usage, 10k samples"
   ]
  },
  {
   "cell_type": "code",
   "execution_count": 3,
   "metadata": {},
   "outputs": [
    {
     "name": "stdout",
     "output_type": "stream",
     "text": [
      "CPU times: user 27min 39s, sys: 11.3 s, total: 27min 51s\n",
      "Wall time: 44min 6s\n"
     ]
    }
   ],
   "source": [
    "%%time\n",
    "elongt_list = list()\n",
    "ptRNA_list = list()\n",
    "inputs = list()\n",
    "\n",
    "for i in range(10000):\n",
    "    ptRNA_uniform = np.random.uniform(min(gr25_ptRNA),max(gr25_ptRNA),len(gr25_ptRNA))\n",
    "    ptRNA_list.append(ptRNA_uniform)\n",
    "    inputs.append([ptRNA_uniform,pCodon_transcriptome,ensmbl_latency_dict])\n",
    "elongt_list = Parallel(n_jobs=n_cores,backend='loky')(delayed(computeElongationLatency_multithread)(i) for i in inputs)\n",
    "elongt_list = [elongt[0][0] for elongt in elongt_list]\n",
    "np.save('./data/UniformRandomtRNA_WTCodonUsage_10ksample_elongt',elongt_list)\n",
    "np.save('./data/UniformRandomtRNA_WTCodonUsage_10ksample_ptRNA',ptRNA_list)\n"
   ]
  },
  {
   "cell_type": "markdown",
   "metadata": {},
   "source": [
    "## WT tRNA, Uniform Random Codon usage, 100 samples"
   ]
  },
  {
   "cell_type": "code",
   "execution_count": null,
   "metadata": {},
   "outputs": [],
   "source": [
    "%%time\n",
    "elongt_list = list()\n",
    "pCodon_list = list()\n",
    "inputs = list()\n",
    "\n",
    "syn_codon_list = [[0,1,2,3],[4,5],[6,7],[8,9,10,11],[12,13,14,15],[16,17,46,47,48,49],[18,19,42,43,44,45],\n",
    "              [20,21],[22,23],[24],[25,26,27],[28,29,30,31],[32],[33],[34,35],[36,37],[38,39,54,55,56,57],[40,41],\n",
    "              [50,51],[52,53],[58,59,60,61]]\n",
    "        \n",
    "for i in range(100):\n",
    "    pCodon_uniform = np.zeros(len(gr25_pCodon))\n",
    "    for syn_codons in syn_codon_list:\n",
    "        pCodon_uniform[syn_codons] = np.random.uniform(min(gr25_Codon),max(gr25_Codon),len(syn_codons))\n",
    "        pCodon_uniform[syn_codons] = sum(pCodon_transcriptome[syn_codons])/sum(pCodon_uniform[syn_codons])*pCodon_uniform[syn_codons]\n",
    "    pCodon_list.append(pCodon_uniform)\n",
    "    inputs.append([gr25_ptRNA, pCodon_uniform,ensmbl_latency_dict])\n",
    "\n",
    "elongt_list = Parallel(n_jobs=n_cores,backend='loky')(delayed(computeElongationLatency_multithread)(i) for i in inputs)\n",
    "elongt_list = [elongt[0][0] for elongt in elongt_list]\n",
    "\n",
    "np.save('./data/WTtRNA_UniformRandomCodonUsage_100sample_elongt',elongt_list)\n",
    "np.save('./data/WTtRNA_UniformRandomCodonUsage_100sample_pCodon',pCodon_list)\n"
   ]
  },
  {
   "cell_type": "markdown",
   "metadata": {},
   "source": [
    "## WT tRNA, Uniform Random Codon usage, 10k samples"
   ]
  },
  {
   "cell_type": "code",
   "execution_count": null,
   "metadata": {},
   "outputs": [],
   "source": [
    "%%time\n",
    "elongt_list = list()\n",
    "pCodon_list = list()\n",
    "inputs = list()\n",
    "\n",
    "syn_codon_list = [[0,1,2,3],[4,5],[6,7],[8,9,10,11],[12,13,14,15],[16,17,46,47,48,49],[18,19,42,43,44,45],\n",
    "              [20,21],[22,23],[24],[25,26,27],[28,29,30,31],[32],[33],[34,35],[36,37],[38,39,54,55,56,57],[40,41],\n",
    "              [50,51],[52,53],[58,59,60,61]]\n",
    "        \n",
    "for i in range(10000):\n",
    "    pCodon_uniform = np.zeros(len(pCodon_transcriptome))\n",
    "    for syn_codons in syn_codon_list:\n",
    "        pCodon_uniform[syn_codons] = np.random.uniform(min(gr25_Codon),max(gr25_Codon),len(syn_codons))\n",
    "        pCodon_uniform[syn_codons] = sum(pCodon_transcriptome[syn_codons])/sum(pCodon_uniform[syn_codons])*pCodon_uniform[syn_codons]\n",
    "    pCodon_list.append(pCodon_uniform)\n",
    "    inputs.append([gr25_ptRNA, pCodon_uniform,ensmbl_latency_dict])\n",
    "\n",
    "elongt_list = Parallel(n_jobs=n_cores,backend='loky')(delayed(computeElongationLatency_multithread)(i) for i in inputs)\n",
    "elongt_list = [elongt[0][0] for elongt in elongt_list]\n",
    "\n",
    "np.save('./data/WTtRNA_UniformRandomCodonUsage_10ksample_elongt',elongt_list)\n",
    "np.save('./data/WTtRNA_UniformRandomCodonUsage_10ksample_pCodon',pCodon_list)\n"
   ]
  },
  {
   "cell_type": "markdown",
   "metadata": {},
   "source": [
    "## Genetic algorithm: faster tRNA distributions (Codon usage fixed, WT)"
   ]
  },
  {
   "cell_type": "code",
   "execution_count": 4,
   "metadata": {},
   "outputs": [
    {
     "name": "stdout",
     "output_type": "stream",
     "text": [
      "The autoreload extension is already loaded. To reload it, use:\n",
      "  %reload_ext autoreload\n",
      "Generation:  0  elongt:  204.7468593260982\n",
      "Generation:  100  elongt:  185.59303909290207\n",
      "Generation:  200  elongt:  183.6698904143997\n",
      "Generation:  300  elongt:  181.6704947318644\n",
      "Generation:  400  elongt:  180.376199821021\n",
      "Generation:  500  elongt:  178.59407803249746\n",
      "Generation:  600  elongt:  178.59407803249746\n",
      "Generation:  700  elongt:  178.12911201678904\n",
      "Generation:  800  elongt:  178.12911201678904\n",
      "Generation:  900  elongt:  178.04931287245662\n",
      "Generation:  1000  elongt:  177.2590105137187\n",
      "Generation:  1100  elongt:  177.2590105137187\n",
      "Generation:  1200  elongt:  176.55324018947073\n",
      "Generation:  1300  elongt:  176.55324018947073\n",
      "Generation:  1400  elongt:  176.14176666410413\n",
      "Generation:  1500  elongt:  176.14176666410413\n",
      "Generation:  1600  elongt:  176.14176666410413\n",
      "Generation:  1700  elongt:  175.50266749159155\n",
      "Generation:  1800  elongt:  175.50266749159155\n",
      "Generation:  1900  elongt:  175.50266749159155\n",
      "CPU times: user 26min 44s, sys: 6.18 s, total: 26min 50s\n",
      "Wall time: 1h 30min\n"
     ]
    }
   ],
   "source": [
    "%%time\n",
    "%load_ext autoreload\n",
    "%autoreload 2\n",
    "from analysis_utils import *\n",
    "\n",
    "### Codon array fixed\n",
    "elongt_list = np.load('./data/UniformRandomtRNA_WTCodonUsage_100sample_elongt.npy')\n",
    "ptRNA_list = np.load('./data/UniformRandomtRNA_WTCodonUsage_100sample_ptRNA.npy')\n",
    "fullelongt_list = list()\n",
    "\n",
    "for i in range(2000):\n",
    "    fitness, ptRNA_list, elongt_list = run_ga_tRNA(ptRNA_list,pCodon_transcriptome,elongt_list,ensmbl_latency_dict,min(gr25_ptRNA),max(gr25_ptRNA),objective='fast')\n",
    "    fullelongt_list.append(min(elongt_list))\n",
    "    if i%100 == 0:\n",
    "        print('Generation: ',i, ' elongt: ', min(elongt_list))\n",
    "        \n",
    "np.save('./data/UniformRandomtRNA_WTCodonUsage_2ksample_fasttRNA_elongt',elongt_list)\n",
    "np.save('./data/UniformRandomtRNA_WTCodonUsage_2ksample_fasttRNA_ptRNA',ptRNA_list)\n",
    "np.save('./data/UniformRandomtRNA_WTCodonUsage_2ksample_fasttRNA_fullelongt',fullelongt_list)"
   ]
  },
  {
   "cell_type": "markdown",
   "metadata": {},
   "source": [
    "## Genetic algorithm: slower tRNA distributions (Codon usage fixed, WT)"
   ]
  },
  {
   "cell_type": "code",
   "execution_count": 5,
   "metadata": {},
   "outputs": [
    {
     "name": "stdout",
     "output_type": "stream",
     "text": [
      "The autoreload extension is already loaded. To reload it, use:\n",
      "  %reload_ext autoreload\n",
      "Generation:  0\n",
      "Generation:  100\n",
      "Generation:  200\n",
      "Generation:  300\n",
      "Generation:  400\n",
      "Generation:  500\n",
      "Generation:  600\n",
      "Generation:  700\n",
      "Generation:  800\n",
      "Generation:  900\n",
      "Generation:  1000\n",
      "Generation:  1100\n",
      "Generation:  1200\n",
      "Generation:  1300\n",
      "Generation:  1400\n",
      "Generation:  1500\n",
      "Generation:  1600\n",
      "Generation:  1700\n",
      "Generation:  1800\n",
      "Generation:  1900\n",
      "CPU times: user 23min 36s, sys: 3.5 s, total: 23min 40s\n",
      "Wall time: 1h 18min\n"
     ]
    }
   ],
   "source": [
    "%%time\n",
    "%load_ext autoreload\n",
    "%autoreload 2\n",
    "from analysis_utils import *\n",
    "\n",
    "### Codon array fixed\n",
    "elongt_list = np.load('./data/UniformRandomtRNA_WTCodonUsage_100sample_elongt.npy')\n",
    "ptRNA_list = np.load('./data/UniformRandomtRNA_WTCodonUsage_100sample_ptRNA.npy')\n",
    "fullelongt_list = list()\n",
    "\n",
    "for i in range(2000):\n",
    "    fitness, ptRNA_list, elongt_list = run_ga_tRNA(ptRNA_list,pCodon_transcriptome,elongt_list,ensmbl_latency_dict,min(gr25_ptRNA),max(gr25_ptRNA),objective='slow')\n",
    "    fullelongt_list.append(max(elongt_list))\n",
    "    if i%100 == 0:\n",
    "        print('Generation: ',i)\n",
    "np.save('./data/UniformRandomtRNA_WTCodonUsage_2ksample_slowtRNA_elongt',elongt_list)\n",
    "np.save('./data/UniformRandomtRNA_WTCodonUsage_2ksample_slowtRNA_ptRNA',ptRNA_list)\n",
    "np.save('./data/UniformRandomtRNA_WTCodonUsage_2ksample_slowtRNA_fullelongt',fullelongt_list)"
   ]
  },
  {
   "cell_type": "markdown",
   "metadata": {},
   "source": [
    "## Genetic algorithm: faster codon usage distributions (tRNA abundances fixed, WT)"
   ]
  },
  {
   "cell_type": "code",
   "execution_count": 9,
   "metadata": {},
   "outputs": [
    {
     "name": "stdout",
     "output_type": "stream",
     "text": [
      "The autoreload extension is already loaded. To reload it, use:\n",
      "  %reload_ext autoreload\n",
      "Generation:  0  elongt:  191.20403884990284\n",
      "Generation:  100  elongt:  183.8317274791367\n",
      "Generation:  200  elongt:  183.8317274791367\n",
      "Generation:  300  elongt:  183.79480130218053\n",
      "Generation:  400  elongt:  183.00058094871963\n",
      "Generation:  500  elongt:  183.00058094871963\n",
      "Generation:  600  elongt:  182.9682133905058\n",
      "Generation:  700  elongt:  181.89405407246474\n",
      "Generation:  800  elongt:  181.89405407246474\n",
      "Generation:  900  elongt:  181.89405407246474\n",
      "Generation:  1000  elongt:  181.89405407246474\n",
      "Generation:  1100  elongt:  181.89405407246474\n",
      "Generation:  1200  elongt:  181.89405407246474\n",
      "Generation:  1300  elongt:  181.88442465158676\n",
      "Generation:  1400  elongt:  181.59291600231413\n",
      "Generation:  1500  elongt:  181.59291600231413\n",
      "Generation:  1600  elongt:  181.46748086212898\n",
      "Generation:  1700  elongt:  181.38451951397764\n",
      "Generation:  1800  elongt:  181.38451951397764\n",
      "Generation:  1900  elongt:  181.38451951397764\n",
      "CPU times: user 29min 39s, sys: 4.97 s, total: 29min 44s\n",
      "Wall time: 1h 40min 44s\n"
     ]
    }
   ],
   "source": [
    "%%time\n",
    "%load_ext autoreload\n",
    "%autoreload 2\n",
    "from analysis_utils import *\n",
    "\n",
    "### Codon array fixed\n",
    "elongt_list = np.load('./data/WTtRNA_UniformRandomCodonUsage_100sample_elongt.npy')\n",
    "pCodon_list = np.load('./data/WTtRNA_UniformRandomCodonUsage_100sample_pCodon.npy')\n",
    "fullelongt_list = list()\n",
    "\n",
    "for i in range(2000):\n",
    "    fitness, pCodon_list, elongt_list = run_ga_CodonSweep(gr25_ptRNA,pCodon_list,elongt_list,ensmbl_latency_dict,min(gr25_ptRNA),max(gr25_ptRNA),objective='fast')\n",
    "    fullelongt_list.append(min(elongt_list))\n",
    "    if i%100 == 0:\n",
    "        print('Generation: ',i, ' elongt: ', min(elongt_list))\n",
    "        \n",
    "np.save('./data/WTtRNA_UniformRandomCodonUsage_2ksample_fastCodonUsage_elongt',elongt_list)\n",
    "np.save('./data/WTtRNA_UniformRandomCodonUsage_2ksample_fastCodonUsage_pCodon',pCodon_list)\n",
    "np.save('./data/WTtRNA_UniformRandomCodonUsage_2ksample_fastCodonUsage_fullelongt',fullelongt_list)"
   ]
  },
  {
   "cell_type": "markdown",
   "metadata": {},
   "source": [
    "## Genetic algorithm: slower codon usage distributions (tRNA abundances fixed, WT)"
   ]
  },
  {
   "cell_type": "code",
   "execution_count": 10,
   "metadata": {},
   "outputs": [
    {
     "name": "stdout",
     "output_type": "stream",
     "text": [
      "The autoreload extension is already loaded. To reload it, use:\n",
      "  %reload_ext autoreload\n",
      "Generation:  0  elongt:  197.15079674970096\n",
      "Generation:  100  elongt:  204.67877264653683\n",
      "Generation:  200  elongt:  207.69370503330927\n",
      "Generation:  300  elongt:  208.5881553822576\n",
      "Generation:  400  elongt:  209.1548761281126\n",
      "Generation:  500  elongt:  209.9507496043587\n",
      "Generation:  600  elongt:  210.76652294650046\n",
      "Generation:  700  elongt:  207.24318243566364\n",
      "Generation:  800  elongt:  208.94475841032855\n",
      "Generation:  900  elongt:  211.12963582348067\n",
      "Generation:  1000  elongt:  210.52570746321175\n",
      "Generation:  1100  elongt:  211.24092953215046\n",
      "Generation:  1200  elongt:  210.48032627973268\n",
      "Generation:  1300  elongt:  210.47866205263128\n",
      "Generation:  1400  elongt:  209.784447529888\n",
      "Generation:  1500  elongt:  208.99184589196045\n",
      "Generation:  1600  elongt:  210.6692604960466\n",
      "Generation:  1700  elongt:  212.53593727342954\n",
      "Generation:  1800  elongt:  209.31250488275492\n",
      "Generation:  1900  elongt:  210.6189482662206\n",
      "CPU times: user 28min 55s, sys: 4.53 s, total: 29min\n",
      "Wall time: 1h 37min 45s\n"
     ]
    }
   ],
   "source": [
    "%%time\n",
    "%load_ext autoreload\n",
    "%autoreload 2\n",
    "from analysis_utils import *\n",
    "\n",
    "### Codon array fixed\n",
    "elongt_list = np.load('./data/WTtRNA_UniformRandomCodonUsage_100sample_elongt.npy')\n",
    "pCodon_list = np.load('./data/WTtRNA_UniformRandomCodonUsage_100sample_pCodon.npy')\n",
    "fullelongt_list = list()\n",
    "\n",
    "for i in range(2000):\n",
    "    fitness, pCodon_list, elongt_list = run_ga_CodonSweep(gr25_ptRNA,pCodon_list,elongt_list,ensmbl_latency_dict,min(gr25_ptRNA),max(gr25_ptRNA),objective='slow')\n",
    "    fullelongt_list.append(max(elongt_list))\n",
    "    if i%100 == 0:\n",
    "        print('Generation: ',i, ' elongt: ', min(elongt_list))\n",
    "        \n",
    "np.save('./data/WTtRNA_UniformRandomCodonUsage_2ksample_slowCodonUsage_elongt',elongt_list)\n",
    "np.save('./data/WTtRNA_UniformRandomCodonUsage_2ksample_slowCodonUsage_pCodon',pCodon_list)\n",
    "np.save('./data/WTtRNA_UniformRandomCodonUsage_2ksample_slowCodonUsage_fullelongt',fullelongt_list)"
   ]
  },
  {
   "cell_type": "markdown",
   "metadata": {},
   "source": [
    "# Minimal code"
   ]
  },
  {
   "cell_type": "code",
   "execution_count": 6,
   "metadata": {},
   "outputs": [
    {
     "name": "stdout",
     "output_type": "stream",
     "text": [
      "Number of polypeptides reported:  4434\n",
      "Returned gene map of length  15934\n",
      "Removed  24  non-divisible by three genes\n",
      "['insAB1', 'insCD2', 'dgd', 'insCD4', 'insCD6', 'alaB', 'prfB', 'supK', 'b2891', 'ECK2886', 'insCD3', 'insEF4', 'insAB2', 'insEF5', 'insCD1', 'insAB5', 'insEF1', 'insCD5', 'insEF3', 'insAB3', 'insJK', 'insAB4', 'insEF2', 'insAB6']\n",
      "Unique transcripts without a Gene identifier:  272\n",
      "Sequences not available for # genes in Ecocyc DB:  153\n",
      "Inconsistency in codons:  0\n",
      "3767\n",
      "Missing genes in transcriptome_dict in compute_transcript_distributions:  133\n"
     ]
    }
   ],
   "source": [
    "##Compute the codon distribution and elongation latency of each gene weighted by transcript number\n",
    "codon_elongt = compute_codon_elongt(gr25_ptRNA, len(gr25_pCodon), ensmbl_latency_dict)\n",
    "gene_map, gene_latency = compute_gene_elongt(codon_elongt, red20=True)\n",
    "pCodon_transcriptome, transcriptome_elongt = compute_transcript_distributions(gene_map,gene_latency)\n",
    "pCodon_transcriptome = np.array(pCodon_transcriptome)"
   ]
  },
  {
   "cell_type": "code",
   "execution_count": null,
   "metadata": {},
   "outputs": [],
   "source": []
  },
  {
   "cell_type": "markdown",
   "metadata": {},
   "source": [
    "## Uniform Random tRNA, minimal code, 100 samples\n"
   ]
  },
  {
   "cell_type": "code",
   "execution_count": 7,
   "metadata": {},
   "outputs": [
    {
     "name": "stdout",
     "output_type": "stream",
     "text": [
      "CPU times: user 12 s, sys: 52.5 ms, total: 12.1 s\n",
      "Wall time: 18 s\n"
     ]
    }
   ],
   "source": [
    "%%time\n",
    "elongt_list = list()\n",
    "ptRNA_list = list()\n",
    "inputs = list()\n",
    "\n",
    "for i in range(100):\n",
    "    ptRNA_uniform = np.random.uniform(min(gr25_ptRNA),max(gr25_ptRNA),len(gr25_ptRNA))\n",
    "    ptRNA_list.append(ptRNA_uniform)\n",
    "    inputs.append([ptRNA_uniform,pCodon_transcriptome,ensmbl_latency_dict])\n",
    "elongt_list = Parallel(n_jobs=n_cores,backend='loky')(delayed(computeElongationLatency_multithread)(i) for i in inputs)\n",
    "elongt_list = [elongt[0][0] for elongt in elongt_list]\n",
    "np.save('./data/UniformRandomtRNA_minimalcode_100sample_elongt',elongt_list)\n",
    "np.save('./data/UniformRandomtRNA_minimalcode_100sample_ptRNA',ptRNA_list)"
   ]
  },
  {
   "cell_type": "markdown",
   "metadata": {},
   "source": [
    "## Genetic algorithm: faster tRNA distribution with full tRNA, minimal code"
   ]
  },
  {
   "cell_type": "code",
   "execution_count": 8,
   "metadata": {},
   "outputs": [
    {
     "name": "stdout",
     "output_type": "stream",
     "text": [
      "The autoreload extension is already loaded. To reload it, use:\n",
      "  %reload_ext autoreload\n",
      "Generation:  0  elongt:  206.14060944009728\n",
      "Generation:  100  elongt:  184.47065249040617\n",
      "Generation:  200  elongt:  172.76141694247272\n",
      "Generation:  300  elongt:  171.97699467004063\n",
      "Generation:  400  elongt:  170.77511429725126\n",
      "Generation:  500  elongt:  167.5584628728589\n",
      "Generation:  600  elongt:  166.85355551029303\n",
      "Generation:  700  elongt:  166.85355551029303\n",
      "Generation:  800  elongt:  166.60856577493433\n",
      "Generation:  900  elongt:  166.60856577493433\n",
      "Generation:  1000  elongt:  166.60856577493433\n",
      "Generation:  1100  elongt:  166.60856577493433\n",
      "Generation:  1200  elongt:  164.92418059150185\n",
      "Generation:  1300  elongt:  164.54101061324639\n",
      "Generation:  1400  elongt:  164.49475712293437\n",
      "Generation:  1500  elongt:  164.49475712293437\n",
      "Generation:  1600  elongt:  164.49475712293437\n",
      "Generation:  1700  elongt:  164.49475712293437\n",
      "Generation:  1800  elongt:  164.49475712293437\n",
      "Generation:  1900  elongt:  164.49475712293437\n",
      "CPU times: user 23min 37s, sys: 4.04 s, total: 23min 41s\n",
      "Wall time: 1h 18min 47s\n"
     ]
    }
   ],
   "source": [
    "%%time\n",
    "%load_ext autoreload\n",
    "%autoreload 2\n",
    "from analysis_utils import *\n",
    "\n",
    "### Codon array fixed\n",
    "elongt_list = np.load('./data/UniformRandomtRNA_minimalcode_100sample_elongt.npy')\n",
    "ptRNA_list = np.load('./data/UniformRandomtRNA_minimalcode_100sample_ptRNA.npy')\n",
    "fullelongt_list = list()\n",
    "\n",
    "for i in range(2000):\n",
    "    fitness, ptRNA_list, elongt_list = run_ga_tRNA(ptRNA_list,pCodon_transcriptome,elongt_list,ensmbl_latency_dict,min(gr25_ptRNA),max(gr25_ptRNA),objective='fast')\n",
    "    fullelongt_list.append(min(elongt_list))\n",
    "    if i%100 == 0:\n",
    "        print('Generation: ',i, ' elongt: ', min(elongt_list))\n",
    "        \n",
    "np.save('./data/UniformRandomtRNA_minimalcode_2ksample_fasttRNA_elongt',elongt_list)\n",
    "np.save('./data/UniformRandomtRNA_minimalcode_2ksample_fasttRNA_ptRNA',ptRNA_list)\n",
    "np.save('./data/UniformRandomtRNA_minimalcode_2ksample_fasttRNA_fullelongt',fullelongt_list)"
   ]
  },
  {
   "cell_type": "markdown",
   "metadata": {},
   "source": [
    "## Genetic algorithm: slower tRNA distribution with full tRNA, minimal code"
   ]
  },
  {
   "cell_type": "code",
   "execution_count": 9,
   "metadata": {},
   "outputs": [
    {
     "name": "stdout",
     "output_type": "stream",
     "text": [
      "The autoreload extension is already loaded. To reload it, use:\n",
      "  %reload_ext autoreload\n",
      "Generation:  0 elongt:  229.79502262616816\n",
      "Generation:  100 elongt:  243.30179107950988\n",
      "Generation:  200 elongt:  248.55241118882523\n",
      "Generation:  300 elongt:  249.73461591316013\n",
      "Generation:  400 elongt:  250.8934690614592\n",
      "Generation:  500 elongt:  251.18101657269682\n",
      "Generation:  600 elongt:  251.7319741362925\n",
      "Generation:  700 elongt:  251.83228975842928\n",
      "Generation:  800 elongt:  251.83228975842928\n",
      "Generation:  900 elongt:  251.87044065674507\n",
      "Generation:  1000 elongt:  251.9466119058292\n",
      "Generation:  1100 elongt:  252.14476281671844\n",
      "Generation:  1200 elongt:  252.14476281671844\n",
      "Generation:  1300 elongt:  252.14476281671844\n",
      "Generation:  1400 elongt:  252.14476281671844\n",
      "Generation:  1500 elongt:  252.23480612657724\n",
      "Generation:  1600 elongt:  252.24424399888665\n",
      "Generation:  1700 elongt:  252.25445399941663\n",
      "Generation:  1800 elongt:  252.25445399941663\n",
      "Generation:  1900 elongt:  252.25445399941663\n",
      "CPU times: user 23min 39s, sys: 4.2 s, total: 23min 43s\n",
      "Wall time: 1h 18min 49s\n"
     ]
    }
   ],
   "source": [
    "%%time\n",
    "%load_ext autoreload\n",
    "%autoreload 2\n",
    "from analysis_utils import *\n",
    "\n",
    "### Codon array fixed\n",
    "elongt_list = np.load('./data/UniformRandomtRNA_minimalcode_100sample_elongt.npy')\n",
    "ptRNA_list = np.load('./data/UniformRandomtRNA_minimalcode_100sample_ptRNA.npy')\n",
    "fullelongt_list = list()\n",
    "\n",
    "for i in range(2000):\n",
    "    fitness, ptRNA_list, elongt_list = run_ga_tRNA(ptRNA_list,pCodon_transcriptome,elongt_list,ensmbl_latency_dict,min(gr25_ptRNA),max(gr25_ptRNA),objective='slow')\n",
    "    fullelongt_list.append(max(elongt_list))\n",
    "    if i%100 == 0:\n",
    "        print('Generation: ',i,'elongt: ', max(elongt_list))\n",
    "np.save('./data/UniformRandomtRNA_minimalcode_2ksample_slowtRNA_elongt',elongt_list)\n",
    "np.save('./data/UniformRandomtRNA_minimalcode_2ksample_slowtRNA_ptRNA',ptRNA_list)\n",
    "np.save('./data/UniformRandomtRNA_minimalcode_2ksample_slowtRNA_fullelongt',fullelongt_list)"
   ]
  },
  {
   "cell_type": "markdown",
   "metadata": {},
   "source": [
    "## minimal uniform random tRNA, minimal code, 100 samples"
   ]
  },
  {
   "cell_type": "code",
   "execution_count": 10,
   "metadata": {},
   "outputs": [
    {
     "name": "stdout",
     "output_type": "stream",
     "text": [
      "Number of polypeptides reported:  4434\n",
      "Returned gene map of length  15934\n",
      "Removed  24  non-divisible by three genes\n",
      "['insAB1', 'insCD2', 'dgd', 'insCD4', 'insCD6', 'alaB', 'prfB', 'supK', 'b2891', 'ECK2886', 'insCD3', 'insEF4', 'insAB2', 'insEF5', 'insCD1', 'insAB5', 'insEF1', 'insCD5', 'insEF3', 'insAB3', 'insJK', 'insAB4', 'insEF2', 'insAB6']\n",
      "Unique transcripts without a Gene identifier:  272\n",
      "Sequences not available for # genes in Ecocyc DB:  153\n",
      "Inconsistency in codons:  0\n",
      "3767\n",
      "Missing genes in transcriptome_dict in compute_transcript_distributions:  133\n"
     ]
    },
    {
     "name": "stderr",
     "output_type": "stream",
     "text": [
      "/Users/akshay/opt/anaconda3/lib/python3.7/site-packages/numpy/core/fromnumeric.py:61: FutureWarning: Series.nonzero() is deprecated and will be removed in a future version.Use Series.to_numpy().nonzero() instead\n",
      "  return bound(*args, **kwds)\n"
     ]
    },
    {
     "name": "stdout",
     "output_type": "stream",
     "text": [
      "CPU times: user 2min 26s, sys: 604 ms, total: 2min 26s\n",
      "Wall time: 2min 32s\n"
     ]
    }
   ],
   "source": [
    "%%time\n",
    "\n",
    "##Compute the codon distribution and elongation latency of each gene weighted by transcript number\n",
    "codon_elongt = compute_codon_elongt(gr25_ptRNA, len(gr25_pCodon), ensmbl_latency_dict)\n",
    "gene_map, gene_latency = compute_gene_elongt(codon_elongt, red20=True)\n",
    "pCodon_transcriptome, transcriptome_elongt = compute_transcript_distributions(gene_map,gene_latency)\n",
    "pCodon_transcriptome = np.array(pCodon_transcriptome)\n",
    "\n",
    "ptRNA_red20 = pd.read_excel('./data/tables/tRNAValues_RED20.xlsx',header=None)\n",
    "ptRNA_red20 = ptRNA_red20[6]/sum(ptRNA_red20[6])\n",
    "tRNA_indices = np.argwhere(ptRNA_red20 == 0)\n",
    "tRNA_indices = [indices[0] for indices in tRNA_indices]\n",
    "elongt_list = list()\n",
    "ptRNA_list = list()\n",
    "inputs = list()\n",
    "\n",
    "for i in range(100):\n",
    "    ptRNA_uniform = np.random.uniform(min(ptRNA_red20),max(ptRNA_red20),len(ptRNA_red20))\n",
    "    ptRNA_uniform[tRNA_indices] = 0\n",
    "    ptRNA_list.append(ptRNA_uniform)\n",
    "    inputs.append([ptRNA_uniform,pCodon_transcriptome,ensmbl_latency_dict])\n",
    "elongt_list = Parallel(n_jobs=n_cores,backend='loky')(delayed(computeElongationLatency_multithread)(i) for i in inputs)\n",
    "elongt_list = [elongt[0][0] for elongt in elongt_list]\n",
    "np.save('./data/minimaltRNA_minimalcode_100sample_elongt',elongt_list)\n",
    "np.save('./data/minimaltRNA_minimalcode_100sample_ptRNA',ptRNA_list)"
   ]
  },
  {
   "cell_type": "markdown",
   "metadata": {},
   "source": [
    "## Genetic algorithm: faster tRNA distribution with minimal tRNA, minimal code"
   ]
  },
  {
   "cell_type": "code",
   "execution_count": 11,
   "metadata": {},
   "outputs": [
    {
     "name": "stdout",
     "output_type": "stream",
     "text": [
      "The autoreload extension is already loaded. To reload it, use:\n",
      "  %reload_ext autoreload\n",
      "Generation:  0  elongt:  168.09758757389093\n",
      "[0.094584   0.         0.07732972 0.         0.         0.\n",
      " 0.09288514 0.00731383 0.05229929 0.         0.01686421 0.12535952\n",
      " 0.01398833 0.         0.05215043 0.10667536 0.         0.\n",
      " 0.05866316 0.         0.         0.11496429 0.05205781 0.00121284\n",
      " 0.06831448 0.         0.         0.         0.08328057 0.\n",
      " 0.         0.         0.09280249 0.         0.         0.\n",
      " 0.11712083 0.12272277 0.         0.09683255]\n",
      "Generation:  100  elongt:  160.82498902171335\n",
      "[0.10796268 0.         0.00693931 0.         0.         0.\n",
      " 0.04325375 0.06313258 0.00354878 0.         0.01149503 0.11188015\n",
      " 0.05979841 0.         0.01027266 0.05210967 0.         0.\n",
      " 0.07443973 0.         0.         0.03855808 0.00604482 0.03897659\n",
      " 0.01473463 0.         0.         0.         0.06169955 0.\n",
      " 0.         0.         0.09640443 0.         0.         0.\n",
      " 0.03460651 0.10150281 0.         0.06263982]\n",
      "Generation:  200  elongt:  157.5950460530605\n",
      "[0.13878231 0.         0.05537391 0.         0.         0.\n",
      " 0.06957541 0.07653314 0.00343168 0.         0.06383423 0.06338925\n",
      " 0.08077582 0.         0.00795328 0.00851055 0.         0.\n",
      " 0.0876052  0.         0.         0.05154862 0.01991737 0.03201759\n",
      " 0.01360927 0.         0.         0.         0.01300363 0.\n",
      " 0.         0.         0.07954422 0.         0.         0.\n",
      " 0.01285995 0.03644312 0.         0.08529146]\n",
      "Generation:  300  elongt:  156.13658752836466\n",
      "[0.10562717 0.         0.07739391 0.         0.         0.\n",
      " 0.07341265 0.04925186 0.00362095 0.         0.07786602 0.06688531\n",
      " 0.0852308  0.         0.00839192 0.00897993 0.         0.\n",
      " 0.09243683 0.         0.         0.05147499 0.01988892 0.00912696\n",
      " 0.01435985 0.         0.         0.         0.06499462 0.\n",
      " 0.         0.         0.08992163 0.         0.         0.\n",
      " 0.01284158 0.0081042  0.         0.08018991]\n",
      "Generation:  400  elongt:  155.99341660636873\n",
      "[0.12529265 0.         0.00422869 0.         0.         0.\n",
      " 0.03592555 0.07849303 0.00404754 0.         0.06779835 0.08658189\n",
      " 0.09263587 0.         0.00900064 0.04899581 0.         0.\n",
      " 0.09536256 0.         0.         0.0849068  0.00236218 0.00260608\n",
      " 0.01590783 0.         0.         0.         0.0296415  0.\n",
      " 0.         0.         0.10108228 0.         0.         0.\n",
      " 0.00551601 0.01748952 0.         0.0921252 ]\n",
      "Generation:  500  elongt:  155.53963753767155\n",
      "[0.12720812 0.         0.00541542 0.         0.         0.\n",
      " 0.03602666 0.07976682 0.00411322 0.         0.06182264 0.0932421\n",
      " 0.08480393 0.         0.0091467  0.07234475 0.         0.\n",
      " 0.09682046 0.         0.         0.04494875 0.00240051 0.00284409\n",
      " 0.01616599 0.         0.         0.         0.05313864 0.\n",
      " 0.         0.         0.09147862 0.         0.         0.\n",
      " 0.00560552 0.01908682 0.         0.09362022]\n",
      "Generation:  600  elongt:  154.8041009219618\n",
      "[0.10358534 0.         0.05342315 0.         0.         0.\n",
      " 0.04058146 0.06983291 0.00320466 0.         0.06434817 0.06559238\n",
      " 0.08358323 0.         0.01416024 0.0662583  0.         0.\n",
      " 0.08875695 0.         0.         0.06742064 0.00224197 0.01934415\n",
      " 0.00404744 0.         0.         0.         0.06373824 0.\n",
      " 0.         0.         0.08818339 0.         0.         0.\n",
      " 0.00472858 0.0165995  0.         0.08036931]\n",
      "Generation:  700  elongt:  154.8041009219618\n",
      "[0.10506894 0.         0.08234803 0.         0.         0.\n",
      " 0.05592093 0.07151124 0.00396206 0.         0.06546597 0.08161707\n",
      " 0.07423093 0.         0.00881055 0.06066973 0.         0.\n",
      " 0.08688026 0.         0.         0.03542674 0.00231229 0.00199679\n",
      " 0.00486501 0.         0.         0.         0.05285634 0.\n",
      " 0.         0.         0.08428586 0.         0.         0.\n",
      " 0.00490665 0.03293375 0.         0.08393086]\n",
      "Generation:  800  elongt:  154.8041009219618\n",
      "[0.10584873 0.         0.01439925 0.         0.         0.\n",
      " 0.04146818 0.07135879 0.00327469 0.         0.06464986 0.0670256\n",
      " 0.08540957 0.         0.01910598 0.06770608 0.         0.\n",
      " 0.09069633 0.         0.         0.0809638  0.01080842 0.00248506\n",
      " 0.00413588 0.         0.         0.         0.06513095 0.\n",
      " 0.         0.         0.09011024 0.         0.         0.\n",
      " 0.0048319  0.02274371 0.         0.08784699]\n",
      "Generation:  900  elongt:  154.8041009219618\n",
      "[0.10584873 0.         0.01439925 0.         0.         0.\n",
      " 0.04146818 0.07135879 0.00327469 0.         0.06464986 0.0670256\n",
      " 0.08540957 0.         0.01910598 0.06770608 0.         0.\n",
      " 0.09069633 0.         0.         0.0809638  0.01080842 0.00248506\n",
      " 0.00413588 0.         0.         0.         0.06513095 0.\n",
      " 0.         0.         0.09011024 0.         0.         0.\n",
      " 0.0048319  0.02274371 0.         0.08784699]\n",
      "Generation:  1000  elongt:  154.8041009219618\n",
      "[0.10584873 0.         0.01439925 0.         0.         0.\n",
      " 0.04146818 0.07135879 0.00327469 0.         0.06464986 0.0670256\n",
      " 0.08540957 0.         0.01910598 0.06770608 0.         0.\n",
      " 0.09069633 0.         0.         0.0809638  0.01080842 0.00248506\n",
      " 0.00413588 0.         0.         0.         0.06513095 0.\n",
      " 0.         0.         0.09011024 0.         0.         0.\n",
      " 0.0048319  0.02274371 0.         0.08784699]\n",
      "Generation:  1100  elongt:  154.8041009219618\n",
      "[0.10584873 0.         0.01439925 0.         0.         0.\n",
      " 0.04146818 0.07135879 0.00327469 0.         0.06464986 0.0670256\n",
      " 0.08540957 0.         0.01910598 0.06770608 0.         0.\n",
      " 0.09069633 0.         0.         0.0809638  0.01080842 0.00248506\n",
      " 0.00413588 0.         0.         0.         0.06513095 0.\n",
      " 0.         0.         0.09011024 0.         0.         0.\n",
      " 0.0048319  0.02274371 0.         0.08784699]\n",
      "Generation:  1200  elongt:  154.7332748306335\n",
      "[0.10498044 0.         0.05496889 0.         0.         0.\n",
      " 0.05587383 0.07986485 0.00395272 0.         0.07114567 0.08154833\n",
      " 0.07416841 0.         0.00205166 0.0588068  0.         0.\n",
      " 0.09151393 0.         0.         0.05873882 0.00188754 0.00193548\n",
      " 0.01393903 0.         0.         0.         0.05123332 0.\n",
      " 0.         0.         0.08169776 0.         0.         0.\n",
      " 0.00490251 0.01682306 0.         0.08996695]\n",
      "Generation:  1300  elongt:  154.68182502564957\n",
      "[0.10498044 0.         0.05496889 0.         0.         0.\n",
      " 0.05587383 0.07986485 0.00395272 0.         0.07114567 0.08154833\n",
      " 0.07416841 0.         0.00205166 0.0588068  0.         0.\n",
      " 0.09151393 0.         0.         0.05873882 0.00188754 0.00193548\n",
      " 0.01393903 0.         0.         0.         0.05123332 0.\n",
      " 0.         0.         0.08169776 0.         0.         0.\n",
      " 0.00490251 0.01682306 0.         0.08996695]\n",
      "Generation:  1400  elongt:  154.68182502564957\n",
      "[0.10498044 0.         0.05496889 0.         0.         0.\n",
      " 0.05587383 0.07986485 0.00395272 0.         0.07114567 0.08154833\n",
      " 0.07416841 0.         0.00205166 0.0588068  0.         0.\n",
      " 0.09151393 0.         0.         0.05873882 0.00188754 0.00193548\n",
      " 0.01393903 0.         0.         0.         0.05123332 0.\n",
      " 0.         0.         0.08169776 0.         0.         0.\n",
      " 0.00490251 0.01682306 0.         0.08996695]\n",
      "Generation:  1500  elongt:  154.37726120632453\n",
      "[0.10498044 0.         0.05496889 0.         0.         0.\n",
      " 0.05587383 0.07986485 0.00395272 0.         0.07114567 0.08154833\n",
      " 0.07416841 0.         0.00205166 0.0588068  0.         0.\n",
      " 0.09151393 0.         0.         0.05873882 0.00188754 0.00193548\n",
      " 0.01393903 0.         0.         0.         0.05123332 0.\n",
      " 0.         0.         0.08169776 0.         0.         0.\n",
      " 0.00490251 0.01682306 0.         0.08996695]\n",
      "Generation:  1600  elongt:  153.86469568704248\n",
      "[0.10498044 0.         0.05496889 0.         0.         0.\n",
      " 0.05587383 0.07986485 0.00395272 0.         0.07114567 0.08154833\n",
      " 0.07416841 0.         0.00205166 0.0588068  0.         0.\n",
      " 0.09151393 0.         0.         0.05873882 0.00188754 0.00193548\n",
      " 0.01393903 0.         0.         0.         0.05123332 0.\n",
      " 0.         0.         0.08169776 0.         0.         0.\n",
      " 0.00490251 0.01682306 0.         0.08996695]\n",
      "Generation:  1700  elongt:  153.5230994793707\n",
      "[0.10498044 0.         0.05496889 0.         0.         0.\n",
      " 0.05587383 0.07986485 0.00395272 0.         0.07114567 0.08154833\n",
      " 0.07416841 0.         0.00205166 0.0588068  0.         0.\n",
      " 0.09151393 0.         0.         0.05873882 0.00188754 0.00193548\n",
      " 0.01393903 0.         0.         0.         0.05123332 0.\n",
      " 0.         0.         0.08169776 0.         0.         0.\n",
      " 0.00490251 0.01682306 0.         0.08996695]\n"
     ]
    },
    {
     "name": "stdout",
     "output_type": "stream",
     "text": [
      "Generation:  1800  elongt:  153.5230994793707\n",
      "[0.10498044 0.         0.05496889 0.         0.         0.\n",
      " 0.05587383 0.07986485 0.00395272 0.         0.07114567 0.08154833\n",
      " 0.07416841 0.         0.00205166 0.0588068  0.         0.\n",
      " 0.09151393 0.         0.         0.05873882 0.00188754 0.00193548\n",
      " 0.01393903 0.         0.         0.         0.05123332 0.\n",
      " 0.         0.         0.08169776 0.         0.         0.\n",
      " 0.00490251 0.01682306 0.         0.08996695]\n",
      "Generation:  1900  elongt:  153.5230994793707\n",
      "[0.10498044 0.         0.05496889 0.         0.         0.\n",
      " 0.05587383 0.07986485 0.00395272 0.         0.07114567 0.08154833\n",
      " 0.07416841 0.         0.00205166 0.0588068  0.         0.\n",
      " 0.09151393 0.         0.         0.05873882 0.00188754 0.00193548\n",
      " 0.01393903 0.         0.         0.         0.05123332 0.\n",
      " 0.         0.         0.08169776 0.         0.         0.\n",
      " 0.00490251 0.01682306 0.         0.08996695]\n",
      "CPU times: user 23min 20s, sys: 4.05 s, total: 23min 24s\n",
      "Wall time: 1h 17min 46s\n"
     ]
    }
   ],
   "source": [
    "%%time\n",
    "%load_ext autoreload\n",
    "%autoreload 2\n",
    "from analysis_utils import *\n",
    "\n",
    "### Codon array fixed\n",
    "elongt_list = np.load('./data/minimaltRNA_minimalcode_100sample_elongt.npy')\n",
    "ptRNA_list = np.load('./data/minimaltRNA_minimalcode_100sample_ptRNA.npy')\n",
    "fullelongt_list = list()\n",
    "\n",
    "for i in range(2000):\n",
    "    fitness, ptRNA_list, elongt_list = run_ga_tRNA(ptRNA_list,pCodon_transcriptome,elongt_list,ensmbl_latency_dict,min(gr25_ptRNA),max(gr25_ptRNA),objective='fast',ptRNA_red20=ptRNA_red20)\n",
    "    fullelongt_list.append(min(elongt_list))\n",
    "    if i%100 == 0:\n",
    "        print('Generation: ',i, ' elongt: ', min(elongt_list))\n",
    "        print(ptRNA_list[0])\n",
    "        \n",
    "np.save('./data/minimaltRNA_minimalcode_2ksample_fasttRNA_elongt',elongt_list)\n",
    "np.save('./data/minimaltRNA_minimalcode_2ksample_fasttRNA_ptRNA',ptRNA_list)\n",
    "np.save('./data/minimaltRNA_minimalcode_2ksample_fasttRNA_fullelongt',fullelongt_list)"
   ]
  },
  {
   "cell_type": "markdown",
   "metadata": {},
   "source": [
    "## Genetic algorithm: slower tRNA distribution with minimal tRNA, minimal code"
   ]
  },
  {
   "cell_type": "code",
   "execution_count": 12,
   "metadata": {},
   "outputs": [
    {
     "name": "stdout",
     "output_type": "stream",
     "text": [
      "The autoreload extension is already loaded. To reload it, use:\n",
      "  %reload_ext autoreload\n",
      "Number of polypeptides reported:  4434\n",
      "Returned gene map of length  15934\n",
      "Removed  24  non-divisible by three genes\n",
      "['insAB1', 'insCD2', 'dgd', 'insCD4', 'insCD6', 'alaB', 'prfB', 'supK', 'b2891', 'ECK2886', 'insCD3', 'insEF4', 'insAB2', 'insEF5', 'insCD1', 'insAB5', 'insEF1', 'insCD5', 'insEF3', 'insAB3', 'insJK', 'insAB4', 'insEF2', 'insAB6']\n",
      "Unique transcripts without a Gene identifier:  272\n",
      "Sequences not available for # genes in Ecocyc DB:  153\n",
      "Inconsistency in codons:  0\n",
      "3767\n",
      "Missing genes in transcriptome_dict in compute_transcript_distributions:  133\n",
      "Generation:  0 elongt:  200.61332867794016\n",
      "[0.094584   0.         0.07732972 0.         0.         0.\n",
      " 0.09288514 0.00731383 0.05229929 0.         0.01686421 0.12535952\n",
      " 0.01398833 0.         0.05215043 0.10667536 0.         0.\n",
      " 0.05866316 0.         0.         0.11496429 0.05205781 0.00121284\n",
      " 0.06831448 0.         0.         0.         0.08328057 0.\n",
      " 0.         0.         0.09280249 0.         0.         0.\n",
      " 0.11712083 0.12272277 0.         0.09683255]\n",
      "Generation:  100 elongt:  218.54527099963371\n",
      "[0.01363283 0.         0.01435792 0.         0.         0.\n",
      " 0.07817392 0.02510104 0.07196275 0.         0.01645723 0.0035862\n",
      " 0.01825961 0.         0.17673312 0.01359813 0.         0.\n",
      " 0.0313897  0.         0.         0.0023223  0.15088855 0.07995521\n",
      " 0.11456018 0.         0.         0.         0.03059525 0.\n",
      " 0.         0.         0.03267449 0.         0.         0.\n",
      " 0.04893506 0.0676611  0.         0.00915541]\n",
      "Generation:  200 elongt:  226.03199146677647\n",
      "[0.0559168  0.         0.01538441 0.         0.         0.\n",
      " 0.00745683 0.02755322 0.04452238 0.         0.0176338  0.00506349\n",
      " 0.01260207 0.         0.25205699 0.02063439 0.         0.\n",
      " 0.01665777 0.         0.         0.02499031 0.18269853 0.01866093\n",
      " 0.15756564 0.         0.         0.         0.01152961 0.\n",
      " 0.         0.         0.02662991 0.         0.         0.\n",
      " 0.08562733 0.00663191 0.         0.01018366]\n",
      "Generation:  300 elongt:  237.39579850049924\n",
      "[0.01409395 0.         0.03668992 0.         0.         0.\n",
      " 0.00900978 0.00485533 0.06455651 0.         0.02262591 0.01285027\n",
      " 0.01537033 0.         0.27215731 0.03286038 0.         0.\n",
      " 0.00754683 0.         0.         0.01967417 0.0020701  0.00630492\n",
      " 0.19038002 0.         0.         0.         0.02010949 0.\n",
      " 0.         0.         0.01098075 0.         0.         0.\n",
      " 0.20957925 0.03832665 0.         0.00995814]\n",
      "Generation:  400 elongt:  240.08543894799203\n",
      "[0.01264988 0.         0.00276755 0.         0.         0.\n",
      " 0.01408363 0.00641545 0.05797467 0.         0.03647582 0.00553851\n",
      " 0.00223407 0.         0.298055   0.00706706 0.         0.\n",
      " 0.00656138 0.         0.         0.00209132 0.02742806 0.02476682\n",
      " 0.20881095 0.         0.         0.         0.00592815 0.\n",
      " 0.         0.         0.02541108 0.         0.         0.\n",
      " 0.23865839 0.01212245 0.         0.00495975]\n",
      "Generation:  500 elongt:  240.96401016340764\n",
      "[0.0130231  0.         0.00984369 0.         0.         0.\n",
      " 0.00730026 0.00607476 0.07407963 0.         0.02354224 0.01456355\n",
      " 0.00224247 0.         0.30763513 0.00415613 0.         0.\n",
      " 0.0064544  0.         0.         0.00196977 0.02240479 0.02177261\n",
      " 0.21552259 0.         0.         0.         0.02351521 0.\n",
      " 0.         0.         0.00797897 0.         0.         0.\n",
      " 0.22921688 0.00362346 0.         0.00508037]\n",
      "Generation:  600 elongt:  243.19508433097465\n",
      "[0.01945377 0.         0.01383736 0.         0.         0.\n",
      " 0.00356526 0.00635931 0.07617917 0.         0.00788339 0.00807723\n",
      " 0.00309976 0.         0.08621058 0.00714413 0.         0.\n",
      " 0.00718091 0.         0.         0.00475583 0.00362013 0.01633936\n",
      " 0.31450565 0.         0.         0.         0.00864547 0.\n",
      " 0.         0.         0.02662722 0.         0.         0.\n",
      " 0.35845806 0.020913   0.         0.00714441]\n",
      "Generation:  700 elongt:  243.19508433097465\n",
      "[0.01348045 0.         0.00921052 0.         0.         0.\n",
      " 0.00315465 0.00482793 0.04578262 0.         0.01089101 0.01507743\n",
      " 0.00238937 0.         0.336482   0.00516696 0.         0.\n",
      " 0.00732774 0.         0.         0.00262088 0.00278502 0.00610613\n",
      " 0.23802444 0.         0.         0.         0.01251039 0.\n",
      " 0.         0.         0.00853567 0.         0.         0.\n",
      " 0.25925307 0.01067207 0.         0.00570168]\n",
      "Generation:  800 elongt:  244.16688867954372\n",
      "[0.00415837 0.         0.01068393 0.         0.         0.\n",
      " 0.0061459  0.00491007 0.01313317 0.         0.00626217 0.00755157\n",
      " 0.00262683 0.         0.35419986 0.00567493 0.         0.\n",
      " 0.00398    0.         0.         0.00218945 0.00285459 0.00503683\n",
      " 0.24982736 0.         0.         0.         0.00670403 0.\n",
      " 0.         0.         0.00871835 0.         0.         0.\n",
      " 0.28474093 0.01495471 0.         0.00564695]\n",
      "Generation:  900 elongt:  244.16688867954372\n",
      "[0.00415837 0.         0.01068393 0.         0.         0.\n",
      " 0.0061459  0.00491007 0.01313317 0.         0.00626217 0.00755157\n",
      " 0.00262683 0.         0.35419986 0.00567493 0.         0.\n",
      " 0.00398    0.         0.         0.00218945 0.00285459 0.00503683\n",
      " 0.24982736 0.         0.         0.         0.00670403 0.\n",
      " 0.         0.         0.00871835 0.         0.         0.\n",
      " 0.28474093 0.01495471 0.         0.00564695]\n",
      "Generation:  1000 elongt:  245.8128526222638\n",
      "[0.00415837 0.         0.01068393 0.         0.         0.\n",
      " 0.0061459  0.00491007 0.01313317 0.         0.00626217 0.00755157\n",
      " 0.00262683 0.         0.35419986 0.00567493 0.         0.\n",
      " 0.00398    0.         0.         0.00218945 0.00285459 0.00503683\n",
      " 0.24982736 0.         0.         0.         0.00670403 0.\n",
      " 0.         0.         0.00871835 0.         0.         0.\n",
      " 0.28474093 0.01495471 0.         0.00564695]\n",
      "Generation:  1100 elongt:  245.9154813769119\n",
      "[0.00415837 0.         0.01068393 0.         0.         0.\n",
      " 0.0061459  0.00491007 0.01313317 0.         0.00626217 0.00755157\n",
      " 0.00262683 0.         0.35419986 0.00567493 0.         0.\n",
      " 0.00398    0.         0.         0.00218945 0.00285459 0.00503683\n",
      " 0.24982736 0.         0.         0.         0.00670403 0.\n",
      " 0.         0.         0.00871835 0.         0.         0.\n",
      " 0.28474093 0.01495471 0.         0.00564695]\n",
      "Generation:  1200 elongt:  246.71458399657314\n",
      "[0.00352799 0.         0.0072266  0.         0.         0.\n",
      " 0.00240275 0.00416575 0.0244725  0.         0.00720749 0.00529109\n",
      " 0.00222863 0.         0.44925104 0.00445901 0.         0.\n",
      " 0.00658183 0.         0.         0.00185755 0.00362063 0.00579294\n",
      " 0.21195566 0.         0.         0.         0.00702744 0.\n",
      " 0.         0.         0.00739673 0.         0.         0.\n",
      " 0.24157663 0.00136602 0.         0.00259172]\n",
      "Generation:  1300 elongt:  247.34332749090407\n",
      "[0.00639175 0.         0.01069042 0.         0.         0.\n",
      " 0.0024576  0.0065826  0.06267191 0.         0.00955248 0.00268209\n",
      " 0.00377015 0.         0.02323146 0.0045608  0.         0.\n",
      " 0.00739451 0.         0.         0.00222441 0.00370328 0.00702516\n",
      " 0.38140666 0.         0.         0.         0.01028431 0.\n",
      " 0.         0.         0.0042291  0.         0.         0.\n",
      " 0.43680624 0.01170431 0.         0.00263078]\n",
      "Generation:  1400 elongt:  247.7864347930306\n",
      "[0.00399953 0.         0.01159883 0.         0.         0.\n",
      " 0.0052211  0.00713034 0.02675626 0.         0.00602297 0.0027829\n",
      " 0.00252649 0.         0.03809109 0.00505498 0.         0.\n",
      " 0.00716894 0.         0.         0.00206005 0.0042648  0.00693188\n",
      " 0.28899541 0.         0.         0.         0.01323587 0.\n",
      " 0.         0.         0.00438805 0.         0.         0.\n",
      " 0.55928381 0.00154859 0.         0.00293812]\n",
      "Generation:  1500 elongt:  248.03031402746825\n",
      "[0.00743912 0.         0.01593545 0.         0.         0.\n",
      " 0.00936492 0.01296137 0.0186575  0.         0.01120272 0.00877258\n",
      " 0.00663081 0.         0.0680741  0.00848845 0.         0.\n",
      " 0.01820848 0.         0.         0.02299273 0.00762702 0.01322377\n",
      " 0.66043081 0.         0.         0.         0.02118086 0.\n",
      " 0.         0.         0.01559672 0.         0.         0.\n",
      " 0.06497003 0.00277766 0.         0.0054649 ]\n",
      "Generation:  1600 elongt:  248.13606346550907\n",
      "[0.00396674 0.         0.00863459 0.         0.         0.\n",
      " 0.00552853 0.0046838  0.07464484 0.         0.0057114  0.0047534\n",
      " 0.00610599 0.         0.00441756 0.00501353 0.         0.\n",
      " 0.00660417 0.         0.         0.00222981 0.00439757 0.00157169\n",
      " 0.31038727 0.         0.         0.         0.00585543 0.\n",
      " 0.         0.         0.00831658 0.         0.         0.\n",
      " 0.52237373 0.00153589 0.         0.01326748]\n"
     ]
    },
    {
     "name": "stdout",
     "output_type": "stream",
     "text": [
      "Generation:  1700 elongt:  248.31151776400637\n",
      "[0.00367172 0.         0.00457251 0.         0.         0.\n",
      " 0.00613112 0.07271548 0.02517086 0.         0.00552931 0.01808634\n",
      " 0.00324466 0.         0.00433166 0.00464067 0.         0.\n",
      " 0.00393794 0.         0.         0.00218645 0.00962714 0.00402439\n",
      " 0.32596821 0.         0.         0.         0.01036445 0.\n",
      " 0.         0.         0.00769806 0.         0.         0.\n",
      " 0.48282955 0.00135353 0.         0.00391595]\n",
      "Generation:  1800 elongt:  248.31151776400637\n",
      "[0.0038398  0.         0.00869002 0.         0.         0.\n",
      " 0.00667999 0.00490433 0.04543514 0.         0.00419257 0.00282413\n",
      " 0.00334625 0.         0.00301447 0.00844897 0.         0.\n",
      " 0.0047562  0.         0.         0.00202172 0.01008231 0.00438467\n",
      " 0.3250015  0.         0.         0.         0.00310664 0.\n",
      " 0.         0.         0.00805045 0.         0.         0.\n",
      " 0.5469691  0.0014747  0.         0.00277705]\n",
      "Generation:  1900 elongt:  248.32361153769364\n",
      "[0.0038398  0.         0.00869002 0.         0.         0.\n",
      " 0.00667999 0.00490433 0.04543514 0.         0.00419257 0.00282413\n",
      " 0.00334625 0.         0.00301447 0.00844897 0.         0.\n",
      " 0.0047562  0.         0.         0.00202172 0.01008231 0.00438467\n",
      " 0.3250015  0.         0.         0.         0.00310664 0.\n",
      " 0.         0.         0.00805045 0.         0.         0.\n",
      " 0.5469691  0.0014747  0.         0.00277705]\n",
      "CPU times: user 25min 34s, sys: 4.55 s, total: 25min 38s\n",
      "Wall time: 1h 19min 40s\n"
     ]
    }
   ],
   "source": [
    "%%time\n",
    "%load_ext autoreload\n",
    "%autoreload 2\n",
    "from analysis_utils import *\n",
    "\n",
    "##Compute the codon distribution and elongation latency of each gene weighted by transcript number\n",
    "codon_elongt = compute_codon_elongt(gr25_ptRNA, len(gr25_pCodon), ensmbl_latency_dict)\n",
    "gene_map, gene_latency = compute_gene_elongt(codon_elongt, red20=True)\n",
    "pCodon_transcriptome, transcriptome_elongt = compute_transcript_distributions(gene_map,gene_latency)\n",
    "pCodon_transcriptome = np.array(pCodon_transcriptome)\n",
    "\n",
    "ptRNA_red20 = pd.read_excel('./data/tables/tRNAValues_RED20.xlsx',header=None)\n",
    "ptRNA_red20 = ptRNA_red20[6]/sum(ptRNA_red20[6])\n",
    "tRNA_indices = np.argwhere(ptRNA_red20 == 0)\n",
    "tRNA_indices = [indices[0] for indices in tRNA_indices]\n",
    "elongt_list = list()\n",
    "ptRNA_list = list()\n",
    "inputs = list()\n",
    "\n",
    "### Codon array fixed\n",
    "elongt_list = np.load('./data/minimaltRNA_minimalcode_100sample_elongt.npy')\n",
    "ptRNA_list = np.load('./data/minimaltRNA_minimalcode_100sample_ptRNA.npy')\n",
    "fullelongt_list = list()\n",
    "\n",
    "for i in range(2000):\n",
    "    fitness, ptRNA_list, elongt_list = run_ga_tRNA(ptRNA_list,pCodon_transcriptome,elongt_list,ensmbl_latency_dict,min(gr25_ptRNA),max(gr25_ptRNA),objective='slow',ptRNA_red20=ptRNA_red20)\n",
    "    fullelongt_list.append(max(elongt_list))\n",
    "    if i%100 == 0:\n",
    "        print('Generation: ',i,'elongt: ', max(elongt_list))\n",
    "        print(ptRNA_list[0])\n",
    "\n",
    "np.save('./data/minimaltRNA_minimalcode_2ksample_slowtRNA_elongt',elongt_list)\n",
    "np.save('./data/minimaltRNA_minimalcode_2ksample_slowtRNA_ptRNA',ptRNA_list)\n",
    "np.save('./data/minimaltRNA_minimalcode_2ksample_slowtRNA_fullelongt',fullelongt_list)"
   ]
  },
  {
   "cell_type": "markdown",
   "metadata": {},
   "source": [
    "## minimal uniform random tRNA, minimal code GFP, 100 samples"
   ]
  },
  {
   "cell_type": "code",
   "execution_count": 7,
   "metadata": {},
   "outputs": [
    {
     "name": "stdout",
     "output_type": "stream",
     "text": [
      "183.09023091756296\n",
      "CPU times: user 15.4 s, sys: 71.5 ms, total: 15.5 s\n",
      "Wall time: 23.4 s\n"
     ]
    }
   ],
   "source": [
    "%%time\n",
    "\n",
    "gene_map, pCodon_GFP = singlegene_to_genemap('/Users/akshay/Documents/tRNAShuffle/data/tables/sfGFP_RED20.csv')\n",
    "\n",
    "ptRNA_red20 = pd.read_excel('./data/tables/tRNAValues_RED20.xlsx',header=None)\n",
    "ptRNA_red20 = ptRNA_red20[6]/sum(ptRNA_red20[6])\n",
    "tRNA_indices = np.argwhere(ptRNA_red20 == 0)\n",
    "tRNA_indices = [indices[0] for indices in tRNA_indices]\n",
    "elongt_list = list()\n",
    "ptRNA_list = list()\n",
    "inputs = list()\n",
    "\n",
    "for i in range(100):\n",
    "    ptRNA_uniform = np.random.uniform(min(ptRNA_red20),max(ptRNA_red20),len(ptRNA_red20))\n",
    "    ptRNA_uniform[tRNA_indices] = 0\n",
    "    ptRNA_list.append(ptRNA_uniform)\n",
    "    inputs.append([ptRNA_uniform,pCodon_GFP,ensmbl_latency_dict])\n",
    "elongt_list = Parallel(n_jobs=n_cores,backend='loky')(delayed(computeElongationLatency_multithread)(i) for i in inputs)\n",
    "elongt_list = [elongt[0][0] for elongt in elongt_list]\n",
    "np.save('./data/minimaltRNA_minimalcode-sfGFP_100sample_elongt',elongt_list)\n",
    "np.save('./data/minimaltRNA_minimalcode-sfGFP_100sample_ptRNA',ptRNA_list)\n",
    "print(np.average(elongt_list))"
   ]
  },
  {
   "cell_type": "markdown",
   "metadata": {},
   "source": [
    "## Genetic algorithm: faster tRNA distribution with minimal tRNA, GFP"
   ]
  },
  {
   "cell_type": "code",
   "execution_count": null,
   "metadata": {},
   "outputs": [
    {
     "name": "stdout",
     "output_type": "stream",
     "text": [
      "The autoreload extension is already loaded. To reload it, use:\n",
      "  %reload_ext autoreload\n",
      "Generation:  0  elongt:  168.89434001563058\n",
      "Generation:  100  elongt:  155.55834683196917\n",
      "Generation:  200  elongt:  153.80336817660336\n",
      "Generation:  300  elongt:  153.80336817660336\n",
      "Generation:  400  elongt:  153.80336817660336\n",
      "Generation:  500  elongt:  153.80336817660336\n",
      "Generation:  600  elongt:  153.80336817660336\n",
      "Generation:  700  elongt:  153.80336817660336\n",
      "Generation:  800  elongt:  153.80336817660336\n"
     ]
    }
   ],
   "source": [
    "%%time\n",
    "%load_ext autoreload\n",
    "%autoreload 2\n",
    "from analysis_utils import *\n",
    "\n",
    "### Codon array fixed\n",
    "elongt_list = np.load('./data/minimaltRNA_minimalcode-sfGFP_100sample_elongt.npy')\n",
    "ptRNA_list = np.load('./data/minimaltRNA_minimalcode-sfGFP_100sample_ptRNA.npy')\n",
    "fullelongt_list = list()\n",
    "\n",
    "for i in range(2000):\n",
    "    fitness, ptRNA_list, elongt_list = run_ga_tRNA(ptRNA_list,pCodon_GFP,elongt_list,ensmbl_latency_dict,min(gr25_ptRNA),max(gr25_ptRNA),objective='fast',ptRNA_red20=ptRNA_red20)\n",
    "    fullelongt_list.append(min(elongt_list))\n",
    "    if i%100 == 0:\n",
    "        print('Generation: ',i, ' elongt: ', min(elongt_list))\n",
    "        \n",
    "np.save('./data/UniformRandomtRNA_minimalcode-sfGFP_2ksample_fasttRNA_elongt',elongt_list)\n",
    "np.save('./data/UniformRandomtRNA_minimalcode-sfGFP_2ksample_fasttRNA_ptRNA',ptRNA_list)\n",
    "np.save('./data/UniformRandomtRNA_minimalcode-sfGFP_2ksample_fasttRNA_fullelongt',fullelongt_list)"
   ]
  },
  {
   "cell_type": "markdown",
   "metadata": {},
   "source": [
    "## Genetic algorithm: slower tRNA distribution with minimal tRNA, GFP"
   ]
  },
  {
   "cell_type": "code",
   "execution_count": null,
   "metadata": {},
   "outputs": [],
   "source": [
    "%%time\n",
    "%load_ext autoreload\n",
    "%autoreload 2\n",
    "from analysis_utils import *\n",
    "\n",
    "### Codon array fixed\n",
    "elongt_list = np.load('./data/minimaltRNA_minimalcode-sfGFP_100sample_elongt.npy')\n",
    "ptRNA_list = np.load('./data/minimaltRNA_minimalcode-sfGFP_100sample_ptRNA.npy')\n",
    "fullelongt_list = list()\n",
    "\n",
    "for i in range(2000):\n",
    "    fitness, ptRNA_list, elongt_list = run_ga_tRNA(ptRNA_list,pCodon_GFP,elongt_list,ensmbl_latency_dict,min(gr25_ptRNA),max(gr25_ptRNA),objective='slow',ptRNA_red20=ptRNA_red20)\n",
    "    fullelongt_list.append(min(elongt_list))\n",
    "    if i%100 == 0:\n",
    "        print('Generation: ',i, ' elongt: ', min(elongt_list))\n",
    "        \n",
    "np.save('./data/UniformRandomtRNA_minimalcode-sfGFP_2ksample_slowtRNA_elongt',elongt_list)\n",
    "np.save('./data/UniformRandomtRNA_minimalcode-sfGFP_2ksample_slowtRNA_ptRNA',ptRNA_list)\n",
    "np.save('./data/UniformRandomtRNA_minimalcode-sfGFP_2ksample_slowtRNA_fullelongt',fullelongt_list)"
   ]
  },
  {
   "cell_type": "code",
   "execution_count": 11,
   "metadata": {},
   "outputs": [
    {
     "data": {
      "text/plain": [
       "{'Ala1B': 0.006472521287859333,\n",
       " 'Ala2': 0.0,\n",
       " 'Arg2': 0.0037291502135492842,\n",
       " 'Arg3': 0.0,\n",
       " 'Arg4': 0.0,\n",
       " 'Arg5': 0.005624615455773357,\n",
       " 'Asn': 0.0853044814112671,\n",
       " 'Asp1': 0.09120325714899878,\n",
       " 'Cys': 0.0018702566666913703,\n",
       " 'Gln1': 0.0,\n",
       " 'Gln2': 0.004066273847753027,\n",
       " 'Glu2': 0.06286686794810334,\n",
       " 'Gly2': 0.06924314733200086,\n",
       " 'Gly3': 0.007412299016853992,\n",
       " 'His': 0.07808569242973361,\n",
       " 'Ile1': 0.053825484869078184,\n",
       " 'Leu1': 0.0,\n",
       " 'Leu2': 0.0,\n",
       " 'Leu3': 0.08769918827297907,\n",
       " 'Leu4': 0.0,\n",
       " 'Leu5': 0.0,\n",
       " 'Lys': 0.06337225769201801,\n",
       " 'Met m': 0.005351244819313088,\n",
       " 'Phe': 0.07114945695652974,\n",
       " 'Pro1': 0.026632428020890244,\n",
       " 'Pro2': 0.0,\n",
       " 'Pro3': 0.019129080209759307,\n",
       " 'Sec': 0.0,\n",
       " 'Ser1': 0.06089590866570733,\n",
       " 'Ser2': 0.0,\n",
       " 'Ser3': 0.0,\n",
       " 'Ser5': 0.003299176174976649,\n",
       " 'Thr1': 0.08381153824308947,\n",
       " 'Thr2': 0.0,\n",
       " 'Thr3': 0.0,\n",
       " 'Thr4': 0.0,\n",
       " 'Trp': 0.013025787161088345,\n",
       " 'Tyr1+Tyr2': 0.017496095674801312,\n",
       " 'Val1': 0.0,\n",
       " 'Val2A+2B': 0.07843379048118512}"
      ]
     },
     "execution_count": 11,
     "metadata": {},
     "output_type": "execute_result"
    }
   ],
   "source": []
  },
  {
   "cell_type": "code",
   "execution_count": null,
   "metadata": {},
   "outputs": [],
   "source": []
  },
  {
   "cell_type": "code",
   "execution_count": null,
   "metadata": {},
   "outputs": [],
   "source": []
  },
  {
   "cell_type": "code",
   "execution_count": null,
   "metadata": {},
   "outputs": [],
   "source": []
  }
 ],
 "metadata": {
  "kernelspec": {
   "display_name": "Python 3",
   "language": "python",
   "name": "python3"
  },
  "language_info": {
   "codemirror_mode": {
    "name": "ipython",
    "version": 3
   },
   "file_extension": ".py",
   "mimetype": "text/x-python",
   "name": "python",
   "nbconvert_exporter": "python",
   "pygments_lexer": "ipython3",
   "version": "3.7.4"
  }
 },
 "nbformat": 4,
 "nbformat_minor": 2
}
