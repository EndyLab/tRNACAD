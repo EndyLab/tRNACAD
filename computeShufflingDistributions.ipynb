{
 "cells": [
  {
   "cell_type": "markdown",
   "metadata": {},
   "source": [
    "# Load translation voxel simulation data"
   ]
  },
  {
   "cell_type": "code",
   "execution_count": 1,
   "metadata": {},
   "outputs": [
    {
     "name": "stdout",
     "output_type": "stream",
     "text": [
      "Computing...\n",
      "Computing...\n",
      "Computing...\n",
      "Computing...\n",
      "Computing...\n",
      "Computing...\n",
      "Computing...\n",
      "Computing...\n",
      "Computing...\n",
      "Computing...\n",
      "Computing...\n",
      "Computing...\n",
      "Computing...\n"
     ]
    },
    {
     "ename": "KeyboardInterrupt",
     "evalue": "",
     "output_type": "error",
     "traceback": [
      "\u001b[0;31m---------------------------------------------------------------------------\u001b[0m",
      "\u001b[0;31mKeyboardInterrupt\u001b[0m                         Traceback (most recent call last)",
      "\u001b[0;32m<timed exec>\u001b[0m in \u001b[0;36m<module>\u001b[0;34m\u001b[0m\n",
      "\u001b[0;32m~/Documents/tRNAShuffle/analysis_utils.py\u001b[0m in \u001b[0;36mcompute_codon_elongt\u001b[0;34m(ptRNA, pCodon_len, ensmbl_latency_dict)\u001b[0m\n\u001b[1;32m    679\u001b[0m         \u001b[0mpCodon_zeros\u001b[0m\u001b[0;34m=\u001b[0m \u001b[0mnp\u001b[0m\u001b[0;34m.\u001b[0m\u001b[0mzeros\u001b[0m\u001b[0;34m(\u001b[0m\u001b[0mpCodon_len\u001b[0m\u001b[0;34m)\u001b[0m\u001b[0;34m\u001b[0m\u001b[0;34m\u001b[0m\u001b[0m\n\u001b[1;32m    680\u001b[0m         \u001b[0mpCodon_zeros\u001b[0m\u001b[0;34m[\u001b[0m\u001b[0mi\u001b[0m\u001b[0;34m]\u001b[0m \u001b[0;34m=\u001b[0m \u001b[0;36m1\u001b[0m\u001b[0;34m\u001b[0m\u001b[0;34m\u001b[0m\u001b[0m\n\u001b[0;32m--> 681\u001b[0;31m         \u001b[0mcodon_elongation_latency\u001b[0m\u001b[0;34m.\u001b[0m\u001b[0mappend\u001b[0m\u001b[0;34m(\u001b[0m\u001b[0mcomputeElongationLatency\u001b[0m\u001b[0;34m(\u001b[0m\u001b[0mptRNA\u001b[0m\u001b[0;34m,\u001b[0m\u001b[0mpCodon_zeros\u001b[0m\u001b[0;34m,\u001b[0m\u001b[0mensmbl_latency_dict\u001b[0m\u001b[0;34m)\u001b[0m\u001b[0;34m[\u001b[0m\u001b[0;36m0\u001b[0m\u001b[0;34m]\u001b[0m\u001b[0;34m[\u001b[0m\u001b[0;36m0\u001b[0m\u001b[0;34m]\u001b[0m\u001b[0;34m)\u001b[0m\u001b[0;34m\u001b[0m\u001b[0;34m\u001b[0m\u001b[0m\n\u001b[0m\u001b[1;32m    682\u001b[0m     \u001b[0mcodon_elongt\u001b[0m \u001b[0;34m=\u001b[0m \u001b[0mdict\u001b[0m\u001b[0;34m(\u001b[0m\u001b[0mzip\u001b[0m\u001b[0;34m(\u001b[0m\u001b[0mcodon_tags\u001b[0m\u001b[0;34m,\u001b[0m \u001b[0mcodon_elongation_latency\u001b[0m\u001b[0;34m)\u001b[0m\u001b[0;34m)\u001b[0m\u001b[0;34m\u001b[0m\u001b[0;34m\u001b[0m\u001b[0m\n\u001b[1;32m    683\u001b[0m     \u001b[0;32mreturn\u001b[0m\u001b[0;34m(\u001b[0m\u001b[0mcodon_elongt\u001b[0m\u001b[0;34m)\u001b[0m\u001b[0;34m\u001b[0m\u001b[0;34m\u001b[0m\u001b[0m\n",
      "\u001b[0;32m~/Documents/tRNAShuffle/analysis_utils.py\u001b[0m in \u001b[0;36mcomputeElongationLatency\u001b[0;34m(ptRNA, pCodon, ensmbl_latency_dict)\u001b[0m\n\u001b[1;32m    490\u001b[0m \u001b[0;32mdef\u001b[0m \u001b[0mcomputeElongationLatency\u001b[0m\u001b[0;34m(\u001b[0m\u001b[0mptRNA\u001b[0m\u001b[0;34m,\u001b[0m\u001b[0mpCodon\u001b[0m\u001b[0;34m,\u001b[0m\u001b[0mensmbl_latency_dict\u001b[0m\u001b[0;34m)\u001b[0m\u001b[0;34m:\u001b[0m\u001b[0;34m\u001b[0m\u001b[0;34m\u001b[0m\u001b[0m\n\u001b[1;32m    491\u001b[0m     \u001b[0mrxndiff\u001b[0m\u001b[0;34m=\u001b[0m\u001b[0mdict\u001b[0m\u001b[0;34m(\u001b[0m\u001b[0;34m)\u001b[0m\u001b[0;34m\u001b[0m\u001b[0;34m\u001b[0m\u001b[0m\n\u001b[0;32m--> 492\u001b[0;31m     \u001b[0mtransportRxnResults\u001b[0m \u001b[0;34m=\u001b[0m \u001b[0mtransportRxnCalc\u001b[0m\u001b[0;34m(\u001b[0m\u001b[0mptRNA\u001b[0m\u001b[0;34m,\u001b[0m\u001b[0mpCodon\u001b[0m\u001b[0;34m,\u001b[0m\u001b[0mensmbl_latency_dict\u001b[0m\u001b[0;34m)\u001b[0m\u001b[0;34m\u001b[0m\u001b[0;34m\u001b[0m\u001b[0m\n\u001b[0m\u001b[1;32m    493\u001b[0m     \u001b[0mrxndiff\u001b[0m\u001b[0;34m[\u001b[0m\u001b[0;34m'30'\u001b[0m\u001b[0;34m]\u001b[0m \u001b[0;34m=\u001b[0m \u001b[0mtransportRxnResults\u001b[0m\u001b[0;34m[\u001b[0m\u001b[0;36m1\u001b[0m\u001b[0;34m:\u001b[0m\u001b[0;34m]\u001b[0m\u001b[0;34m\u001b[0m\u001b[0;34m\u001b[0m\u001b[0m\n\u001b[1;32m    494\u001b[0m \u001b[0;34m\u001b[0m\u001b[0m\n",
      "\u001b[0;32m~/Documents/tRNAShuffle/analysis_utils.py\u001b[0m in \u001b[0;36mtransportRxnCalc\u001b[0;34m(ptRNA, pCodon, ensmbl_latency_dict, bias)\u001b[0m\n\u001b[1;32m    150\u001b[0m     \u001b[0msearch_list\u001b[0m \u001b[0;34m=\u001b[0m \u001b[0mlist\u001b[0m\u001b[0;34m(\u001b[0m\u001b[0;34m)\u001b[0m\u001b[0;34m\u001b[0m\u001b[0;34m\u001b[0m\u001b[0m\n\u001b[1;32m    151\u001b[0m \u001b[0;34m\u001b[0m\u001b[0m\n\u001b[0;32m--> 152\u001b[0;31m     \u001b[0mp_codon_count_hist_weighted_avg\u001b[0m\u001b[0;34m=\u001b[0m\u001b[0mcognateDistrib\u001b[0m\u001b[0;34m(\u001b[0m\u001b[0mptRNA\u001b[0m\u001b[0;34m,\u001b[0m\u001b[0mpCodon\u001b[0m\u001b[0;34m)\u001b[0m\u001b[0;34m\u001b[0m\u001b[0;34m\u001b[0m\u001b[0m\n\u001b[0m\u001b[1;32m    153\u001b[0m \u001b[0;34m\u001b[0m\u001b[0m\n\u001b[1;32m    154\u001b[0m     \u001b[0mtransport_vals_list\u001b[0m \u001b[0;34m=\u001b[0m \u001b[0mlist\u001b[0m\u001b[0;34m(\u001b[0m\u001b[0;34m)\u001b[0m\u001b[0;34m\u001b[0m\u001b[0;34m\u001b[0m\u001b[0m\n",
      "\u001b[0;32m~/Documents/tRNAShuffle/analysis_utils.py\u001b[0m in \u001b[0;36mcognateDistrib\u001b[0;34m(ptRNA, pCodon, extra, extra2)\u001b[0m\n\u001b[1;32m    331\u001b[0m \u001b[0;34m\u001b[0m\u001b[0m\n\u001b[1;32m    332\u001b[0m             \u001b[0;31m#Choose 1 random codon for tranlsation voxel (weighted by codon probabilities), and identify cognate and non cognate ternary complexes\u001b[0m\u001b[0;34m\u001b[0m\u001b[0;34m\u001b[0m\u001b[0;34m\u001b[0m\u001b[0m\n\u001b[0;32m--> 333\u001b[0;31m             \u001b[0mcodon_vox\u001b[0m \u001b[0;34m=\u001b[0m \u001b[0mnp\u001b[0m\u001b[0;34m.\u001b[0m\u001b[0mrandom\u001b[0m\u001b[0;34m.\u001b[0m\u001b[0mchoice\u001b[0m\u001b[0;34m(\u001b[0m\u001b[0mcodonLabels\u001b[0m\u001b[0;34m,\u001b[0m \u001b[0;36m1\u001b[0m\u001b[0;34m)\u001b[0m\u001b[0;34m\u001b[0m\u001b[0;34m\u001b[0m\u001b[0m\n\u001b[0m\u001b[1;32m    334\u001b[0m             \u001b[0mcognatetRNA\u001b[0m \u001b[0;34m=\u001b[0m \u001b[0mcodon_dict\u001b[0m\u001b[0;34m[\u001b[0m\u001b[0mcodon_vox\u001b[0m\u001b[0;34m[\u001b[0m\u001b[0;36m0\u001b[0m\u001b[0;34m]\u001b[0m\u001b[0;34m]\u001b[0m\u001b[0;34m\u001b[0m\u001b[0;34m\u001b[0m\u001b[0m\n\u001b[1;32m    335\u001b[0m             \u001b[0mnoncognatetRNA\u001b[0m \u001b[0;34m=\u001b[0m \u001b[0;34m[\u001b[0m\u001b[0mtRNA\u001b[0m \u001b[0;32mfor\u001b[0m \u001b[0mtRNA\u001b[0m \u001b[0;32min\u001b[0m \u001b[0mtRNA_tags\u001b[0m \u001b[0;32mif\u001b[0m \u001b[0mtRNA\u001b[0m \u001b[0;32mnot\u001b[0m \u001b[0;32min\u001b[0m \u001b[0mcodon_dict\u001b[0m\u001b[0;34m[\u001b[0m\u001b[0mcodon_vox\u001b[0m\u001b[0;34m[\u001b[0m\u001b[0;36m0\u001b[0m\u001b[0;34m]\u001b[0m\u001b[0;34m]\u001b[0m\u001b[0;34m]\u001b[0m\u001b[0;34m\u001b[0m\u001b[0;34m\u001b[0m\u001b[0m\n",
      "\u001b[0;31mKeyboardInterrupt\u001b[0m: "
     ]
    }
   ],
   "source": [
    "%%time\n",
    "%load_ext autoreload\n",
    "\n",
    "from analysis_utils import *\n",
    "from joblib import Parallel, delayed\n",
    "import multiprocessing  \n",
    "import numpy as np\n",
    "import pandas as pd\n",
    "\n",
    "#Growth rate = 3.0\n",
    "#Computes the translation latencies from our model with simulations containing\n",
    "#1 to 14 cognate ternary complexes in the voxel (14 to 42 not included because\n",
    "#the probability of voxels with that number of cognates is ~0)\n",
    "path = \"/Users/Akshay/Documents/tRNAShuffle/data/\"\n",
    "ensmbl_latency_dict = dict()\n",
    "rxndiff=dict()\n",
    "scalingFactor = 200\n",
    "NR_scaledrates = {'k1r':718*200/scalingFactor,'k2f':1475*200/scalingFactor,'k2r_nr':1120*200/scalingFactor,'k3_nr':6*200/scalingFactor,'k4':209*200/scalingFactor}\n",
    "\n",
    "\n",
    "data = \"191003_2210/\"\n",
    "for i in range(1,7):\n",
    "    sim_i = computeTransportRxnTimes(path+data,100*(i-1),100*(i-1)+100,cogtRNANum=i, ribosomeNum = 7,scaling=scalingFactor,NR_scaling = NR_scaledrates)\n",
    "    ensmbl_latency_dict[i] = (CellLatencies(sim_i))\n",
    "\n",
    "data = \"191105_0908/\"\n",
    "for i in range(7,14):\n",
    "    sim_i = computeTransportRxnTimes(path+data, 100*(i-1-6),100*(i-1-6)+100,cogtRNANum=i, ribosomeNum = 7,scaling=scalingFactor,NR_scaling = NR_scaledrates)\n",
    "    ensmbl_latency_dict[i] = (CellLatencies(sim_i))\n",
    "    \n",
    "#Experimentally obtained codon usage frequencies and tRNA abundances at growth rate = 2.5 dbl/hr\n",
    "gr25_Codon = np.array([2.36, 1.26, 45.55, 34.17, 16.97, 57.86, 19.27, 33.74, 14.98, 22.31, 43.18, 7.67, 24.11, 24.87, 39.49, 11.81, 0.03, 0.63, 2.19, 9.31, 17.22, 55.01, 5.61, 29.21, 21.67, 0.52, 15.79, 43.86, 4.17, 2.61, 20.64, 26.7, 7.03, 0.19, 2.76, 3.81, 6.72, 16.52, 4.27, 2.73, 7.92, 23.25, 2.51, 1.98, 16.33, 11.68, 0.62, 0.67, 43.82, 20.59, 27.28, 7.01, 6.78, 14.21, 60.75, 0.82, 3.86, 4.09, 28.82, 5.18, 4.38, 1.09])\n",
    "gr25_pCodon = gr25_Codon/np.sum(gr25_Codon)\n",
    "gr25_ptRNA = [0.0602409638554217, 0.010542168674698798, 0.07379518072289158, 0.00602409638554217, 0.010542168674698798, 0.00602409638554217, 0.021084337349397596, 0.043674698795180725, 0.021084337349397596, 0.01204819277108434, 0.01807228915662651, 0.08433734939759038, 0.03162650602409639, 0.07228915662650603, 0.01204819277108434, 0.07078313253012049, 0.06325301204819278, 0.01656626506024097, 0.009036144578313254, 0.027108433734939763, 0.010542168674698798, 0.03012048192771085, 0.013554216867469882, 0.015060240963855425, 0.0075301204819277125, 0.010542168674698798, 0.0075301204819277125, 0.003012048192771085, 0.021084337349397596, 0.004518072289156627, 0.01656626506024097, 0.01204819277108434, 0.0015060240963855425, 0.009036144578313254, 0.01656626506024097, 0.019578313253012052, 0.015060240963855425, 0.027108434, 0.05873493975903616, 0.019578313]\n",
    "gr25_ptRNA = gr25_ptRNA/np.sum(gr25_ptRNA)\n",
    "\n",
    "n_cores = 16\n",
    "\n",
    "##Compute the codon distribution and elongation latency of each gene weighted by transcript number\n",
    "codon_elongt = compute_codon_elongt(gr25_ptRNA, len(gr25_pCodon), ensmbl_latency_dict)\n",
    "gene_map, gene_latency = compute_gene_elongt(codon_elongt)\n",
    "pCodon_transcriptome, transcriptome_elongt = compute_transcript_distributions(gene_map,gene_latency)\n",
    "pCodon_transcriptome = np.array(pCodon_transcriptome)"
   ]
  },
  {
   "cell_type": "code",
   "execution_count": null,
   "metadata": {},
   "outputs": [],
   "source": []
  },
  {
   "cell_type": "code",
   "execution_count": null,
   "metadata": {},
   "outputs": [],
   "source": []
  },
  {
   "cell_type": "markdown",
   "metadata": {},
   "source": [
    "## Uniform Random tRNA, WT Codon usage, 100 samples"
   ]
  },
  {
   "cell_type": "code",
   "execution_count": 3,
   "metadata": {},
   "outputs": [
    {
     "name": "stdout",
     "output_type": "stream",
     "text": [
      "CPU times: user 12.6 s, sys: 307 ms, total: 12.9 s\n",
      "Wall time: 22.3 s\n"
     ]
    }
   ],
   "source": [
    "%%time\n",
    "elongt_list = list()\n",
    "ptRNA_list = list()\n",
    "inputs = list()\n",
    "\n",
    "for i in range(100):\n",
    "    ptRNA_uniform = np.random.uniform(min(gr25_ptRNA),max(gr25_ptRNA),len(gr25_ptRNA))\n",
    "    ptRNA_list.append(ptRNA_uniform)\n",
    "    inputs.append([ptRNA_uniform,pCodon_transcriptome,ensmbl_latency_dict])\n",
    "elongt_list = Parallel(n_jobs=n_cores,backend='loky')(delayed(computeElongationLatency_multithread)(i) for i in inputs)\n",
    "elongt_list = [elongt[0][0] for elongt in elongt_list]\n",
    "np.save('./data/UniformRandomtRNA_WTCodonUsage_100sample_elongt',elongt_list)\n",
    "np.save('./data/UniformRandomtRNA_WTCodonUsage_100sample_ptRNA',ptRNA_list)\n"
   ]
  },
  {
   "cell_type": "markdown",
   "metadata": {},
   "source": [
    "## Uniform Random tRNA, WT Codon usage, 10k samples"
   ]
  },
  {
   "cell_type": "code",
   "execution_count": 4,
   "metadata": {},
   "outputs": [
    {
     "name": "stdout",
     "output_type": "stream",
     "text": [
      "CPU times: user 31min 15s, sys: 10 s, total: 31min 25s\n",
      "Wall time: 45min 13s\n"
     ]
    }
   ],
   "source": [
    "%%time\n",
    "elongt_list = list()\n",
    "ptRNA_list = list()\n",
    "inputs = list()\n",
    "\n",
    "for i in range(10000):\n",
    "    ptRNA_uniform = np.random.uniform(min(gr25_ptRNA),max(gr25_ptRNA),len(gr25_ptRNA))\n",
    "    ptRNA_list.append(ptRNA_uniform)\n",
    "    inputs.append([ptRNA_uniform,pCodon_transcriptome,ensmbl_latency_dict])\n",
    "elongt_list = Parallel(n_jobs=n_cores,backend='loky')(delayed(computeElongationLatency_multithread)(i) for i in inputs)\n",
    "elongt_list = [elongt[0][0] for elongt in elongt_list]\n",
    "np.save('./data/UniformRandomtRNA_WTCodonUsage_10ksample_elongt',elongt_list)\n",
    "np.save('./data/UniformRandomtRNA_WTCodonUsage_10ksample_ptRNA',ptRNA_list)\n"
   ]
  },
  {
   "cell_type": "markdown",
   "metadata": {},
   "source": [
    "## WT tRNA, Uniform Random Codon usage, 100 samples"
   ]
  },
  {
   "cell_type": "code",
   "execution_count": 5,
   "metadata": {},
   "outputs": [
    {
     "name": "stdout",
     "output_type": "stream",
     "text": [
      "CPU times: user 17.6 s, sys: 106 ms, total: 17.7 s\n",
      "Wall time: 27.5 s\n"
     ]
    }
   ],
   "source": [
    "%%time\n",
    "elongt_list = list()\n",
    "pCodon_list = list()\n",
    "inputs = list()\n",
    "\n",
    "syn_codon_list = [[0,1,2,3],[4,5],[6,7],[8,9,10,11],[12,13,14,15],[16,17,46,47,48,49],[18,19,42,43,44,45],\n",
    "              [20,21],[22,23],[24],[25,26,27],[28,29,30,31],[32],[33],[34,35],[36,37],[38,39,54,55,56,57],[40,41],\n",
    "              [50,51],[52,53],[58,59,60,61]]\n",
    "        \n",
    "for i in range(100):\n",
    "    pCodon_uniform = np.zeros(len(gr25_pCodon))\n",
    "    for syn_codons in syn_codon_list:\n",
    "        pCodon_uniform[syn_codons] = np.random.uniform(min(gr25_Codon),max(gr25_Codon),len(syn_codons))\n",
    "        pCodon_uniform[syn_codons] = sum(pCodon_transcriptome[syn_codons])/sum(pCodon_uniform[syn_codons])*pCodon_uniform[syn_codons]\n",
    "    pCodon_list.append(pCodon_uniform)\n",
    "    inputs.append([gr25_ptRNA, pCodon_uniform,ensmbl_latency_dict])\n",
    "\n",
    "elongt_list = Parallel(n_jobs=n_cores,backend='loky')(delayed(computeElongationLatency_multithread)(i) for i in inputs)\n",
    "elongt_list = [elongt[0][0] for elongt in elongt_list]\n",
    "\n",
    "np.save('./data/WTtRNA_UniformRandomCodonUsage_100sample_elongt',elongt_list)\n",
    "np.save('./data/WTtRNA_UniformRandomCodonUsage_100sample_pCodon',pCodon_list)\n"
   ]
  },
  {
   "cell_type": "markdown",
   "metadata": {},
   "source": [
    "## WT tRNA, Uniform Random Codon usage, 10k samples"
   ]
  },
  {
   "cell_type": "code",
   "execution_count": 6,
   "metadata": {},
   "outputs": [
    {
     "name": "stdout",
     "output_type": "stream",
     "text": [
      "CPU times: user 30min 22s, sys: 9.05 s, total: 30min 31s\n",
      "Wall time: 43min 41s\n"
     ]
    }
   ],
   "source": [
    "%%time\n",
    "elongt_list = list()\n",
    "pCodon_list = list()\n",
    "inputs = list()\n",
    "\n",
    "syn_codon_list = [[0,1,2,3],[4,5],[6,7],[8,9,10,11],[12,13,14,15],[16,17,46,47,48,49],[18,19,42,43,44,45],\n",
    "              [20,21],[22,23],[24],[25,26,27],[28,29,30,31],[32],[33],[34,35],[36,37],[38,39,54,55,56,57],[40,41],\n",
    "              [50,51],[52,53],[58,59,60,61]]\n",
    "        \n",
    "for i in range(10000):\n",
    "    pCodon_uniform = np.zeros(len(pCodon_transcriptome))\n",
    "    for syn_codons in syn_codon_list:\n",
    "        pCodon_uniform[syn_codons] = np.random.uniform(min(gr25_Codon),max(gr25_Codon),len(syn_codons))\n",
    "        pCodon_uniform[syn_codons] = sum(pCodon_transcriptome[syn_codons])/sum(pCodon_uniform[syn_codons])*pCodon_uniform[syn_codons]\n",
    "    pCodon_list.append(pCodon_uniform)\n",
    "    inputs.append([gr25_ptRNA, pCodon_uniform,ensmbl_latency_dict])\n",
    "\n",
    "elongt_list = Parallel(n_jobs=n_cores,backend='loky')(delayed(computeElongationLatency_multithread)(i) for i in inputs)\n",
    "elongt_list = [elongt[0][0] for elongt in elongt_list]\n",
    "\n",
    "np.save('./data/WTtRNA_UniformRandomCodonUsage_10ksample_elongt',elongt_list)\n",
    "np.save('./data/WTtRNA_UniformRandomCodonUsage_10ksample_pCodon',pCodon_list)\n"
   ]
  },
  {
   "cell_type": "markdown",
   "metadata": {},
   "source": [
    "## Genetic algorithm: faster tRNA distributions (Codon usage fixed, WT)"
   ]
  },
  {
   "cell_type": "code",
   "execution_count": 7,
   "metadata": {},
   "outputs": [
    {
     "name": "stdout",
     "output_type": "stream",
     "text": [
      "The autoreload extension is already loaded. To reload it, use:\n",
      "  %reload_ext autoreload\n",
      "Generation:  0  elongt:  205.1959620516039\n",
      "Generation:  100  elongt:  188.65778009419725\n",
      "Generation:  200  elongt:  183.1594175889988\n",
      "Generation:  300  elongt:  180.61297703966687\n",
      "Generation:  400  elongt:  179.4509158978308\n",
      "Generation:  500  elongt:  179.14011847735455\n",
      "Generation:  600  elongt:  177.29935253457626\n",
      "Generation:  700  elongt:  177.08762769139537\n",
      "Generation:  800  elongt:  177.08762769139537\n",
      "Generation:  900  elongt:  176.84620471968387\n",
      "Generation:  1000  elongt:  176.115415187664\n",
      "Generation:  1100  elongt:  176.115415187664\n",
      "Generation:  1200  elongt:  175.49822104624192\n",
      "Generation:  1300  elongt:  175.296467635904\n",
      "Generation:  1400  elongt:  175.296467635904\n",
      "Generation:  1500  elongt:  175.296467635904\n",
      "Generation:  1600  elongt:  175.296467635904\n",
      "Generation:  1700  elongt:  175.06477871869257\n",
      "Generation:  1800  elongt:  174.67737941842122\n",
      "Generation:  1900  elongt:  174.5442590501617\n",
      "CPU times: user 30min 15s, sys: 5.38 s, total: 30min 20s\n",
      "Wall time: 1h 43min 49s\n"
     ]
    }
   ],
   "source": [
    "%%time\n",
    "%load_ext autoreload\n",
    "%autoreload 2\n",
    "from analysis_utils import *\n",
    "\n",
    "### Codon array fixed\n",
    "elongt_list = np.load('./data/UniformRandomtRNA_WTCodonUsage_100sample_elongt.npy')\n",
    "ptRNA_list = np.load('./data/UniformRandomtRNA_WTCodonUsage_100sample_ptRNA.npy')\n",
    "fullelongt_list = list()\n",
    "\n",
    "for i in range(2000):\n",
    "    fitness, ptRNA_list, elongt_list = run_ga_tRNA(ptRNA_list,pCodon_transcriptome,elongt_list,ensmbl_latency_dict,min(gr25_ptRNA),max(gr25_ptRNA),objective='fast')\n",
    "    fullelongt_list.append(min(elongt_list))\n",
    "    if i%100 == 0:\n",
    "        print('Generation: ',i, ' elongt: ', min(elongt_list))\n",
    "        \n",
    "np.save('./data/UniformRandomtRNA_WTCodonUsage_2ksample_fasttRNA_elongt',elongt_list)\n",
    "np.save('./data/UniformRandomtRNA_WTCodonUsage_2ksample_fasttRNA_ptRNA',ptRNA_list)\n",
    "np.save('./data/UniformRandomtRNA_WTCodonUsage_2ksample_fasttRNA_fullelongt',fullelongt_list)"
   ]
  },
  {
   "cell_type": "markdown",
   "metadata": {},
   "source": [
    "## Genetic algorithm: slower tRNA distributions (Codon usage fixed, WT)"
   ]
  },
  {
   "cell_type": "code",
   "execution_count": 8,
   "metadata": {},
   "outputs": [
    {
     "name": "stdout",
     "output_type": "stream",
     "text": [
      "The autoreload extension is already loaded. To reload it, use:\n",
      "  %reload_ext autoreload\n",
      "Generation:  0\n",
      "Generation:  100\n",
      "Generation:  200\n",
      "Generation:  300\n",
      "Generation:  400\n",
      "Generation:  500\n",
      "Generation:  600\n",
      "Generation:  700\n",
      "Generation:  800\n",
      "Generation:  900\n",
      "Generation:  1000\n",
      "Generation:  1100\n",
      "Generation:  1200\n",
      "Generation:  1300\n",
      "Generation:  1400\n",
      "Generation:  1500\n",
      "Generation:  1600\n",
      "Generation:  1700\n",
      "Generation:  1800\n",
      "Generation:  1900\n",
      "CPU times: user 29min 50s, sys: 5.22 s, total: 29min 55s\n",
      "Wall time: 1h 42min 9s\n"
     ]
    }
   ],
   "source": [
    "%%time\n",
    "%load_ext autoreload\n",
    "%autoreload 2\n",
    "from analysis_utils import *\n",
    "\n",
    "### Codon array fixed\n",
    "elongt_list = np.load('./data/UniformRandomtRNA_WTCodonUsage_100sample_elongt.npy')\n",
    "ptRNA_list = np.load('./data/UniformRandomtRNA_WTCodonUsage_100sample_ptRNA.npy')\n",
    "fullelongt_list = list()\n",
    "\n",
    "for i in range(2000):\n",
    "    fitness, ptRNA_list, elongt_list = run_ga_tRNA(ptRNA_list,pCodon_transcriptome,elongt_list,ensmbl_latency_dict,min(gr25_ptRNA),max(gr25_ptRNA),objective='slow')\n",
    "    fullelongt_list.append(max(elongt_list))\n",
    "    if i%100 == 0:\n",
    "        print('Generation: ',i)\n",
    "np.save('./data/UniformRandomtRNA_WTCodonUsage_2ksample_slowtRNA_elongt',elongt_list)\n",
    "np.save('./data/UniformRandomtRNA_WTCodonUsage_2ksample_slowtRNA_ptRNA',ptRNA_list)\n",
    "np.save('./data/UniformRandomtRNA_WTCodonUsage_2ksample_slowtRNA_fullelongt',fullelongt_list)"
   ]
  },
  {
   "cell_type": "markdown",
   "metadata": {},
   "source": [
    "## Genetic algorithm: faster codon usage distributions (tRNA abundances fixed, WT)"
   ]
  },
  {
   "cell_type": "code",
   "execution_count": 9,
   "metadata": {},
   "outputs": [
    {
     "name": "stdout",
     "output_type": "stream",
     "text": [
      "The autoreload extension is already loaded. To reload it, use:\n",
      "  %reload_ext autoreload\n",
      "Generation:  0  elongt:  191.20403884990284\n",
      "Generation:  100  elongt:  183.8317274791367\n",
      "Generation:  200  elongt:  183.8317274791367\n",
      "Generation:  300  elongt:  183.79480130218053\n",
      "Generation:  400  elongt:  183.00058094871963\n",
      "Generation:  500  elongt:  183.00058094871963\n",
      "Generation:  600  elongt:  182.9682133905058\n",
      "Generation:  700  elongt:  181.89405407246474\n",
      "Generation:  800  elongt:  181.89405407246474\n",
      "Generation:  900  elongt:  181.89405407246474\n",
      "Generation:  1000  elongt:  181.89405407246474\n",
      "Generation:  1100  elongt:  181.89405407246474\n",
      "Generation:  1200  elongt:  181.89405407246474\n",
      "Generation:  1300  elongt:  181.88442465158676\n",
      "Generation:  1400  elongt:  181.59291600231413\n",
      "Generation:  1500  elongt:  181.59291600231413\n",
      "Generation:  1600  elongt:  181.46748086212898\n",
      "Generation:  1700  elongt:  181.38451951397764\n",
      "Generation:  1800  elongt:  181.38451951397764\n",
      "Generation:  1900  elongt:  181.38451951397764\n",
      "CPU times: user 29min 39s, sys: 4.97 s, total: 29min 44s\n",
      "Wall time: 1h 40min 44s\n"
     ]
    }
   ],
   "source": [
    "%%time\n",
    "%load_ext autoreload\n",
    "%autoreload 2\n",
    "from analysis_utils import *\n",
    "\n",
    "### Codon array fixed\n",
    "elongt_list = np.load('./data/WTtRNA_UniformRandomCodonUsage_100sample_elongt.npy')\n",
    "pCodon_list = np.load('./data/WTtRNA_UniformRandomCodonUsage_100sample_pCodon.npy')\n",
    "fullelongt_list = list()\n",
    "\n",
    "for i in range(2000):\n",
    "    fitness, pCodon_list, elongt_list = run_ga_CodonSweep(gr25_ptRNA,pCodon_list,elongt_list,ensmbl_latency_dict,min(gr25_ptRNA),max(gr25_ptRNA),objective='fast')\n",
    "    fullelongt_list.append(min(elongt_list))\n",
    "    if i%100 == 0:\n",
    "        print('Generation: ',i, ' elongt: ', min(elongt_list))\n",
    "        \n",
    "np.save('./data/WTtRNA_UniformRandomCodonUsage_2ksample_fastCodonUsage_elongt',elongt_list)\n",
    "np.save('./data/WTtRNA_UniformRandomCodonUsage_2ksample_fastCodonUsage_pCodon',pCodon_list)\n",
    "np.save('./data/WTtRNA_UniformRandomCodonUsage_2ksample_fastCodonUsage_fullelongt',fullelongt_list)"
   ]
  },
  {
   "cell_type": "markdown",
   "metadata": {},
   "source": [
    "## Genetic algorithm: slower codon usage distributions (tRNA abundances fixed, WT)"
   ]
  },
  {
   "cell_type": "code",
   "execution_count": 10,
   "metadata": {},
   "outputs": [
    {
     "name": "stdout",
     "output_type": "stream",
     "text": [
      "The autoreload extension is already loaded. To reload it, use:\n",
      "  %reload_ext autoreload\n",
      "Generation:  0  elongt:  197.15079674970096\n",
      "Generation:  100  elongt:  204.67877264653683\n",
      "Generation:  200  elongt:  207.69370503330927\n",
      "Generation:  300  elongt:  208.5881553822576\n",
      "Generation:  400  elongt:  209.1548761281126\n",
      "Generation:  500  elongt:  209.9507496043587\n",
      "Generation:  600  elongt:  210.76652294650046\n",
      "Generation:  700  elongt:  207.24318243566364\n",
      "Generation:  800  elongt:  208.94475841032855\n",
      "Generation:  900  elongt:  211.12963582348067\n",
      "Generation:  1000  elongt:  210.52570746321175\n",
      "Generation:  1100  elongt:  211.24092953215046\n",
      "Generation:  1200  elongt:  210.48032627973268\n",
      "Generation:  1300  elongt:  210.47866205263128\n",
      "Generation:  1400  elongt:  209.784447529888\n",
      "Generation:  1500  elongt:  208.99184589196045\n",
      "Generation:  1600  elongt:  210.6692604960466\n",
      "Generation:  1700  elongt:  212.53593727342954\n",
      "Generation:  1800  elongt:  209.31250488275492\n",
      "Generation:  1900  elongt:  210.6189482662206\n",
      "CPU times: user 28min 55s, sys: 4.53 s, total: 29min\n",
      "Wall time: 1h 37min 45s\n"
     ]
    }
   ],
   "source": [
    "%%time\n",
    "%load_ext autoreload\n",
    "%autoreload 2\n",
    "from analysis_utils import *\n",
    "\n",
    "### Codon array fixed\n",
    "elongt_list = np.load('./data/WTtRNA_UniformRandomCodonUsage_100sample_elongt.npy')\n",
    "pCodon_list = np.load('./data/WTtRNA_UniformRandomCodonUsage_100sample_pCodon.npy')\n",
    "fullelongt_list = list()\n",
    "\n",
    "for i in range(2000):\n",
    "    fitness, pCodon_list, elongt_list = run_ga_CodonSweep(gr25_ptRNA,pCodon_list,elongt_list,ensmbl_latency_dict,min(gr25_ptRNA),max(gr25_ptRNA),objective='slow')\n",
    "    fullelongt_list.append(max(elongt_list))\n",
    "    if i%100 == 0:\n",
    "        print('Generation: ',i, ' elongt: ', min(elongt_list))\n",
    "        \n",
    "np.save('./data/WTtRNA_UniformRandomCodonUsage_2ksample_slowCodonUsage_elongt',elongt_list)\n",
    "np.save('./data/WTtRNA_UniformRandomCodonUsage_2ksample_slowCodonUsage_pCodon',pCodon_list)\n",
    "np.save('./data/WTtRNA_UniformRandomCodonUsage_2ksample_slowCodonUsage_fullelongt',fullelongt_list)"
   ]
  },
  {
   "cell_type": "markdown",
   "metadata": {},
   "source": [
    "# Minimal code"
   ]
  },
  {
   "cell_type": "code",
   "execution_count": 9,
   "metadata": {},
   "outputs": [
    {
     "name": "stdout",
     "output_type": "stream",
     "text": [
      "Removed  349  RNA species\n",
      "4358\n",
      "Removed  81  non-divisible by three genes\n",
      "Inconsistency: reduceGeneMap_fullProteinsOnly didnt find a gene,  1257\n",
      "4277\n",
      "Missing genes in transcriptome_dict in compute_transcript_distributions:  1064\n"
     ]
    }
   ],
   "source": [
    "##Compute the codon distribution and elongation latency of each gene weighted by transcript number\n",
    "codon_elongt = compute_codon_elongt(gr25_ptRNA, len(gr25_pCodon), ensmbl_latency_dict)\n",
    "gene_map, gene_latency = compute_gene_elongt(codon_elongt, red20=True)\n",
    "pCodon_transcriptome, transcriptome_elongt = compute_transcript_distributions(gene_map,gene_latency)\n",
    "pCodon_transcriptome = np.array(pCodon_transcriptome)"
   ]
  },
  {
   "cell_type": "code",
   "execution_count": null,
   "metadata": {},
   "outputs": [],
   "source": []
  },
  {
   "cell_type": "markdown",
   "metadata": {},
   "source": [
    "## Uniform Random tRNA, minimal code, 100 samples\n"
   ]
  },
  {
   "cell_type": "code",
   "execution_count": 10,
   "metadata": {},
   "outputs": [
    {
     "name": "stdout",
     "output_type": "stream",
     "text": [
      "CPU times: user 12.7 s, sys: 43.5 ms, total: 12.7 s\n",
      "Wall time: 19.3 s\n"
     ]
    }
   ],
   "source": [
    "%%time\n",
    "elongt_list = list()\n",
    "ptRNA_list = list()\n",
    "inputs = list()\n",
    "\n",
    "for i in range(100):\n",
    "    ptRNA_uniform = np.random.uniform(min(gr25_ptRNA),max(gr25_ptRNA),len(gr25_ptRNA))\n",
    "    ptRNA_list.append(ptRNA_uniform)\n",
    "    inputs.append([ptRNA_uniform,pCodon_transcriptome,ensmbl_latency_dict])\n",
    "elongt_list = Parallel(n_jobs=n_cores,backend='loky')(delayed(computeElongationLatency_multithread)(i) for i in inputs)\n",
    "elongt_list = [elongt[0][0] for elongt in elongt_list]\n",
    "np.save('./data/UniformRandomtRNA_minimalcode_100sample_elongt',elongt_list)\n",
    "np.save('./data/UniformRandomtRNA_minimalcode_100sample_ptRNA',ptRNA_list)"
   ]
  },
  {
   "cell_type": "markdown",
   "metadata": {},
   "source": [
    "## Genetic algorithm: faster tRNA distribution with full tRNA, minimal code"
   ]
  },
  {
   "cell_type": "code",
   "execution_count": 11,
   "metadata": {},
   "outputs": [
    {
     "name": "stdout",
     "output_type": "stream",
     "text": [
      "The autoreload extension is already loaded. To reload it, use:\n",
      "  %reload_ext autoreload\n",
      "Generation:  0  elongt:  198.60491334362854\n",
      "Generation:  100  elongt:  181.73761587914353\n",
      "Generation:  200  elongt:  174.87020202658613\n",
      "Generation:  300  elongt:  174.86359689371983\n",
      "Generation:  400  elongt:  173.88416662750083\n",
      "Generation:  500  elongt:  173.01797927720386\n",
      "Generation:  600  elongt:  172.15415640410401\n",
      "Generation:  700  elongt:  168.9502169532995\n",
      "Generation:  800  elongt:  168.9502169532995\n",
      "Generation:  900  elongt:  168.9502169532995\n",
      "Generation:  1000  elongt:  168.14891864061445\n",
      "Generation:  1100  elongt:  168.14891864061445\n",
      "Generation:  1200  elongt:  168.14891864061445\n",
      "Generation:  1300  elongt:  166.2087252762881\n",
      "Generation:  1400  elongt:  165.7788962749751\n",
      "Generation:  1500  elongt:  165.7788962749751\n",
      "Generation:  1600  elongt:  165.7788962749751\n",
      "Generation:  1700  elongt:  165.7788962749751\n",
      "Generation:  1800  elongt:  165.35083251049207\n",
      "Generation:  1900  elongt:  165.35083251049207\n",
      "CPU times: user 26min 3s, sys: 3.91 s, total: 26min 7s\n",
      "Wall time: 1h 27min 56s\n"
     ]
    }
   ],
   "source": [
    "%%time\n",
    "%load_ext autoreload\n",
    "%autoreload 2\n",
    "from analysis_utils import *\n",
    "\n",
    "### Codon array fixed\n",
    "elongt_list = np.load('./data/UniformRandomtRNA_minimalcode_100sample_elongt.npy')\n",
    "ptRNA_list = np.load('./data/UniformRandomtRNA_minimalcode_100sample_ptRNA.npy')\n",
    "fullelongt_list = list()\n",
    "\n",
    "for i in range(2000):\n",
    "    fitness, ptRNA_list, elongt_list = run_ga_tRNA(ptRNA_list,pCodon_transcriptome,elongt_list,ensmbl_latency_dict,min(gr25_ptRNA),max(gr25_ptRNA),objective='fast')\n",
    "    fullelongt_list.append(min(elongt_list))\n",
    "    if i%100 == 0:\n",
    "        print('Generation: ',i, ' elongt: ', min(elongt_list))\n",
    "        \n",
    "np.save('./data/UniformRandomtRNA_minimalcode_2ksample_fasttRNA_elongt',elongt_list)\n",
    "np.save('./data/UniformRandomtRNA_minimalcode_2ksample_fasttRNA_ptRNA',ptRNA_list)\n",
    "np.save('./data/UniformRandomtRNA_minimalcode_2ksample_fasttRNA_fullelongt',fullelongt_list)"
   ]
  },
  {
   "cell_type": "markdown",
   "metadata": {},
   "source": [
    "## Genetic algorithm: slower tRNA distribution with full tRNA, minimal code"
   ]
  },
  {
   "cell_type": "code",
   "execution_count": 12,
   "metadata": {},
   "outputs": [
    {
     "name": "stdout",
     "output_type": "stream",
     "text": [
      "The autoreload extension is already loaded. To reload it, use:\n",
      "  %reload_ext autoreload\n",
      "Generation:  0 elongt:  227.82867876066786\n",
      "Generation:  100 elongt:  245.55721300193855\n",
      "Generation:  200 elongt:  249.15370412396504\n",
      "Generation:  300 elongt:  250.21448498771207\n",
      "Generation:  400 elongt:  251.0195624233942\n",
      "Generation:  500 elongt:  251.0195624233942\n",
      "Generation:  600 elongt:  251.50373528724865\n",
      "Generation:  700 elongt:  251.67445555306364\n",
      "Generation:  800 elongt:  251.77727018646277\n",
      "Generation:  900 elongt:  251.89758821909686\n",
      "Generation:  1000 elongt:  251.89758821909686\n",
      "Generation:  1100 elongt:  251.89758821909686\n",
      "Generation:  1200 elongt:  251.89758821909686\n",
      "Generation:  1300 elongt:  251.89758821909686\n",
      "Generation:  1400 elongt:  252.12466120346508\n",
      "Generation:  1500 elongt:  252.12466120346508\n",
      "Generation:  1600 elongt:  252.27660312446278\n",
      "Generation:  1700 elongt:  252.27660312446278\n",
      "Generation:  1800 elongt:  252.29804206326122\n",
      "Generation:  1900 elongt:  252.3330122570248\n",
      "CPU times: user 25min 40s, sys: 3.9 s, total: 25min 44s\n",
      "Wall time: 1h 26min 21s\n"
     ]
    }
   ],
   "source": [
    "%%time\n",
    "%load_ext autoreload\n",
    "%autoreload 2\n",
    "from analysis_utils import *\n",
    "\n",
    "### Codon array fixed\n",
    "elongt_list = np.load('./data/UniformRandomtRNA_minimalcode_100sample_elongt.npy')\n",
    "ptRNA_list = np.load('./data/UniformRandomtRNA_minimalcode_100sample_ptRNA.npy')\n",
    "fullelongt_list = list()\n",
    "\n",
    "for i in range(2000):\n",
    "    fitness, ptRNA_list, elongt_list = run_ga_tRNA(ptRNA_list,pCodon_transcriptome,elongt_list,ensmbl_latency_dict,min(gr25_ptRNA),max(gr25_ptRNA),objective='slow')\n",
    "    fullelongt_list.append(max(elongt_list))\n",
    "    if i%100 == 0:\n",
    "        print('Generation: ',i,'elongt: ', max(elongt_list))\n",
    "np.save('./data/UniformRandomtRNA_minimalcode_2ksample_slowtRNA_elongt',elongt_list)\n",
    "np.save('./data/UniformRandomtRNA_minimalcode_2ksample_slowtRNA_ptRNA',ptRNA_list)\n",
    "np.save('./data/UniformRandomtRNA_minimalcode_2ksample_slowtRNA_fullelongt',fullelongt_list)"
   ]
  },
  {
   "cell_type": "markdown",
   "metadata": {},
   "source": [
    "## minimal uniform random tRNA, minimal code, 100 samples"
   ]
  },
  {
   "cell_type": "code",
   "execution_count": 6,
   "metadata": {},
   "outputs": [
    {
     "name": "stdout",
     "output_type": "stream",
     "text": [
      "Removed  349  RNA species\n",
      "4358\n",
      "Removed  81  non-divisible by three genes\n",
      "Inconsistency: reduceGeneMap_fullProteinsOnly didnt find a gene,  1257\n",
      "4277\n",
      "Missing genes in transcriptome_dict in compute_transcript_distributions:  1064\n",
      "CPU times: user 2min 30s, sys: 965 ms, total: 2min 31s\n",
      "Wall time: 2min 46s\n"
     ]
    }
   ],
   "source": [
    "%%time\n",
    "\n",
    "##Compute the codon distribution and elongation latency of each gene weighted by transcript number\n",
    "codon_elongt = compute_codon_elongt(gr25_ptRNA, len(gr25_pCodon), ensmbl_latency_dict)\n",
    "gene_map, gene_latency = compute_gene_elongt(codon_elongt, red20=True)\n",
    "pCodon_transcriptome, transcriptome_elongt = compute_transcript_distributions(gene_map,gene_latency)\n",
    "pCodon_transcriptome = np.array(pCodon_transcriptome)\n",
    "\n",
    "ptRNA_red20 = pd.read_excel('./data/tables/tRNAValues_RED20.xlsx',header=None)\n",
    "ptRNA_red20 = ptRNA_red20[6]/sum(ptRNA_red20[6])\n",
    "tRNA_indices = np.argwhere(ptRNA_red20 == 0)\n",
    "tRNA_indices = [indices[0] for indices in tRNA_indices]\n",
    "elongt_list = list()\n",
    "ptRNA_list = list()\n",
    "inputs = list()\n",
    "\n",
    "for i in range(100):\n",
    "    ptRNA_uniform = np.random.uniform(min(ptRNA_red20),max(ptRNA_red20),len(ptRNA_red20))\n",
    "    ptRNA_uniform[tRNA_indices] = 0\n",
    "    ptRNA_list.append(ptRNA_uniform)\n",
    "    inputs.append([ptRNA_uniform,pCodon_transcriptome,ensmbl_latency_dict])\n",
    "elongt_list = Parallel(n_jobs=n_cores,backend='loky')(delayed(computeElongationLatency_multithread)(i) for i in inputs)\n",
    "elongt_list = [elongt[0][0] for elongt in elongt_list]\n",
    "np.save('./data/minimaltRNA_minimalcode_100sample_elongt',elongt_list)\n",
    "np.save('./data/minimaltRNA_minimalcode_100sample_ptRNA',ptRNA_list)"
   ]
  },
  {
   "cell_type": "markdown",
   "metadata": {},
   "source": [
    "## Genetic algorithm: faster tRNA distribution with minimal tRNA, minimal code"
   ]
  },
  {
   "cell_type": "code",
   "execution_count": 7,
   "metadata": {},
   "outputs": [
    {
     "name": "stdout",
     "output_type": "stream",
     "text": [
      "The autoreload extension is already loaded. To reload it, use:\n",
      "  %reload_ext autoreload\n",
      "Generation:  0  elongt:  168.14160024066234\n",
      "[0.09914532 0.         0.06802323 0.         0.         0.\n",
      " 0.02213267 0.08575104 0.04725787 0.         0.05637249 0.08116213\n",
      " 0.07669085 0.         0.06521133 0.09861972 0.         0.\n",
      " 0.01955819 0.         0.         0.03283825 0.02492907 0.0223025\n",
      " 0.00247281 0.         0.         0.         0.1051619  0.\n",
      " 0.         0.         0.01570526 0.         0.         0.\n",
      " 0.01406488 0.06219248 0.         0.000408  ]\n",
      "Generation:  100  elongt:  157.78472484389374\n",
      "[0.09841162 0.         0.0822379  0.         0.         0.\n",
      " 0.04476057 0.073834   0.00821897 0.         0.07312617 0.06120977\n",
      " 0.08718799 0.         0.00072701 0.03100832 0.         0.\n",
      " 0.0784168  0.         0.         0.01689105 0.06481828 0.05645332\n",
      " 0.00930612 0.         0.         0.         0.06860238 0.\n",
      " 0.         0.         0.04994885 0.         0.         0.\n",
      " 0.00908081 0.01703274 0.         0.06872732]\n",
      "Generation:  200  elongt:  156.18195610882958\n",
      "[0.09332895 0.         0.0618814  0.         0.         0.\n",
      " 0.06394276 0.07497489 0.0089584  0.         0.0317792  0.07448791\n",
      " 0.09503194 0.         0.00082809 0.06098516 0.         0.\n",
      " 0.09664561 0.         0.         0.0717993  0.04662592 0.05289507\n",
      " 0.03475784 0.         0.         0.         0.0432049  0.\n",
      " 0.         0.         0.0509015  0.         0.         0.\n",
      " 0.00756782 0.0079383  0.         0.02146503]\n",
      "Generation:  300  elongt:  154.99852231322052\n",
      "[0.08980657 0.         0.05574695 0.         0.         0.\n",
      " 0.05416975 0.06798249 0.04631227 0.         0.01549854 0.06481393\n",
      " 0.08691943 0.         0.00089566 0.06972989 0.         0.\n",
      " 0.09622483 0.         0.         0.06908948 0.00507343 0.05089873\n",
      " 0.00832202 0.         0.         0.         0.03917547 0.\n",
      " 0.         0.         0.04615426 0.         0.         0.\n",
      " 0.0068176  0.04317521 0.         0.0831935 ]\n",
      "Generation:  400  elongt:  154.4913307549475\n",
      "[0.09992645 0.         0.06202881 0.         0.         0.\n",
      " 0.03077383 0.08646015 0.00765669 0.         0.02034573 0.07211751\n",
      " 0.10136568 0.         0.00099659 0.07442965 0.         0.\n",
      " 0.10706795 0.         0.         0.07687485 0.00564513 0.05704079\n",
      " 0.00925979 0.         0.         0.         0.04982338 0.\n",
      " 0.         0.         0.05449977 0.         0.         0.\n",
      " 0.00749196 0.01120805 0.         0.06498726]\n",
      "Generation:  500  elongt:  154.4913307549475\n",
      "[0.09992645 0.         0.06202881 0.         0.         0.\n",
      " 0.03077383 0.08646015 0.00765669 0.         0.02034573 0.07211751\n",
      " 0.10136568 0.         0.00099659 0.07442965 0.         0.\n",
      " 0.10706795 0.         0.         0.07687485 0.00564513 0.05704079\n",
      " 0.00925979 0.         0.         0.         0.04982338 0.\n",
      " 0.         0.         0.05449977 0.         0.         0.\n",
      " 0.00749196 0.01120805 0.         0.06498726]\n",
      "Generation:  600  elongt:  153.7890925913406\n",
      "[0.09992645 0.         0.06202881 0.         0.         0.\n",
      " 0.03077383 0.08646015 0.00765669 0.         0.02034573 0.07211751\n",
      " 0.10136568 0.         0.00099659 0.07442965 0.         0.\n",
      " 0.10706795 0.         0.         0.07687485 0.00564513 0.05704079\n",
      " 0.00925979 0.         0.         0.         0.04982338 0.\n",
      " 0.         0.         0.05449977 0.         0.         0.\n",
      " 0.00749196 0.01120805 0.         0.06498726]\n",
      "Generation:  700  elongt:  153.7890925913406\n",
      "[0.09992645 0.         0.06202881 0.         0.         0.\n",
      " 0.03077383 0.08646015 0.00765669 0.         0.02034573 0.07211751\n",
      " 0.10136568 0.         0.00099659 0.07442965 0.         0.\n",
      " 0.10706795 0.         0.         0.07687485 0.00564513 0.05704079\n",
      " 0.00925979 0.         0.         0.         0.04982338 0.\n",
      " 0.         0.         0.05449977 0.         0.         0.\n",
      " 0.00749196 0.01120805 0.         0.06498726]\n",
      "Generation:  800  elongt:  153.7890925913406\n",
      "[0.09992645 0.         0.06202881 0.         0.         0.\n",
      " 0.03077383 0.08646015 0.00765669 0.         0.02034573 0.07211751\n",
      " 0.10136568 0.         0.00099659 0.07442965 0.         0.\n",
      " 0.10706795 0.         0.         0.07687485 0.00564513 0.05704079\n",
      " 0.00925979 0.         0.         0.         0.04982338 0.\n",
      " 0.         0.         0.05449977 0.         0.         0.\n",
      " 0.00749196 0.01120805 0.         0.06498726]\n",
      "Generation:  900  elongt:  153.7890925913406\n",
      "[0.09992645 0.         0.06202881 0.         0.         0.\n",
      " 0.03077383 0.08646015 0.00765669 0.         0.02034573 0.07211751\n",
      " 0.10136568 0.         0.00099659 0.07442965 0.         0.\n",
      " 0.10706795 0.         0.         0.07687485 0.00564513 0.05704079\n",
      " 0.00925979 0.         0.         0.         0.04982338 0.\n",
      " 0.         0.         0.05449977 0.         0.         0.\n",
      " 0.00749196 0.01120805 0.         0.06498726]\n",
      "Generation:  1000  elongt:  153.7890925913406\n",
      "[0.09992645 0.         0.06202881 0.         0.         0.\n",
      " 0.03077383 0.08646015 0.00765669 0.         0.02034573 0.07211751\n",
      " 0.10136568 0.         0.00099659 0.07442965 0.         0.\n",
      " 0.10706795 0.         0.         0.07687485 0.00564513 0.05704079\n",
      " 0.00925979 0.         0.         0.         0.04982338 0.\n",
      " 0.         0.         0.05449977 0.         0.         0.\n",
      " 0.00749196 0.01120805 0.         0.06498726]\n",
      "Generation:  1100  elongt:  153.7890925913406\n",
      "[0.09992645 0.         0.06202881 0.         0.         0.\n",
      " 0.03077383 0.08646015 0.00765669 0.         0.02034573 0.07211751\n",
      " 0.10136568 0.         0.00099659 0.07442965 0.         0.\n",
      " 0.10706795 0.         0.         0.07687485 0.00564513 0.05704079\n",
      " 0.00925979 0.         0.         0.         0.04982338 0.\n",
      " 0.         0.         0.05449977 0.         0.         0.\n",
      " 0.00749196 0.01120805 0.         0.06498726]\n",
      "Generation:  1200  elongt:  153.7890925913406\n",
      "[0.09992645 0.         0.06202881 0.         0.         0.\n",
      " 0.03077383 0.08646015 0.00765669 0.         0.02034573 0.07211751\n",
      " 0.10136568 0.         0.00099659 0.07442965 0.         0.\n",
      " 0.10706795 0.         0.         0.07687485 0.00564513 0.05704079\n",
      " 0.00925979 0.         0.         0.         0.04982338 0.\n",
      " 0.         0.         0.05449977 0.         0.         0.\n",
      " 0.00749196 0.01120805 0.         0.06498726]\n",
      "Generation:  1300  elongt:  153.7890925913406\n",
      "[0.09992645 0.         0.06202881 0.         0.         0.\n",
      " 0.03077383 0.08646015 0.00765669 0.         0.02034573 0.07211751\n",
      " 0.10136568 0.         0.00099659 0.07442965 0.         0.\n",
      " 0.10706795 0.         0.         0.07687485 0.00564513 0.05704079\n",
      " 0.00925979 0.         0.         0.         0.04982338 0.\n",
      " 0.         0.         0.05449977 0.         0.         0.\n",
      " 0.00749196 0.01120805 0.         0.06498726]\n",
      "Generation:  1400  elongt:  153.7890925913406\n",
      "[0.09992645 0.         0.06202881 0.         0.         0.\n",
      " 0.03077383 0.08646015 0.00765669 0.         0.02034573 0.07211751\n",
      " 0.10136568 0.         0.00099659 0.07442965 0.         0.\n",
      " 0.10706795 0.         0.         0.07687485 0.00564513 0.05704079\n",
      " 0.00925979 0.         0.         0.         0.04982338 0.\n",
      " 0.         0.         0.05449977 0.         0.         0.\n",
      " 0.00749196 0.01120805 0.         0.06498726]\n",
      "Generation:  1500  elongt:  153.51378130567971\n",
      "[0.09992645 0.         0.06202881 0.         0.         0.\n",
      " 0.03077383 0.08646015 0.00765669 0.         0.02034573 0.07211751\n",
      " 0.10136568 0.         0.00099659 0.07442965 0.         0.\n",
      " 0.10706795 0.         0.         0.07687485 0.00564513 0.05704079\n",
      " 0.00925979 0.         0.         0.         0.04982338 0.\n",
      " 0.         0.         0.05449977 0.         0.         0.\n",
      " 0.00749196 0.01120805 0.         0.06498726]\n",
      "Generation:  1600  elongt:  153.51378130567971\n",
      "[0.09992645 0.         0.06202881 0.         0.         0.\n",
      " 0.03077383 0.08646015 0.00765669 0.         0.02034573 0.07211751\n",
      " 0.10136568 0.         0.00099659 0.07442965 0.         0.\n",
      " 0.10706795 0.         0.         0.07687485 0.00564513 0.05704079\n",
      " 0.00925979 0.         0.         0.         0.04982338 0.\n",
      " 0.         0.         0.05449977 0.         0.         0.\n",
      " 0.00749196 0.01120805 0.         0.06498726]\n",
      "Generation:  1700  elongt:  153.51378130567971\n",
      "[0.09992645 0.         0.06202881 0.         0.         0.\n",
      " 0.03077383 0.08646015 0.00765669 0.         0.02034573 0.07211751\n",
      " 0.10136568 0.         0.00099659 0.07442965 0.         0.\n",
      " 0.10706795 0.         0.         0.07687485 0.00564513 0.05704079\n",
      " 0.00925979 0.         0.         0.         0.04982338 0.\n",
      " 0.         0.         0.05449977 0.         0.         0.\n",
      " 0.00749196 0.01120805 0.         0.06498726]\n"
     ]
    },
    {
     "name": "stdout",
     "output_type": "stream",
     "text": [
      "Generation:  1800  elongt:  153.51378130567971\n",
      "[0.09992645 0.         0.06202881 0.         0.         0.\n",
      " 0.03077383 0.08646015 0.00765669 0.         0.02034573 0.07211751\n",
      " 0.10136568 0.         0.00099659 0.07442965 0.         0.\n",
      " 0.10706795 0.         0.         0.07687485 0.00564513 0.05704079\n",
      " 0.00925979 0.         0.         0.         0.04982338 0.\n",
      " 0.         0.         0.05449977 0.         0.         0.\n",
      " 0.00749196 0.01120805 0.         0.06498726]\n",
      "Generation:  1900  elongt:  153.51378130567971\n",
      "[0.09992645 0.         0.06202881 0.         0.         0.\n",
      " 0.03077383 0.08646015 0.00765669 0.         0.02034573 0.07211751\n",
      " 0.10136568 0.         0.00099659 0.07442965 0.         0.\n",
      " 0.10706795 0.         0.         0.07687485 0.00564513 0.05704079\n",
      " 0.00925979 0.         0.         0.         0.04982338 0.\n",
      " 0.         0.         0.05449977 0.         0.         0.\n",
      " 0.00749196 0.01120805 0.         0.06498726]\n",
      "CPU times: user 28min 11s, sys: 5.09 s, total: 28min 16s\n",
      "Wall time: 1h 35min 54s\n"
     ]
    }
   ],
   "source": [
    "%%time\n",
    "%load_ext autoreload\n",
    "%autoreload 2\n",
    "from analysis_utils import *\n",
    "\n",
    "### Codon array fixed\n",
    "elongt_list = np.load('./data/minimaltRNA_minimalcode_100sample_elongt.npy')\n",
    "ptRNA_list = np.load('./data/minimaltRNA_minimalcode_100sample_ptRNA.npy')\n",
    "fullelongt_list = list()\n",
    "\n",
    "for i in range(2000):\n",
    "    fitness, ptRNA_list, elongt_list = run_ga_tRNA(ptRNA_list,pCodon_transcriptome,elongt_list,ensmbl_latency_dict,min(gr25_ptRNA),max(gr25_ptRNA),objective='fast',ptRNA_red20=ptRNA_red20)\n",
    "    fullelongt_list.append(min(elongt_list))\n",
    "    if i%100 == 0:\n",
    "        print('Generation: ',i, ' elongt: ', min(elongt_list))\n",
    "        print(ptRNA_list[0])\n",
    "        \n",
    "np.save('./data/minimaltRNA_minimalcode_2ksample_fasttRNA_elongt',elongt_list)\n",
    "np.save('./data/minimaltRNA_minimalcode_2ksample_fasttRNA_ptRNA',ptRNA_list)\n",
    "np.save('./data/minimaltRNA_minimalcode_2ksample_fasttRNA_fullelongt',fullelongt_list)"
   ]
  },
  {
   "cell_type": "markdown",
   "metadata": {},
   "source": [
    "## Genetic algorithm: slower tRNA distribution with minimal tRNA, minimal code"
   ]
  },
  {
   "cell_type": "code",
   "execution_count": 15,
   "metadata": {},
   "outputs": [
    {
     "name": "stdout",
     "output_type": "stream",
     "text": [
      "The autoreload extension is already loaded. To reload it, use:\n",
      "  %reload_ext autoreload\n",
      "Removed  349  RNA species\n",
      "4358\n",
      "Removed  81  non-divisible by three genes\n",
      "Inconsistency: reduceGeneMap_fullProteinsOnly didnt find a gene,  1257\n",
      "4277\n",
      "Missing genes in transcriptome_dict in compute_transcript_distributions:  1064\n",
      "Generation:  0 elongt:  206.9071502850114\n",
      "[0.01608285 0.         0.12536134 0.         0.         0.\n",
      " 0.08132055 0.12612634 0.0930813  0.         0.02490149 0.01985029\n",
      " 0.01355763 0.         0.00464132 0.06228925 0.         0.\n",
      " 0.00323951 0.         0.         0.09208818 0.0886565  0.05680324\n",
      " 0.10653141 0.         0.         0.         0.09695683 0.\n",
      " 0.         0.         0.00398555 0.         0.         0.\n",
      " 0.11960412 0.12398968 0.         0.04951663]\n",
      "Generation:  100 elongt:  228.39365506817404\n",
      "[0.00835815 0.         0.01323072 0.         0.         0.\n",
      " 0.07008058 0.00996779 0.21654365 0.         0.00432683 0.03231602\n",
      " 0.03229349 0.         0.009947   0.01535434 0.         0.\n",
      " 0.00653647 0.         0.         0.01364806 0.18847004 0.02544282\n",
      " 0.19110168 0.         0.         0.         0.00969727 0.\n",
      " 0.         0.         0.04954479 0.         0.         0.\n",
      " 0.0853486  0.00232353 0.         0.01546818]\n",
      "Generation:  200 elongt:  238.93097424993778\n",
      "[0.01466198 0.         0.00515152 0.         0.         0.\n",
      " 0.02257566 0.01159631 0.34114592 0.         0.00599662 0.01519161\n",
      " 0.01020317 0.         0.05098024 0.02834443 0.         0.\n",
      " 0.00918116 0.         0.         0.00848659 0.01927003 0.00564411\n",
      " 0.2852651  0.         0.         0.         0.02435526 0.\n",
      " 0.         0.         0.02309421 0.         0.         0.\n",
      " 0.11128921 0.00424189 0.         0.00332498]\n",
      "Generation:  300 elongt:  242.40807928665365\n",
      "[0.00527298 0.         0.04662723 0.         0.         0.\n",
      " 0.02267994 0.00254532 0.36849319 0.         0.00696808 0.01575701\n",
      " 0.01289088 0.         0.03057152 0.02208382 0.         0.\n",
      " 0.01065211 0.         0.         0.00343129 0.02519918 0.00580374\n",
      " 0.33147805 0.         0.         0.         0.01277223 0.\n",
      " 0.         0.         0.01723997 0.         0.         0.\n",
      " 0.05164007 0.00415447 0.         0.00373894]\n",
      "Generation:  400 elongt:  244.2117768121492\n",
      "[0.00577509 0.         0.00554821 0.         0.         0.\n",
      " 0.02082427 0.00261124 0.37312054 0.         0.01047536 0.01364434\n",
      " 0.00638498 0.         0.02533121 0.01426895 0.         0.\n",
      " 0.01115683 0.         0.         0.0034984  0.02951728 0.02072632\n",
      " 0.32862133 0.         0.         0.         0.01266216 0.\n",
      " 0.         0.         0.00283165 0.         0.         0.\n",
      " 0.07179251 0.0375026  0.         0.00370672]\n",
      "Generation:  500 elongt:  244.86775212900514\n",
      "[0.00620805 0.         0.00552255 0.         0.         0.\n",
      " 0.0237578  0.00273735 0.38657873 0.         0.00863646 0.01077781\n",
      " 0.00699058 0.         0.02444169 0.01499137 0.         0.\n",
      " 0.01251746 0.         0.         0.00617989 0.00608231 0.02271063\n",
      " 0.38822488 0.         0.         0.         0.00585851 0.\n",
      " 0.         0.         0.00400126 0.         0.         0.\n",
      " 0.03604889 0.0175007  0.         0.01023311]\n",
      "Generation:  600 elongt:  245.50823745866316\n",
      "[0.00620805 0.         0.00552255 0.         0.         0.\n",
      " 0.0237578  0.00273735 0.38657873 0.         0.00863646 0.01077781\n",
      " 0.00699058 0.         0.02444169 0.01499137 0.         0.\n",
      " 0.01251746 0.         0.         0.00617989 0.00608231 0.02271063\n",
      " 0.38822488 0.         0.         0.         0.00585851 0.\n",
      " 0.         0.         0.00400126 0.         0.         0.\n",
      " 0.03604889 0.0175007  0.         0.01023311]\n",
      "Generation:  700 elongt:  247.24205718181454\n",
      "[0.00644517 0.         0.00666599 0.         0.         0.\n",
      " 0.00374167 0.00294951 0.42559149 0.         0.0036172  0.00432092\n",
      " 0.00769605 0.         0.00186292 0.01643394 0.         0.\n",
      " 0.0137807  0.         0.         0.00683823 0.00230802 0.00722549\n",
      " 0.42740376 0.         0.         0.         0.00999998 0.\n",
      " 0.         0.         0.00339185 0.         0.         0.\n",
      " 0.03943985 0.00509863 0.         0.00518864]\n",
      "Generation:  800 elongt:  247.29740151785708\n",
      "[0.00644517 0.         0.00666599 0.         0.         0.\n",
      " 0.00374167 0.00294951 0.42559149 0.         0.0036172  0.00432092\n",
      " 0.00769605 0.         0.00186292 0.01643394 0.         0.\n",
      " 0.0137807  0.         0.         0.00683823 0.00230802 0.00722549\n",
      " 0.42740376 0.         0.         0.         0.00999998 0.\n",
      " 0.         0.         0.00339185 0.         0.         0.\n",
      " 0.03943985 0.00509863 0.         0.00518864]\n",
      "Generation:  900 elongt:  247.75240729386917\n",
      "[0.00644517 0.         0.00666599 0.         0.         0.\n",
      " 0.00374167 0.00294951 0.42559149 0.         0.0036172  0.00432092\n",
      " 0.00769605 0.         0.00186292 0.01643394 0.         0.\n",
      " 0.0137807  0.         0.         0.00683823 0.00230802 0.00722549\n",
      " 0.42740376 0.         0.         0.         0.00999998 0.\n",
      " 0.         0.         0.00339185 0.         0.         0.\n",
      " 0.03943985 0.00509863 0.         0.00518864]\n",
      "Generation:  1000 elongt:  247.88352698537284\n",
      "[0.00644517 0.         0.00666599 0.         0.         0.\n",
      " 0.00374167 0.00294951 0.42559149 0.         0.0036172  0.00432092\n",
      " 0.00769605 0.         0.00186292 0.01643394 0.         0.\n",
      " 0.0137807  0.         0.         0.00683823 0.00230802 0.00722549\n",
      " 0.42740376 0.         0.         0.         0.00999998 0.\n",
      " 0.         0.         0.00339185 0.         0.         0.\n",
      " 0.03943985 0.00509863 0.         0.00518864]\n",
      "Generation:  1100 elongt:  248.01995661643826\n",
      "[0.00644517 0.         0.00666599 0.         0.         0.\n",
      " 0.00374167 0.00294951 0.42559149 0.         0.0036172  0.00432092\n",
      " 0.00769605 0.         0.00186292 0.01643394 0.         0.\n",
      " 0.0137807  0.         0.         0.00683823 0.00230802 0.00722549\n",
      " 0.42740376 0.         0.         0.         0.00999998 0.\n",
      " 0.         0.         0.00339185 0.         0.         0.\n",
      " 0.03943985 0.00509863 0.         0.00518864]\n",
      "Generation:  1200 elongt:  248.54243014405216\n",
      "[0.00684701 0.         0.00168436 0.         0.         0.\n",
      " 0.00397629 0.00730562 0.46136305 0.         0.0037839  0.00448649\n",
      " 0.00466718 0.         0.00213863 0.00646949 0.         0.\n",
      " 0.00431193 0.         0.         0.00483101 0.00646133 0.00799646\n",
      " 0.41416229 0.         0.         0.         0.00478719 0.\n",
      " 0.         0.         0.00566498 0.         0.         0.\n",
      " 0.00867448 0.03464612 0.         0.00574216]\n",
      "Generation:  1300 elongt:  249.28273433617954\n",
      "[0.00665556 0.         0.00166203 0.         0.         0.\n",
      " 0.00379847 0.0030837  0.45884101 0.         0.00376322 0.00446197\n",
      " 0.00799604 0.         0.00196035 0.00643412 0.         0.\n",
      " 0.00476329 0.         0.         0.0048046  0.03677772 0.01130436\n",
      " 0.41189827 0.         0.         0.         0.00476102 0.\n",
      " 0.         0.         0.00550166 0.         0.         0.\n",
      " 0.00862707 0.00763812 0.         0.00526742]\n",
      "Generation:  1400 elongt:  249.28273433617954\n",
      "[0.00665556 0.         0.00166203 0.         0.         0.\n",
      " 0.00379847 0.0030837  0.45884101 0.         0.00376322 0.00446197\n",
      " 0.00799604 0.         0.00196035 0.00643412 0.         0.\n",
      " 0.00476329 0.         0.         0.0048046  0.03677772 0.01130436\n",
      " 0.41189827 0.         0.         0.         0.00476102 0.\n",
      " 0.         0.         0.00550166 0.         0.         0.\n",
      " 0.00862707 0.00763812 0.         0.00526742]\n",
      "Generation:  1500 elongt:  249.28273433617954\n",
      "[0.00728967 0.         0.00150836 0.         0.         0.\n",
      " 0.00342026 0.00277666 0.40298177 0.         0.00338852 0.00429415\n",
      " 0.00256573 0.         0.00191516 0.00852628 0.         0.\n",
      " 0.00428902 0.         0.         0.00432621 0.03311579 0.0071609\n",
      " 0.37088588 0.         0.         0.         0.05029499 0.\n",
      " 0.         0.         0.00554602 0.         0.         0.\n",
      " 0.06831556 0.01265612 0.         0.00474295]\n",
      "Generation:  1600 elongt:  249.28273433617954\n",
      "[0.00772234 0.         0.00167774 0.         0.         0.\n",
      " 0.00799992 0.00307555 0.4344027  0.         0.0037213  0.00452474\n",
      " 0.00284192 0.         0.00197887 0.00903234 0.         0.\n",
      " 0.00483031 0.         0.         0.00444289 0.00816069 0.00786079\n",
      " 0.42044705 0.         0.         0.         0.00705129 0.\n",
      " 0.         0.         0.00555366 0.         0.         0.\n",
      " 0.05154291 0.00771031 0.         0.00542268]\n",
      "Generation:  1700 elongt:  249.28273433617954\n",
      "[0.0124806  0.         0.00698446 0.         0.         0.\n",
      " 0.00776991 0.00730283 0.426814   0.         0.00171206 0.0046231\n",
      " 0.00284135 0.         0.00197848 0.00378571 0.         0.\n",
      " 0.00486326 0.         0.         0.00444199 0.03923995 0.0078592\n",
      " 0.42036228 0.         0.         0.         0.01511442 0.\n",
      " 0.         0.         0.00580029 0.         0.         0.\n",
      " 0.01289574 0.00770876 0.         0.00542159]\n"
     ]
    },
    {
     "name": "stdout",
     "output_type": "stream",
     "text": [
      "Generation:  1800 elongt:  249.28273433617954\n",
      "[0.00756554 0.         0.00164367 0.         0.         0.\n",
      " 0.00783748 0.0030131  0.41823207 0.         0.00573404 0.00452327\n",
      " 0.00278422 0.         0.00193869 0.03550851 0.         0.\n",
      " 0.00478462 0.         0.         0.04252236 0.006778   0.00737255\n",
      " 0.41191008 0.         0.         0.         0.00690812 0.\n",
      " 0.         0.         0.00544089 0.         0.         0.\n",
      " 0.01263644 0.00755376 0.         0.00531258]\n",
      "Generation:  1900 elongt:  249.28273433617954\n",
      "[0.00473598 0.         0.00182263 0.         0.         0.\n",
      " 0.00849298 0.00335519 0.45135685 0.         0.00181051 0.00491298\n",
      " 0.00300473 0.         0.00185252 0.00857088 0.         0.\n",
      " 0.00522775 0.         0.         0.00235471 0.00657783 0.00800774\n",
      " 0.44453414 0.         0.         0.         0.00735282 0.\n",
      " 0.         0.         0.01236231 0.         0.         0.\n",
      " 0.0093866  0.00852395 0.         0.0057569 ]\n",
      "CPU times: user 32min 57s, sys: 13.9 s, total: 33min 11s\n",
      "Wall time: 1h 49min 20s\n"
     ]
    }
   ],
   "source": [
    "%%time\n",
    "%load_ext autoreload\n",
    "%autoreload 2\n",
    "from analysis_utils import *\n",
    "\n",
    "##Compute the codon distribution and elongation latency of each gene weighted by transcript number\n",
    "codon_elongt = compute_codon_elongt(gr25_ptRNA, len(gr25_pCodon), ensmbl_latency_dict)\n",
    "gene_map, gene_latency = compute_gene_elongt(codon_elongt, red20=True)\n",
    "pCodon_transcriptome, transcriptome_elongt = compute_transcript_distributions(gene_map,gene_latency)\n",
    "pCodon_transcriptome = np.array(pCodon_transcriptome)\n",
    "\n",
    "ptRNA_red20 = pd.read_excel('./data/tables/tRNAValues_RED20.xlsx',header=None)\n",
    "ptRNA_red20 = ptRNA_red20[6]/sum(ptRNA_red20[6])\n",
    "tRNA_indices = np.argwhere(ptRNA_red20 == 0)\n",
    "tRNA_indices = [indices[0] for indices in tRNA_indices]\n",
    "elongt_list = list()\n",
    "ptRNA_list = list()\n",
    "inputs = list()\n",
    "\n",
    "### Codon array fixed\n",
    "elongt_list = np.load('./data/minimaltRNA_minimalcode_100sample_elongt.npy')\n",
    "ptRNA_list = np.load('./data/minimaltRNA_minimalcode_100sample_ptRNA.npy')\n",
    "fullelongt_list = list()\n",
    "\n",
    "for i in range(2000):\n",
    "    fitness, ptRNA_list, elongt_list = run_ga_tRNA(ptRNA_list,pCodon_transcriptome,elongt_list,ensmbl_latency_dict,min(gr25_ptRNA),max(gr25_ptRNA),objective='slow',ptRNA_red20=ptRNA_red20)\n",
    "    fullelongt_list.append(max(elongt_list))\n",
    "    if i%100 == 0:\n",
    "        print('Generation: ',i,'elongt: ', max(elongt_list))\n",
    "        print(ptRNA_list[0])\n",
    "\n",
    "np.save('./data/minimaltRNA_minimalcode_2ksample_slowtRNA_elongt',elongt_list)\n",
    "np.save('./data/minimaltRNA_minimalcode_2ksample_slowtRNA_ptRNA',ptRNA_list)\n",
    "np.save('./data/minimaltRNA_minimalcode_2ksample_slowtRNA_fullelongt',fullelongt_list)"
   ]
  },
  {
   "cell_type": "code",
   "execution_count": 8,
   "metadata": {},
   "outputs": [
    {
     "name": "stdout",
     "output_type": "stream",
     "text": [
      "[1, 3, 4, 5, 9, 13, 16, 17, 19, 20, 25, 26, 27, 29, 30, 31, 33, 34, 35, 38]\n"
     ]
    }
   ],
   "source": [
    "ptRNA_red20 = pd.read_excel('./data/tables/tRNAValues_RED20.xlsx',header=None)\n",
    "ptRNA_red20 = ptRNA_red20[6]/sum(ptRNA_red20[6])\n",
    "tRNA_indices = np.argwhere(ptRNA_red20 == 0)"
   ]
  },
  {
   "cell_type": "code",
   "execution_count": 13,
   "metadata": {},
   "outputs": [
    {
     "data": {
      "text/plain": [
       "array([227.82867876, 220.49867173, 225.22127618, 219.33597043,\n",
       "       216.53793099, 213.50814525, 216.43765119, 215.39500003,\n",
       "       217.30159397, 216.43433774, 224.80244017, 223.37886192,\n",
       "       221.43334577, 217.3145207 , 215.62300387, 217.35460056,\n",
       "       214.28603358, 207.23218558, 218.60327648, 216.33534745,\n",
       "       225.21111856, 207.35530133, 211.80614719, 214.41355737,\n",
       "       213.37879721, 217.11638837, 206.67012536, 226.32781276,\n",
       "       219.32548762, 213.61684655, 214.14888916, 219.29841786,\n",
       "       214.07183499, 213.80682526, 219.73764384, 221.36863078,\n",
       "       215.22769438, 222.65773344, 220.47351254, 214.69010084,\n",
       "       198.60491334, 211.1982192 , 215.08958281, 220.56160904,\n",
       "       214.74410262, 224.75226341, 223.18711035, 220.5232296 ,\n",
       "       225.4795083 , 214.32128004, 216.56714637, 209.48958663,\n",
       "       215.04908037, 213.44123307, 214.63500148, 218.31925558,\n",
       "       209.87940431, 217.37424716, 222.31730348, 219.05546106,\n",
       "       221.7805431 , 214.03764226, 211.38203252, 205.25160244,\n",
       "       212.62262333, 215.24526492, 214.16714125, 209.73987819,\n",
       "       214.31765141, 220.60492458, 208.13686639, 225.03172126,\n",
       "       219.90003177, 214.3272306 , 218.4467205 , 220.70764047,\n",
       "       215.00055319, 221.04889522, 213.1109396 , 218.3561555 ,\n",
       "       217.12105812, 215.59202611, 223.89402753, 212.00187701,\n",
       "       220.76759287, 214.89075478, 210.45985957, 220.09717866,\n",
       "       209.43058515, 210.1456055 , 218.54536704, 213.36407806,\n",
       "       222.93496653, 215.56984824, 214.47588127, 208.05817784,\n",
       "       219.00689381, 207.75429057, 218.0845817 , 225.76237219])"
      ]
     },
     "execution_count": 13,
     "metadata": {},
     "output_type": "execute_result"
    }
   ],
   "source": [
    "elongt_list = np.load('./data/UniformRandomtRNA_minimalcode_100sample_elongt.npy')\n",
    "elongt_list"
   ]
  },
  {
   "cell_type": "code",
   "execution_count": null,
   "metadata": {},
   "outputs": [],
   "source": []
  },
  {
   "cell_type": "code",
   "execution_count": 14,
   "metadata": {},
   "outputs": [
    {
     "data": {
      "text/plain": [
       "array([0.06586788, 0.        , 0.02047568, 0.        , 0.        ,\n",
       "       0.        , 0.05669084, 0.06377628, 0.0212702 , 0.        ,\n",
       "       0.04173338, 0.06243044, 0.06777071, 0.        , 0.06776294,\n",
       "       0.04417216, 0.        , 0.        , 0.07383399, 0.        ,\n",
       "       0.        , 0.05070421, 0.00497097, 0.02958561, 0.05496023,\n",
       "       0.        , 0.0441642 , 0.        , 0.0068525 , 0.        ,\n",
       "       0.        , 0.00989889, 0.07040875, 0.        , 0.        ,\n",
       "       0.        , 0.04073738, 0.06696222, 0.        , 0.03497054])"
      ]
     },
     "execution_count": 14,
     "metadata": {},
     "output_type": "execute_result"
    }
   ],
   "source": [
    "ptRNA_list[0]"
   ]
  },
  {
   "cell_type": "code",
   "execution_count": 16,
   "metadata": {},
   "outputs": [],
   "source": [
    "ptRNA_list = np.load('./data/minimaltRNA_minimalcode_100sample_ptRNA.npy')\n"
   ]
  },
  {
   "cell_type": "code",
   "execution_count": null,
   "metadata": {},
   "outputs": [],
   "source": []
  },
  {
   "cell_type": "code",
   "execution_count": null,
   "metadata": {},
   "outputs": [],
   "source": []
  },
  {
   "cell_type": "code",
   "execution_count": null,
   "metadata": {},
   "outputs": [],
   "source": []
  }
 ],
 "metadata": {
  "kernelspec": {
   "display_name": "Python 3",
   "language": "python",
   "name": "python3"
  },
  "language_info": {
   "codemirror_mode": {
    "name": "ipython",
    "version": 3
   },
   "file_extension": ".py",
   "mimetype": "text/x-python",
   "name": "python",
   "nbconvert_exporter": "python",
   "pygments_lexer": "ipython3",
   "version": "3.7.4"
  }
 },
 "nbformat": 4,
 "nbformat_minor": 2
}
