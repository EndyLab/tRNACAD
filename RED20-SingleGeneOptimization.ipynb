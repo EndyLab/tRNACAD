{
 "cells": [
  {
   "cell_type": "markdown",
   "metadata": {},
   "source": [
    "# Figure 5"
   ]
  },
  {
   "cell_type": "code",
   "execution_count": 18,
   "metadata": {},
   "outputs": [
    {
     "name": "stdout",
     "output_type": "stream",
     "text": [
      "The autoreload extension is already loaded. To reload it, use:\n",
      "  %reload_ext autoreload\n",
      "Computing...\n",
      "Computing...\n",
      "Computing...\n",
      "Computing...\n",
      "Computing...\n",
      "Computing...\n",
      "Computing...\n",
      "Computing...\n",
      "Computing...\n",
      "Computing...\n",
      "Computing...\n",
      "Computing...\n",
      "Computing...\n",
      "CPU times: user 29.2 s, sys: 273 ms, total: 29.4 s\n",
      "Wall time: 29.6 s\n"
     ]
    }
   ],
   "source": [
    "%%time\n",
    "%load_ext autoreload\n",
    "\n",
    "from analysis_utils import *\n",
    "from joblib import Parallel, delayed\n",
    "import multiprocessing  \n",
    "import numpy as np\n",
    "import pandas as pd\n",
    "\n",
    "#Growth rate = 3.0\n",
    "#Computes the translation latencies from our model with simulations containing\n",
    "#1 to 14 cognate ternary complexes in the voxel (14 to 42 not included because\n",
    "#the probability of voxels with that number of cognates is ~0)\n",
    "path = \"/Users/Akshay/Documents/tRNAShuffle/data/\"\n",
    "ensmbl_latency_dict = dict()\n",
    "rxndiff=dict()\n",
    "scalingFactor = 200\n",
    "NR_scaledrates = {'k1r':718*200/scalingFactor,'k2f':1475*200/scalingFactor,'k2r_nr':1120*200/scalingFactor,'k3_nr':6*200/scalingFactor,'k4':209*200/scalingFactor}\n",
    "\n",
    "\n",
    "data = \"191003_2210/\"\n",
    "for i in range(1,7):\n",
    "    sim_i = computeTransportRxnTimes(path+data,100*(i-1),100*(i-1)+100,cogtRNANum=i, ribosomeNum = 7,scaling=scalingFactor,NR_scaling = NR_scaledrates)\n",
    "    ensmbl_latency_dict[i] = (CellLatencies(sim_i))\n",
    "\n",
    "data = \"191105_0908/\"\n",
    "for i in range(7,14):\n",
    "    sim_i = computeTransportRxnTimes(path+data, 100*(i-1-6),100*(i-1-6)+100,cogtRNANum=i, ribosomeNum = 7,scaling=scalingFactor,NR_scaling = NR_scaledrates)\n",
    "    ensmbl_latency_dict[i] = (CellLatencies(sim_i))\n",
    "    \n",
    "#Experimentally obtained codon usage frequencies and tRNA abundances at growth rate = 2.5 dbl/hr\n",
    "gr25_Codon = np.array([2.36, 1.26, 45.55, 34.17, 16.97, 57.86, 19.27, 33.74, 14.98, 22.31, 43.18, 7.67, 24.11, 24.87, 39.49, 11.81, 0.03, 0.63, 2.19, 9.31, 17.22, 55.01, 5.61, 29.21, 21.67, 0.52, 15.79, 43.86, 4.17, 2.61, 20.64, 26.7, 7.03, 0.19, 2.76, 3.81, 6.72, 16.52, 4.27, 2.73, 7.92, 23.25, 2.51, 1.98, 16.33, 11.68, 0.62, 0.67, 43.82, 20.59, 27.28, 7.01, 6.78, 14.21, 60.75, 0.82, 3.86, 4.09, 28.82, 5.18, 4.38, 1.09])\n",
    "gr25_pCodon = gr25_Codon/np.sum(gr25_Codon)\n",
    "gr25_ptRNA = [0.0602409638554217, 0.010542168674698798, 0.07379518072289158, 0.00602409638554217, 0.010542168674698798, 0.00602409638554217, 0.021084337349397596, 0.043674698795180725, 0.021084337349397596, 0.01204819277108434, 0.01807228915662651, 0.08433734939759038, 0.03162650602409639, 0.07228915662650603, 0.01204819277108434, 0.07078313253012049, 0.06325301204819278, 0.01656626506024097, 0.009036144578313254, 0.027108433734939763, 0.010542168674698798, 0.03012048192771085, 0.013554216867469882, 0.015060240963855425, 0.0075301204819277125, 0.010542168674698798, 0.0075301204819277125, 0.003012048192771085, 0.021084337349397596, 0.004518072289156627, 0.01656626506024097, 0.01204819277108434, 0.0015060240963855425, 0.009036144578313254, 0.01656626506024097, 0.019578313253012052, 0.015060240963855425, 0.027108434, 0.05873493975903616, 0.019578313]\n",
    "gr25_ptRNA = gr25_ptRNA/np.sum(gr25_ptRNA)\n",
    "\n",
    "n_cores = 16\n",
    "\n",
    "##Compute the codon distribution and elongation latency of each gene weighted by transcript number\n",
    "codon_elongt = compute_codon_elongt(gr25_ptRNA, len(gr25_pCodon), ensmbl_latency_dict)"
   ]
  },
  {
   "cell_type": "markdown",
   "metadata": {},
   "source": [
    "# Distribution engineering for RED20-sfGFP"
   ]
  },
  {
   "cell_type": "markdown",
   "metadata": {},
   "source": []
  },
  {
   "cell_type": "code",
   "execution_count": 9,
   "metadata": {},
   "outputs": [
    {
     "name": "stderr",
     "output_type": "stream",
     "text": [
      "/Users/akshay/Library/Python/3.9/lib/python/site-packages/openpyxl/worksheet/_reader.py:329: UserWarning: Unknown extension is not supported and will be removed\n",
      "  warn(msg)\n"
     ]
    },
    {
     "ename": "KeyboardInterrupt",
     "evalue": "",
     "output_type": "error",
     "traceback": [
      "\u001b[0;31m---------------------------------------------------------------------------\u001b[0m",
      "\u001b[0;31mKeyboardInterrupt\u001b[0m                         Traceback (most recent call last)",
      "Cell \u001b[0;32mIn[9], line 12\u001b[0m\n\u001b[1;32m      9\u001b[0m ptRNA_red20 \u001b[38;5;241m=\u001b[39m pd\u001b[38;5;241m.\u001b[39mread_excel(\u001b[38;5;124m'\u001b[39m\u001b[38;5;124m./data/tables/tRNAValues_RED20.xlsx\u001b[39m\u001b[38;5;124m'\u001b[39m,header\u001b[38;5;241m=\u001b[39m\u001b[38;5;28;01mNone\u001b[39;00m)\n\u001b[1;32m     10\u001b[0m ptRNA_red20 \u001b[38;5;241m=\u001b[39m ptRNA_red20[\u001b[38;5;241m6\u001b[39m]\u001b[38;5;241m/\u001b[39m\u001b[38;5;28msum\u001b[39m(ptRNA_red20[\u001b[38;5;241m6\u001b[39m])\n\u001b[0;32m---> 12\u001b[0m codon_elongt \u001b[38;5;241m=\u001b[39m \u001b[43mcompute_codon_elongt\u001b[49m\u001b[43m(\u001b[49m\u001b[43mptRNA_red20\u001b[49m\u001b[43m,\u001b[49m\u001b[43m \u001b[49m\u001b[38;5;28;43mlen\u001b[39;49m\u001b[43m(\u001b[49m\u001b[43mpCodon_GFP\u001b[49m\u001b[43m)\u001b[49m\u001b[43m,\u001b[49m\u001b[43m \u001b[49m\u001b[43mensmbl_latency_dict\u001b[49m\u001b[43m)\u001b[49m\n\u001b[1;32m     13\u001b[0m avg_elongt_wt \u001b[38;5;241m=\u001b[39m compute_gene_elongt_genemap(gene_map[\u001b[38;5;124m'\u001b[39m\u001b[38;5;124msfGFP_RED20\u001b[39m\u001b[38;5;124m'\u001b[39m],codon_elongt)\n\u001b[1;32m     14\u001b[0m \u001b[38;5;28mprint\u001b[39m(\u001b[38;5;124m'\u001b[39m\u001b[38;5;124melongt wildtype\u001b[39m\u001b[38;5;124m'\u001b[39m, avg_elongt_wt)\n",
      "File \u001b[0;32m~/Documents/tRNAShuffle/analysis_utils.py:723\u001b[0m, in \u001b[0;36mcompute_codon_elongt\u001b[0;34m(ptRNA, pCodon_len, ensmbl_latency_dict)\u001b[0m\n\u001b[1;32m    721\u001b[0m     pCodon_zeros\u001b[38;5;241m=\u001b[39m np\u001b[38;5;241m.\u001b[39mzeros(pCodon_len)\n\u001b[1;32m    722\u001b[0m     pCodon_zeros[i] \u001b[38;5;241m=\u001b[39m \u001b[38;5;241m1\u001b[39m\n\u001b[0;32m--> 723\u001b[0m     codon_elongation_latency\u001b[38;5;241m.\u001b[39mappend(\u001b[43mcomputeElongationLatency\u001b[49m\u001b[43m(\u001b[49m\u001b[43mptRNA\u001b[49m\u001b[43m,\u001b[49m\u001b[43mpCodon_zeros\u001b[49m\u001b[43m,\u001b[49m\u001b[43mensmbl_latency_dict\u001b[49m\u001b[43m)\u001b[49m[\u001b[38;5;241m0\u001b[39m][\u001b[38;5;241m0\u001b[39m])\n\u001b[1;32m    724\u001b[0m codon_elongt \u001b[38;5;241m=\u001b[39m \u001b[38;5;28mdict\u001b[39m(\u001b[38;5;28mzip\u001b[39m(codon_tags, codon_elongation_latency))\n\u001b[1;32m    725\u001b[0m \u001b[38;5;28;01mreturn\u001b[39;00m(codon_elongt)\n",
      "File \u001b[0;32m~/Documents/tRNAShuffle/analysis_utils.py:509\u001b[0m, in \u001b[0;36mcomputeElongationLatency\u001b[0;34m(ptRNA, pCodon, ensmbl_latency_dict)\u001b[0m\n\u001b[1;32m    507\u001b[0m \u001b[38;5;28;01mdef\u001b[39;00m \u001b[38;5;21mcomputeElongationLatency\u001b[39m(ptRNA,pCodon,ensmbl_latency_dict):\n\u001b[1;32m    508\u001b[0m     rxndiff\u001b[38;5;241m=\u001b[39m\u001b[38;5;28mdict\u001b[39m()\n\u001b[0;32m--> 509\u001b[0m     transportRxnResults \u001b[38;5;241m=\u001b[39m \u001b[43mtransportRxnCalc\u001b[49m\u001b[43m(\u001b[49m\u001b[43mptRNA\u001b[49m\u001b[43m,\u001b[49m\u001b[43mpCodon\u001b[49m\u001b[43m,\u001b[49m\u001b[43mensmbl_latency_dict\u001b[49m\u001b[43m)\u001b[49m\n\u001b[1;32m    510\u001b[0m     rxndiff[\u001b[38;5;124m'\u001b[39m\u001b[38;5;124m30\u001b[39m\u001b[38;5;124m'\u001b[39m] \u001b[38;5;241m=\u001b[39m transportRxnResults[\u001b[38;5;241m1\u001b[39m:]\n\u001b[1;32m    512\u001b[0m     \u001b[38;5;66;03m#The added scalar values are the average reaction latencies following succesful reaction\u001b[39;00m\n",
      "File \u001b[0;32m~/Documents/tRNAShuffle/analysis_utils.py:152\u001b[0m, in \u001b[0;36mtransportRxnCalc\u001b[0;34m(ptRNA, pCodon, ensmbl_latency_dict, bias)\u001b[0m\n\u001b[1;32m    149\u001b[0m search_std_phi \u001b[38;5;241m=\u001b[39m\u001b[38;5;28mlist\u001b[39m()\n\u001b[1;32m    150\u001b[0m search_list \u001b[38;5;241m=\u001b[39m \u001b[38;5;28mlist\u001b[39m()\n\u001b[0;32m--> 152\u001b[0m p_codon_count_hist_weighted_avg\u001b[38;5;241m=\u001b[39m\u001b[43mcognateDistrib\u001b[49m\u001b[43m(\u001b[49m\u001b[43mptRNA\u001b[49m\u001b[43m,\u001b[49m\u001b[43mpCodon\u001b[49m\u001b[43m)\u001b[49m\n\u001b[1;32m    154\u001b[0m transport_vals_list \u001b[38;5;241m=\u001b[39m \u001b[38;5;28mlist\u001b[39m()\n\u001b[1;32m    155\u001b[0m reaction_vals_list \u001b[38;5;241m=\u001b[39m \u001b[38;5;28mlist\u001b[39m()\n",
      "File \u001b[0;32m~/Documents/tRNAShuffle/analysis_utils.py:314\u001b[0m, in \u001b[0;36mcognateDistrib\u001b[0;34m(ptRNA, pCodon, extra, extra2)\u001b[0m\n\u001b[1;32m    311\u001b[0m \u001b[38;5;66;03m#np.random.seed(0) #made this change\u001b[39;00m\n\u001b[1;32m    313\u001b[0m \u001b[38;5;28;01mfor\u001b[39;00m key \u001b[38;5;129;01min\u001b[39;00m codon_dict:\n\u001b[0;32m--> 314\u001b[0m     \u001b[43mcodon_count\u001b[49m\u001b[43m[\u001b[49m\u001b[43mkey\u001b[49m\u001b[43m]\u001b[49m \u001b[38;5;241m=\u001b[39m []\n\u001b[1;32m    315\u001b[0m     codon_time[key] \u001b[38;5;241m=\u001b[39m []\n\u001b[1;32m    316\u001b[0m     codon_time_avg[key] \u001b[38;5;241m=\u001b[39m []\n",
      "\u001b[0;31mKeyboardInterrupt\u001b[0m: "
     ]
    }
   ],
   "source": [
    "tRNA_distributions = {}\n",
    "tRNA_elongrate_distributions = {}\n",
    "tRNA_tags = ['Ala1B', 'Ala2', 'Arg2', 'Arg3', 'Arg4', 'Arg5', 'Asn', 'Asp1', 'Cys', 'Gln1', 'Gln2', 'Glu2', 'Gly2', 'Gly3', 'His', 'Ile1', 'Leu1', 'Leu2', 'Leu3', 'Leu4', 'Leu5', 'Lys', 'Met m', 'Phe', 'Pro1', 'Pro2', 'Pro3', 'Sec', 'Ser1', 'Ser2', 'Ser3', 'Ser5', 'Thr1', 'Thr2', 'Thr3', 'Thr4', 'Trp', 'Tyr1+Tyr2', 'Val1', 'Val2A+2B']\n",
    "codon_tags = ['GGG', 'GGA', 'GGU', 'GGC', 'GAG', 'GAA', 'GAU', 'GAC', 'GUG', 'GUA', 'GUU', 'GUC', 'GCG', 'GCA', 'GCU', 'GCC', 'AGG', 'AGA', 'AGU', 'AGC', 'AAG', 'AAA', 'AAU', 'AAC', 'AUG', 'AUA', 'AUU', 'AUC', 'ACG', 'ACA', 'ACU', 'ACC', 'UGG', 'UGA', 'UGU', 'UGC', 'UAU', 'UAC', 'UUG', 'UUA', 'UUU', 'UUC', 'UCG', 'UCA', 'UCU', 'UCC', 'CGG', 'CGA', 'CGU', 'CGC', 'CAG', 'CAA', 'CAU', 'CAC', 'CUG', 'CUA', 'CUU', 'CUC', 'CCG', 'CCA', 'CCU', 'CCC']\n",
    "\n",
    "from analysis_utils import *\n",
    "gene_map, pCodon_GFP = singlegene_to_genemap('/Users/akshay/Documents/tRNAShuffle/data/tables/sfGFP_RED20.csv')\n",
    "#wildtype\n",
    "ptRNA_red20 = pd.read_excel('./data/tables/tRNAValues_RED20.xlsx',header=None)\n",
    "ptRNA_red20 = ptRNA_red20[6]/sum(ptRNA_red20[6])\n",
    "\n",
    "codon_elongt = compute_codon_elongt(ptRNA_red20, len(pCodon_GFP), ensmbl_latency_dict)\n",
    "avg_elongt_wt = compute_gene_elongt_genemap(gene_map['sfGFP_RED20'],codon_elongt)\n",
    "print('elongt wildtype', avg_elongt_wt)\n",
    "tRNA_distributions['GFP_wt'] = [avg_elongt_wt,dict(zip(tRNA_tags,ptRNA_red20)),dict(zip(codon_tags,pCodon_GFP))]\n",
    "\n",
    "#Uniform\n",
    "ptRNA_red20_uniform = pd.read_excel('./data/tables/tRNAValues_RED20.xlsx',header=None)\n",
    "ptRNA_red20_uniform = ptRNA_red20_uniform[6]/sum(ptRNA_red20_uniform[6])\n",
    "ptRNA_red20_uniform[ptRNA_red20_uniform>0] = 1/20\n",
    "\n",
    "codon_elongt = compute_codon_elongt(ptRNA_red20_uniform, len(pCodon_GFP), ensmbl_latency_dict)\n",
    "avg_elongt_uniform = compute_gene_elongt_genemap(gene_map['sfGFP_RED20'],codon_elongt)\n",
    "print('elongt uniform', avg_elongt_uniform)\n",
    "tRNA_distributions['GFP_uniform'] = [avg_elongt_uniform,dict(zip(tRNA_tags,ptRNA_red20_uniform)),dict(zip(codon_tags,pCodon_GFP))]\n",
    "\n",
    "\n",
    "#GFP Codon-weighted correlated\n",
    "ptRNA_red20 = pd.read_excel('./data/tables/tRNAValues_RED20.xlsx',header=None)\n",
    "ptRNA_red20 = ptRNA_red20[6]/sum(ptRNA_red20[6])\n",
    "ptRNA_dict, pcodon_dict, codon_dict, codonLabels, pCodon, tRNA_dict = cognateDistrib(ptRNA_red20,pCodon_GFP,extra2=True)\n",
    "tRNA_sum_dict = tRNA_dict.copy()\n",
    "tRNA_weightedbycodon = list()\n",
    "for keys in tRNA_dict.keys():\n",
    "    tRNA_sum_dict[keys] = (sum([pcodon_dict[tRNA_key] for tRNA_key in tRNA_dict[keys]]))\n",
    "tRNA_weightedbycodon = list(tRNA_sum_dict.values())/sum(tRNA_sum_dict.values())\n",
    "tRNA_sorted_indices = np.flip(tRNA_weightedbycodon.argsort())\n",
    "tRNA_sorted = np.array(tRNA_tags)[tRNA_sorted_indices]\n",
    "\n",
    "##Assign monotonic increase to GFP codon-sorted tRNA\n",
    "ptRNA_sorted = tRNA_weightedbycodon[tRNA_sorted_indices]\n",
    "sortedtRNAdict = dict(zip(tRNA_sorted, ptRNA_sorted))\n",
    "resortedtRNA = [sortedtRNAdict[tRNA] for tRNA in tRNA_tags]\n",
    "\n",
    "codon_elongt = compute_codon_elongt(resortedtRNA, len(pCodon_GFP), ensmbl_latency_dict)\n",
    "avg_elongt_codonweightedcorrelated = compute_gene_elongt_genemap(gene_map['sfGFP_RED20'],codon_elongt)\n",
    "print('elongt codon-weighted correlated', avg_elongt_codonweightedcorrelated)\n",
    "\n",
    "tRNA_distributions['GFP_codonweightedcorrelated'] = [avg_elongt_codonweightedcorrelated,dict(zip(tRNA_tags,resortedtRNA)),dict(zip(codon_tags,pCodon_GFP))]\n",
    "\n",
    "#GFP Codon-weighted anticorrelated\n",
    "tRNA_tags = ['Ala1B', 'Ala2', 'Arg2', 'Arg3', 'Arg4', 'Arg5', 'Asn', 'Asp1', 'Cys', 'Gln1', 'Gln2', 'Glu2', 'Gly2', 'Gly3', 'His', 'Ile1', 'Leu1', 'Leu2', 'Leu3', 'Leu4', 'Leu5', 'Lys', 'Met m', 'Phe', 'Pro1', 'Pro2', 'Pro3', 'Sec', 'Ser1', 'Ser2', 'Ser3', 'Ser5', 'Thr1', 'Thr2', 'Thr3', 'Thr4', 'Trp', 'Tyr1+Tyr2', 'Val1', 'Val2A+2B']\n",
    "codon_tags = ['GGG', 'GGA', 'GGU', 'GGC', 'GAG', 'GAA', 'GAU', 'GAC', 'GUG', 'GUA', 'GUU', 'GUC', 'GCG', 'GCA', 'GCU', 'GCC', 'AGG', 'AGA', 'AGU', 'AGC', 'AAG', 'AAA', 'AAU', 'AAC', 'AUG', 'AUA', 'AUU', 'AUC', 'ACG', 'ACA', 'ACU', 'ACC', 'UGG', 'UGA', 'UGU', 'UGC', 'UAU', 'UAC', 'UUG', 'UUA', 'UUU', 'UUC', 'UCG', 'UCA', 'UCU', 'UCC', 'CGG', 'CGA', 'CGU', 'CGC', 'CAG', 'CAA', 'CAU', 'CAC', 'CUG', 'CUA', 'CUU', 'CUC', 'CCG', 'CCA', 'CCU', 'CCC']\n",
    "\n",
    "ptRNA_red20 = pd.read_excel('./data/tables/tRNAValues_RED20.xlsx',header=None)\n",
    "ptRNA_red20 = ptRNA_red20[6]/sum(ptRNA_red20[6])\n",
    "ptRNA_dict, pcodon_dict, codon_dict, codonLabels, pCodon, tRNA_dict = cognateDistrib(ptRNA_red20,pCodon_GFP,extra2=True)\n",
    "tRNA_sum_dict = tRNA_dict.copy()\n",
    "tRNA_weightedbycodon = list()\n",
    "for keys in tRNA_dict.keys():\n",
    "    tRNA_sum_dict[keys] = (sum([pcodon_dict[tRNA_key] for tRNA_key in tRNA_dict[keys]]))\n",
    "tRNA_weightedbycodon = list(tRNA_sum_dict.values())/sum(tRNA_sum_dict.values())\n",
    "tRNA_sorted_indices = np.flip(tRNA_weightedbycodon.argsort())\n",
    "tRNA_sorted = np.array(tRNA_tags)[tRNA_sorted_indices]\n",
    "\n",
    "##Assign monotonic increase to GFP codon-sorted tRNA\n",
    "ptRNA_sorted = tRNA_weightedbycodon[tRNA_sorted_indices]\n",
    "ptRNA_sorted_flipped = np.append(np.flip([ptRNA for ptRNA in ptRNA_sorted if ptRNA != 0]),np.array([ptRNA for ptRNA in ptRNA_sorted if ptRNA == 0]))\n",
    "sortedtRNAdict = dict(zip(tRNA_sorted, ptRNA_sorted_flipped))\n",
    "resortedtRNA = [sortedtRNAdict[tRNA] for tRNA in tRNA_tags]\n",
    "\n",
    "codon_elongt = compute_codon_elongt(resortedtRNA, len(pCodon_GFP), ensmbl_latency_dict)\n",
    "avg_elongt_codonweightedanticorrelated = compute_gene_elongt_genemap(gene_map['sfGFP_RED20'],codon_elongt)\n",
    "print('elongt codon-weighted anticorrelated', avg_elongt_codonweightedanticorrelated)\n",
    "\n",
    "tRNA_distributions['GFP_codonweightedanticorrelated'] = [avg_elongt_codonweightedanticorrelated,dict(zip(tRNA_tags,resortedtRNA)),dict(zip(codon_tags,pCodon_GFP))]\n",
    "\n",
    "\n",
    "########### Genetic algorithm fast and slow #############\n",
    "\n",
    "print('Starting GA fast and slow')\n",
    "elongt_list_fast =np.load('./data/UniformRandomtRNA_minimalcode-sfGFP_2ksample_fasttRNA_elongt.npy')\n",
    "ptRNA_list_fast=np.load('./data/UniformRandomtRNA_minimalcode-sfGFP_2ksample_fasttRNA_ptRNA.npy')\n",
    "tRNA_elongrate_distributions['GFP_gafast'] = elongt_list_fast\n",
    "elongt_fastest = np.min(elongt_list_fast)\n",
    "ptRNA_min = ptRNA_list_fast[np.argmin(elongt_list_fast)]\n",
    "tRNA_distributions['GFP_gafast'] = [elongt_fastest,dict(zip(tRNA_tags,ptRNA_min)),dict(zip(codon_tags,pCodon_GFP))]\n",
    "print('GFP fast', tRNA_distributions['GFP_gafast'])\n",
    "\n",
    "elongt_list_slow =np.load('./data/UniformRandomtRNA_minimalcode-sfGFP_2ksample_slowtRNA_elongt.npy')\n",
    "ptRNA_list_slow =np.load('./data/UniformRandomtRNA_minimalcode-sfGFP_2ksample_slowtRNA_ptRNA.npy')\n",
    "tRNA_elongrate_distributions['GFP_gaslow'] = elongt_list_slow\n",
    "elongt_slowest = np.max(elongt_list_slow)\n",
    "ptRNA_max = ptRNA_list_slow[np.argmax(elongt_list_slow)]\n",
    "tRNA_distributions['GFP_gaslow'] = [elongt_slowest,dict(zip(tRNA_tags,ptRNA_max)),dict(zip(codon_tags,pCodon_GFP))]\n",
    "print('GFP slow', tRNA_distributions['GFP_gaslow'])\n",
    "\n",
    "\n",
    "\n",
    "######### Export all to pickle ##############\n",
    "\n",
    "import pickle\n",
    "with open('tRNA_distributions-GFP.pickle', 'wb') as handle:\n",
    "    pickle.dump(tRNA_distributions, handle, protocol=pickle.HIGHEST_PROTOCOL)\n",
    "    \n",
    "with open('tRNA_elongrate_distributions-GFP.pickle', 'wb') as handle:\n",
    "    pickle.dump(tRNA_elongrate_distributions, handle, protocol=pickle.HIGHEST_PROTOCOL)\n",
    "    \n",
    "    \n",
    "## Checks for tRNA abundances\n",
    "#a = list(tRNA_distributions['GFP_codonweightedanticorrelated'][1].values())\n",
    "#np.min(np.array(a)[np.nonzero(a)])\n",
    "\n",
    "#Check GFP_fast distribution\n",
    "#import pickle\n",
    "#with open(r\"tRNA_distributions-GFP.pickle\", \"rb\") as input_file:\n",
    "#    e = pickle.load(input_file)\n",
    "#e['GFP_gafast']"
   ]
  },
  {
   "cell_type": "code",
   "execution_count": 19,
   "metadata": {},
   "outputs": [],
   "source": [
    "#GFP GA slow fast optimization only -- standalone code if don't want to run full block of code computing other distributions as above\n",
    "#Run either this block or the one immediately above otherwise will overwrite tRNA_distributions\n",
    "tRNA_distributions = {}\n",
    "from analysis_utils import *\n",
    "gene_map, pCodon_GFP = singlegene_to_genemap('/Users/akshay/Documents/tRNAShuffle/data/tables/sfGFP_RED20.csv')\n",
    "\n",
    "tRNA_tags = ['Ala1B', 'Ala2', 'Arg2', 'Arg3', 'Arg4', 'Arg5', 'Asn', 'Asp1', 'Cys', 'Gln1', 'Gln2', 'Glu2', 'Gly2', 'Gly3', 'His', 'Ile1', 'Leu1', 'Leu2', 'Leu3', 'Leu4', 'Leu5', 'Lys', 'Met m', 'Phe', 'Pro1', 'Pro2', 'Pro3', 'Sec', 'Ser1', 'Ser2', 'Ser3', 'Ser5', 'Thr1', 'Thr2', 'Thr3', 'Thr4', 'Trp', 'Tyr1+Tyr2', 'Val1', 'Val2A+2B']\n",
    "codon_tags = ['GGG', 'GGA', 'GGU', 'GGC', 'GAG', 'GAA', 'GAU', 'GAC', 'GUG', 'GUA', 'GUU', 'GUC', 'GCG', 'GCA', 'GCU', 'GCC', 'AGG', 'AGA', 'AGU', 'AGC', 'AAG', 'AAA', 'AAU', 'AAC', 'AUG', 'AUA', 'AUU', 'AUC', 'ACG', 'ACA', 'ACU', 'ACC', 'UGG', 'UGA', 'UGU', 'UGC', 'UAU', 'UAC', 'UUG', 'UUA', 'UUU', 'UUC', 'UCG', 'UCA', 'UCU', 'UCC', 'CGG', 'CGA', 'CGU', 'CGC', 'CAG', 'CAA', 'CAU', 'CAC', 'CUG', 'CUA', 'CUU', 'CUC', 'CCG', 'CCA', 'CCU', 'CCC']\n",
    "\n",
    "import numpy as np\n",
    "elongt_list_fast =np.load('./data/UniformRandomtRNA_minimalcode-sfGFP_2ksample_fasttRNA_elongt.npy')\n",
    "ptRNA_list_fast=np.load('./data/UniformRandomtRNA_minimalcode-sfGFP_2ksample_fasttRNA_ptRNA.npy')\n",
    "elongt_fastest = np.min(elongt_list_fast)\n",
    "ptRNA_min = ptRNA_list_fast[np.argmin(elongt_list_fast)]\n",
    "tRNA_distributions['GFP_gafast'] = [elongt_fastest,dict(zip(tRNA_tags,ptRNA_min)),dict(zip(codon_tags,pCodon_GFP))]\n",
    "\n",
    "elongt_list_slow =np.load('./data/UniformRandomtRNA_minimalcode-sfGFP_2ksample_slowtRNA_elongt.npy')\n",
    "ptRNA_list_slow =np.load('./data/UniformRandomtRNA_minimalcode-sfGFP_2ksample_slowtRNA_ptRNA.npy')\n",
    "elongt_slowest = np.max(elongt_list_slow)\n",
    "ptRNA_max = ptRNA_list_slow[np.argmax(elongt_list_slow)]\n",
    "tRNA_distributions['GFP_gaslow'] = [elongt_slowest,dict(zip(tRNA_tags,ptRNA_max)),dict(zip(codon_tags,pCodon_GFP))]"
   ]
  },
  {
   "cell_type": "markdown",
   "metadata": {},
   "source": [
    "## Controls & Checks"
   ]
  },
  {
   "cell_type": "code",
   "execution_count": 10,
   "metadata": {},
   "outputs": [
    {
     "name": "stderr",
     "output_type": "stream",
     "text": [
      "/Users/akshay/Library/Python/3.9/lib/python/site-packages/openpyxl/worksheet/_reader.py:329: UserWarning: Unknown extension is not supported and will be removed\n",
      "  warn(msg)\n"
     ]
    },
    {
     "name": "stdout",
     "output_type": "stream",
     "text": [
      "elongt max 252.5984238536762\n"
     ]
    }
   ],
   "source": [
    "#Max elongt check w/ all tRNA zero but one tRNA = 1 probability, as control\n",
    "ptRNA_red20_zeros = pd.read_excel('./data/tables/tRNAValues_RED20.xlsx',header=None)\n",
    "ptRNA_red20_zeros = ptRNA_red20_zeros[6]/sum(ptRNA_red20_zeros[6])\n",
    "ptRNA_red20_zeros[ptRNA_red20_zeros>0] = 0\n",
    "ptRNA_red20_zeros[1] = 1\n",
    "\n",
    "codon_elongt = compute_codon_elongt(ptRNA_red20_zeros, len(pCodon_GFP), ensmbl_latency_dict)\n",
    "avg_elongt_max = compute_gene_elongt_genemap(gene_map['sfGFP_RED20'],codon_elongt)\n",
    "print('elongt max', avg_elongt_max)"
   ]
  },
  {
   "cell_type": "code",
   "execution_count": 14,
   "metadata": {},
   "outputs": [
    {
     "data": {
      "text/plain": [
       "([160.7563710441786], [7.807535049119055])"
      ]
     },
     "execution_count": 14,
     "metadata": {},
     "output_type": "execute_result"
    }
   ],
   "source": [
    "# Manually enter ptRNA\n",
    "gene_map, pCodon_GFP = singlegene_to_genemap('/Users/akshay/Documents/tRNAShuffle/data/tables/sfGFP_RED20.csv')\n",
    "ptRNA = [0.0059797, 0.,         0.07493208, 0.,        0.     ,    0.,\n",
    " 0.07962803, 0.07506485, 0.00259992 ,0.        , 0.0160313  ,0.07524019,\n",
    " 0.08669846 ,0.         ,0.04863804 ,0.05502781 ,0.         ,0.,\n",
    " 0.08228277 ,0.         ,0.         ,0.07989156 ,0.00939848 ,0.04610216,\n",
    " 0.00408228 ,0.         ,0.         ,0.         ,0.06124321 ,0.,\n",
    " 0.         ,0.         ,0.09661121 ,0.         ,0.         ,0.,\n",
    " 0.0139354  ,0.01994671 ,0.         ,0.06666584]\n",
    "computeElongationLatency(ptRNA,pCodon_GFP,ensmbl_latency_dict)\n",
    "\n"
   ]
  },
  {
   "cell_type": "code",
   "execution_count": 22,
   "metadata": {},
   "outputs": [
    {
     "data": {
      "text/plain": [
       "([216.97106268724485], [15.353343722202291])"
      ]
     },
     "execution_count": 22,
     "metadata": {},
     "output_type": "execute_result"
    }
   ],
   "source": [
    "#Set ptRNA as purely uniform\n",
    "gene_map, pCodon_GFP = singlegene_to_genemap('/Users/akshay/Documents/tRNAShuffle/data/tables/sfGFP_RED20.csv')\n",
    "ptRNA = np.ones(40)*0.00001\n",
    "\n",
    "computeElongationLatency(ptRNA,pCodon_GFP,ensmbl_latency_dict)"
   ]
  },
  {
   "cell_type": "markdown",
   "metadata": {},
   "source": [
    "# Make Heatplot GA fast vs. Uniform vs. GA slow"
   ]
  },
  {
   "cell_type": "markdown",
   "metadata": {},
   "source": [
    "## Figure 5A plotting a uniform random RED20 distribution"
   ]
  },
  {
   "cell_type": "code",
   "execution_count": 26,
   "metadata": {},
   "outputs": [
    {
     "name": "stdout",
     "output_type": "stream",
     "text": [
      "['Gly2' 'Leu3' 'Lys' 'Val2ApB' 'Thr1' 'Thr3' 'Asp1' 'Glu2' 'Asn' 'Phe'\n",
      " 'Ile1' 'His' 'Ser1' 'Pro3' 'Pro1' 'Tyr1pTyr2' 'Arg2' 'Ala1B' 'Gln2'\n",
      " 'Met_m' 'Cys' 'Trp' 'Sel_Cys' 'Val1' 'Ala2' 'Arg3' 'Arg4' 'Arg5' 'Thr4'\n",
      " 'Thr2' 'Gln1' 'Pro2' 'Leu5' 'Ser5' 'Ser3' 'Gly3' 'Ser2' 'Leu1' 'Leu2'\n",
      " 'Leu4']\n",
      "[0.03196347 0.00913242 0.0304414  0.01978691 0.00152207 0.01674277\n",
      " 0.04414003 0.08523592 0.02130898 0.0152207  0.07153729 0.01217656\n",
      " 0.02130898 0.00761035 0.00761035 0.02739726 0.07458143 0.0608828\n",
      " 0.01826484 0.01369863 0.02130898 0.0152207  0.00304414 0.05936073\n",
      " 0.01065449 0.00608828 0.01065449 0.00608828 0.01978691 0.00913242\n",
      " 0.01217656 0.01065449 0.01065449 0.01217656 0.01674277 0.07305936\n",
      " 0.00456621 0.06392694 0.01674277 0.02739726]\n",
      "[0.10302599368310193, 0.09902026535639162, 0.08726581015701147, 0.10404578554751469, 0.07126737930405906, 0.07312459403581285, 0.05959373167753873, 0.0781333287422843, 0.04439438813084877, 0.05005884125288748, 0.04232258403539275, 0.033396327046990734, 0.013371694000643442, 0.039550072265957296, 0.0384598298438721, 0.012213740457866095, 0.013887117315757497, 0.01241237943655594, 0.012242397251647124, 0.012213740457866095, 0.0, 0.0, 0.0, 0.0, 0.0, 0.0, 0.0, 0.0, 0.0, 0.0, 0.0, 0.0, 0.0, 0.0, 0.0, 0.0, 0.0, 0.0]\n",
      "fast 158.78437455994464\n",
      "uniform 181.7079011198748\n"
     ]
    },
    {
     "name": "stderr",
     "output_type": "stream",
     "text": [
      "/Users/akshay/Library/Python/3.9/lib/python/site-packages/openpyxl/worksheet/_reader.py:329: UserWarning: Unknown extension is not supported and will be removed\n",
      "  warn(msg)\n",
      "/var/folders/wr/cby0172x24d_6b7kwlbjy44r0000gn/T/ipykernel_9794/1019821876.py:71: UserWarning: This figure includes Axes that are not compatible with tight_layout, so results might be incorrect.\n",
      "  plt.tight_layout()\n"
     ]
    },
    {
     "data": {
      "image/png": "[encoded data removed]",
      "text/plain": [
       "<Figure size 700x200 with 2 Axes>"
      ]
     },
     "metadata": {},
     "output_type": "display_data"
    }
   ],
   "source": [
    "ptRNA_red20 = pd.read_excel('./data/tables/tRNAValues_RED20.xlsx',header=None)\n",
    "ptRNA_red20 = ptRNA_red20[6]/sum(ptRNA_red20[6])\n",
    "ptRNA_dict, pcodon_dict, codon_dict, codonLabels, pCodon, tRNA_dict = cognateDistrib(ptRNA_red20,pCodon_GFP,extra2=True)\n",
    "\n",
    "ptRNA_list_uniform = np.load('./data/minimaltRNA_minimalcode-sfGFP_100sample_ptRNA.npy')\n",
    "ptRNA_list_fast=np.load('./data/UniformRandomtRNA_minimalcode-sfGFP_2ksample_fasttRNA_ptRNA.npy')\n",
    "ptRNA_list_slow =np.load('./data/UniformRandomtRNA_minimalcode-sfGFP_2ksample_slowtRNA_ptRNA.npy')\n",
    "\n",
    "elongt_list_uniform = np.load('./data/minimaltRNA_minimalcode-sfGFP_100sample_elongt.npy')\n",
    "elongt_list_fast=np.load('./data/UniformRandomtRNA_minimalcode-sfGFP_2ksample_fasttRNA_elongt.npy')\n",
    "elongt_list_slow =np.load('./data/UniformRandomtRNA_minimalcode-sfGFP_2ksample_slowtRNA_elongt.npy')\n",
    "\n",
    "tRNA_tags = [\"Ala1B\", \"Ala2\", \"Arg2\", \"Arg3\", \"Arg4\", \"Arg5\", \"Asn\", \"Asp1\", \"Cys\", \"Gln1\", \"Gln2\", \\\n",
    "\"Glu2\", \"Gly2\", \"Gly3\", \"His\", \"Ile1\", \"Leu1\", \"Leu2\", \"Leu3\", \"Leu4\", \"Leu5\", \"Lys\", \\\n",
    "\"Met_m\", \"Phe\", \"Pro1\", \"Pro2\", \"Pro3\", \"Sel_Cys\", \"Ser1\", \"Ser2\", \"Ser3\", \"Ser5\", \"Thr1\", \\\n",
    "\"Thr2\", \"Thr3\", \"Thr4\", \"Trp\", \"Tyr1pTyr2\", \"Val1\", \"Val2ApB\"]\n",
    "\n",
    "\n",
    "#Sort tRNA by codon usage in transcriptome and plot baseline tRNA frequency\n",
    "tRNA_sum_dict = tRNA_dict.copy()\n",
    "tRNA_weightedbycodon = list()\n",
    "for keys in tRNA_dict.keys():\n",
    "    tRNA_sum_dict[keys] = (sum([pcodon_dict[tRNA_key] for tRNA_key in tRNA_dict[keys]]))\n",
    "tRNA_weightedbycodon = list(tRNA_sum_dict.values())/sum(tRNA_sum_dict.values())\n",
    "tRNA_sorted_indices = np.flip(tRNA_weightedbycodon.argsort())\n",
    "tRNA_sorted = np.array(tRNA_tags)[tRNA_sorted_indices]\n",
    "ptRNA_sorted = gr25_ptRNA[tRNA_sorted_indices]\n",
    "\n",
    "ptRNA_sorted=np.delete(ptRNA_sorted,5)\n",
    "ptRNA_sorted=np.delete(ptRNA_sorted,12)\n",
    "\n",
    "tRNA_sorted=np.delete(tRNA_sorted,5)\n",
    "tRNA_sorted=np.delete(tRNA_sorted,12)\n",
    "\n",
    "ptRNA_sorted = ptRNA_sorted[0:20]\n",
    "\n",
    "#Resort ptRNA_min and plot\n",
    "ptRNA_min = ptRNA_list_fast[np.argmin(elongt_list_fast)]\n",
    "ptRNA_min_dict = dict(zip(tRNA_tags,ptRNA_min))\n",
    "ptRNA_min_sorted=[ptRNA_min_dict[tRNA] for tRNA in tRNA_sorted]\n",
    "print(ptRNA_min_sorted)\n",
    "print(\"fast\",np.average(elongt_list_fast))\n",
    "\n",
    "fig, ax2 = plt.subplots(nrows=1, sharex=True,figsize=(7,2))\n",
    "\n",
    "#Uniform\n",
    "ptRNA_uniform = ptRNA_list_uniform[0]\n",
    "ptRNA_uniform_dict = dict(zip(tRNA_tags,ptRNA_uniform))\n",
    "ptRNA_uniform_sorted=[ptRNA_uniform_dict[tRNA] for tRNA in tRNA_sorted]\n",
    "x = np.arange(0,20)\n",
    "y = np.array(ptRNA_uniform_sorted)[0:20]\n",
    "extent = [x[0]-(x[1]-x[0])/2., x[-1]+(x[1]-x[0])/2.,0,1]\n",
    "heatmap = ax2.imshow(y[np.newaxis,:], cmap=\"plasma\", aspect=\"auto\", extent=extent,vmin=0,vmax=0.128)\n",
    "ax2.set_yticks([])\n",
    "ax2.set_xlim(extent[0], extent[1])\n",
    "print(\"uniform\",np.average(elongt_list_uniform))\n",
    "\n",
    "plt.xticks(range(len(tRNA_tags[0:20])), tRNA_sorted[0:20],rotation='vertical')\n",
    "fig.subplots_adjust(right=0.8)\n",
    "cbar_ax = fig.add_axes([0.1, 1.2, 0.8, 0.2])\n",
    "cbar = fig.colorbar(heatmap, cax=cbar_ax,orientation='horizontal',ticks=[0,0.02,0.04,0.06,0.08,0.10,0.12])\n",
    "cbar.ax.tick_params(labelsize=20)\n",
    "plt.rcParams.update({'font.size': 10})\n",
    "\n",
    "plt.tight_layout()\n",
    "plt.show()  \n",
    "\n",
    "fig.savefig('./Figures/Heatmap_uniformRandom_Red20tRNA.svg', dpi=300,bbox_inches='tight')"
   ]
  },
  {
   "cell_type": "markdown",
   "metadata": {},
   "source": [
    "# Synfast and Synslow distributions"
   ]
  },
  {
   "cell_type": "code",
   "execution_count": 27,
   "metadata": {},
   "outputs": [
    {
     "name": "stdout",
     "output_type": "stream",
     "text": [
      "dict_values([0.012213740457866095, 0.0, 0.0384598298438721, 0.0, 0.0, 0.0, 0.0781333287422843, 0.07312459403581285, 0.012242397251647124, 0.0, 0.013887117315757497, 0.05959373167753873, 0.10302599368310193, 0.0, 0.04232258403539275, 0.05005884125288748, 0.0, 0.0, 0.09902026535639162, 0.0, 0.0, 0.08726581015701147, 0.01241237943655594, 0.04439438813084877, 0.013371694000643442, 0.0, 0.0, 0.0, 0.033396327046990734, 0.0, 0.0, 0.0, 0.07126737930405906, 0.0, 0.0, 0.0, 0.012213740457866095, 0.039550072265957296, 0.0, 0.10404578554751469])\n",
      "dict_values([0.12824427480759398, 0.0, 0.02016024105018148, 0.0, 0.0, 0.0, 0.020202998250494566, 0.01458636065760763, 0.12132250487555715, 0.0, 0.12560355319312438, 0.01476579339600114, 0.015548581287511543, 0.0, 0.015045138921284486, 0.019373922748170985, 0.0, 0.0, 0.015346923482967284, 0.0, 0.0, 0.01557299324238929, 0.1194957286690298, 0.02048170499348204, 0.12824427480759398, 0.0, 0.0, 0.0, 0.019953915672247767, 0.0, 0.0, 0.0, 0.015631634799948307, 0.0, 0.0, 0.0, 0.12749122101182905, 0.02207490852107198, 0.0, 0.020853325611913276])\n"
     ]
    }
   ],
   "source": [
    "#Prior distributions for which experiments were performed\n",
    "import pickle\n",
    "#with open(r\"/Users/akshay/Downloads/tRNA_distributions-GFP.pickle\", \"rb\") as input_file:\n",
    "with open(r\"/Users/akshay/Documents/tRNAShuffle/tRNA_distributions-GFP.pickle\", \"rb\") as input_file:\n",
    "    e = pickle.load(input_file)\n",
    "e.keys()\n",
    "print(e['GFP_gafast'][1].values())\n",
    "print(e['GFP_gaslow'][1].values())"
   ]
  },
  {
   "cell_type": "code",
   "execution_count": 34,
   "metadata": {},
   "outputs": [
    {
     "name": "stdout",
     "output_type": "stream",
     "text": [
      "Thr3\n",
      "40\n",
      "fast 158.78437455994464\n",
      "slow 220.56648350026717\n"
     ]
    },
    {
     "name": "stderr",
     "output_type": "stream",
     "text": [
      "/var/folders/wr/cby0172x24d_6b7kwlbjy44r0000gn/T/ipykernel_9794/500377561.py:74: UserWarning: This figure includes Axes that are not compatible with tight_layout, so results might be incorrect.\n",
      "  plt.tight_layout()\n"
     ]
    },
    {
     "data": {
      "image/png": "[encoded data removed]",
      "text/plain": [
       "<Figure size 700x400 with 3 Axes>"
      ]
     },
     "metadata": {},
     "output_type": "display_data"
    }
   ],
   "source": [
    "tRNA_tags = [\"Ala1B\", \"Ala2\", \"Arg2\", \"Arg3\", \"Arg4\", \"Arg5\", \"Asn\", \"Asp1\", \"Cys\", \"Gln1\", \"Gln2\", \\\n",
    "\"Glu2\", \"Gly2\", \"Gly3\", \"His\", \"Ile1\", \"Leu1\", \"Leu2\", \"Leu3\", \"Leu4\", \"Leu5\", \"Lys\", \\\n",
    "\"Met_m\", \"Phe\", \"Pro1\", \"Pro2\", \"Pro3\", \"Sel_Cys\", \"Ser1\", \"Ser2\", \"Ser3\", \"Ser5\", \"Thr1\", \\\n",
    "\"Thr2\", \"Thr3\", \"Thr4\", \"Trp\", \"Tyr1pTyr2\", \"Val1\", \"Val2ApB\"]\n",
    "\n",
    "#Sort tRNA by codon usage in transcriptome and plot baseline tRNA frequency\n",
    "tRNA_sum_dict = tRNA_dict.copy()\n",
    "tRNA_weightedbycodon = list()\n",
    "for keys in tRNA_dict.keys():\n",
    "    tRNA_sum_dict[keys] = (sum([pcodon_dict[tRNA_key] for tRNA_key in tRNA_dict[keys]]))\n",
    "tRNA_weightedbycodon = list(tRNA_sum_dict.values())/sum(tRNA_sum_dict.values())\n",
    "tRNA_sorted_indices = np.flip(tRNA_weightedbycodon.argsort())\n",
    "tRNA_sorted = np.array(tRNA_tags)[tRNA_sorted_indices]\n",
    "ptRNA_sorted = gr25_ptRNA[tRNA_sorted_indices]\n",
    "\n",
    "ptRNA_sorted=np.delete(ptRNA_sorted,5)\n",
    "ptRNA_sorted=np.delete(ptRNA_sorted,12)\n",
    "\n",
    "tRNA_sorted=np.delete(tRNA_sorted,5)\n",
    "\n",
    "tRNA_sorted=np.delete(tRNA_sorted,12)\n",
    "\n",
    "#Resort ptRNA_min and plot\n",
    "GA_fast_values =np.array(list(e['GFP_gafast'][1].values()))\n",
    "ptRNA_min_dict = dict(zip(tRNA_tags,GA_fast_values))\n",
    "ptRNA_min_sorted=[ptRNA_min_dict[tRNA] for tRNA in tRNA_sorted]\n",
    "print(\"fast\",np.average(elongt_list_fast))\n",
    "\n",
    "fig, (ax,ax3) = plt.subplots(nrows=2, sharex=True,figsize=(7,4))\n",
    "\n",
    "x = np.arange(0,20)\n",
    "y = np.array(ptRNA_min_sorted)[0:20]*100\n",
    "extent = [x[0]-(x[1]-x[0])/2., x[-1]+(x[1]-x[0])/2.,0,1]\n",
    "heatmap = ax.imshow(y[np.newaxis,:], cmap=\"plasma\", aspect=\"auto\", extent=extent,vmin=0,vmax=12.8)\n",
    "ax.set_yticks([])\n",
    "ax.set_xlim(extent[0], extent[1])\n",
    "plt.xticks(range(len(tRNA_tags[0:20])), tRNA_sorted[0:20],rotation='vertical')\n",
    "ax.tick_params(axis='x', which='major', labelsize=9)\n",
    "\n",
    "#Uniform\n",
    "#ptRNA_uniform = np.fromiter(e['GFP_uniform'][1].values(),dtype=float)\n",
    "#ptRNA_uniform_dict = dict(zip(tRNA_tags,ptRNA_uniform))\n",
    "#ptRNA_uniform_sorted=[ptRNA_uniform_dict[tRNA] for tRNA in tRNA_sorted]\n",
    "#x = np.arange(0,40)\n",
    "#y = np.array(ptRNA_uniform_sorted)\n",
    "#extent = [x[0]-(x[1]-x[0])/2., x[-1]+(x[1]-x[0])/2.,0,1]\n",
    "#ax2.imshow(y[np.newaxis,:], cmap=\"plasma\", aspect=\"auto\", extent=extent,vmin=0,vmax=0.08)\n",
    "#ax2.set_yticks([])\n",
    "#ax2.set_xlim(extent[0], extent[1])\n",
    "#print(\"uniform\",np.average(elongt_list_uniform))\n",
    "\n",
    "#Resort ptRNA_max and plot\n",
    "GA_slow_values =np.array(list(e['GFP_gaslow'][1].values()))\n",
    "ptRNA_max_dict = dict(zip(tRNA_tags,GA_slow_values))\n",
    "ptRNA_max_sorted=[ptRNA_max_dict[tRNA] for tRNA in tRNA_sorted]\n",
    "print(\"slow\",np.average(elongt_list_slow))\n",
    "\n",
    "x = np.arange(0,20)\n",
    "y = np.array(ptRNA_max_sorted)[0:20]*100\n",
    "extent = [x[0]-(x[1]-x[0])/2., x[-1]+(x[1]-x[0])/2.,0,1]\n",
    "heatmap = ax3.imshow(y[np.newaxis,:], cmap=\"plasma\", aspect=\"auto\", extent=extent,vmin=0,vmax=12.8)\n",
    "ax3.set_yticks([])\n",
    "ax3.set_xlim(extent[0], extent[1])\n",
    "plt.xticks(range(len(tRNA_tags[0:20])), tRNA_sorted[0:20],rotation='vertical')\n",
    "ax3.tick_params(axis='x', which='major', labelsize=9)\n",
    "\n",
    "fig.subplots_adjust(right=0.8)\n",
    "cbar_ax = fig.add_axes([1.0, 0.18, 0.05, 0.8])\n",
    "cbar = fig.colorbar(heatmap, cax=cbar_ax,ticks=[0,2,4,6,8,10,12])\n",
    "cbar.ax.tick_params(labelsize=18)\n",
    "\n",
    "plt.tight_layout()\n",
    "plt.show()    \n",
    "fig.savefig('./Figures/Heatmap_GFPexpression_fastuniformslow_GFPsorted-ForTINAexpt.svg', dpi=300,bbox_inches='tight')"
   ]
  },
  {
   "cell_type": "markdown",
   "metadata": {},
   "source": [
    "## Elongation latency distributions for fast and slow"
   ]
  },
  {
   "cell_type": "code",
   "execution_count": 15,
   "metadata": {},
   "outputs": [
    {
     "name": "stderr",
     "output_type": "stream",
     "text": [
      "/Users/akshay/Library/Python/3.9/lib/python/site-packages/openpyxl/worksheet/_reader.py:329: UserWarning: Unknown extension is not supported and will be removed\n",
      "  warn(msg)\n"
     ]
    },
    {
     "name": "stdout",
     "output_type": "stream",
     "text": [
      "elongt uniform 176.0979872998554\n"
     ]
    },
    {
     "name": "stderr",
     "output_type": "stream",
     "text": [
      "/Users/akshay/Library/Python/3.9/lib/python/site-packages/openpyxl/worksheet/_reader.py:329: UserWarning: Unknown extension is not supported and will be removed\n",
      "  warn(msg)\n"
     ]
    },
    {
     "name": "stdout",
     "output_type": "stream",
     "text": [
      "elongt uniform 177.260668260047\n"
     ]
    },
    {
     "name": "stderr",
     "output_type": "stream",
     "text": [
      "/Users/akshay/Library/Python/3.9/lib/python/site-packages/openpyxl/worksheet/_reader.py:329: UserWarning: Unknown extension is not supported and will be removed\n",
      "  warn(msg)\n"
     ]
    },
    {
     "name": "stdout",
     "output_type": "stream",
     "text": [
      "elongt uniform 178.95421244125907\n"
     ]
    },
    {
     "name": "stderr",
     "output_type": "stream",
     "text": [
      "/Users/akshay/Library/Python/3.9/lib/python/site-packages/openpyxl/worksheet/_reader.py:329: UserWarning: Unknown extension is not supported and will be removed\n",
      "  warn(msg)\n"
     ]
    },
    {
     "name": "stdout",
     "output_type": "stream",
     "text": [
      "elongt uniform 175.4572000649876\n"
     ]
    },
    {
     "name": "stderr",
     "output_type": "stream",
     "text": [
      "/Users/akshay/Library/Python/3.9/lib/python/site-packages/openpyxl/worksheet/_reader.py:329: UserWarning: Unknown extension is not supported and will be removed\n",
      "  warn(msg)\n"
     ]
    },
    {
     "name": "stdout",
     "output_type": "stream",
     "text": [
      "elongt uniform 179.5739708686164\n"
     ]
    },
    {
     "name": "stderr",
     "output_type": "stream",
     "text": [
      "/Users/akshay/Library/Python/3.9/lib/python/site-packages/openpyxl/worksheet/_reader.py:329: UserWarning: Unknown extension is not supported and will be removed\n",
      "  warn(msg)\n"
     ]
    },
    {
     "name": "stdout",
     "output_type": "stream",
     "text": [
      "elongt uniform 179.455956821385\n"
     ]
    },
    {
     "name": "stderr",
     "output_type": "stream",
     "text": [
      "/Users/akshay/Library/Python/3.9/lib/python/site-packages/openpyxl/worksheet/_reader.py:329: UserWarning: Unknown extension is not supported and will be removed\n",
      "  warn(msg)\n"
     ]
    },
    {
     "name": "stdout",
     "output_type": "stream",
     "text": [
      "elongt uniform 178.69940226514052\n"
     ]
    },
    {
     "name": "stderr",
     "output_type": "stream",
     "text": [
      "/Users/akshay/Library/Python/3.9/lib/python/site-packages/openpyxl/worksheet/_reader.py:329: UserWarning: Unknown extension is not supported and will be removed\n",
      "  warn(msg)\n"
     ]
    },
    {
     "name": "stdout",
     "output_type": "stream",
     "text": [
      "elongt uniform 176.89588782138506\n"
     ]
    },
    {
     "name": "stderr",
     "output_type": "stream",
     "text": [
      "/Users/akshay/Library/Python/3.9/lib/python/site-packages/openpyxl/worksheet/_reader.py:329: UserWarning: Unknown extension is not supported and will be removed\n",
      "  warn(msg)\n"
     ]
    },
    {
     "name": "stdout",
     "output_type": "stream",
     "text": [
      "elongt uniform 178.18092625117905\n"
     ]
    },
    {
     "name": "stderr",
     "output_type": "stream",
     "text": [
      "/Users/akshay/Library/Python/3.9/lib/python/site-packages/openpyxl/worksheet/_reader.py:329: UserWarning: Unknown extension is not supported and will be removed\n",
      "  warn(msg)\n"
     ]
    },
    {
     "name": "stdout",
     "output_type": "stream",
     "text": [
      "elongt uniform 177.96195241498012\n"
     ]
    },
    {
     "name": "stderr",
     "output_type": "stream",
     "text": [
      "/Users/akshay/Library/Python/3.9/lib/python/site-packages/openpyxl/worksheet/_reader.py:329: UserWarning: Unknown extension is not supported and will be removed\n",
      "  warn(msg)\n"
     ]
    },
    {
     "name": "stdout",
     "output_type": "stream",
     "text": [
      "elongt uniform 178.4865339757427\n"
     ]
    },
    {
     "name": "stderr",
     "output_type": "stream",
     "text": [
      "/Users/akshay/Library/Python/3.9/lib/python/site-packages/openpyxl/worksheet/_reader.py:329: UserWarning: Unknown extension is not supported and will be removed\n",
      "  warn(msg)\n"
     ]
    },
    {
     "name": "stdout",
     "output_type": "stream",
     "text": [
      "elongt uniform 177.82503678375696\n"
     ]
    },
    {
     "name": "stderr",
     "output_type": "stream",
     "text": [
      "/Users/akshay/Library/Python/3.9/lib/python/site-packages/openpyxl/worksheet/_reader.py:329: UserWarning: Unknown extension is not supported and will be removed\n",
      "  warn(msg)\n"
     ]
    },
    {
     "name": "stdout",
     "output_type": "stream",
     "text": [
      "elongt uniform 177.23359251030305\n"
     ]
    },
    {
     "name": "stderr",
     "output_type": "stream",
     "text": [
      "/Users/akshay/Library/Python/3.9/lib/python/site-packages/openpyxl/worksheet/_reader.py:329: UserWarning: Unknown extension is not supported and will be removed\n",
      "  warn(msg)\n"
     ]
    },
    {
     "name": "stdout",
     "output_type": "stream",
     "text": [
      "elongt uniform 177.60324546892352\n"
     ]
    },
    {
     "name": "stderr",
     "output_type": "stream",
     "text": [
      "/Users/akshay/Library/Python/3.9/lib/python/site-packages/openpyxl/worksheet/_reader.py:329: UserWarning: Unknown extension is not supported and will be removed\n",
      "  warn(msg)\n"
     ]
    },
    {
     "name": "stdout",
     "output_type": "stream",
     "text": [
      "elongt uniform 177.12236449698938\n"
     ]
    },
    {
     "name": "stderr",
     "output_type": "stream",
     "text": [
      "/Users/akshay/Library/Python/3.9/lib/python/site-packages/openpyxl/worksheet/_reader.py:329: UserWarning: Unknown extension is not supported and will be removed\n",
      "  warn(msg)\n"
     ]
    },
    {
     "name": "stdout",
     "output_type": "stream",
     "text": [
      "elongt uniform 177.27992912757753\n"
     ]
    },
    {
     "name": "stderr",
     "output_type": "stream",
     "text": [
      "/Users/akshay/Library/Python/3.9/lib/python/site-packages/openpyxl/worksheet/_reader.py:329: UserWarning: Unknown extension is not supported and will be removed\n",
      "  warn(msg)\n"
     ]
    },
    {
     "name": "stdout",
     "output_type": "stream",
     "text": [
      "elongt uniform 178.36629168046343\n"
     ]
    },
    {
     "name": "stderr",
     "output_type": "stream",
     "text": [
      "/Users/akshay/Library/Python/3.9/lib/python/site-packages/openpyxl/worksheet/_reader.py:329: UserWarning: Unknown extension is not supported and will be removed\n",
      "  warn(msg)\n"
     ]
    },
    {
     "name": "stdout",
     "output_type": "stream",
     "text": [
      "elongt uniform 177.31210145822132\n"
     ]
    },
    {
     "name": "stderr",
     "output_type": "stream",
     "text": [
      "/Users/akshay/Library/Python/3.9/lib/python/site-packages/openpyxl/worksheet/_reader.py:329: UserWarning: Unknown extension is not supported and will be removed\n",
      "  warn(msg)\n"
     ]
    },
    {
     "name": "stdout",
     "output_type": "stream",
     "text": [
      "elongt uniform 177.3030007139659\n"
     ]
    },
    {
     "name": "stderr",
     "output_type": "stream",
     "text": [
      "/Users/akshay/Library/Python/3.9/lib/python/site-packages/openpyxl/worksheet/_reader.py:329: UserWarning: Unknown extension is not supported and will be removed\n",
      "  warn(msg)\n"
     ]
    },
    {
     "name": "stdout",
     "output_type": "stream",
     "text": [
      "elongt uniform 181.44207875066985\n",
      "elongt ga fast 161.39435857799577\n",
      "elongt ga fast 159.76331994059157\n",
      "elongt ga fast 159.33901700469357\n",
      "elongt ga fast 158.4131734374814\n",
      "elongt ga fast 159.35446617796987\n",
      "elongt ga fast 160.29958905887418\n",
      "elongt ga fast 160.0173802575556\n",
      "elongt ga fast 159.3337304172353\n",
      "elongt ga fast 159.22877648029947\n",
      "elongt ga fast 159.21854493114384\n",
      "elongt ga fast 157.6937480708968\n",
      "elongt ga fast 159.34421157461483\n",
      "elongt ga fast 160.6254960692636\n",
      "elongt ga fast 160.09270871401648\n",
      "elongt ga fast 159.618034609009\n",
      "elongt ga fast 157.93159432952814\n",
      "elongt ga fast 158.9412429570869\n",
      "elongt ga fast 160.60430386328554\n",
      "elongt ga fast 159.32326775942036\n",
      "elongt ga fast 159.45656565524365\n",
      "elongt ga slow 222.11587703368718\n",
      "elongt ga slow 220.77989295861767\n",
      "elongt ga slow 222.83470768569399\n",
      "elongt ga slow 221.79384969578885\n",
      "elongt ga slow 221.16406672302924\n",
      "elongt ga slow 220.9012288553237\n",
      "elongt ga slow 221.3349481580242\n",
      "elongt ga slow 221.63796570310262\n",
      "elongt ga slow 222.3468088356383\n",
      "elongt ga slow 223.20301887843544\n",
      "elongt ga slow 221.58872423181413\n",
      "elongt ga slow 222.6966432711957\n",
      "elongt ga slow 224.01717995928036\n",
      "elongt ga slow 221.26541129474558\n",
      "elongt ga slow 222.87636151553858\n",
      "elongt ga slow 221.04957744529813\n",
      "elongt ga slow 221.86325569851968\n",
      "elongt ga slow 222.71302205545248\n",
      "elongt ga slow 221.16667740350812\n",
      "elongt ga slow 222.94674178699262\n",
      "Uniform 177.9256169737724  +/-  1.2847474451273404\n",
      "GA fast 159.4996764943103  +/-  0.8636311111205506\n",
      "GA slow 222.01479795948435  +/-  0.8756761306695922\n"
     ]
    }
   ],
   "source": [
    "tRNA_distributions = {}\n",
    "tRNA_elongrate_distributions = {}\n",
    "tRNA_tags = ['Ala1B', 'Ala2', 'Arg2', 'Arg3', 'Arg4', 'Arg5', 'Asn', 'Asp1', 'Cys', 'Gln1', 'Gln2', 'Glu2', 'Gly2', 'Gly3', 'His', 'Ile1', 'Leu1', 'Leu2', 'Leu3', 'Leu4', 'Leu5', 'Lys', 'Met m', 'Phe', 'Pro1', 'Pro2', 'Pro3', 'Sec', 'Ser1', 'Ser2', 'Ser3', 'Ser5', 'Thr1', 'Thr2', 'Thr3', 'Thr4', 'Trp', 'Tyr1+Tyr2', 'Val1', 'Val2A+2B']\n",
    "codon_tags = ['GGG', 'GGA', 'GGU', 'GGC', 'GAG', 'GAA', 'GAU', 'GAC', 'GUG', 'GUA', 'GUU', 'GUC', 'GCG', 'GCA', 'GCU', 'GCC', 'AGG', 'AGA', 'AGU', 'AGC', 'AAG', 'AAA', 'AAU', 'AAC', 'AUG', 'AUA', 'AUU', 'AUC', 'ACG', 'ACA', 'ACU', 'ACC', 'UGG', 'UGA', 'UGU', 'UGC', 'UAU', 'UAC', 'UUG', 'UUA', 'UUU', 'UUC', 'UCG', 'UCA', 'UCU', 'UCC', 'CGG', 'CGA', 'CGU', 'CGC', 'CAG', 'CAA', 'CAU', 'CAC', 'CUG', 'CUA', 'CUU', 'CUC', 'CCG', 'CCA', 'CCU', 'CCC']\n",
    "\n",
    "from analysis_utils import *\n",
    "gene_map, pCodon_GFP = singlegene_to_genemap('/Users/akshay/Documents/tRNAShuffle/data/tables/sfGFP_RED20.csv')\n",
    "\n",
    "N=20\n",
    "\n",
    "uniform_elong = []\n",
    "for i in range(N):\n",
    "    #Uniform\n",
    "    ptRNA_red20_uniform = pd.read_excel('./data/tables/tRNAValues_RED20.xlsx',header=None)\n",
    "    ptRNA_red20_uniform = ptRNA_red20_uniform[6]/sum(ptRNA_red20_uniform[6])\n",
    "    ptRNA_red20_uniform[ptRNA_red20_uniform>0] = 1/20\n",
    "\n",
    "    codon_elongt = compute_codon_elongt(ptRNA_red20_uniform, len(pCodon_GFP), ensmbl_latency_dict)\n",
    "    avg_elongt_uniform = compute_gene_elongt_genemap(gene_map['sfGFP_RED20'],codon_elongt)\n",
    "    print('elongt uniform', avg_elongt_uniform)\n",
    "    uniform_elong.append(avg_elongt_uniform)\n",
    "\n",
    "ga_fast_elong = []\n",
    "for i in range(N):\n",
    "    codon_elongt = compute_codon_elongt(list(e['GFP_gafast'][1].values()), len(pCodon_GFP), ensmbl_latency_dict)\n",
    "    avg_elongt_fast = compute_gene_elongt_genemap(gene_map['sfGFP_RED20'],codon_elongt)\n",
    "    print('elongt ga fast', avg_elongt_fast)\n",
    "    ga_fast_elong.append(avg_elongt_fast)\n",
    "\n",
    "ga_slow_elong = []\n",
    "for i in range(N):\n",
    "    codon_elongt = compute_codon_elongt(list(e['GFP_gaslow'][1].values()), len(pCodon_GFP), ensmbl_latency_dict)\n",
    "    avg_elongt_slow = compute_gene_elongt_genemap(gene_map['sfGFP_RED20'],codon_elongt)\n",
    "    print('elongt ga slow', avg_elongt_slow)\n",
    "    ga_slow_elong.append(avg_elongt_slow)\n",
    "\n",
    "print(\"Uniform\", np.mean(uniform_elong), \" +/- \", np.std(uniform_elong))\n",
    "print(\"GA fast\", np.mean(ga_fast_elong), \" +/- \", np.std(ga_fast_elong))\n",
    "print(\"GA slow\", np.mean(ga_slow_elong), \" +/- \", np.std(ga_slow_elong))"
   ]
  },
  {
   "cell_type": "code",
   "execution_count": 16,
   "metadata": {},
   "outputs": [
    {
     "data": {
      "image/png": "[encoded data removed]",
      "text/plain": [
       "<Figure size 700x400 with 1 Axes>"
      ]
     },
     "metadata": {},
     "output_type": "display_data"
    }
   ],
   "source": [
    "fig,ax = plt.subplots(figsize=(7,4))\n",
    "hist=ax.hist(ga_fast_elong,color='#481567FF',bins=2,range=(155,165),density=True,alpha=0.5,hatch='x')"
   ]
  },
  {
   "cell_type": "markdown",
   "metadata": {},
   "source": [
    "# Extras"
   ]
  },
  {
   "cell_type": "markdown",
   "metadata": {},
   "source": [
    "## Sorting by GFP vs. transcriptome"
   ]
  },
  {
   "cell_type": "code",
   "execution_count": null,
   "metadata": {},
   "outputs": [],
   "source": [
    "#### Sorting by transcriptome ####\n",
    "ptRNA_red20 = pd.read_excel('./data/tables/tRNAValues_RED20.xlsx',header=None)\n",
    "ptRNA_red20 = ptRNA_red20[6]/sum(ptRNA_red20[6])\n",
    "codon_elongt = compute_codon_elongt(ptRNA_red20, len(gr25_pCodon), ensmbl_latency_dict)\n",
    "gene_map, gene_latency = compute_gene_elongt(codon_elongt,red20=True)\n",
    "pCodon_transcriptome, transcriptome_elongt = compute_transcript_distributions(gene_map, gene_latency)\n",
    "ptRNA_dict, pcodon_dict, codon_dict, codonLabels, pCodon, tRNA_dict = cognateDistrib(ptRNA_red20,pCodon_transcriptome,extra2=True)\n",
    "\n",
    "ptRNA_list_uniform = np.load('./data/minimaltRNA_minimalcode-sfGFP_100sample_ptRNA.npy')\n",
    "ptRNA_list_fast=np.load('./data/UniformRandomtRNA_minimalcode-sfGFP_2ksample_fasttRNA_ptRNA.npy')\n",
    "ptRNA_list_slow =np.load('./data/UniformRandomtRNA_minimalcode-sfGFP_2ksample_slowtRNA_ptRNA.npy')\n",
    "\n",
    "elongt_list_uniform = np.load('./data/minimaltRNA_minimalcode-sfGFP_100sample_elongt.npy')\n",
    "elongt_list_fast=np.load('./data/UniformRandomtRNA_minimalcode-sfGFP_2ksample_fasttRNA_elongt.npy')\n",
    "elongt_list_slow =np.load('./data/UniformRandomtRNA_minimalcode-sfGFP_2ksample_slowtRNA_elongt.npy')\n",
    "\n",
    "tRNA_tags = [\"Ala1B\", \"Ala2\", \"Arg2\", \"Arg3\", \"Arg4\", \"Arg5\", \"Asn\", \"Asp1\", \"Cys\", \"Gln1\", \"Gln2\", \\\n",
    "\"Glu2\", \"Gly2\", \"Gly3\", \"His\", \"Ile1\", \"Leu1\", \"Leu2\", \"Leu3\", \"Leu4\", \"Leu5\", \"Lys\", \\\n",
    "\"Met_m\", \"Phe\", \"Pro1\", \"Pro2\", \"Pro3\", \"Sel_Cys\", \"Ser1\", \"Ser2\", \"Ser3\", \"Ser5\", \"Thr1\", \\\n",
    "\"Thr2\", \"Thr3\", \"Thr4\", \"Trp\", \"Tyr1pTyr2\", \"Val1\", \"Val2ApB\"]\n",
    "\n",
    "#Sort tRNA by codon usage in transcriptome and plot baseline tRNA frequency\n",
    "tRNA_sum_dict = tRNA_dict.copy()\n",
    "tRNA_weightedbycodon = list()\n",
    "for keys in tRNA_dict.keys():\n",
    "    tRNA_sum_dict[keys] = (sum([pcodon_dict[tRNA_key] for tRNA_key in tRNA_dict[keys]]))\n",
    "tRNA_weightedbycodon = list(tRNA_sum_dict.values())/sum(tRNA_sum_dict.values())\n",
    "tRNA_sorted_indices = np.flip(tRNA_weightedbycodon.argsort())\n",
    "tRNA_sorted = np.array(tRNA_tags)[tRNA_sorted_indices]\n",
    "ptRNA_sorted = gr25_ptRNA[tRNA_sorted_indices]\n",
    "\n",
    "#Resort ptRNA_min and plot\n",
    "ptRNA_min = ptRNA_list_fast[np.argmin(elongt_list_fast)]\n",
    "ptRNA_min_dict = dict(zip(tRNA_tags,ptRNA_min))\n",
    "ptRNA_min_sorted=[ptRNA_min_dict[tRNA] for tRNA in tRNA_sorted]\n",
    "print(\"fast\",np.average(elongt_list_fast))\n",
    "\n",
    "fig, (ax,ax2,ax3) = plt.subplots(nrows=3, sharex=True,figsize=(7,6))\n",
    "\n",
    "x = np.arange(0,40)\n",
    "y = np.array(ptRNA_min_sorted)\n",
    "extent = [x[0]-(x[1]-x[0])/2., x[-1]+(x[1]-x[0])/2.,0,1]\n",
    "heatmap = ax.imshow(y[np.newaxis,:], cmap=\"plasma\", aspect=\"auto\", extent=extent,vmin=0,vmax=0.08)\n",
    "ax.set_yticks([])\n",
    "ax.set_xlim(extent[0], extent[1])\n",
    "plt.xticks(range(len(tRNA_tags)), tRNA_sorted,rotation='vertical')\n",
    "ax.tick_params(axis='x', which='major', labelsize=9)\n",
    "\n",
    "#Uniform\n",
    "ptRNA_uniform = ptRNA_list_uniform[0]\n",
    "ptRNA_uniform_dict = dict(zip(tRNA_tags,ptRNA_uniform))\n",
    "ptRNA_uniform_sorted=[ptRNA_uniform_dict[tRNA] for tRNA in tRNA_sorted]\n",
    "x = np.arange(0,40)\n",
    "y = np.array(ptRNA_uniform_sorted)\n",
    "extent = [x[0]-(x[1]-x[0])/2., x[-1]+(x[1]-x[0])/2.,0,1]\n",
    "ax2.imshow(y[np.newaxis,:], cmap=\"plasma\", aspect=\"auto\", extent=extent,vmin=0,vmax=0.08)\n",
    "ax2.set_yticks([])\n",
    "ax2.set_xlim(extent[0], extent[1])\n",
    "print(\"uniform\",np.average(elongt_list_uniform))\n",
    "\n",
    "\n",
    "#Resort ptRNA_max and plot\n",
    "ptRNA_max = ptRNA_list_slow[np.argmax(elongt_list_slow)]\n",
    "ptRNA_max_dict = dict(zip(tRNA_tags,ptRNA_max))\n",
    "ptRNA_max_sorted=[ptRNA_max_dict[tRNA] for tRNA in tRNA_sorted]\n",
    "print(\"slow\",np.average(elongt_list_slow))\n",
    "x = np.arange(0,40)\n",
    "y = np.array(ptRNA_max_sorted)\n",
    "extent = [x[0]-(x[1]-x[0])/2., x[-1]+(x[1]-x[0])/2.,0,1]\n",
    "heatmap = ax3.imshow(y[np.newaxis,:], cmap=\"plasma\", aspect=\"auto\", extent=extent,vmin=0,vmax=0.08)\n",
    "ax3.set_yticks([])\n",
    "ax3.set_xlim(extent[0], extent[1])\n",
    "plt.xticks(range(len(tRNA_tags)), tRNA_sorted,rotation='vertical')\n",
    "ax3.tick_params(axis='x', which='major', labelsize=9)\n",
    "\n",
    "fig.subplots_adjust(right=0.8)\n",
    "cbar_ax = fig.add_axes([1.0, 0.21, 0.05, 0.7])\n",
    "cbar = fig.colorbar(heatmap, cax=cbar_ax)\n",
    "cbar.ax.tick_params(labelsize=20)\n",
    "\n",
    "plt.tight_layout()\n",
    "plt.show()    \n",
    "fig.savefig('./Figures/Heatmap_GFPexpression_fastuniformslow_transcriptomesorted.svg', dpi=300,bbox_inches='tight')"
   ]
  },
  {
   "cell_type": "code",
   "execution_count": null,
   "metadata": {},
   "outputs": [],
   "source": [
    "#### Sorting by GFP order ####\n",
    "gene_map, pCodon_GFP = singlegene_to_genemap('/Users/akshay/Documents/tRNAShuffle/data/tables/sfGFP_RED20.csv')\n",
    "ptRNA_dict, pcodon_dict, codon_dict, codonLabels, pCodon, tRNA_dict = cognateDistrib(ptRNA_red20,pCodon_GFP,extra2=True)\n",
    "\n",
    "ptRNA_list_uniform = np.load('./data/minimaltRNA_minimalcode-sfGFP_100sample_ptRNA.npy')\n",
    "ptRNA_list_fast=np.load('./data/UniformRandomtRNA_minimalcode-sfGFP_2ksample_fasttRNA_ptRNA.npy')\n",
    "ptRNA_list_slow =np.load('./data/UniformRandomtRNA_minimalcode-sfGFP_2ksample_slowtRNA_ptRNA.npy')\n",
    "\n",
    "elongt_list_uniform = np.load('./data/minimaltRNA_minimalcode-sfGFP_100sample_elongt.npy')\n",
    "elongt_list_fast=np.load('./data/UniformRandomtRNA_minimalcode-sfGFP_2ksample_fasttRNA_elongt.npy')\n",
    "elongt_list_slow =np.load('./data/UniformRandomtRNA_minimalcode-sfGFP_2ksample_slowtRNA_elongt.npy')\n",
    "\n",
    "tRNA_tags = [\"Ala1B\", \"Ala2\", \"Arg2\", \"Arg3\", \"Arg4\", \"Arg5\", \"Asn\", \"Asp1\", \"Cys\", \"Gln1\", \"Gln2\", \\\n",
    "\"Glu2\", \"Gly2\", \"Gly3\", \"His\", \"Ile1\", \"Leu1\", \"Leu2\", \"Leu3\", \"Leu4\", \"Leu5\", \"Lys\", \\\n",
    "\"Met_m\", \"Phe\", \"Pro1\", \"Pro2\", \"Pro3\", \"Sel_Cys\", \"Ser1\", \"Ser2\", \"Ser3\", \"Ser5\", \"Thr1\", \\\n",
    "\"Thr2\", \"Thr3\", \"Thr4\", \"Trp\", \"Tyr1pTyr2\", \"Val1\", \"Val2ApB\"]\n",
    "\n",
    "#Sort tRNA by codon usage in transcriptome and plot baseline tRNA frequency\n",
    "tRNA_sum_dict = tRNA_dict.copy()\n",
    "tRNA_weightedbycodon = list()\n",
    "for keys in tRNA_dict.keys():\n",
    "    tRNA_sum_dict[keys] = (sum([pcodon_dict[tRNA_key] for tRNA_key in tRNA_dict[keys]]))\n",
    "tRNA_weightedbycodon = list(tRNA_sum_dict.values())/sum(tRNA_sum_dict.values())\n",
    "tRNA_sorted_indices = np.flip(tRNA_weightedbycodon.argsort())\n",
    "tRNA_sorted = np.array(tRNA_tags)[tRNA_sorted_indices]\n",
    "ptRNA_sorted = gr25_ptRNA[tRNA_sorted_indices]\n",
    "\n",
    "#Resort ptRNA_min and plot\n",
    "ptRNA_min = ptRNA_list_fast[np.argmin(elongt_list_fast)]\n",
    "ptRNA_min_dict = dict(zip(tRNA_tags,ptRNA_min))\n",
    "ptRNA_min_sorted=[ptRNA_min_dict[tRNA] for tRNA in tRNA_sorted]\n",
    "print(ptRNA_min_sorted)\n",
    "print(\"fast\",np.average(elongt_list_fast))\n",
    "\n",
    "fig, (ax,ax2,ax3) = plt.subplots(nrows=3, sharex=True,figsize=(7,6))\n",
    "\n",
    "x = np.arange(0,40)\n",
    "y = np.array(ptRNA_min_sorted)\n",
    "extent = [x[0]-(x[1]-x[0])/2., x[-1]+(x[1]-x[0])/2.,0,1]\n",
    "heatmap = ax.imshow(y[np.newaxis,:], cmap=\"plasma\", aspect=\"auto\", extent=extent,vmin=0,vmax=0.08)\n",
    "ax.set_yticks([])\n",
    "ax.set_xlim(extent[0], extent[1])\n",
    "plt.xticks(range(len(tRNA_tags)), tRNA_sorted,rotation='vertical')\n",
    "ax.tick_params(axis='x', which='major', labelsize=9)\n",
    "\n",
    "\n",
    "#Uniform\n",
    "ptRNA_uniform = ptRNA_list_uniform[0]\n",
    "ptRNA_uniform_dict = dict(zip(tRNA_tags,ptRNA_uniform))\n",
    "ptRNA_uniform_sorted=[ptRNA_uniform_dict[tRNA] for tRNA in tRNA_sorted]\n",
    "x = np.arange(0,40)\n",
    "y = np.ones(40)/20\n",
    "y[[5,13]] = 0\n",
    "y[22:] = 0\n",
    "extent = [x[0]-(x[1]-x[0])/2., x[-1]+(x[1]-x[0])/2.,0,1]\n",
    "ax2.imshow(y[np.newaxis,:], cmap=\"plasma\", aspect=\"auto\", extent=extent,vmin=0,vmax=0.08)\n",
    "ax2.set_yticks([])\n",
    "ax2.set_xlim(extent[0], extent[1])\n",
    "print(\"uniform\",np.average(elongt_list_uniform))\n",
    "\n",
    "\n",
    "#Resort ptRNA_max and plot\n",
    "ptRNA_max = ptRNA_list_slow[np.argmax(elongt_list_slow)]\n",
    "ptRNA_max_dict = dict(zip(tRNA_tags,ptRNA_max))\n",
    "ptRNA_max_sorted=[ptRNA_max_dict[tRNA] for tRNA in tRNA_sorted]\n",
    "print(\"slow\",np.average(elongt_list_slow))\n",
    "x = np.arange(0,40)\n",
    "y = np.array(ptRNA_max_sorted)\n",
    "extent = [x[0]-(x[1]-x[0])/2., x[-1]+(x[1]-x[0])/2.,0,1]\n",
    "heatmap = ax3.imshow(y[np.newaxis,:], cmap=\"plasma\", aspect=\"auto\", extent=extent,vmin=0,vmax=0.08)\n",
    "ax3.set_yticks([])\n",
    "ax3.set_xlim(extent[0], extent[1])\n",
    "plt.xticks(range(len(tRNA_tags)), tRNA_sorted,rotation='vertical')\n",
    "ax3.tick_params(axis='x', which='major', labelsize=9)\n",
    "\n",
    "fig.subplots_adjust(right=0.8)\n",
    "cbar_ax = fig.add_axes([1.0, 0.21, 0.05, 0.7])\n",
    "cbar = fig.colorbar(heatmap, cax=cbar_ax)\n",
    "cbar.ax.tick_params(labelsize=20)\n",
    "\n",
    "plt.tight_layout()\n",
    "plt.show()    \n",
    "fig.savefig('./Figures/Heatmap_GFPexpression_fastuniformslow_GFPsorted.svg', dpi=300,bbox_inches='tight')"
   ]
  },
  {
   "cell_type": "markdown",
   "metadata": {},
   "source": [
    "## mRFP gene optimization"
   ]
  },
  {
   "cell_type": "code",
   "execution_count": null,
   "metadata": {},
   "outputs": [],
   "source": [
    "\n",
    "tRNA_distributions = {}\n",
    "tRNA_tags = ['Ala1B', 'Ala2', 'Arg2', 'Arg3', 'Arg4', 'Arg5', 'Asn', 'Asp1', 'Cys', 'Gln1', 'Gln2', 'Glu2', 'Gly2', 'Gly3', 'His', 'Ile1', 'Leu1', 'Leu2', 'Leu3', 'Leu4', 'Leu5', 'Lys', 'Met m', 'Phe', 'Pro1', 'Pro2', 'Pro3', 'Sec', 'Ser1', 'Ser2', 'Ser3', 'Ser5', 'Thr1', 'Thr2', 'Thr3', 'Thr4', 'Trp', 'Tyr1+Tyr2', 'Val1', 'Val2A+2B']\n",
    "codon_tags = ['GGG', 'GGA', 'GGU', 'GGC', 'GAG', 'GAA', 'GAU', 'GAC', 'GUG', 'GUA', 'GUU', 'GUC', 'GCG', 'GCA', 'GCU', 'GCC', 'AGG', 'AGA', 'AGU', 'AGC', 'AAG', 'AAA', 'AAU', 'AAC', 'AUG', 'AUA', 'AUU', 'AUC', 'ACG', 'ACA', 'ACU', 'ACC', 'UGG', 'UGA', 'UGU', 'UGC', 'UAU', 'UAC', 'UUG', 'UUA', 'UUU', 'UUC', 'UCG', 'UCA', 'UCU', 'UCC', 'CGG', 'CGA', 'CGU', 'CGC', 'CAG', 'CAA', 'CAU', 'CAC', 'CUG', 'CUA', 'CUU', 'CUC', 'CCG', 'CCA', 'CCU', 'CCC']\n",
    "\n",
    "\n",
    "from analysis_utils import *\n",
    "gene_map, pCodon_mRFP = singlegene_to_genemap('/Users/akshay/Documents/tRNAShuffle/data/tables/mRFP_RED20.csv')\n",
    "#wildtype\n",
    "ptRNA_red20 = pd.read_excel('./data/tables/tRNAValues_RED20.xlsx',header=None)\n",
    "ptRNA_red20 = ptRNA_red20[6]/sum(ptRNA_red20[6])\n",
    "\n",
    "codon_elongt = compute_codon_elongt(ptRNA_red20, len(pCodon_GFP), ensmbl_latency_dict)\n",
    "avg_elongt_wt = compute_gene_elongt_genemap(gene_map['mRFP_RED20'],codon_elongt)\n",
    "print('elongt wildtype', avg_elongt_wt)\n",
    "tRNA_distributions['mRFP_RED20'] = [avg_elongt_wt,dict(zip(tRNA_tags,ptRNA_red20)),dict(zip(codon_tags,pCodon_mRFP))]\n",
    "\n",
    "#Uniform\n",
    "ptRNA_red20_uniform = pd.read_excel('./data/tables/tRNAValues_RED20.xlsx',header=None)\n",
    "ptRNA_red20_uniform = ptRNA_red20_uniform[6]/sum(ptRNA_red20_uniform[6])\n",
    "ptRNA_red20_uniform[ptRNA_red20_uniform>0] = 1/20\n",
    "\n",
    "codon_elongt = compute_codon_elongt(ptRNA_red20_uniform, len(pCodon_GFP), ensmbl_latency_dict)\n",
    "avg_elongt_uniform = compute_gene_elongt_genemap(gene_map['mRFP_RED20'],codon_elongt)\n",
    "print('elongt uniform', avg_elongt_uniform)\n",
    "tRNA_distributions['mRFP_uniform'] = [avg_elongt_uniform,dict(zip(tRNA_tags,ptRNA_red20_uniform)),dict(zip(codon_tags,pCodon_mRFP))]\n",
    "\n",
    "\n",
    "#GFP Codon-weighted correlated\n",
    "\n",
    "ptRNA_red20 = pd.read_excel('./data/tables/tRNAValues_RED20.xlsx',header=None)\n",
    "ptRNA_red20 = ptRNA_red20[6]/sum(ptRNA_red20[6])\n",
    "ptRNA_dict, pcodon_dict, codon_dict, codonLabels, pCodon, tRNA_dict = cognateDistrib(ptRNA_red20,pCodon_mRFP,extra2=True)\n",
    "tRNA_sum_dict = tRNA_dict.copy()\n",
    "tRNA_weightedbycodon = list()\n",
    "for keys in tRNA_dict.keys():\n",
    "    tRNA_sum_dict[keys] = (sum([pcodon_dict[tRNA_key] for tRNA_key in tRNA_dict[keys]]))\n",
    "tRNA_weightedbycodon = list(tRNA_sum_dict.values())/sum(tRNA_sum_dict.values())\n",
    "tRNA_sorted_indices = np.flip(tRNA_weightedbycodon.argsort())\n",
    "tRNA_sorted = np.array(tRNA_tags)[tRNA_sorted_indices]\n",
    "\n",
    "##Assign monotonic increase to GFP codon-sorted tRNA\n",
    "ptRNA_sorted = tRNA_weightedbycodon[tRNA_sorted_indices]\n",
    "sortedtRNAdict = dict(zip(tRNA_sorted, ptRNA_sorted))\n",
    "resortedtRNA = [sortedtRNAdict[tRNA] for tRNA in tRNA_tags]\n",
    "\n",
    "codon_elongt = compute_codon_elongt(resortedtRNA, len(pCodon_GFP), ensmbl_latency_dict)\n",
    "avg_elongt_codonweightedcorrelated = compute_gene_elongt_genemap(gene_map['mRFP_RED20'],codon_elongt)\n",
    "print('elongt codon-weighted correlated', avg_elongt_codonweightedcorrelated)\n",
    "\n",
    "tRNA_distributions['mRFP_codonweightedcorrelated'] = [avg_elongt_codonweightedcorrelated,dict(zip(tRNA_tags,resortedtRNA)),dict(zip(codon_tags,pCodon_mRFP))]\n",
    "\n",
    "\n",
    "#GFP Codon-weighted anticorrelated\n",
    "tRNA_tags = ['Ala1B', 'Ala2', 'Arg2', 'Arg3', 'Arg4', 'Arg5', 'Asn', 'Asp1', 'Cys', 'Gln1', 'Gln2', 'Glu2', 'Gly2', 'Gly3', 'His', 'Ile1', 'Leu1', 'Leu2', 'Leu3', 'Leu4', 'Leu5', 'Lys', 'Met m', 'Phe', 'Pro1', 'Pro2', 'Pro3', 'Sec', 'Ser1', 'Ser2', 'Ser3', 'Ser5', 'Thr1', 'Thr2', 'Thr3', 'Thr4', 'Trp', 'Tyr1+Tyr2', 'Val1', 'Val2A+2B']\n",
    "codon_tags = ['GGG', 'GGA', 'GGU', 'GGC', 'GAG', 'GAA', 'GAU', 'GAC', 'GUG', 'GUA', 'GUU', 'GUC', 'GCG', 'GCA', 'GCU', 'GCC', 'AGG', 'AGA', 'AGU', 'AGC', 'AAG', 'AAA', 'AAU', 'AAC', 'AUG', 'AUA', 'AUU', 'AUC', 'ACG', 'ACA', 'ACU', 'ACC', 'UGG', 'UGA', 'UGU', 'UGC', 'UAU', 'UAC', 'UUG', 'UUA', 'UUU', 'UUC', 'UCG', 'UCA', 'UCU', 'UCC', 'CGG', 'CGA', 'CGU', 'CGC', 'CAG', 'CAA', 'CAU', 'CAC', 'CUG', 'CUA', 'CUU', 'CUC', 'CCG', 'CCA', 'CCU', 'CCC']\n",
    "\n",
    "ptRNA_red20 = pd.read_excel('./data/tables/tRNAValues_RED20.xlsx',header=None)\n",
    "ptRNA_red20 = ptRNA_red20[6]/sum(ptRNA_red20[6])\n",
    "ptRNA_dict, pcodon_dict, codon_dict, codonLabels, pCodon, tRNA_dict = cognateDistrib(ptRNA_red20,pCodon_mRFP,extra2=True)\n",
    "tRNA_sum_dict = tRNA_dict.copy()\n",
    "tRNA_weightedbycodon = list()\n",
    "for keys in tRNA_dict.keys():\n",
    "    tRNA_sum_dict[keys] = (sum([pcodon_dict[tRNA_key] for tRNA_key in tRNA_dict[keys]]))\n",
    "tRNA_weightedbycodon = list(tRNA_sum_dict.values())/sum(tRNA_sum_dict.values())\n",
    "tRNA_sorted_indices = np.flip(tRNA_weightedbycodon.argsort())\n",
    "tRNA_sorted = np.array(tRNA_tags)[tRNA_sorted_indices]\n",
    "\n",
    "##Assign monotonic increase to GFP codon-sorted tRNA\n",
    "ptRNA_sorted = tRNA_weightedbycodon[tRNA_sorted_indices]\n",
    "ptRNA_sorted_flipped = np.append(np.flip([ptRNA for ptRNA in ptRNA_sorted if ptRNA != 0]),np.array([ptRNA for ptRNA in ptRNA_sorted if ptRNA == 0]))\n",
    "sortedtRNAdict = dict(zip(tRNA_sorted, ptRNA_sorted_flipped))\n",
    "resortedtRNA = [sortedtRNAdict[tRNA] for tRNA in tRNA_tags]\n",
    "\n",
    "codon_elongt = compute_codon_elongt(resortedtRNA, len(pCodon_GFP), ensmbl_latency_dict)\n",
    "avg_elongt_codonweightedanticorrelated = compute_gene_elongt_genemap(gene_map['mRFP_RED20'],codon_elongt)\n",
    "print('elongt codon-weighted anticorrelated', avg_elongt_codonweightedanticorrelated)\n",
    "\n",
    "tRNA_distributions['mRFP_codonweightedanticorrelated'] = [avg_elongt_codonweightedanticorrelated,dict(zip(tRNA_tags,resortedtRNA)),dict(zip(codon_tags,pCodon_mRFP))]\n",
    "\n",
    "\n",
    "########### Genetic algorithm fast and slow #############\n",
    "\n",
    "elongt_list_fast =np.load('./data/UniformRandomtRNA_minimalcode-mRFP_2ksample_fasttRNA_elongt.npy')\n",
    "ptRNA_list_fast=np.load('./data/UniformRandomtRNA_minimalcode-mRFP_2ksample_fasttRNA_ptRNA.npy')\n",
    "elongt_fastest = np.min(elongt_list_fast)\n",
    "ptRNA_min = ptRNA_list_fast[np.argmin(elongt_list_fast)]\n",
    "tRNA_distributions['mRFP_gafast'] = [elongt_fastest,dict(zip(tRNA_tags,ptRNA_min)),dict(zip(codon_tags,pCodon_mRFP))]\n",
    "\n",
    "elongt_list_slow =np.load('./data/UniformRandomtRNA_minimalcode-mRFP_2ksample_slowtRNA_elongt.npy')\n",
    "ptRNA_list_slow =np.load('./data/UniformRandomtRNA_minimalcode-mRFP_2ksample_slowtRNA_ptRNA.npy')\n",
    "elongt_slowest = np.max(elongt_list_slow)\n",
    "ptRNA_max = ptRNA_list_slow[np.argmax(elongt_list_slow)]\n",
    "tRNA_distributions['mRFP_gaslow'] = [elongt_slowest,dict(zip(tRNA_tags,ptRNA_max)),dict(zip(codon_tags,pCodon_mRFP))]\n",
    "\n",
    "\n",
    "######### Export all to pickle ##############\n",
    "\n",
    "import pickle\n",
    "with open('tRNA_distributions-mRFP.pickle', 'wb') as handle:\n",
    "    pickle.dump(tRNA_distributions, handle, protocol=pickle.HIGHEST_PROTOCOL)"
   ]
  }
 ],
 "metadata": {
  "kernelspec": {
   "display_name": "Python 3 (ipykernel)",
   "language": "python",
   "name": "python3"
  },
  "language_info": {
   "codemirror_mode": {
    "name": "ipython",
    "version": 3
   },
   "file_extension": ".py",
   "mimetype": "text/x-python",
   "name": "python",
   "nbconvert_exporter": "python",
   "pygments_lexer": "ipython3",
   "version": "3.9.6"
  }
 },
 "nbformat": 4,
 "nbformat_minor": 2
}
