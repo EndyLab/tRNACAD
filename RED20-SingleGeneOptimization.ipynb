{
 "cells": [
  {
   "cell_type": "code",
   "execution_count": 1,
   "metadata": {},
   "outputs": [
    {
     "name": "stdout",
     "output_type": "stream",
     "text": [
      "Computing...\n",
      "Computing...\n",
      "Computing...\n",
      "Computing...\n",
      "Computing...\n",
      "Computing...\n",
      "Computing...\n",
      "Computing...\n",
      "Computing...\n",
      "Computing...\n",
      "Computing...\n",
      "Computing...\n",
      "Computing...\n",
      "CPU times: user 1min 32s, sys: 1.5 s, total: 1min 34s\n",
      "Wall time: 1min 42s\n"
     ]
    }
   ],
   "source": [
    "%%time\n",
    "%load_ext autoreload\n",
    "\n",
    "from analysis_utils import *\n",
    "from joblib import Parallel, delayed\n",
    "import multiprocessing  \n",
    "import numpy as np\n",
    "import pandas as pd\n",
    "\n",
    "#Growth rate = 3.0\n",
    "#Computes the translation latencies from our model with simulations containing\n",
    "#1 to 14 cognate ternary complexes in the voxel (14 to 42 not included because\n",
    "#the probability of voxels with that number of cognates is ~0)\n",
    "path = \"/Users/Akshay/Documents/tRNAShuffle/data/\"\n",
    "ensmbl_latency_dict = dict()\n",
    "rxndiff=dict()\n",
    "scalingFactor = 200\n",
    "NR_scaledrates = {'k1r':718*200/scalingFactor,'k2f':1475*200/scalingFactor,'k2r_nr':1120*200/scalingFactor,'k3_nr':6*200/scalingFactor,'k4':209*200/scalingFactor}\n",
    "\n",
    "\n",
    "data = \"191003_2210/\"\n",
    "for i in range(1,7):\n",
    "    sim_i = computeTransportRxnTimes(path+data,100*(i-1),100*(i-1)+100,cogtRNANum=i, ribosomeNum = 7,scaling=scalingFactor,NR_scaling = NR_scaledrates)\n",
    "    ensmbl_latency_dict[i] = (CellLatencies(sim_i))\n",
    "\n",
    "data = \"191105_0908/\"\n",
    "for i in range(7,14):\n",
    "    sim_i = computeTransportRxnTimes(path+data, 100*(i-1-6),100*(i-1-6)+100,cogtRNANum=i, ribosomeNum = 7,scaling=scalingFactor,NR_scaling = NR_scaledrates)\n",
    "    ensmbl_latency_dict[i] = (CellLatencies(sim_i))\n",
    "    \n",
    "#Experimentally obtained codon usage frequencies and tRNA abundances at growth rate = 2.5 dbl/hr\n",
    "gr25_Codon = np.array([2.36, 1.26, 45.55, 34.17, 16.97, 57.86, 19.27, 33.74, 14.98, 22.31, 43.18, 7.67, 24.11, 24.87, 39.49, 11.81, 0.03, 0.63, 2.19, 9.31, 17.22, 55.01, 5.61, 29.21, 21.67, 0.52, 15.79, 43.86, 4.17, 2.61, 20.64, 26.7, 7.03, 0.19, 2.76, 3.81, 6.72, 16.52, 4.27, 2.73, 7.92, 23.25, 2.51, 1.98, 16.33, 11.68, 0.62, 0.67, 43.82, 20.59, 27.28, 7.01, 6.78, 14.21, 60.75, 0.82, 3.86, 4.09, 28.82, 5.18, 4.38, 1.09])\n",
    "gr25_pCodon = gr25_Codon/np.sum(gr25_Codon)\n",
    "gr25_ptRNA = [0.0602409638554217, 0.010542168674698798, 0.07379518072289158, 0.00602409638554217, 0.010542168674698798, 0.00602409638554217, 0.021084337349397596, 0.043674698795180725, 0.021084337349397596, 0.01204819277108434, 0.01807228915662651, 0.08433734939759038, 0.03162650602409639, 0.07228915662650603, 0.01204819277108434, 0.07078313253012049, 0.06325301204819278, 0.01656626506024097, 0.009036144578313254, 0.027108433734939763, 0.010542168674698798, 0.03012048192771085, 0.013554216867469882, 0.015060240963855425, 0.0075301204819277125, 0.010542168674698798, 0.0075301204819277125, 0.003012048192771085, 0.021084337349397596, 0.004518072289156627, 0.01656626506024097, 0.01204819277108434, 0.0015060240963855425, 0.009036144578313254, 0.01656626506024097, 0.019578313253012052, 0.015060240963855425, 0.027108434, 0.05873493975903616, 0.019578313]\n",
    "gr25_ptRNA = gr25_ptRNA/np.sum(gr25_ptRNA)\n",
    "\n",
    "n_cores = 16\n",
    "\n",
    "##Compute the codon distribution and elongation latency of each gene weighted by transcript number\n",
    "codon_elongt = compute_codon_elongt(gr25_ptRNA, len(gr25_pCodon), ensmbl_latency_dict)"
   ]
  },
  {
   "cell_type": "markdown",
   "metadata": {},
   "source": []
  },
  {
   "cell_type": "code",
   "execution_count": null,
   "metadata": {},
   "outputs": [],
   "source": []
  },
  {
   "cell_type": "code",
   "execution_count": 6,
   "metadata": {},
   "outputs": [
    {
     "name": "stderr",
     "output_type": "stream",
     "text": [
      "/Users/akshay/opt/anaconda3/lib/python3.8/site-packages/openpyxl/worksheet/_reader.py:312: UserWarning: Unknown extension is not supported and will be removed\n",
      "  warn(msg)\n"
     ]
    },
    {
     "name": "stdout",
     "output_type": "stream",
     "text": [
      "elongt wildtype 170.31113189224558\n"
     ]
    },
    {
     "name": "stderr",
     "output_type": "stream",
     "text": [
      "/Users/akshay/opt/anaconda3/lib/python3.8/site-packages/openpyxl/worksheet/_reader.py:312: UserWarning: Unknown extension is not supported and will be removed\n",
      "  warn(msg)\n"
     ]
    },
    {
     "name": "stdout",
     "output_type": "stream",
     "text": [
      "elongt uniform 176.79042811605166\n"
     ]
    },
    {
     "name": "stderr",
     "output_type": "stream",
     "text": [
      "/Users/akshay/opt/anaconda3/lib/python3.8/site-packages/openpyxl/worksheet/_reader.py:312: UserWarning: Unknown extension is not supported and will be removed\n",
      "  warn(msg)\n"
     ]
    },
    {
     "name": "stdout",
     "output_type": "stream",
     "text": [
      "elongt codon-weighted correlated 162.8936606018671\n"
     ]
    },
    {
     "name": "stderr",
     "output_type": "stream",
     "text": [
      "/Users/akshay/opt/anaconda3/lib/python3.8/site-packages/openpyxl/worksheet/_reader.py:312: UserWarning: Unknown extension is not supported and will be removed\n",
      "  warn(msg)\n"
     ]
    },
    {
     "name": "stdout",
     "output_type": "stream",
     "text": [
      "elongt codon-weighted anticorrelated 202.12156933061775\n",
      "Starting GA fast and slow\n",
      "GFP fast [157.0782563093391, {'Ala1B': 0.012213740457866095, 'Ala2': 0.0, 'Arg2': 0.0384598298438721, 'Arg3': 0.0, 'Arg4': 0.0, 'Arg5': 0.0, 'Asn': 0.0781333287422843, 'Asp1': 0.07312459403581285, 'Cys': 0.012242397251647124, 'Gln1': 0.0, 'Gln2': 0.013887117315757497, 'Glu2': 0.05959373167753873, 'Gly2': 0.10302599368310193, 'Gly3': 0.0, 'His': 0.04232258403539275, 'Ile1': 0.05005884125288748, 'Leu1': 0.0, 'Leu2': 0.0, 'Leu3': 0.09902026535639162, 'Leu4': 0.0, 'Leu5': 0.0, 'Lys': 0.08726581015701147, 'Met m': 0.01241237943655594, 'Phe': 0.04439438813084877, 'Pro1': 0.013371694000643442, 'Pro2': 0.0, 'Pro3': 0.0, 'Sec': 0.0, 'Ser1': 0.033396327046990734, 'Ser2': 0.0, 'Ser3': 0.0, 'Ser5': 0.0, 'Thr1': 0.07126737930405906, 'Thr2': 0.0, 'Thr3': 0.0, 'Thr4': 0.0, 'Trp': 0.012213740457866095, 'Tyr1+Tyr2': 0.039550072265957296, 'Val1': 0.0, 'Val2A+2B': 0.10404578554751469}, {'GGG': 0.0, 'GGA': 0.09205020920502092, 'GGU': 0.0, 'GGC': 0.0, 'GAG': 0.0, 'GAA': 0.06694560669456066, 'GAU': 0.0, 'GAC': 0.07531380753138076, 'GUG': 0.0, 'GUA': 0.0, 'GUU': 0.0, 'GUC': 0.07531380753138076, 'GCG': 0.0, 'GCA': 0.03347280334728033, 'GCU': 0.0, 'GCC': 0.0, 'AGG': 0.0, 'AGA': 0.0, 'AGU': 0.0, 'AGC': 0.0, 'AAG': 0.0, 'AAA': 0.08368200836820083, 'AAU': 0.0, 'AAC': 0.05439330543933055, 'AUG': 0.02092050209205021, 'AUA': 0.0, 'AUU': 0.0, 'AUC': 0.04602510460251046, 'ACG': 0.0, 'ACA': 0.0, 'ACU': 0.0, 'ACC': 0.07531380753138076, 'UGG': 0.0041841004184100415, 'UGA': 0.0041841004184100415, 'UGU': 0.0, 'UGC': 0.008368200836820083, 'UAU': 0.0, 'UAC': 0.03765690376569038, 'UUG': 0.0, 'UUA': 0.0, 'UUU': 0.0, 'UUC': 0.0502092050209205, 'UCG': 0.0, 'UCA': 0.04184100418410042, 'UCU': 0.0, 'UCC': 0.0, 'CGG': 0.0, 'CGA': 0.0, 'CGU': 0.03347280334728033, 'CGC': 0.0, 'CAG': 0.029288702928870293, 'CAA': 0.0, 'CAU': 0.0, 'CAC': 0.04184100418410042, 'CUG': 0.0, 'CUA': 0.08368200836820083, 'CUU': 0.0, 'CUC': 0.0, 'CCG': 0.04184100418410042, 'CCA': 0.0, 'CCU': 0.0, 'CCC': 0.0}]\n",
      "GFP slow [627.4355423613425, {'Ala1B': 0.12824427480759398, 'Ala2': 0.0, 'Arg2': 0.02016024105018148, 'Arg3': 0.0, 'Arg4': 0.0, 'Arg5': 0.0, 'Asn': 0.020202998250494566, 'Asp1': 0.01458636065760763, 'Cys': 0.12132250487555715, 'Gln1': 0.0, 'Gln2': 0.12560355319312438, 'Glu2': 0.01476579339600114, 'Gly2': 0.015548581287511543, 'Gly3': 0.0, 'His': 0.015045138921284486, 'Ile1': 0.019373922748170985, 'Leu1': 0.0, 'Leu2': 0.0, 'Leu3': 0.015346923482967284, 'Leu4': 0.0, 'Leu5': 0.0, 'Lys': 0.01557299324238929, 'Met m': 0.1194957286690298, 'Phe': 0.02048170499348204, 'Pro1': 0.12824427480759398, 'Pro2': 0.0, 'Pro3': 0.0, 'Sec': 0.0, 'Ser1': 0.019953915672247767, 'Ser2': 0.0, 'Ser3': 0.0, 'Ser5': 0.0, 'Thr1': 0.015631634799948307, 'Thr2': 0.0, 'Thr3': 0.0, 'Thr4': 0.0, 'Trp': 0.12749122101182905, 'Tyr1+Tyr2': 0.02207490852107198, 'Val1': 0.0, 'Val2A+2B': 0.020853325611913276}, {'GGG': 0.0, 'GGA': 0.09205020920502092, 'GGU': 0.0, 'GGC': 0.0, 'GAG': 0.0, 'GAA': 0.06694560669456066, 'GAU': 0.0, 'GAC': 0.07531380753138076, 'GUG': 0.0, 'GUA': 0.0, 'GUU': 0.0, 'GUC': 0.07531380753138076, 'GCG': 0.0, 'GCA': 0.03347280334728033, 'GCU': 0.0, 'GCC': 0.0, 'AGG': 0.0, 'AGA': 0.0, 'AGU': 0.0, 'AGC': 0.0, 'AAG': 0.0, 'AAA': 0.08368200836820083, 'AAU': 0.0, 'AAC': 0.05439330543933055, 'AUG': 0.02092050209205021, 'AUA': 0.0, 'AUU': 0.0, 'AUC': 0.04602510460251046, 'ACG': 0.0, 'ACA': 0.0, 'ACU': 0.0, 'ACC': 0.07531380753138076, 'UGG': 0.0041841004184100415, 'UGA': 0.0041841004184100415, 'UGU': 0.0, 'UGC': 0.008368200836820083, 'UAU': 0.0, 'UAC': 0.03765690376569038, 'UUG': 0.0, 'UUA': 0.0, 'UUU': 0.0, 'UUC': 0.0502092050209205, 'UCG': 0.0, 'UCA': 0.04184100418410042, 'UCU': 0.0, 'UCC': 0.0, 'CGG': 0.0, 'CGA': 0.0, 'CGU': 0.03347280334728033, 'CGC': 0.0, 'CAG': 0.029288702928870293, 'CAA': 0.0, 'CAU': 0.0, 'CAC': 0.04184100418410042, 'CUG': 0.0, 'CUA': 0.08368200836820083, 'CUU': 0.0, 'CUC': 0.0, 'CCG': 0.04184100418410042, 'CCA': 0.0, 'CCU': 0.0, 'CCC': 0.0}]\n"
     ]
    }
   ],
   "source": [
    "#GFP gene optimization\n",
    "\n",
    "tRNA_distributions = {}\n",
    "tRNA_elongrate_distributions = {}\n",
    "tRNA_tags = ['Ala1B', 'Ala2', 'Arg2', 'Arg3', 'Arg4', 'Arg5', 'Asn', 'Asp1', 'Cys', 'Gln1', 'Gln2', 'Glu2', 'Gly2', 'Gly3', 'His', 'Ile1', 'Leu1', 'Leu2', 'Leu3', 'Leu4', 'Leu5', 'Lys', 'Met m', 'Phe', 'Pro1', 'Pro2', 'Pro3', 'Sec', 'Ser1', 'Ser2', 'Ser3', 'Ser5', 'Thr1', 'Thr2', 'Thr3', 'Thr4', 'Trp', 'Tyr1+Tyr2', 'Val1', 'Val2A+2B']\n",
    "codon_tags = ['GGG', 'GGA', 'GGU', 'GGC', 'GAG', 'GAA', 'GAU', 'GAC', 'GUG', 'GUA', 'GUU', 'GUC', 'GCG', 'GCA', 'GCU', 'GCC', 'AGG', 'AGA', 'AGU', 'AGC', 'AAG', 'AAA', 'AAU', 'AAC', 'AUG', 'AUA', 'AUU', 'AUC', 'ACG', 'ACA', 'ACU', 'ACC', 'UGG', 'UGA', 'UGU', 'UGC', 'UAU', 'UAC', 'UUG', 'UUA', 'UUU', 'UUC', 'UCG', 'UCA', 'UCU', 'UCC', 'CGG', 'CGA', 'CGU', 'CGC', 'CAG', 'CAA', 'CAU', 'CAC', 'CUG', 'CUA', 'CUU', 'CUC', 'CCG', 'CCA', 'CCU', 'CCC']\n",
    "\n",
    "\n",
    "from analysis_utils import *\n",
    "gene_map, pCodon_GFP = singlegene_to_genemap('/Users/akshay/Documents/tRNAShuffle/data/tables/sfGFP_RED20.csv')\n",
    "#wildtype\n",
    "ptRNA_red20 = pd.read_excel('./data/tables/tRNAValues_RED20.xlsx',header=None)\n",
    "ptRNA_red20 = ptRNA_red20[6]/sum(ptRNA_red20[6])\n",
    "\n",
    "codon_elongt = compute_codon_elongt(ptRNA_red20, len(pCodon_GFP), ensmbl_latency_dict)\n",
    "avg_elongt_wt = compute_gene_elongt_genemap(gene_map['sfGFP_RED20'],codon_elongt)\n",
    "print('elongt wildtype', avg_elongt_wt)\n",
    "tRNA_distributions['GFP_wt'] = [avg_elongt_wt,dict(zip(tRNA_tags,ptRNA_red20)),dict(zip(codon_tags,pCodon_GFP))]\n",
    "\n",
    "#Uniform\n",
    "ptRNA_red20_uniform = pd.read_excel('./data/tables/tRNAValues_RED20.xlsx',header=None)\n",
    "ptRNA_red20_uniform = ptRNA_red20_uniform[6]/sum(ptRNA_red20_uniform[6])\n",
    "ptRNA_red20_uniform[ptRNA_red20_uniform>0] = 1/20\n",
    "\n",
    "codon_elongt = compute_codon_elongt(ptRNA_red20_uniform, len(pCodon_GFP), ensmbl_latency_dict)\n",
    "avg_elongt_uniform = compute_gene_elongt_genemap(gene_map['sfGFP_RED20'],codon_elongt)\n",
    "print('elongt uniform', avg_elongt_uniform)\n",
    "tRNA_distributions['GFP_uniform'] = [avg_elongt_uniform,dict(zip(tRNA_tags,ptRNA_red20_uniform)),dict(zip(codon_tags,pCodon_GFP))]\n",
    "\n",
    "\n",
    "#GFP Codon-weighted correlated\n",
    "ptRNA_red20 = pd.read_excel('./data/tables/tRNAValues_RED20.xlsx',header=None)\n",
    "ptRNA_red20 = ptRNA_red20[6]/sum(ptRNA_red20[6])\n",
    "ptRNA_dict, pcodon_dict, codon_dict, codonLabels, pCodon, tRNA_dict = cognateDistrib(ptRNA_red20,pCodon_GFP,extra2=True)\n",
    "tRNA_sum_dict = tRNA_dict.copy()\n",
    "tRNA_weightedbycodon = list()\n",
    "for keys in tRNA_dict.keys():\n",
    "    tRNA_sum_dict[keys] = (sum([pcodon_dict[tRNA_key] for tRNA_key in tRNA_dict[keys]]))\n",
    "tRNA_weightedbycodon = list(tRNA_sum_dict.values())/sum(tRNA_sum_dict.values())\n",
    "tRNA_sorted_indices = np.flip(tRNA_weightedbycodon.argsort())\n",
    "tRNA_sorted = np.array(tRNA_tags)[tRNA_sorted_indices]\n",
    "\n",
    "##Assign monotonic increase to GFP codon-sorted tRNA\n",
    "ptRNA_sorted = tRNA_weightedbycodon[tRNA_sorted_indices]\n",
    "sortedtRNAdict = dict(zip(tRNA_sorted, ptRNA_sorted))\n",
    "resortedtRNA = [sortedtRNAdict[tRNA] for tRNA in tRNA_tags]\n",
    "\n",
    "codon_elongt = compute_codon_elongt(resortedtRNA, len(pCodon_GFP), ensmbl_latency_dict)\n",
    "avg_elongt_codonweightedcorrelated = compute_gene_elongt_genemap(gene_map['sfGFP_RED20'],codon_elongt)\n",
    "print('elongt codon-weighted correlated', avg_elongt_codonweightedcorrelated)\n",
    "\n",
    "tRNA_distributions['GFP_codonweightedcorrelated'] = [avg_elongt_codonweightedcorrelated,dict(zip(tRNA_tags,resortedtRNA)),dict(zip(codon_tags,pCodon_GFP))]\n",
    "\n",
    "\n",
    "#GFP Codon-weighted anticorrelated\n",
    "tRNA_tags = ['Ala1B', 'Ala2', 'Arg2', 'Arg3', 'Arg4', 'Arg5', 'Asn', 'Asp1', 'Cys', 'Gln1', 'Gln2', 'Glu2', 'Gly2', 'Gly3', 'His', 'Ile1', 'Leu1', 'Leu2', 'Leu3', 'Leu4', 'Leu5', 'Lys', 'Met m', 'Phe', 'Pro1', 'Pro2', 'Pro3', 'Sec', 'Ser1', 'Ser2', 'Ser3', 'Ser5', 'Thr1', 'Thr2', 'Thr3', 'Thr4', 'Trp', 'Tyr1+Tyr2', 'Val1', 'Val2A+2B']\n",
    "codon_tags = ['GGG', 'GGA', 'GGU', 'GGC', 'GAG', 'GAA', 'GAU', 'GAC', 'GUG', 'GUA', 'GUU', 'GUC', 'GCG', 'GCA', 'GCU', 'GCC', 'AGG', 'AGA', 'AGU', 'AGC', 'AAG', 'AAA', 'AAU', 'AAC', 'AUG', 'AUA', 'AUU', 'AUC', 'ACG', 'ACA', 'ACU', 'ACC', 'UGG', 'UGA', 'UGU', 'UGC', 'UAU', 'UAC', 'UUG', 'UUA', 'UUU', 'UUC', 'UCG', 'UCA', 'UCU', 'UCC', 'CGG', 'CGA', 'CGU', 'CGC', 'CAG', 'CAA', 'CAU', 'CAC', 'CUG', 'CUA', 'CUU', 'CUC', 'CCG', 'CCA', 'CCU', 'CCC']\n",
    "\n",
    "ptRNA_red20 = pd.read_excel('./data/tables/tRNAValues_RED20.xlsx',header=None)\n",
    "ptRNA_red20 = ptRNA_red20[6]/sum(ptRNA_red20[6])\n",
    "ptRNA_dict, pcodon_dict, codon_dict, codonLabels, pCodon, tRNA_dict = cognateDistrib(ptRNA_red20,pCodon_GFP,extra2=True)\n",
    "tRNA_sum_dict = tRNA_dict.copy()\n",
    "tRNA_weightedbycodon = list()\n",
    "for keys in tRNA_dict.keys():\n",
    "    tRNA_sum_dict[keys] = (sum([pcodon_dict[tRNA_key] for tRNA_key in tRNA_dict[keys]]))\n",
    "tRNA_weightedbycodon = list(tRNA_sum_dict.values())/sum(tRNA_sum_dict.values())\n",
    "tRNA_sorted_indices = np.flip(tRNA_weightedbycodon.argsort())\n",
    "tRNA_sorted = np.array(tRNA_tags)[tRNA_sorted_indices]\n",
    "\n",
    "##Assign monotonic increase to GFP codon-sorted tRNA\n",
    "ptRNA_sorted = tRNA_weightedbycodon[tRNA_sorted_indices]\n",
    "ptRNA_sorted_flipped = np.append(np.flip([ptRNA for ptRNA in ptRNA_sorted if ptRNA != 0]),np.array([ptRNA for ptRNA in ptRNA_sorted if ptRNA == 0]))\n",
    "sortedtRNAdict = dict(zip(tRNA_sorted, ptRNA_sorted_flipped))\n",
    "resortedtRNA = [sortedtRNAdict[tRNA] for tRNA in tRNA_tags]\n",
    "\n",
    "codon_elongt = compute_codon_elongt(resortedtRNA, len(pCodon_GFP), ensmbl_latency_dict)\n",
    "avg_elongt_codonweightedanticorrelated = compute_gene_elongt_genemap(gene_map['sfGFP_RED20'],codon_elongt)\n",
    "print('elongt codon-weighted anticorrelated', avg_elongt_codonweightedanticorrelated)\n",
    "\n",
    "tRNA_distributions['GFP_codonweightedanticorrelated'] = [avg_elongt_codonweightedanticorrelated,dict(zip(tRNA_tags,resortedtRNA)),dict(zip(codon_tags,pCodon_GFP))]\n",
    "\n",
    "\n",
    "########### Genetic algorithm fast and slow #############\n",
    "\n",
    "print('Starting GA fast and slow')\n",
    "elongt_list_fast =np.load('./data/UniformRandomtRNA_minimalcode-sfGFP_2ksample_fasttRNA_elongt.npy')\n",
    "ptRNA_list_fast=np.load('./data/UniformRandomtRNA_minimalcode-sfGFP_2ksample_fasttRNA_ptRNA.npy')\n",
    "tRNA_elongrate_distributions['GFP_gafast'] = elongt_list_fast\n",
    "elongt_fastest = np.min(elongt_list_fast)\n",
    "ptRNA_min = ptRNA_list_fast[np.argmin(elongt_list_fast)]\n",
    "tRNA_distributions['GFP_gafast'] = [elongt_fastest,dict(zip(tRNA_tags,ptRNA_min)),dict(zip(codon_tags,pCodon_GFP))]\n",
    "print('GFP fast', tRNA_distributions['GFP_gafast'])\n",
    "\n",
    "elongt_list_slow =np.load('./data/UniformRandomtRNA_minimalcode-sfGFP_2ksample_slowtRNA_elongt.npy')\n",
    "ptRNA_list_slow =np.load('./data/UniformRandomtRNA_minimalcode-sfGFP_2ksample_slowtRNA_ptRNA.npy')\n",
    "tRNA_elongrate_distributions['GFP_gaslow'] = elongt_list_slow\n",
    "elongt_slowest = np.max(elongt_list_slow)\n",
    "ptRNA_max = ptRNA_list_slow[np.argmax(elongt_list_slow)]\n",
    "tRNA_distributions['GFP_gaslow'] = [elongt_slowest,dict(zip(tRNA_tags,ptRNA_max)),dict(zip(codon_tags,pCodon_GFP))]\n",
    "print('GFP slow', tRNA_distributions['GFP_gaslow'])\n",
    "\n",
    "\n",
    "\n",
    "######### Export all to pickle ##############\n",
    "\n",
    "import pickle\n",
    "with open('tRNA_distributions-GFP.pickle', 'wb') as handle:\n",
    "    pickle.dump(tRNA_distributions, handle, protocol=pickle.HIGHEST_PROTOCOL)\n",
    "    \n",
    "with open('tRNA_elongrate_distributions-GFP.pickle', 'wb') as handle:\n",
    "    pickle.dump(tRNA_elongrate_distributions, handle, protocol=pickle.HIGHEST_PROTOCOL)"
   ]
  },
  {
   "cell_type": "code",
   "execution_count": 5,
   "metadata": {},
   "outputs": [
    {
     "data": {
      "text/plain": [
       "{'GFP_gafast': array([393.84398342, 390.39815458, 393.73148872, 393.66498968,\n",
       "        391.47609549, 392.02974234, 393.72025778, 393.23874859,\n",
       "        392.61750858, 393.42118509, 393.46318005, 391.28968643,\n",
       "        392.24817945, 392.4608975 , 389.24161825, 391.35995208,\n",
       "        392.9414649 , 392.44339446, 391.82475871, 392.93128051,\n",
       "        393.7597765 , 391.7921233 , 392.94669175, 390.733587  ,\n",
       "        393.7254011 , 391.0099761 , 393.37881246, 403.07818777,\n",
       "        391.61786839, 392.63215181, 390.69494261, 392.99921206,\n",
       "        392.58833461, 392.34459761, 391.00308203, 392.13933873,\n",
       "        391.71955151, 393.26885651, 393.23644802, 391.28219191,\n",
       "        392.39013201, 392.44447859, 391.79874387, 393.42164428,\n",
       "        393.68096851, 391.48250267, 393.30276404, 415.12058929,\n",
       "        392.6347606 , 415.86129708, 392.13155693, 392.82773527,\n",
       "        393.09490045, 392.09088844, 393.1126329 , 391.18199715,\n",
       "        393.25443823, 392.49318427, 392.57423874, 392.94411069,\n",
       "        391.07198224, 391.05520384, 390.11467394, 396.45667851,\n",
       "        392.10174175, 392.63876991, 431.96443089, 391.56679464,\n",
       "        392.94942562, 393.59705871, 391.69466088, 390.47427656,\n",
       "        442.95357666, 391.45848909, 392.51932668, 393.57628001,\n",
       "        388.8058769 , 393.15146324, 389.90301953, 393.55875222,\n",
       "        392.35132767, 391.86247309, 393.56089235, 392.60268642,\n",
       "        393.84289897, 393.29176593, 393.47532243, 393.30468162,\n",
       "        416.83132182, 395.62141289, 405.88352026, 393.41003744,\n",
       "        393.03180721, 393.77422598, 410.7825677 , 389.78744726,\n",
       "        387.76519712, 392.99991372, 391.68604363, 390.36586298]),\n",
       " 'GFP_gaslow': array([623.70611769, 601.74287166, 623.48701218, 623.33828206,\n",
       "        621.4883373 , 621.77201811, 627.19475146, 621.27139916,\n",
       "        624.38074761, 622.82470708, 622.0998464 , 624.04383554,\n",
       "        621.27328018, 621.57714376, 622.67943138, 624.70902929,\n",
       "        625.12775031, 624.36824381, 621.20037545, 623.29180853,\n",
       "        574.70214354, 621.39087145, 622.9681336 , 623.26353322,\n",
       "        621.61835616, 622.14934211, 622.55785547, 621.15901147,\n",
       "        627.02207554, 623.88151565, 621.3787853 , 623.16272192,\n",
       "        604.00816323, 621.84029275, 621.61445076, 623.07293065,\n",
       "        622.59098014, 599.98498277, 623.89006   , 622.06027977,\n",
       "        622.99253377, 624.22601699, 626.73392539, 625.84718454,\n",
       "        622.76127034, 622.65125582, 623.78279357, 623.59389984,\n",
       "        627.43554236, 621.45062496, 622.61154632, 606.21301678,\n",
       "        623.84407992, 610.85134542, 622.73663849, 622.9864283 ,\n",
       "        621.52381329, 622.87555648, 621.27558708, 621.38514231,\n",
       "        622.44274131, 623.75426045, 601.16710252, 622.35169643,\n",
       "        599.73233254, 624.91730028, 622.60544683, 622.65002793,\n",
       "        623.68960148, 622.72656481, 624.00416206, 621.96537133,\n",
       "        615.79114717, 622.02624315, 624.1254526 , 621.70087406,\n",
       "        622.01271129, 622.37694506, 621.84420504, 621.5684616 ,\n",
       "        621.77276268, 622.18564613, 625.3899742 , 623.1174309 ,\n",
       "        624.43523722, 623.42381498, 624.68863292, 621.82717477,\n",
       "        624.99217593, 621.42508214, 625.93851692, 599.0072922 ,\n",
       "        623.8777566 , 621.61837686, 625.67070881, 622.1461692 ,\n",
       "        623.07458014, 622.29194803, 622.13752615, 621.36992552])}"
      ]
     },
     "execution_count": 5,
     "metadata": {},
     "output_type": "execute_result"
    }
   ],
   "source": [
    "tRNA_elongrate_distributions"
   ]
  },
  {
   "cell_type": "code",
   "execution_count": 24,
   "metadata": {},
   "outputs": [
    {
     "data": {
      "text/plain": [
       "0.003745318352059925"
      ]
     },
     "execution_count": 24,
     "metadata": {},
     "output_type": "execute_result"
    }
   ],
   "source": [
    "a = list(tRNA_distributions['GFP_codonweightedanticorrelated'][1].values())\n",
    "np.min(np.array(a)[np.nonzero(a)])"
   ]
  },
  {
   "cell_type": "code",
   "execution_count": 32,
   "metadata": {},
   "outputs": [
    {
     "data": {
      "text/plain": [
       "0.012213740457866095"
      ]
     },
     "execution_count": 32,
     "metadata": {},
     "output_type": "execute_result"
    }
   ],
   "source": [
    "a = np.array(ptRNA_red20)\n",
    "np.min(np.array(a)[np.nonzero(a)])"
   ]
  },
  {
   "cell_type": "markdown",
   "metadata": {},
   "source": [
    "np.min(ptRNA_red20[np.nonzero(ptRNA_red20)]"
   ]
  },
  {
   "cell_type": "code",
   "execution_count": 18,
   "metadata": {},
   "outputs": [
    {
     "name": "stdout",
     "output_type": "stream",
     "text": [
      "elongt wildtype 173.44537806058804\n",
      "elongt uniform 179.08324128594163\n",
      "elongt codon-weighted correlated 162.42524525183458\n",
      "elongt codon-weighted anticorrelated 196.00742981509876\n"
     ]
    }
   ],
   "source": [
    "#mRFP gene optimization\n",
    "\n",
    "tRNA_distributions = {}\n",
    "tRNA_tags = ['Ala1B', 'Ala2', 'Arg2', 'Arg3', 'Arg4', 'Arg5', 'Asn', 'Asp1', 'Cys', 'Gln1', 'Gln2', 'Glu2', 'Gly2', 'Gly3', 'His', 'Ile1', 'Leu1', 'Leu2', 'Leu3', 'Leu4', 'Leu5', 'Lys', 'Met m', 'Phe', 'Pro1', 'Pro2', 'Pro3', 'Sec', 'Ser1', 'Ser2', 'Ser3', 'Ser5', 'Thr1', 'Thr2', 'Thr3', 'Thr4', 'Trp', 'Tyr1+Tyr2', 'Val1', 'Val2A+2B']\n",
    "codon_tags = ['GGG', 'GGA', 'GGU', 'GGC', 'GAG', 'GAA', 'GAU', 'GAC', 'GUG', 'GUA', 'GUU', 'GUC', 'GCG', 'GCA', 'GCU', 'GCC', 'AGG', 'AGA', 'AGU', 'AGC', 'AAG', 'AAA', 'AAU', 'AAC', 'AUG', 'AUA', 'AUU', 'AUC', 'ACG', 'ACA', 'ACU', 'ACC', 'UGG', 'UGA', 'UGU', 'UGC', 'UAU', 'UAC', 'UUG', 'UUA', 'UUU', 'UUC', 'UCG', 'UCA', 'UCU', 'UCC', 'CGG', 'CGA', 'CGU', 'CGC', 'CAG', 'CAA', 'CAU', 'CAC', 'CUG', 'CUA', 'CUU', 'CUC', 'CCG', 'CCA', 'CCU', 'CCC']\n",
    "\n",
    "\n",
    "from analysis_utils import *\n",
    "gene_map, pCodon_mRFP = singlegene_to_genemap('/Users/akshay/Documents/tRNAShuffle/data/tables/mRFP_RED20.csv')\n",
    "#wildtype\n",
    "ptRNA_red20 = pd.read_excel('./data/tables/tRNAValues_RED20.xlsx',header=None)\n",
    "ptRNA_red20 = ptRNA_red20[6]/sum(ptRNA_red20[6])\n",
    "\n",
    "codon_elongt = compute_codon_elongt(ptRNA_red20, len(pCodon_GFP), ensmbl_latency_dict)\n",
    "avg_elongt_wt = compute_gene_elongt_genemap(gene_map['mRFP_RED20'],codon_elongt)\n",
    "print('elongt wildtype', avg_elongt_wt)\n",
    "tRNA_distributions['mRFP_RED20'] = [avg_elongt_wt,dict(zip(tRNA_tags,ptRNA_red20)),dict(zip(codon_tags,pCodon_mRFP))]\n",
    "\n",
    "#Uniform\n",
    "ptRNA_red20_uniform = pd.read_excel('./data/tables/tRNAValues_RED20.xlsx',header=None)\n",
    "ptRNA_red20_uniform = ptRNA_red20_uniform[6]/sum(ptRNA_red20_uniform[6])\n",
    "ptRNA_red20_uniform[ptRNA_red20_uniform>0] = 1/20\n",
    "\n",
    "codon_elongt = compute_codon_elongt(ptRNA_red20_uniform, len(pCodon_GFP), ensmbl_latency_dict)\n",
    "avg_elongt_uniform = compute_gene_elongt_genemap(gene_map['mRFP_RED20'],codon_elongt)\n",
    "print('elongt uniform', avg_elongt_uniform)\n",
    "tRNA_distributions['mRFP_uniform'] = [avg_elongt_uniform,dict(zip(tRNA_tags,ptRNA_red20_uniform)),dict(zip(codon_tags,pCodon_mRFP))]\n",
    "\n",
    "\n",
    "#GFP Codon-weighted correlated\n",
    "\n",
    "ptRNA_red20 = pd.read_excel('./data/tables/tRNAValues_RED20.xlsx',header=None)\n",
    "ptRNA_red20 = ptRNA_red20[6]/sum(ptRNA_red20[6])\n",
    "ptRNA_dict, pcodon_dict, codon_dict, codonLabels, pCodon, tRNA_dict = cognateDistrib(ptRNA_red20,pCodon_mRFP,extra2=True)\n",
    "tRNA_sum_dict = tRNA_dict.copy()\n",
    "tRNA_weightedbycodon = list()\n",
    "for keys in tRNA_dict.keys():\n",
    "    tRNA_sum_dict[keys] = (sum([pcodon_dict[tRNA_key] for tRNA_key in tRNA_dict[keys]]))\n",
    "tRNA_weightedbycodon = list(tRNA_sum_dict.values())/sum(tRNA_sum_dict.values())\n",
    "tRNA_sorted_indices = np.flip(tRNA_weightedbycodon.argsort())\n",
    "tRNA_sorted = np.array(tRNA_tags)[tRNA_sorted_indices]\n",
    "\n",
    "##Assign monotonic increase to GFP codon-sorted tRNA\n",
    "ptRNA_sorted = tRNA_weightedbycodon[tRNA_sorted_indices]\n",
    "sortedtRNAdict = dict(zip(tRNA_sorted, ptRNA_sorted))\n",
    "resortedtRNA = [sortedtRNAdict[tRNA] for tRNA in tRNA_tags]\n",
    "\n",
    "codon_elongt = compute_codon_elongt(resortedtRNA, len(pCodon_GFP), ensmbl_latency_dict)\n",
    "avg_elongt_codonweightedcorrelated = compute_gene_elongt_genemap(gene_map['mRFP_RED20'],codon_elongt)\n",
    "print('elongt codon-weighted correlated', avg_elongt_codonweightedcorrelated)\n",
    "\n",
    "tRNA_distributions['mRFP_codonweightedcorrelated'] = [avg_elongt_codonweightedcorrelated,dict(zip(tRNA_tags,resortedtRNA)),dict(zip(codon_tags,pCodon_mRFP))]\n",
    "\n",
    "\n",
    "#GFP Codon-weighted anticorrelated\n",
    "tRNA_tags = ['Ala1B', 'Ala2', 'Arg2', 'Arg3', 'Arg4', 'Arg5', 'Asn', 'Asp1', 'Cys', 'Gln1', 'Gln2', 'Glu2', 'Gly2', 'Gly3', 'His', 'Ile1', 'Leu1', 'Leu2', 'Leu3', 'Leu4', 'Leu5', 'Lys', 'Met m', 'Phe', 'Pro1', 'Pro2', 'Pro3', 'Sec', 'Ser1', 'Ser2', 'Ser3', 'Ser5', 'Thr1', 'Thr2', 'Thr3', 'Thr4', 'Trp', 'Tyr1+Tyr2', 'Val1', 'Val2A+2B']\n",
    "codon_tags = ['GGG', 'GGA', 'GGU', 'GGC', 'GAG', 'GAA', 'GAU', 'GAC', 'GUG', 'GUA', 'GUU', 'GUC', 'GCG', 'GCA', 'GCU', 'GCC', 'AGG', 'AGA', 'AGU', 'AGC', 'AAG', 'AAA', 'AAU', 'AAC', 'AUG', 'AUA', 'AUU', 'AUC', 'ACG', 'ACA', 'ACU', 'ACC', 'UGG', 'UGA', 'UGU', 'UGC', 'UAU', 'UAC', 'UUG', 'UUA', 'UUU', 'UUC', 'UCG', 'UCA', 'UCU', 'UCC', 'CGG', 'CGA', 'CGU', 'CGC', 'CAG', 'CAA', 'CAU', 'CAC', 'CUG', 'CUA', 'CUU', 'CUC', 'CCG', 'CCA', 'CCU', 'CCC']\n",
    "\n",
    "ptRNA_red20 = pd.read_excel('./data/tables/tRNAValues_RED20.xlsx',header=None)\n",
    "ptRNA_red20 = ptRNA_red20[6]/sum(ptRNA_red20[6])\n",
    "ptRNA_dict, pcodon_dict, codon_dict, codonLabels, pCodon, tRNA_dict = cognateDistrib(ptRNA_red20,pCodon_mRFP,extra2=True)\n",
    "tRNA_sum_dict = tRNA_dict.copy()\n",
    "tRNA_weightedbycodon = list()\n",
    "for keys in tRNA_dict.keys():\n",
    "    tRNA_sum_dict[keys] = (sum([pcodon_dict[tRNA_key] for tRNA_key in tRNA_dict[keys]]))\n",
    "tRNA_weightedbycodon = list(tRNA_sum_dict.values())/sum(tRNA_sum_dict.values())\n",
    "tRNA_sorted_indices = np.flip(tRNA_weightedbycodon.argsort())\n",
    "tRNA_sorted = np.array(tRNA_tags)[tRNA_sorted_indices]\n",
    "\n",
    "##Assign monotonic increase to GFP codon-sorted tRNA\n",
    "ptRNA_sorted = tRNA_weightedbycodon[tRNA_sorted_indices]\n",
    "ptRNA_sorted_flipped = np.append(np.flip([ptRNA for ptRNA in ptRNA_sorted if ptRNA != 0]),np.array([ptRNA for ptRNA in ptRNA_sorted if ptRNA == 0]))\n",
    "sortedtRNAdict = dict(zip(tRNA_sorted, ptRNA_sorted_flipped))\n",
    "resortedtRNA = [sortedtRNAdict[tRNA] for tRNA in tRNA_tags]\n",
    "\n",
    "codon_elongt = compute_codon_elongt(resortedtRNA, len(pCodon_GFP), ensmbl_latency_dict)\n",
    "avg_elongt_codonweightedanticorrelated = compute_gene_elongt_genemap(gene_map['mRFP_RED20'],codon_elongt)\n",
    "print('elongt codon-weighted anticorrelated', avg_elongt_codonweightedanticorrelated)\n",
    "\n",
    "tRNA_distributions['mRFP_codonweightedanticorrelated'] = [avg_elongt_codonweightedanticorrelated,dict(zip(tRNA_tags,resortedtRNA)),dict(zip(codon_tags,pCodon_mRFP))]\n",
    "\n",
    "\n",
    "########### Genetic algorithm fast and slow #############\n",
    "\n",
    "elongt_list_fast =np.load('./data/UniformRandomtRNA_minimalcode-mRFP_2ksample_fasttRNA_elongt.npy')\n",
    "ptRNA_list_fast=np.load('./data/UniformRandomtRNA_minimalcode-mRFP_2ksample_fasttRNA_ptRNA.npy')\n",
    "elongt_fastest = np.min(elongt_list_fast)\n",
    "ptRNA_min = ptRNA_list_fast[np.argmin(elongt_list_fast)]\n",
    "tRNA_distributions['mRFP_gafast'] = [elongt_fastest,dict(zip(tRNA_tags,ptRNA_min)),dict(zip(codon_tags,pCodon_mRFP))]\n",
    "\n",
    "elongt_list_slow =np.load('./data/UniformRandomtRNA_minimalcode-mRFP_2ksample_slowtRNA_elongt.npy')\n",
    "ptRNA_list_slow =np.load('./data/UniformRandomtRNA_minimalcode-mRFP_2ksample_slowtRNA_ptRNA.npy')\n",
    "elongt_slowest = np.max(elongt_list_slow)\n",
    "ptRNA_max = ptRNA_list_slow[np.argmax(elongt_list_slow)]\n",
    "tRNA_distributions['mRFP_gaslow'] = [elongt_slowest,dict(zip(tRNA_tags,ptRNA_max)),dict(zip(codon_tags,pCodon_mRFP))]\n",
    "\n",
    "\n",
    "######### Export all to pickle ##############\n",
    "\n",
    "import pickle\n",
    "with open('tRNA_distributions-mRFP.pickle', 'wb') as handle:\n",
    "    pickle.dump(tRNA_distributions, handle, protocol=pickle.HIGHEST_PROTOCOL)"
   ]
  },
  {
   "cell_type": "code",
   "execution_count": null,
   "metadata": {},
   "outputs": [],
   "source": []
  },
  {
   "cell_type": "code",
   "execution_count": null,
   "metadata": {},
   "outputs": [],
   "source": [
    "#Max elongt check w/ all tRNA zero but one tRNA = 1 probability, as control\n",
    "ptRNA_red20_zeros = pd.read_excel('./data/tables/tRNAValues_RED20.xlsx',header=None)\n",
    "ptRNA_red20_zeros = ptRNA_red20_zeros[6]/sum(ptRNA_red20_zeros[6])\n",
    "ptRNA_red20_zeros[ptRNA_red20_zeros>0] = 0\n",
    "ptRNA_red20_zeros[1] = 1\n",
    "\n",
    "codon_elongt = compute_codon_elongt(ptRNA_red20_zeros, len(pCodon_GFP), ensmbl_latency_dict)\n",
    "avg_elongt_max = compute_gene_elongt_genemap(gene_map['sfGFP_RED20'],codon_elongt)\n",
    "print('elongt max', avg_elongt_max)"
   ]
  },
  {
   "cell_type": "code",
   "execution_count": null,
   "metadata": {},
   "outputs": [],
   "source": []
  },
  {
   "cell_type": "code",
   "execution_count": null,
   "metadata": {},
   "outputs": [],
   "source": []
  },
  {
   "cell_type": "code",
   "execution_count": 2,
   "metadata": {},
   "outputs": [],
   "source": [
    "import pickle\n",
    "with open(r\"tRNA_distributions-GFP.pickle\", \"rb\") as input_file:\n",
    "    e = pickle.load(input_file)"
   ]
  },
  {
   "cell_type": "code",
   "execution_count": 34,
   "metadata": {},
   "outputs": [
    {
     "ename": "NameError",
     "evalue": "name 'e' is not defined",
     "output_type": "error",
     "traceback": [
      "\u001b[0;31m---------------------------------------------------------------------------\u001b[0m",
      "\u001b[0;31mNameError\u001b[0m                                 Traceback (most recent call last)",
      "\u001b[0;32m/var/folders/ht/q05lxg2n6vq4wbnbcfkt9kmc0000gn/T/ipykernel_40036/4052116570.py\u001b[0m in \u001b[0;36m<module>\u001b[0;34m\u001b[0m\n\u001b[0;32m----> 1\u001b[0;31m \u001b[0me\u001b[0m\u001b[0;34m[\u001b[0m\u001b[0;34m'GFP_gafast'\u001b[0m\u001b[0;34m]\u001b[0m\u001b[0;34m\u001b[0m\u001b[0;34m\u001b[0m\u001b[0m\n\u001b[0m",
      "\u001b[0;31mNameError\u001b[0m: name 'e' is not defined"
     ]
    }
   ],
   "source": [
    "e['GFP_gafast']"
   ]
  },
  {
   "cell_type": "code",
   "execution_count": 10,
   "metadata": {},
   "outputs": [],
   "source": [
    "#GFP GA slow fast optimization\n",
    "\n",
    "tRNA_distributions = {}\n",
    "from analysis_utils import *\n",
    "gene_map, pCodon_GFP = singlegene_to_genemap('/Users/akshay/Documents/tRNAShuffle/data/tables/sfGFP_RED20.csv')\n",
    "\n",
    "tRNA_tags = ['Ala1B', 'Ala2', 'Arg2', 'Arg3', 'Arg4', 'Arg5', 'Asn', 'Asp1', 'Cys', 'Gln1', 'Gln2', 'Glu2', 'Gly2', 'Gly3', 'His', 'Ile1', 'Leu1', 'Leu2', 'Leu3', 'Leu4', 'Leu5', 'Lys', 'Met m', 'Phe', 'Pro1', 'Pro2', 'Pro3', 'Sec', 'Ser1', 'Ser2', 'Ser3', 'Ser5', 'Thr1', 'Thr2', 'Thr3', 'Thr4', 'Trp', 'Tyr1+Tyr2', 'Val1', 'Val2A+2B']\n",
    "codon_tags = ['GGG', 'GGA', 'GGU', 'GGC', 'GAG', 'GAA', 'GAU', 'GAC', 'GUG', 'GUA', 'GUU', 'GUC', 'GCG', 'GCA', 'GCU', 'GCC', 'AGG', 'AGA', 'AGU', 'AGC', 'AAG', 'AAA', 'AAU', 'AAC', 'AUG', 'AUA', 'AUU', 'AUC', 'ACG', 'ACA', 'ACU', 'ACC', 'UGG', 'UGA', 'UGU', 'UGC', 'UAU', 'UAC', 'UUG', 'UUA', 'UUU', 'UUC', 'UCG', 'UCA', 'UCU', 'UCC', 'CGG', 'CGA', 'CGU', 'CGC', 'CAG', 'CAA', 'CAU', 'CAC', 'CUG', 'CUA', 'CUU', 'CUC', 'CCG', 'CCA', 'CCU', 'CCC']\n",
    "\n",
    "import numpy as np\n",
    "elongt_list_fast =np.load('./data/UniformRandomtRNA_minimalcode-sfGFP_2ksample_fasttRNA_elongt.npy')\n",
    "ptRNA_list_fast=np.load('./data/UniformRandomtRNA_minimalcode-sfGFP_2ksample_fasttRNA_ptRNA.npy')\n",
    "elongt_fastest = np.min(elongt_list_fast)\n",
    "ptRNA_min = ptRNA_list_fast[np.argmin(elongt_list_fast)]\n",
    "tRNA_distributions['GFP_gafast'] = [elongt_fastest,dict(zip(tRNA_tags,ptRNA_min)),dict(zip(codon_tags,pCodon_GFP))]\n",
    "\n",
    "elongt_list_slow =np.load('./data/UniformRandomtRNA_minimalcode-sfGFP_2ksample_slowtRNA_elongt.npy')\n",
    "ptRNA_list_slow =np.load('./data/UniformRandomtRNA_minimalcode-sfGFP_2ksample_slowtRNA_ptRNA.npy')\n",
    "elongt_slowest = np.max(elongt_list_slow)\n",
    "ptRNA_max = ptRNA_list_slow[np.argmax(elongt_list_slow)]\n",
    "tRNA_distributions['GFP_gaslow'] = [elongt_slowest,dict(zip(tRNA_tags,ptRNA_max)),dict(zip(codon_tags,pCodon_GFP))]\n",
    "\n",
    "\n"
   ]
  },
  {
   "cell_type": "code",
   "execution_count": 13,
   "metadata": {},
   "outputs": [
    {
     "data": {
      "text/plain": [
       "array([0.00606658, 0.        , 0.00228968, 0.        , 0.        ,\n",
       "       0.        , 0.00326699, 0.0043185 , 0.01338964, 0.        ,\n",
       "       0.00289458, 0.00679118, 0.00462071, 0.        , 0.00381738,\n",
       "       0.00304735, 0.        , 0.        , 0.00259271, 0.        ,\n",
       "       0.        , 0.00221045, 0.01085204, 0.01972292, 0.62466653,\n",
       "       0.        , 0.        , 0.        , 0.0024463 , 0.        ,\n",
       "       0.        , 0.        , 0.00356713, 0.        , 0.        ,\n",
       "       0.        , 0.27650342, 0.00404843, 0.        , 0.00288748])"
      ]
     },
     "execution_count": 13,
     "metadata": {},
     "output_type": "execute_result"
    }
   ],
   "source": [
    "ptRNA_list_slow[2]"
   ]
  },
  {
   "cell_type": "code",
   "execution_count": 54,
   "metadata": {},
   "outputs": [
    {
     "data": {
      "text/plain": [
       "([159.10309724668667], [7.614853533501633])"
      ]
     },
     "execution_count": 54,
     "metadata": {},
     "output_type": "execute_result"
    }
   ],
   "source": [
    "gene_map, pCodon_GFP = singlegene_to_genemap('/Users/akshay/Documents/tRNAShuffle/data/tables/sfGFP_RED20.csv')\n",
    "ptRNA = [0.0059797, 0.,         0.07493208, 0.,        0.     ,    0.,\n",
    " 0.07962803, 0.07506485, 0.00259992 ,0.        , 0.0160313  ,0.07524019,\n",
    " 0.08669846 ,0.         ,0.04863804 ,0.05502781 ,0.         ,0.,\n",
    " 0.08228277 ,0.         ,0.         ,0.07989156 ,0.00939848 ,0.04610216,\n",
    " 0.00408228 ,0.         ,0.         ,0.         ,0.06124321 ,0.,\n",
    " 0.         ,0.         ,0.09661121 ,0.         ,0.         ,0.,\n",
    " 0.0139354  ,0.01994671 ,0.         ,0.06666584]\n",
    "\n",
    "computeElongationLatency(ptRNA,pCodon_GFP,ensmbl_latency_dict)"
   ]
  },
  {
   "cell_type": "code",
   "execution_count": 57,
   "metadata": {},
   "outputs": [
    {
     "data": {
      "text/plain": [
       "([216.99230779540477], [15.364193395706891])"
      ]
     },
     "execution_count": 57,
     "metadata": {},
     "output_type": "execute_result"
    }
   ],
   "source": [
    "gene_map, pCodon_GFP = singlegene_to_genemap('/Users/akshay/Documents/tRNAShuffle/data/tables/sfGFP_RED20.csv')\n",
    "ptRNA = np.ones(40)*0.00001\n",
    "\n",
    "computeElongationLatency(ptRNA,pCodon_GFP,ensmbl_latency_dict)"
   ]
  },
  {
   "cell_type": "markdown",
   "metadata": {},
   "source": [
    "# Make Heatplot GA fast vs. Uniform vs. GA slow"
   ]
  },
  {
   "cell_type": "code",
   "execution_count": 94,
   "metadata": {},
   "outputs": [
    {
     "name": "stderr",
     "output_type": "stream",
     "text": [
      "/Users/akshay/opt/anaconda3/lib/python3.8/site-packages/openpyxl/worksheet/_reader.py:312: UserWarning: Unknown extension is not supported and will be removed\n",
      "  warn(msg)\n"
     ]
    },
    {
     "name": "stdout",
     "output_type": "stream",
     "text": [
      "Number of polypeptides reported:  4434\n",
      "Returned gene map of length  15934\n",
      "Removed  24  non-divisible by three genes\n",
      "['insAB1', 'insCD2', 'dgd', 'insCD4', 'insCD6', 'alaB', 'prfB', 'supK', 'b2891', 'ECK2886', 'insCD3', 'insEF4', 'insAB2', 'insEF5', 'insCD1', 'insAB5', 'insEF1', 'insCD5', 'insEF3', 'insAB3', 'insJK', 'insAB4', 'insEF2', 'insAB6']\n",
      "Unique transcripts without a Gene identifier:  272\n",
      "Sequences not available for # genes in Ecocyc DB:  153\n",
      "Inconsistency in codons:  0\n",
      "3767\n",
      "Missing genes in transcriptome_dict in compute_transcript_distributions:  133\n"
     ]
    }
   ],
   "source": [
    "ptRNA_red20 = pd.read_excel('./data/tables/tRNAValues_RED20.xlsx',header=None)\n",
    "ptRNA_red20 = ptRNA_red20[6]/sum(ptRNA_red20[6])\n",
    "codon_elongt = compute_codon_elongt(ptRNA_red20, len(gr25_pCodon), ensmbl_latency_dict)\n",
    "gene_map, gene_latency = compute_gene_elongt(codon_elongt,red20=True)\n",
    "pCodon_transcriptome, transcriptome_elongt = compute_transcript_distributions(gene_map, gene_latency)\n",
    "ptRNA_dict, pcodon_dict, codon_dict, codonLabels, pCodon, tRNA_dict = cognateDistrib(ptRNA_red20,pCodon_transcriptome,extra2=True)"
   ]
  },
  {
   "cell_type": "code",
   "execution_count": 95,
   "metadata": {},
   "outputs": [
    {
     "name": "stdout",
     "output_type": "stream",
     "text": [
      "fast 158.78437455994464\n",
      "uniform 181.7079011198748\n",
      "slow 220.56648350026717\n"
     ]
    },
    {
     "name": "stderr",
     "output_type": "stream",
     "text": [
      "/var/folders/ht/q05lxg2n6vq4wbnbcfkt9kmc0000gn/T/ipykernel_87004/686909764.py:73: UserWarning: This figure includes Axes that are not compatible with tight_layout, so results might be incorrect.\n",
      "  plt.tight_layout()\n"
     ]
    },
    {
     "data": {
      "image/png": "[encoded data removed]",
      "text/plain": [
       "<Figure size 504x432 with 4 Axes>"
      ]
     },
     "metadata": {
      "needs_background": "light"
     },
     "output_type": "display_data"
    }
   ],
   "source": [
    "ptRNA_list_uniform = np.load('./data/minimaltRNA_minimalcode-sfGFP_100sample_ptRNA.npy')\n",
    "ptRNA_list_fast=np.load('./data/UniformRandomtRNA_minimalcode-sfGFP_2ksample_fasttRNA_ptRNA.npy')\n",
    "ptRNA_list_slow =np.load('./data/UniformRandomtRNA_minimalcode-sfGFP_2ksample_slowtRNA_ptRNA.npy')\n",
    "\n",
    "elongt_list_uniform = np.load('./data/minimaltRNA_minimalcode-sfGFP_100sample_elongt.npy')\n",
    "elongt_list_fast=np.load('./data/UniformRandomtRNA_minimalcode-sfGFP_2ksample_fasttRNA_elongt.npy')\n",
    "elongt_list_slow =np.load('./data/UniformRandomtRNA_minimalcode-sfGFP_2ksample_slowtRNA_elongt.npy')\n",
    "\n",
    "tRNA_tags = [\"Ala1B\", \"Ala2\", \"Arg2\", \"Arg3\", \"Arg4\", \"Arg5\", \"Asn\", \"Asp1\", \"Cys\", \"Gln1\", \"Gln2\", \\\n",
    "\"Glu2\", \"Gly2\", \"Gly3\", \"His\", \"Ile1\", \"Leu1\", \"Leu2\", \"Leu3\", \"Leu4\", \"Leu5\", \"Lys\", \\\n",
    "\"Met_m\", \"Phe\", \"Pro1\", \"Pro2\", \"Pro3\", \"Sel_Cys\", \"Ser1\", \"Ser2\", \"Ser3\", \"Ser5\", \"Thr1\", \\\n",
    "\"Thr2\", \"Thr3\", \"Thr4\", \"Trp\", \"Tyr1pTyr2\", \"Val1\", \"Val2ApB\"]\n",
    "\n",
    "#Sort tRNA by codon usage in transcriptome and plot baseline tRNA frequency\n",
    "tRNA_sum_dict = tRNA_dict.copy()\n",
    "tRNA_weightedbycodon = list()\n",
    "for keys in tRNA_dict.keys():\n",
    "    tRNA_sum_dict[keys] = (sum([pcodon_dict[tRNA_key] for tRNA_key in tRNA_dict[keys]]))\n",
    "tRNA_weightedbycodon = list(tRNA_sum_dict.values())/sum(tRNA_sum_dict.values())\n",
    "tRNA_sorted_indices = np.flip(tRNA_weightedbycodon.argsort())\n",
    "tRNA_sorted = np.array(tRNA_tags)[tRNA_sorted_indices]\n",
    "ptRNA_sorted = gr25_ptRNA[tRNA_sorted_indices]\n",
    "\n",
    "#Resort ptRNA_min and plot\n",
    "ptRNA_min = ptRNA_list_fast[np.argmin(elongt_list_fast)]\n",
    "ptRNA_min_dict = dict(zip(tRNA_tags,ptRNA_min))\n",
    "ptRNA_min_sorted=[ptRNA_min_dict[tRNA] for tRNA in tRNA_sorted]\n",
    "print(\"fast\",np.average(elongt_list_fast))\n",
    "\n",
    "fig, (ax,ax2,ax3) = plt.subplots(nrows=3, sharex=True,figsize=(7,6))\n",
    "\n",
    "x = np.arange(0,40)\n",
    "y = np.array(ptRNA_min_sorted)\n",
    "extent = [x[0]-(x[1]-x[0])/2., x[-1]+(x[1]-x[0])/2.,0,1]\n",
    "heatmap = ax.imshow(y[np.newaxis,:], cmap=\"plasma\", aspect=\"auto\", extent=extent,vmin=0,vmax=0.08)\n",
    "ax.set_yticks([])\n",
    "ax.set_xlim(extent[0], extent[1])\n",
    "plt.xticks(range(len(tRNA_tags)), tRNA_sorted,rotation='vertical')\n",
    "ax.tick_params(axis='x', which='major', labelsize=9)\n",
    "\n",
    "#Uniform\n",
    "ptRNA_uniform = ptRNA_list_uniform[0]\n",
    "ptRNA_uniform_dict = dict(zip(tRNA_tags,ptRNA_uniform))\n",
    "ptRNA_uniform_sorted=[ptRNA_uniform_dict[tRNA] for tRNA in tRNA_sorted]\n",
    "x = np.arange(0,40)\n",
    "y = np.array(ptRNA_uniform_sorted)\n",
    "extent = [x[0]-(x[1]-x[0])/2., x[-1]+(x[1]-x[0])/2.,0,1]\n",
    "ax2.imshow(y[np.newaxis,:], cmap=\"plasma\", aspect=\"auto\", extent=extent,vmin=0,vmax=0.08)\n",
    "ax2.set_yticks([])\n",
    "ax2.set_xlim(extent[0], extent[1])\n",
    "print(\"uniform\",np.average(elongt_list_uniform))\n",
    "\n",
    "\n",
    "#Resort ptRNA_max and plot\n",
    "ptRNA_max = ptRNA_list_slow[np.argmax(elongt_list_slow)]\n",
    "ptRNA_max_dict = dict(zip(tRNA_tags,ptRNA_max))\n",
    "ptRNA_max_sorted=[ptRNA_max_dict[tRNA] for tRNA in tRNA_sorted]\n",
    "print(\"slow\",np.average(elongt_list_slow))\n",
    "x = np.arange(0,40)\n",
    "y = np.array(ptRNA_max_sorted)\n",
    "extent = [x[0]-(x[1]-x[0])/2., x[-1]+(x[1]-x[0])/2.,0,1]\n",
    "heatmap = ax3.imshow(y[np.newaxis,:], cmap=\"plasma\", aspect=\"auto\", extent=extent,vmin=0,vmax=0.08)\n",
    "ax3.set_yticks([])\n",
    "ax3.set_xlim(extent[0], extent[1])\n",
    "plt.xticks(range(len(tRNA_tags)), tRNA_sorted,rotation='vertical')\n",
    "ax3.tick_params(axis='x', which='major', labelsize=9)\n",
    "\n",
    "fig.subplots_adjust(right=0.8)\n",
    "cbar_ax = fig.add_axes([1.0, 0.21, 0.05, 0.7])\n",
    "cbar = fig.colorbar(heatmap, cax=cbar_ax)\n",
    "cbar.ax.tick_params(labelsize=20)\n",
    "\n",
    "plt.tight_layout()\n",
    "plt.show()    \n",
    "fig.savefig('./Figures/Heatmap_GFPexpression_fastuniformslow_transcriptomesorted.svg', dpi=300,bbox_inches='tight')"
   ]
  },
  {
   "cell_type": "code",
   "execution_count": 337,
   "metadata": {},
   "outputs": [],
   "source": [
    "gene_map, pCodon_GFP = singlegene_to_genemap('/Users/akshay/Documents/tRNAShuffle/data/tables/sfGFP_RED20.csv')\n",
    "ptRNA_dict, pcodon_dict, codon_dict, codonLabels, pCodon, tRNA_dict = cognateDistrib(ptRNA_red20,pCodon_GFP,extra2=True)"
   ]
  },
  {
   "cell_type": "code",
   "execution_count": 338,
   "metadata": {},
   "outputs": [
    {
     "name": "stdout",
     "output_type": "stream",
     "text": [
      "[0.10302599368310193, 0.09902026535639162, 0.08726581015701147, 0.10404578554751469, 0.07126737930405906, 0.0, 0.07312459403581285, 0.05959373167753873, 0.0781333287422843, 0.04439438813084877, 0.05005884125288748, 0.04232258403539275, 0.033396327046990734, 0.0, 0.013371694000643442, 0.039550072265957296, 0.0384598298438721, 0.012213740457866095, 0.013887117315757497, 0.01241237943655594, 0.012242397251647124, 0.012213740457866095, 0.0, 0.0, 0.0, 0.0, 0.0, 0.0, 0.0, 0.0, 0.0, 0.0, 0.0, 0.0, 0.0, 0.0, 0.0, 0.0, 0.0, 0.0]\n",
      "fast 158.78437455994464\n",
      "uniform 181.7079011198748\n",
      "slow 220.56648350026717\n"
     ]
    },
    {
     "name": "stderr",
     "output_type": "stream",
     "text": [
      "/var/folders/ht/q05lxg2n6vq4wbnbcfkt9kmc0000gn/T/ipykernel_87004/2448642912.py:76: UserWarning: This figure includes Axes that are not compatible with tight_layout, so results might be incorrect.\n",
      "  plt.tight_layout()\n"
     ]
    },
    {
     "data": {
      "image/png": "[encoded data removed]",
      "text/plain": [
       "<Figure size 504x432 with 4 Axes>"
      ]
     },
     "metadata": {
      "needs_background": "light"
     },
     "output_type": "display_data"
    }
   ],
   "source": [
    "ptRNA_list_uniform = np.load('./data/minimaltRNA_minimalcode-sfGFP_100sample_ptRNA.npy')\n",
    "ptRNA_list_fast=np.load('./data/UniformRandomtRNA_minimalcode-sfGFP_2ksample_fasttRNA_ptRNA.npy')\n",
    "ptRNA_list_slow =np.load('./data/UniformRandomtRNA_minimalcode-sfGFP_2ksample_slowtRNA_ptRNA.npy')\n",
    "\n",
    "elongt_list_uniform = np.load('./data/minimaltRNA_minimalcode-sfGFP_100sample_elongt.npy')\n",
    "elongt_list_fast=np.load('./data/UniformRandomtRNA_minimalcode-sfGFP_2ksample_fasttRNA_elongt.npy')\n",
    "elongt_list_slow =np.load('./data/UniformRandomtRNA_minimalcode-sfGFP_2ksample_slowtRNA_elongt.npy')\n",
    "\n",
    "tRNA_tags = [\"Ala1B\", \"Ala2\", \"Arg2\", \"Arg3\", \"Arg4\", \"Arg5\", \"Asn\", \"Asp1\", \"Cys\", \"Gln1\", \"Gln2\", \\\n",
    "\"Glu2\", \"Gly2\", \"Gly3\", \"His\", \"Ile1\", \"Leu1\", \"Leu2\", \"Leu3\", \"Leu4\", \"Leu5\", \"Lys\", \\\n",
    "\"Met_m\", \"Phe\", \"Pro1\", \"Pro2\", \"Pro3\", \"Sel_Cys\", \"Ser1\", \"Ser2\", \"Ser3\", \"Ser5\", \"Thr1\", \\\n",
    "\"Thr2\", \"Thr3\", \"Thr4\", \"Trp\", \"Tyr1pTyr2\", \"Val1\", \"Val2ApB\"]\n",
    "\n",
    "#Sort tRNA by codon usage in transcriptome and plot baseline tRNA frequency\n",
    "tRNA_sum_dict = tRNA_dict.copy()\n",
    "tRNA_weightedbycodon = list()\n",
    "for keys in tRNA_dict.keys():\n",
    "    tRNA_sum_dict[keys] = (sum([pcodon_dict[tRNA_key] for tRNA_key in tRNA_dict[keys]]))\n",
    "tRNA_weightedbycodon = list(tRNA_sum_dict.values())/sum(tRNA_sum_dict.values())\n",
    "tRNA_sorted_indices = np.flip(tRNA_weightedbycodon.argsort())\n",
    "tRNA_sorted = np.array(tRNA_tags)[tRNA_sorted_indices]\n",
    "ptRNA_sorted = gr25_ptRNA[tRNA_sorted_indices]\n",
    "\n",
    "#Resort ptRNA_min and plot\n",
    "ptRNA_min = ptRNA_list_fast[np.argmin(elongt_list_fast)]\n",
    "ptRNA_min_dict = dict(zip(tRNA_tags,ptRNA_min))\n",
    "ptRNA_min_sorted=[ptRNA_min_dict[tRNA] for tRNA in tRNA_sorted]\n",
    "print(ptRNA_min_sorted)\n",
    "print(\"fast\",np.average(elongt_list_fast))\n",
    "\n",
    "fig, (ax,ax2,ax3) = plt.subplots(nrows=3, sharex=True,figsize=(7,6))\n",
    "\n",
    "x = np.arange(0,40)\n",
    "y = np.array(ptRNA_min_sorted)\n",
    "extent = [x[0]-(x[1]-x[0])/2., x[-1]+(x[1]-x[0])/2.,0,1]\n",
    "heatmap = ax.imshow(y[np.newaxis,:], cmap=\"plasma\", aspect=\"auto\", extent=extent,vmin=0,vmax=0.08)\n",
    "ax.set_yticks([])\n",
    "ax.set_xlim(extent[0], extent[1])\n",
    "plt.xticks(range(len(tRNA_tags)), tRNA_sorted,rotation='vertical')\n",
    "ax.tick_params(axis='x', which='major', labelsize=9)\n",
    "\n",
    "#Uniform\n",
    "ptRNA_uniform = ptRNA_list_uniform[0]\n",
    "ptRNA_uniform_dict = dict(zip(tRNA_tags,ptRNA_uniform))\n",
    "ptRNA_uniform_sorted=[ptRNA_uniform_dict[tRNA] for tRNA in tRNA_sorted]\n",
    "x = np.arange(0,40)\n",
    "y = np.ones(40)/20\n",
    "y[[5,13]] = 0\n",
    "y[22:] = 0\n",
    "extent = [x[0]-(x[1]-x[0])/2., x[-1]+(x[1]-x[0])/2.,0,1]\n",
    "ax2.imshow(y[np.newaxis,:], cmap=\"plasma\", aspect=\"auto\", extent=extent,vmin=0,vmax=0.08)\n",
    "ax2.set_yticks([])\n",
    "ax2.set_xlim(extent[0], extent[1])\n",
    "print(\"uniform\",np.average(elongt_list_uniform))\n",
    "\n",
    "\n",
    "#Resort ptRNA_max and plot\n",
    "ptRNA_max = ptRNA_list_slow[np.argmax(elongt_list_slow)]\n",
    "ptRNA_max_dict = dict(zip(tRNA_tags,ptRNA_max))\n",
    "ptRNA_max_sorted=[ptRNA_max_dict[tRNA] for tRNA in tRNA_sorted]\n",
    "print(\"slow\",np.average(elongt_list_slow))\n",
    "x = np.arange(0,40)\n",
    "y = np.array(ptRNA_max_sorted)\n",
    "extent = [x[0]-(x[1]-x[0])/2., x[-1]+(x[1]-x[0])/2.,0,1]\n",
    "heatmap = ax3.imshow(y[np.newaxis,:], cmap=\"plasma\", aspect=\"auto\", extent=extent,vmin=0,vmax=0.08)\n",
    "ax3.set_yticks([])\n",
    "ax3.set_xlim(extent[0], extent[1])\n",
    "plt.xticks(range(len(tRNA_tags)), tRNA_sorted,rotation='vertical')\n",
    "ax3.tick_params(axis='x', which='major', labelsize=9)\n",
    "\n",
    "fig.subplots_adjust(right=0.8)\n",
    "cbar_ax = fig.add_axes([1.0, 0.21, 0.05, 0.7])\n",
    "cbar = fig.colorbar(heatmap, cax=cbar_ax)\n",
    "cbar.ax.tick_params(labelsize=20)\n",
    "\n",
    "plt.tight_layout()\n",
    "plt.show()    \n",
    "fig.savefig('./Figures/Heatmap_GFPexpression_fastuniformslow_GFPsorted.svg', dpi=300,bbox_inches='tight')"
   ]
  },
  {
   "cell_type": "code",
   "execution_count": 361,
   "metadata": {},
   "outputs": [
    {
     "name": "stdout",
     "output_type": "stream",
     "text": [
      "[0.10302599368310193, 0.09902026535639162, 0.08726581015701147, 0.10404578554751469, 0.07126737930405906, 0.07312459403581285, 0.05959373167753873, 0.0781333287422843, 0.04439438813084877, 0.05005884125288748, 0.04232258403539275, 0.033396327046990734, 0.013371694000643442, 0.039550072265957296, 0.0384598298438721, 0.012213740457866095, 0.013887117315757497, 0.01241237943655594, 0.012242397251647124, 0.012213740457866095, 0.0, 0.0, 0.0, 0.0, 0.0, 0.0, 0.0, 0.0, 0.0, 0.0, 0.0, 0.0, 0.0, 0.0, 0.0, 0.0, 0.0, 0.0]\n",
      "fast 158.78437455994464\n",
      "uniform 181.7079011198748\n"
     ]
    },
    {
     "name": "stderr",
     "output_type": "stream",
     "text": [
      "/var/folders/ht/q05lxg2n6vq4wbnbcfkt9kmc0000gn/T/ipykernel_87004/241523177.py:63: UserWarning: This figure includes Axes that are not compatible with tight_layout, so results might be incorrect.\n",
      "  plt.tight_layout()\n"
     ]
    },
    {
     "data": {
      "image/png": "[encoded data removed]",
      "text/plain": [
       "<Figure size 504x144 with 2 Axes>"
      ]
     },
     "metadata": {
      "needs_background": "light"
     },
     "output_type": "display_data"
    }
   ],
   "source": [
    "ptRNA_list_uniform = np.load('./data/minimaltRNA_minimalcode-sfGFP_100sample_ptRNA.npy')\n",
    "ptRNA_list_fast=np.load('./data/UniformRandomtRNA_minimalcode-sfGFP_2ksample_fasttRNA_ptRNA.npy')\n",
    "ptRNA_list_slow =np.load('./data/UniformRandomtRNA_minimalcode-sfGFP_2ksample_slowtRNA_ptRNA.npy')\n",
    "\n",
    "elongt_list_uniform = np.load('./data/minimaltRNA_minimalcode-sfGFP_100sample_elongt.npy')\n",
    "elongt_list_fast=np.load('./data/UniformRandomtRNA_minimalcode-sfGFP_2ksample_fasttRNA_elongt.npy')\n",
    "elongt_list_slow =np.load('./data/UniformRandomtRNA_minimalcode-sfGFP_2ksample_slowtRNA_elongt.npy')\n",
    "\n",
    "tRNA_tags = [\"Ala1B\", \"Ala2\", \"Arg2\", \"Arg3\", \"Arg4\", \"Arg5\", \"Asn\", \"Asp1\", \"Cys\", \"Gln1\", \"Gln2\", \\\n",
    "\"Glu2\", \"Gly2\", \"Gly3\", \"His\", \"Ile1\", \"Leu1\", \"Leu2\", \"Leu3\", \"Leu4\", \"Leu5\", \"Lys\", \\\n",
    "\"Met_m\", \"Phe\", \"Pro1\", \"Pro2\", \"Pro3\", \"Sel_Cys\", \"Ser1\", \"Ser2\", \"Ser3\", \"Ser5\", \"Thr1\", \\\n",
    "\"Thr2\", \"Thr3\", \"Thr4\", \"Trp\", \"Tyr1pTyr2\", \"Val1\", \"Val2ApB\"]\n",
    "\n",
    "\n",
    "#Sort tRNA by codon usage in transcriptome and plot baseline tRNA frequency\n",
    "tRNA_sum_dict = tRNA_dict.copy()\n",
    "tRNA_weightedbycodon = list()\n",
    "for keys in tRNA_dict.keys():\n",
    "    tRNA_sum_dict[keys] = (sum([pcodon_dict[tRNA_key] for tRNA_key in tRNA_dict[keys]]))\n",
    "tRNA_weightedbycodon = list(tRNA_sum_dict.values())/sum(tRNA_sum_dict.values())\n",
    "tRNA_sorted_indices = np.flip(tRNA_weightedbycodon.argsort())\n",
    "tRNA_sorted = np.array(tRNA_tags)[tRNA_sorted_indices]\n",
    "ptRNA_sorted = gr25_ptRNA[tRNA_sorted_indices]\n",
    "\n",
    "ptRNA_sorted=np.delete(ptRNA_sorted,5)\n",
    "ptRNA_sorted=np.delete(ptRNA_sorted,12)\n",
    "\n",
    "tRNA_sorted=np.delete(tRNA_sorted,5)\n",
    "tRNA_sorted=np.delete(tRNA_sorted,12)\n",
    "\n",
    "ptRNA_sorted = ptRNA_sorted[0:20]\n",
    "\n",
    "\n",
    "\n",
    "#Resort ptRNA_min and plot\n",
    "ptRNA_min = ptRNA_list_fast[np.argmin(elongt_list_fast)]\n",
    "ptRNA_min_dict = dict(zip(tRNA_tags,ptRNA_min))\n",
    "ptRNA_min_sorted=[ptRNA_min_dict[tRNA] for tRNA in tRNA_sorted]\n",
    "print(ptRNA_min_sorted)\n",
    "print(\"fast\",np.average(elongt_list_fast))\n",
    "\n",
    "fig, ax2 = plt.subplots(nrows=1, sharex=True,figsize=(7,2))\n",
    "\n",
    "#Uniform\n",
    "ptRNA_uniform = ptRNA_list_uniform[0]\n",
    "ptRNA_uniform_dict = dict(zip(tRNA_tags,ptRNA_uniform))\n",
    "ptRNA_uniform_sorted=[ptRNA_uniform_dict[tRNA] for tRNA in tRNA_sorted]\n",
    "x = np.arange(0,20)\n",
    "y = np.array(ptRNA_uniform_sorted)[0:20]\n",
    "extent = [x[0]-(x[1]-x[0])/2., x[-1]+(x[1]-x[0])/2.,0,1]\n",
    "heatmap = ax2.imshow(y[np.newaxis,:], cmap=\"plasma\", aspect=\"auto\", extent=extent,vmin=0,vmax=0.128)\n",
    "ax2.set_yticks([])\n",
    "ax2.set_xlim(extent[0], extent[1])\n",
    "print(\"uniform\",np.average(elongt_list_uniform))\n",
    "\n",
    "plt.xticks(range(len(tRNA_tags[0:20])), tRNA_sorted[0:20],rotation='vertical')\n",
    "fig.subplots_adjust(right=0.8)\n",
    "cbar_ax = fig.add_axes([0.1, 1.2, 0.8, 0.2])\n",
    "cbar = fig.colorbar(heatmap, cax=cbar_ax,orientation='horizontal',ticks=[0,0.02,0.04,0.06,0.08,0.10,0.12])\n",
    "cbar.ax.tick_params(labelsize=20)\n",
    "plt.rcParams.update({'font.size': 10})\n",
    "\n",
    "plt.tight_layout()\n",
    "plt.show()  \n",
    "\n",
    "fig.savefig('./Figures/Heatmap_uniformRandom_Red20tRNA.svg', dpi=300,bbox_inches='tight')"
   ]
  },
  {
   "cell_type": "code",
   "execution_count": null,
   "metadata": {},
   "outputs": [],
   "source": []
  },
  {
   "cell_type": "code",
   "execution_count": 266,
   "metadata": {},
   "outputs": [
    {
     "name": "stdout",
     "output_type": "stream",
     "text": [
      "[157.06104817261092, {'Ala1B': 0.048204638114246794, 'Ala2': 0.0, 'Arg2': 0.03618178216935147, 'Arg3': 0.0, 'Arg4': 0.0, 'Arg5': 0.0, 'Asn': 0.059981364885348526, 'Asp1': 0.0754751853552089, 'Cys': 0.014095078149276317, 'Gln1': 0.0, 'Gln2': 0.012545073592836742, 'Glu2': 0.09676048713507972, 'Gly2': 0.08207273693853659, 'Gly3': 0.0, 'His': 0.020539831304472365, 'Ile1': 0.05074935073554299, 'Leu1': 0.0, 'Leu2': 0.0, 'Leu3': 0.08796342374035546, 'Leu4': 0.0, 'Leu5': 0.0, 'Lys': 0.09743518345055334, 'Met m': 0.012545073592836742, 'Phe': 0.06622090069588156, 'Pro1': 0.016644118014926993, 'Pro2': 0.0, 'Pro3': 0.0, 'Sec': 0.0, 'Ser1': 0.04107876164977899, 'Ser2': 0.0, 'Ser3': 0.0, 'Ser5': 0.0, 'Thr1': 0.08520426515877168, 'Thr2': 0.0, 'Thr3': 0.0, 'Thr4': 0.0, 'Trp': 0.012213740457866095, 'Tyr1+Tyr2': 0.013176498402154959, 'Val1': 0.0, 'Val2A+2B': 0.07091250645697382}, {'GGG': 0.0, 'GGA': 0.09205020920502092, 'GGU': 0.0, 'GGC': 0.0, 'GAG': 0.0, 'GAA': 0.06694560669456066, 'GAU': 0.0, 'GAC': 0.07531380753138076, 'GUG': 0.0, 'GUA': 0.0, 'GUU': 0.0, 'GUC': 0.07531380753138076, 'GCG': 0.0, 'GCA': 0.03347280334728033, 'GCU': 0.0, 'GCC': 0.0, 'AGG': 0.0, 'AGA': 0.0, 'AGU': 0.0, 'AGC': 0.0, 'AAG': 0.0, 'AAA': 0.08368200836820083, 'AAU': 0.0, 'AAC': 0.05439330543933055, 'AUG': 0.02092050209205021, 'AUA': 0.0, 'AUU': 0.0, 'AUC': 0.04602510460251046, 'ACG': 0.0, 'ACA': 0.0, 'ACU': 0.0, 'ACC': 0.07531380753138076, 'UGG': 0.0041841004184100415, 'UGA': 0.0041841004184100415, 'UGU': 0.0, 'UGC': 0.008368200836820083, 'UAU': 0.0, 'UAC': 0.03765690376569038, 'UUG': 0.0, 'UUA': 0.0, 'UUU': 0.0, 'UUC': 0.0502092050209205, 'UCG': 0.0, 'UCA': 0.04184100418410042, 'UCU': 0.0, 'UCC': 0.0, 'CGG': 0.0, 'CGA': 0.0, 'CGU': 0.03347280334728033, 'CGC': 0.0, 'CAG': 0.029288702928870293, 'CAA': 0.0, 'CAU': 0.0, 'CAC': 0.04184100418410042, 'CUG': 0.0, 'CUA': 0.08368200836820083, 'CUU': 0.0, 'CUC': 0.0, 'CCG': 0.04184100418410042, 'CCA': 0.0, 'CCU': 0.0, 'CCC': 0.0}]\n",
      "dict_values([0.02082680434158029, 0.0, 0.12323980161424616, 0.0, 0.0, 0.0, 0.01739667397037426, 0.020975645623160337, 0.12466849269431418, 0.0, 0.12466849269431418, 0.014024373153645861, 0.012468278443788023, 0.0, 0.01609265356515718, 0.01799064138499569, 0.0, 0.0, 0.024129570966893474, 0.0, 0.0, 0.017038592247139092, 0.12466849269431418, 0.01595783216249294, 0.12466849269431418, 0.0, 0.0, 0.0, 0.02415848319473384, 0.0, 0.0, 0.0, 0.01830728715332997, 0.0, 0.0, 0.0, 0.12061695105488894, 0.02542642241094747, 0.0, 0.012676017935369743])\n"
     ]
    }
   ],
   "source": [
    "#Old distributions for which experiments were performed\n",
    "import pickle\n",
    "with open(r\"/Users/akshay/Downloads/tRNA_distributions-GFP.pickle\", \"rb\") as input_file:\n",
    "    e = pickle.load(input_file)\n",
    "e.keys()\n",
    "print(e['GFP_gafast'][1].values())\n",
    "print(e['GFP_gaslow'][1].values())"
   ]
  },
  {
   "cell_type": "code",
   "execution_count": 335,
   "metadata": {},
   "outputs": [
    {
     "name": "stdout",
     "output_type": "stream",
     "text": [
      "fast 158.78437455994464\n",
      "slow 220.56648350026717\n"
     ]
    },
    {
     "name": "stderr",
     "output_type": "stream",
     "text": [
      "/var/folders/ht/q05lxg2n6vq4wbnbcfkt9kmc0000gn/T/ipykernel_87004/1799667942.py:73: UserWarning: This figure includes Axes that are not compatible with tight_layout, so results might be incorrect.\n",
      "  plt.tight_layout()\n"
     ]
    },
    {
     "data": {
      "image/png": "[encoded data removed]",
      "text/plain": [
       "<Figure size 504x288 with 3 Axes>"
      ]
     },
     "metadata": {
      "needs_background": "light"
     },
     "output_type": "display_data"
    }
   ],
   "source": [
    "tRNA_tags = [\"Ala1B\", \"Ala2\", \"Arg2\", \"Arg3\", \"Arg4\", \"Arg5\", \"Asn\", \"Asp1\", \"Cys\", \"Gln1\", \"Gln2\", \\\n",
    "\"Glu2\", \"Gly2\", \"Gly3\", \"His\", \"Ile1\", \"Leu1\", \"Leu2\", \"Leu3\", \"Leu4\", \"Leu5\", \"Lys\", \\\n",
    "\"Met_m\", \"Phe\", \"Pro1\", \"Pro2\", \"Pro3\", \"Sel_Cys\", \"Ser1\", \"Ser2\", \"Ser3\", \"Ser5\", \"Thr1\", \\\n",
    "\"Thr2\", \"Thr3\", \"Thr4\", \"Trp\", \"Tyr1pTyr2\", \"Val1\", \"Val2ApB\"]\n",
    "\n",
    "#Sort tRNA by codon usage in transcriptome and plot baseline tRNA frequency\n",
    "tRNA_sum_dict = tRNA_dict.copy()\n",
    "tRNA_weightedbycodon = list()\n",
    "for keys in tRNA_dict.keys():\n",
    "    tRNA_sum_dict[keys] = (sum([pcodon_dict[tRNA_key] for tRNA_key in tRNA_dict[keys]]))\n",
    "tRNA_weightedbycodon = list(tRNA_sum_dict.values())/sum(tRNA_sum_dict.values())\n",
    "tRNA_sorted_indices = np.flip(tRNA_weightedbycodon.argsort())\n",
    "tRNA_sorted = np.array(tRNA_tags)[tRNA_sorted_indices]\n",
    "ptRNA_sorted = gr25_ptRNA[tRNA_sorted_indices]\n",
    "\n",
    "ptRNA_sorted=np.delete(ptRNA_sorted,5)\n",
    "ptRNA_sorted=np.delete(ptRNA_sorted,12)\n",
    "\n",
    "tRNA_sorted=np.delete(tRNA_sorted,5)\n",
    "tRNA_sorted=np.delete(tRNA_sorted,12)\n",
    "\n",
    "#Resort ptRNA_min and plot\n",
    "GA_fast_values =np.array(list(e['GFP_gafast'][1].values()))\n",
    "ptRNA_min_dict = dict(zip(tRNA_tags,GA_fast_values))\n",
    "ptRNA_min_sorted=[ptRNA_min_dict[tRNA] for tRNA in tRNA_sorted]\n",
    "print(\"fast\",np.average(elongt_list_fast))\n",
    "\n",
    "fig, (ax,ax3) = plt.subplots(nrows=2, sharex=True,figsize=(7,4))\n",
    "\n",
    "x = np.arange(0,20)\n",
    "y = np.array(ptRNA_min_sorted)[0:20]*100\n",
    "extent = [x[0]-(x[1]-x[0])/2., x[-1]+(x[1]-x[0])/2.,0,1]\n",
    "heatmap = ax.imshow(y[np.newaxis,:], cmap=\"plasma\", aspect=\"auto\", extent=extent,vmin=0,vmax=12.8)\n",
    "ax.set_yticks([])\n",
    "ax.set_xlim(extent[0], extent[1])\n",
    "plt.xticks(range(len(tRNA_tags[0:20])), tRNA_sorted[0:20],rotation='vertical')\n",
    "ax.tick_params(axis='x', which='major', labelsize=9)\n",
    "\n",
    "#Uniform\n",
    "#ptRNA_uniform = np.fromiter(e['GFP_uniform'][1].values(),dtype=float)\n",
    "#ptRNA_uniform_dict = dict(zip(tRNA_tags,ptRNA_uniform))\n",
    "#ptRNA_uniform_sorted=[ptRNA_uniform_dict[tRNA] for tRNA in tRNA_sorted]\n",
    "#x = np.arange(0,40)\n",
    "#y = np.array(ptRNA_uniform_sorted)\n",
    "#extent = [x[0]-(x[1]-x[0])/2., x[-1]+(x[1]-x[0])/2.,0,1]\n",
    "#ax2.imshow(y[np.newaxis,:], cmap=\"plasma\", aspect=\"auto\", extent=extent,vmin=0,vmax=0.08)\n",
    "#ax2.set_yticks([])\n",
    "#ax2.set_xlim(extent[0], extent[1])\n",
    "#print(\"uniform\",np.average(elongt_list_uniform))\n",
    "\n",
    "#Resort ptRNA_max and plot\n",
    "GA_slow_values =np.array(list(e['GFP_gaslow'][1].values()))\n",
    "ptRNA_max_dict = dict(zip(tRNA_tags,GA_slow_values))\n",
    "ptRNA_max_sorted=[ptRNA_max_dict[tRNA] for tRNA in tRNA_sorted]\n",
    "print(\"slow\",np.average(elongt_list_slow))\n",
    "\n",
    "x = np.arange(0,20)\n",
    "y = np.array(ptRNA_max_sorted)[0:20]*100\n",
    "extent = [x[0]-(x[1]-x[0])/2., x[-1]+(x[1]-x[0])/2.,0,1]\n",
    "heatmap = ax3.imshow(y[np.newaxis,:], cmap=\"plasma\", aspect=\"auto\", extent=extent,vmin=0,vmax=12.8)\n",
    "ax3.set_yticks([])\n",
    "ax3.set_xlim(extent[0], extent[1])\n",
    "plt.xticks(range(len(tRNA_tags[0:20])), tRNA_sorted[0:20],rotation='vertical')\n",
    "ax3.tick_params(axis='x', which='major', labelsize=9)\n",
    "\n",
    "fig.subplots_adjust(right=0.8)\n",
    "cbar_ax = fig.add_axes([1.0, 0.18, 0.05, 0.8])\n",
    "cbar = fig.colorbar(heatmap, cax=cbar_ax,ticks=[0,2,4,6,8,10,12])\n",
    "cbar.ax.tick_params(labelsize=18)\n",
    "\n",
    "\n",
    "\n",
    "plt.tight_layout()\n",
    "plt.show()    \n",
    "fig.savefig('./Figures/Heatmap_GFPexpression_fastuniformslow_GFPsorted-ForTINAexpt.svg', dpi=300,bbox_inches='tight')"
   ]
  },
  {
   "cell_type": "code",
   "execution_count": 326,
   "metadata": {},
   "outputs": [
    {
     "data": {
      "text/plain": [
       "{'Ala1B': 0.048204638114246794,\n",
       " 'Ala2': 0.0,\n",
       " 'Arg2': 0.03618178216935147,\n",
       " 'Arg3': 0.0,\n",
       " 'Arg4': 0.0,\n",
       " 'Asn': 0.059981364885348526,\n",
       " 'Asp1': 0.0754751853552089,\n",
       " 'Cys': 0.014095078149276317,\n",
       " 'Gln1': 0.0,\n",
       " 'Gln2': 0.012545073592836742,\n",
       " 'Glu2': 0.09676048713507972,\n",
       " 'Gly2': 0.08207273693853659,\n",
       " 'Gly3': 0.0,\n",
       " 'Ile1': 0.05074935073554299,\n",
       " 'Leu1': 0.0,\n",
       " 'Leu2': 0.0,\n",
       " 'Leu3': 0.08796342374035546,\n",
       " 'Leu4': 0.0,\n",
       " 'Leu5': 0.0,\n",
       " 'Lys': 0.09743518345055334,\n",
       " 'Met_m': 0.012545073592836742,\n",
       " 'Phe': 0.06622090069588156,\n",
       " 'Pro1': 0.016644118014926993,\n",
       " 'Pro2': 0.0,\n",
       " 'Pro3': 0.0,\n",
       " 'Sel_Cys': 0.0,\n",
       " 'Ser1': 0.04107876164977899,\n",
       " 'Ser2': 0.0,\n",
       " 'Ser3': 0.0,\n",
       " 'Ser5': 0.0,\n",
       " 'Thr1': 0.08520426515877168,\n",
       " 'Thr2': 0.0,\n",
       " 'Thr3': 0.0,\n",
       " 'Thr4': 0.0,\n",
       " 'Trp': 0.012213740457866095,\n",
       " 'Tyr1pTyr2': 0.013176498402154959,\n",
       " 'Val1': 0.0,\n",
       " 'Val2ApB': 0.07091250645697382}"
      ]
     },
     "execution_count": 326,
     "metadata": {},
     "output_type": "execute_result"
    }
   ],
   "source": [
    "ptRNA_min_dict"
   ]
  },
  {
   "cell_type": "markdown",
   "metadata": {},
   "source": [
    "## Elongation latency distributions for fast and slow"
   ]
  },
  {
   "cell_type": "code",
   "execution_count": 292,
   "metadata": {},
   "outputs": [
    {
     "name": "stderr",
     "output_type": "stream",
     "text": [
      "/Users/akshay/opt/anaconda3/lib/python3.8/site-packages/openpyxl/worksheet/_reader.py:312: UserWarning: Unknown extension is not supported and will be removed\n",
      "  warn(msg)\n"
     ]
    },
    {
     "name": "stdout",
     "output_type": "stream",
     "text": [
      "elongt uniform 177.18664876481756\n"
     ]
    },
    {
     "name": "stderr",
     "output_type": "stream",
     "text": [
      "/Users/akshay/opt/anaconda3/lib/python3.8/site-packages/openpyxl/worksheet/_reader.py:312: UserWarning: Unknown extension is not supported and will be removed\n",
      "  warn(msg)\n"
     ]
    },
    {
     "name": "stdout",
     "output_type": "stream",
     "text": [
      "elongt uniform 176.1129252156084\n"
     ]
    },
    {
     "name": "stderr",
     "output_type": "stream",
     "text": [
      "/Users/akshay/opt/anaconda3/lib/python3.8/site-packages/openpyxl/worksheet/_reader.py:312: UserWarning: Unknown extension is not supported and will be removed\n",
      "  warn(msg)\n"
     ]
    },
    {
     "name": "stdout",
     "output_type": "stream",
     "text": [
      "elongt uniform 178.24684603433937\n"
     ]
    },
    {
     "name": "stderr",
     "output_type": "stream",
     "text": [
      "/Users/akshay/opt/anaconda3/lib/python3.8/site-packages/openpyxl/worksheet/_reader.py:312: UserWarning: Unknown extension is not supported and will be removed\n",
      "  warn(msg)\n"
     ]
    },
    {
     "name": "stdout",
     "output_type": "stream",
     "text": [
      "elongt uniform 177.02031146039727\n"
     ]
    },
    {
     "name": "stderr",
     "output_type": "stream",
     "text": [
      "/Users/akshay/opt/anaconda3/lib/python3.8/site-packages/openpyxl/worksheet/_reader.py:312: UserWarning: Unknown extension is not supported and will be removed\n",
      "  warn(msg)\n"
     ]
    },
    {
     "name": "stdout",
     "output_type": "stream",
     "text": [
      "elongt uniform 177.29042735969983\n"
     ]
    },
    {
     "name": "stderr",
     "output_type": "stream",
     "text": [
      "/Users/akshay/opt/anaconda3/lib/python3.8/site-packages/openpyxl/worksheet/_reader.py:312: UserWarning: Unknown extension is not supported and will be removed\n",
      "  warn(msg)\n"
     ]
    },
    {
     "name": "stdout",
     "output_type": "stream",
     "text": [
      "elongt uniform 178.1738616090093\n"
     ]
    },
    {
     "name": "stderr",
     "output_type": "stream",
     "text": [
      "/Users/akshay/opt/anaconda3/lib/python3.8/site-packages/openpyxl/worksheet/_reader.py:312: UserWarning: Unknown extension is not supported and will be removed\n",
      "  warn(msg)\n"
     ]
    },
    {
     "name": "stdout",
     "output_type": "stream",
     "text": [
      "elongt uniform 176.11009805173555\n"
     ]
    },
    {
     "name": "stderr",
     "output_type": "stream",
     "text": [
      "/Users/akshay/opt/anaconda3/lib/python3.8/site-packages/openpyxl/worksheet/_reader.py:312: UserWarning: Unknown extension is not supported and will be removed\n",
      "  warn(msg)\n"
     ]
    },
    {
     "name": "stdout",
     "output_type": "stream",
     "text": [
      "elongt uniform 176.63045064321068\n"
     ]
    },
    {
     "name": "stderr",
     "output_type": "stream",
     "text": [
      "/Users/akshay/opt/anaconda3/lib/python3.8/site-packages/openpyxl/worksheet/_reader.py:312: UserWarning: Unknown extension is not supported and will be removed\n",
      "  warn(msg)\n"
     ]
    },
    {
     "name": "stdout",
     "output_type": "stream",
     "text": [
      "elongt uniform 179.99688106026724\n"
     ]
    },
    {
     "name": "stderr",
     "output_type": "stream",
     "text": [
      "/Users/akshay/opt/anaconda3/lib/python3.8/site-packages/openpyxl/worksheet/_reader.py:312: UserWarning: Unknown extension is not supported and will be removed\n",
      "  warn(msg)\n"
     ]
    },
    {
     "name": "stdout",
     "output_type": "stream",
     "text": [
      "elongt uniform 176.92551624484466\n"
     ]
    },
    {
     "name": "stderr",
     "output_type": "stream",
     "text": [
      "/Users/akshay/opt/anaconda3/lib/python3.8/site-packages/openpyxl/worksheet/_reader.py:312: UserWarning: Unknown extension is not supported and will be removed\n",
      "  warn(msg)\n"
     ]
    },
    {
     "name": "stdout",
     "output_type": "stream",
     "text": [
      "elongt uniform 179.05207006321498\n"
     ]
    },
    {
     "name": "stderr",
     "output_type": "stream",
     "text": [
      "/Users/akshay/opt/anaconda3/lib/python3.8/site-packages/openpyxl/worksheet/_reader.py:312: UserWarning: Unknown extension is not supported and will be removed\n",
      "  warn(msg)\n"
     ]
    },
    {
     "name": "stdout",
     "output_type": "stream",
     "text": [
      "elongt uniform 178.1082594146325\n"
     ]
    },
    {
     "name": "stderr",
     "output_type": "stream",
     "text": [
      "/Users/akshay/opt/anaconda3/lib/python3.8/site-packages/openpyxl/worksheet/_reader.py:312: UserWarning: Unknown extension is not supported and will be removed\n",
      "  warn(msg)\n"
     ]
    },
    {
     "name": "stdout",
     "output_type": "stream",
     "text": [
      "elongt uniform 175.81785004349817\n"
     ]
    },
    {
     "name": "stderr",
     "output_type": "stream",
     "text": [
      "/Users/akshay/opt/anaconda3/lib/python3.8/site-packages/openpyxl/worksheet/_reader.py:312: UserWarning: Unknown extension is not supported and will be removed\n",
      "  warn(msg)\n"
     ]
    },
    {
     "name": "stdout",
     "output_type": "stream",
     "text": [
      "elongt uniform 177.47969501062636\n"
     ]
    },
    {
     "name": "stderr",
     "output_type": "stream",
     "text": [
      "/Users/akshay/opt/anaconda3/lib/python3.8/site-packages/openpyxl/worksheet/_reader.py:312: UserWarning: Unknown extension is not supported and will be removed\n",
      "  warn(msg)\n"
     ]
    },
    {
     "name": "stdout",
     "output_type": "stream",
     "text": [
      "elongt uniform 176.96428619607013\n"
     ]
    },
    {
     "name": "stderr",
     "output_type": "stream",
     "text": [
      "/Users/akshay/opt/anaconda3/lib/python3.8/site-packages/openpyxl/worksheet/_reader.py:312: UserWarning: Unknown extension is not supported and will be removed\n",
      "  warn(msg)\n"
     ]
    },
    {
     "name": "stdout",
     "output_type": "stream",
     "text": [
      "elongt uniform 176.4174944969239\n"
     ]
    },
    {
     "name": "stderr",
     "output_type": "stream",
     "text": [
      "/Users/akshay/opt/anaconda3/lib/python3.8/site-packages/openpyxl/worksheet/_reader.py:312: UserWarning: Unknown extension is not supported and will be removed\n",
      "  warn(msg)\n"
     ]
    },
    {
     "name": "stdout",
     "output_type": "stream",
     "text": [
      "elongt uniform 176.50001911257928\n"
     ]
    },
    {
     "name": "stderr",
     "output_type": "stream",
     "text": [
      "/Users/akshay/opt/anaconda3/lib/python3.8/site-packages/openpyxl/worksheet/_reader.py:312: UserWarning: Unknown extension is not supported and will be removed\n",
      "  warn(msg)\n"
     ]
    },
    {
     "name": "stdout",
     "output_type": "stream",
     "text": [
      "elongt uniform 178.64106848853928\n"
     ]
    },
    {
     "name": "stderr",
     "output_type": "stream",
     "text": [
      "/Users/akshay/opt/anaconda3/lib/python3.8/site-packages/openpyxl/worksheet/_reader.py:312: UserWarning: Unknown extension is not supported and will be removed\n",
      "  warn(msg)\n"
     ]
    },
    {
     "name": "stdout",
     "output_type": "stream",
     "text": [
      "elongt uniform 175.76914869813692\n"
     ]
    },
    {
     "name": "stderr",
     "output_type": "stream",
     "text": [
      "/Users/akshay/opt/anaconda3/lib/python3.8/site-packages/openpyxl/worksheet/_reader.py:312: UserWarning: Unknown extension is not supported and will be removed\n",
      "  warn(msg)\n"
     ]
    },
    {
     "name": "stdout",
     "output_type": "stream",
     "text": [
      "elongt uniform 178.19103083316736\n",
      "elongt ga fast 161.36988230945863\n",
      "elongt ga fast 158.53241690682185\n",
      "elongt ga fast 158.538241074169\n",
      "elongt ga fast 161.7752665613162\n",
      "elongt ga fast 159.90563705967423\n",
      "elongt ga fast 160.91186087900007\n",
      "elongt ga fast 160.7799768465917\n",
      "elongt ga fast 159.70144041038816\n",
      "elongt ga fast 161.0602767722257\n",
      "elongt ga fast 159.8015890476901\n",
      "elongt ga fast 161.59070137296305\n",
      "elongt ga fast 160.306387216536\n",
      "elongt ga fast 157.9182952728887\n",
      "elongt ga fast 158.7985086292098\n",
      "elongt ga fast 159.78198746348232\n",
      "elongt ga fast 160.37736087836285\n",
      "elongt ga fast 160.52293498381118\n",
      "elongt ga fast 160.9632245660999\n",
      "elongt ga fast 160.38748018973735\n",
      "elongt ga fast 161.34851974036994\n",
      "elongt ga slow 220.6747753008618\n",
      "elongt ga slow 220.57071974682913\n",
      "elongt ga slow 220.85243520316408\n",
      "elongt ga slow 220.30393912538764\n",
      "elongt ga slow 221.55905757867342\n",
      "elongt ga slow 219.44781999455793\n",
      "elongt ga slow 221.061627682706\n",
      "elongt ga slow 220.43621996327315\n",
      "elongt ga slow 220.6098945309455\n",
      "elongt ga slow 220.51327265161933\n",
      "elongt ga slow 221.3128042150377\n",
      "elongt ga slow 221.753539346212\n",
      "elongt ga slow 219.87102117968493\n",
      "elongt ga slow 222.06404882881162\n",
      "elongt ga slow 220.37223414941667\n",
      "elongt ga slow 221.79957049556307\n",
      "elongt ga slow 220.07326865765745\n",
      "elongt ga slow 221.43052279952215\n",
      "elongt ga slow 221.47015458920276\n",
      "elongt ga slow 218.80996251396343\n",
      "Uniform 177.3317444400659  +/-  1.1143914322202757\n",
      "Uniform 160.21859940903985  +/-  1.0683057605319863\n",
      "Uniform 220.74934442765448  +/-  0.8105448386065393\n"
     ]
    }
   ],
   "source": [
    "tRNA_distributions = {}\n",
    "tRNA_elongrate_distributions = {}\n",
    "tRNA_tags = ['Ala1B', 'Ala2', 'Arg2', 'Arg3', 'Arg4', 'Arg5', 'Asn', 'Asp1', 'Cys', 'Gln1', 'Gln2', 'Glu2', 'Gly2', 'Gly3', 'His', 'Ile1', 'Leu1', 'Leu2', 'Leu3', 'Leu4', 'Leu5', 'Lys', 'Met m', 'Phe', 'Pro1', 'Pro2', 'Pro3', 'Sec', 'Ser1', 'Ser2', 'Ser3', 'Ser5', 'Thr1', 'Thr2', 'Thr3', 'Thr4', 'Trp', 'Tyr1+Tyr2', 'Val1', 'Val2A+2B']\n",
    "codon_tags = ['GGG', 'GGA', 'GGU', 'GGC', 'GAG', 'GAA', 'GAU', 'GAC', 'GUG', 'GUA', 'GUU', 'GUC', 'GCG', 'GCA', 'GCU', 'GCC', 'AGG', 'AGA', 'AGU', 'AGC', 'AAG', 'AAA', 'AAU', 'AAC', 'AUG', 'AUA', 'AUU', 'AUC', 'ACG', 'ACA', 'ACU', 'ACC', 'UGG', 'UGA', 'UGU', 'UGC', 'UAU', 'UAC', 'UUG', 'UUA', 'UUU', 'UUC', 'UCG', 'UCA', 'UCU', 'UCC', 'CGG', 'CGA', 'CGU', 'CGC', 'CAG', 'CAA', 'CAU', 'CAC', 'CUG', 'CUA', 'CUU', 'CUC', 'CCG', 'CCA', 'CCU', 'CCC']\n",
    "\n",
    "from analysis_utils import *\n",
    "gene_map, pCodon_GFP = singlegene_to_genemap('/Users/akshay/Documents/tRNAShuffle/data/tables/sfGFP_RED20.csv')\n",
    "\n",
    "N=20\n",
    "\n",
    "uniform_elong = []\n",
    "for i in range(N):\n",
    "    #Uniform\n",
    "    ptRNA_red20_uniform = pd.read_excel('./data/tables/tRNAValues_RED20.xlsx',header=None)\n",
    "    ptRNA_red20_uniform = ptRNA_red20_uniform[6]/sum(ptRNA_red20_uniform[6])\n",
    "    ptRNA_red20_uniform[ptRNA_red20_uniform>0] = 1/20\n",
    "\n",
    "    codon_elongt = compute_codon_elongt(ptRNA_red20_uniform, len(pCodon_GFP), ensmbl_latency_dict)\n",
    "    avg_elongt_uniform = compute_gene_elongt_genemap(gene_map['sfGFP_RED20'],codon_elongt)\n",
    "    print('elongt uniform', avg_elongt_uniform)\n",
    "    uniform_elong.append(avg_elongt_uniform)\n",
    "\n",
    "ga_fast_elong = []\n",
    "for i in range(N):\n",
    "    codon_elongt = compute_codon_elongt(list(e['GFP_gafast'][1].values()), len(pCodon_GFP), ensmbl_latency_dict)\n",
    "    avg_elongt_fast = compute_gene_elongt_genemap(gene_map['sfGFP_RED20'],codon_elongt)\n",
    "    print('elongt ga fast', avg_elongt_fast)\n",
    "    ga_fast_elong.append(avg_elongt_fast)\n",
    "\n",
    "ga_slow_elong = []\n",
    "for i in range(N):\n",
    "    codon_elongt = compute_codon_elongt(list(e['GFP_gaslow'][1].values()), len(pCodon_GFP), ensmbl_latency_dict)\n",
    "    avg_elongt_slow = compute_gene_elongt_genemap(gene_map['sfGFP_RED20'],codon_elongt)\n",
    "    print('elongt ga slow', avg_elongt_slow)\n",
    "    ga_slow_elong.append(avg_elongt_slow)\n",
    "\n",
    "print(\"Uniform\", np.mean(uniform_elong), \" +/- \", np.std(uniform_elong))\n",
    "print(\"GA fast\", np.mean(ga_fast_elong), \" +/- \", np.std(ga_fast_elong))\n",
    "print(\"GA slow\", np.mean(ga_slow_elong), \" +/- \", np.std(ga_slow_elong))"
   ]
  },
  {
   "cell_type": "code",
   "execution_count": null,
   "metadata": {},
   "outputs": [],
   "source": [
    "fig,ax = plt.subplots(figsize=(7,4))\n",
    "hist=ax.hist(ga_fast_elong,color='#481567FF',bins=2,range=(155,165),density=True,alpha=0.5,hatch='x')"
   ]
  },
  {
   "cell_type": "code",
   "execution_count": 286,
   "metadata": {},
   "outputs": [
    {
     "data": {
      "text/plain": [
       "2.0"
      ]
     },
     "execution_count": 286,
     "metadata": {},
     "output_type": "execute_result"
    }
   ],
   "source": [
    "177.7561819337032 159.64152335321324 220.87650729519063\n"
   ]
  },
  {
   "cell_type": "code",
   "execution_count": 317,
   "metadata": {},
   "outputs": [],
   "source": []
  },
  {
   "cell_type": "code",
   "execution_count": 322,
   "metadata": {},
   "outputs": [
    {
     "data": {
      "text/plain": [
       "array([0.04820464, 0.        , 0.03618178, 0.        , 0.        ,\n",
       "       0.        , 0.05998136, 0.07547519, 0.01409508, 0.        ,\n",
       "       0.01254507, 0.09676049, 0.08207274, 0.        , 0.02053983,\n",
       "       0.05074935, 0.        , 0.        , 0.08796342, 0.        ,\n",
       "       0.        , 0.09743518, 0.01254507, 0.0662209 , 0.01664412,\n",
       "       0.        , 0.        , 0.        , 0.04107876, 0.        ,\n",
       "       0.        , 0.        , 0.08520427, 0.        , 0.        ,\n",
       "       0.        , 0.01221374, 0.0131765 , 0.        , 0.07091251])"
      ]
     },
     "execution_count": 322,
     "metadata": {},
     "output_type": "execute_result"
    }
   ],
   "source": [
    "GA_fast_values"
   ]
  },
  {
   "cell_type": "code",
   "execution_count": null,
   "metadata": {},
   "outputs": [],
   "source": []
  }
 ],
 "metadata": {
  "kernelspec": {
   "display_name": "Python 3 (ipykernel)",
   "language": "python",
   "name": "python3"
  },
  "language_info": {
   "codemirror_mode": {
    "name": "ipython",
    "version": 3
   },
   "file_extension": ".py",
   "mimetype": "text/x-python",
   "name": "python",
   "nbconvert_exporter": "python",
   "pygments_lexer": "ipython3",
   "version": "3.9.6"
  }
 },
 "nbformat": 4,
 "nbformat_minor": 2
}
