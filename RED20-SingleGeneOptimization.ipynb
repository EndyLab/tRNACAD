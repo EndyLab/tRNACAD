{
 "cells": [
  {
   "cell_type": "markdown",
   "metadata": {},
   "source": [
    "# Figure 5"
   ]
  },
  {
   "cell_type": "code",
   "execution_count": 1,
   "metadata": {},
   "outputs": [
    {
     "name": "stdout",
     "output_type": "stream",
     "text": [
      "Computing...\n",
      "Computing...\n",
      "Computing...\n",
      "Computing...\n",
      "Computing...\n",
      "Computing...\n",
      "Computing...\n",
      "Computing...\n",
      "Computing...\n",
      "Computing...\n",
      "Computing...\n",
      "Computing...\n",
      "Computing...\n",
      "CPU times: user 29.5 s, sys: 2.87 s, total: 32.4 s\n",
      "Wall time: 30.3 s\n"
     ]
    }
   ],
   "source": [
    "%%time\n",
    "%load_ext autoreload\n",
    "\n",
    "from analysis_utils import *\n",
    "from joblib import Parallel, delayed\n",
    "import multiprocessing  \n",
    "import numpy as np\n",
    "import pandas as pd\n",
    "\n",
    "#Growth rate = 3.0\n",
    "#Computes the translation latencies from our model with simulations containing\n",
    "#1 to 14 cognate ternary complexes in the voxel (14 to 42 not included because\n",
    "#the probability of voxels with that number of cognates is ~0)\n",
    "path = \"./data/\"\n",
    "ensmbl_latency_dict = dict()\n",
    "rxndiff=dict()\n",
    "scalingFactor = 200\n",
    "NR_scaledrates = {'k1r':718*200/scalingFactor,'k2f':1475*200/scalingFactor,'k2r_nr':1120*200/scalingFactor,'k3_nr':6*200/scalingFactor,'k4':209*200/scalingFactor}\n",
    "\n",
    "\n",
    "data = \"191003_2210/\"\n",
    "for i in range(1,7):\n",
    "    sim_i = computeTransportRxnTimes(path+data,100*(i-1),100*(i-1)+100,cogtRNANum=i, ribosomeNum = 7,scaling=scalingFactor,NR_scaling = NR_scaledrates)\n",
    "    ensmbl_latency_dict[i] = (CellLatencies(sim_i))\n",
    "\n",
    "data = \"191105_0908/\"\n",
    "for i in range(7,14):\n",
    "    sim_i = computeTransportRxnTimes(path+data, 100*(i-1-6),100*(i-1-6)+100,cogtRNANum=i, ribosomeNum = 7,scaling=scalingFactor,NR_scaling = NR_scaledrates)\n",
    "    ensmbl_latency_dict[i] = (CellLatencies(sim_i))\n",
    "    \n",
    "#Experimentally obtained codon usage frequencies and tRNA abundances at growth rate = 2.5 dbl/hr\n",
    "gr25_Codon = np.array([2.36, 1.26, 45.55, 34.17, 16.97, 57.86, 19.27, 33.74, 14.98, 22.31, 43.18, 7.67, 24.11, 24.87, 39.49, 11.81, 0.03, 0.63, 2.19, 9.31, 17.22, 55.01, 5.61, 29.21, 21.67, 0.52, 15.79, 43.86, 4.17, 2.61, 20.64, 26.7, 7.03, 0.19, 2.76, 3.81, 6.72, 16.52, 4.27, 2.73, 7.92, 23.25, 2.51, 1.98, 16.33, 11.68, 0.62, 0.67, 43.82, 20.59, 27.28, 7.01, 6.78, 14.21, 60.75, 0.82, 3.86, 4.09, 28.82, 5.18, 4.38, 1.09])\n",
    "gr25_pCodon = gr25_Codon/np.sum(gr25_Codon)\n",
    "gr25_ptRNA = [0.0602409638554217, 0.010542168674698798, 0.07379518072289158, 0.00602409638554217, 0.010542168674698798, 0.00602409638554217, 0.021084337349397596, 0.043674698795180725, 0.021084337349397596, 0.01204819277108434, 0.01807228915662651, 0.08433734939759038, 0.03162650602409639, 0.07228915662650603, 0.01204819277108434, 0.07078313253012049, 0.06325301204819278, 0.01656626506024097, 0.009036144578313254, 0.027108433734939763, 0.010542168674698798, 0.03012048192771085, 0.013554216867469882, 0.015060240963855425, 0.0075301204819277125, 0.010542168674698798, 0.0075301204819277125, 0.003012048192771085, 0.021084337349397596, 0.004518072289156627, 0.01656626506024097, 0.01204819277108434, 0.0015060240963855425, 0.009036144578313254, 0.01656626506024097, 0.019578313253012052, 0.015060240963855425, 0.027108434, 0.05873493975903616, 0.019578313]\n",
    "gr25_ptRNA = gr25_ptRNA/np.sum(gr25_ptRNA)\n",
    "\n",
    "n_cores = 16\n",
    "\n",
    "##Compute the codon distribution and elongation latency of each gene weighted by transcript number\n",
    "codon_elongt = compute_codon_elongt(gr25_ptRNA, len(gr25_pCodon), ensmbl_latency_dict)"
   ]
  },
  {
   "cell_type": "markdown",
   "metadata": {},
   "source": [
    "# Distribution engineering for RED20-sfGFP"
   ]
  },
  {
   "cell_type": "markdown",
   "metadata": {},
   "source": []
  },
  {
   "cell_type": "code",
   "execution_count": 2,
   "metadata": {},
   "outputs": [
    {
     "name": "stderr",
     "output_type": "stream",
     "text": [
      "/Users/akshay/Library/Python/3.9/lib/python/site-packages/openpyxl/worksheet/_reader.py:329: UserWarning: Unknown extension is not supported and will be removed\n",
      "  warn(msg)\n"
     ]
    },
    {
     "name": "stdout",
     "output_type": "stream",
     "text": [
      "elongt wildtype 170.67146571607904\n"
     ]
    },
    {
     "name": "stderr",
     "output_type": "stream",
     "text": [
      "/Users/akshay/Library/Python/3.9/lib/python/site-packages/openpyxl/worksheet/_reader.py:329: UserWarning: Unknown extension is not supported and will be removed\n",
      "  warn(msg)\n"
     ]
    },
    {
     "name": "stdout",
     "output_type": "stream",
     "text": [
      "elongt uniform 178.34417989769355\n"
     ]
    },
    {
     "name": "stderr",
     "output_type": "stream",
     "text": [
      "/Users/akshay/Library/Python/3.9/lib/python/site-packages/openpyxl/worksheet/_reader.py:329: UserWarning: Unknown extension is not supported and will be removed\n",
      "  warn(msg)\n"
     ]
    },
    {
     "name": "stdout",
     "output_type": "stream",
     "text": [
      "elongt codon-weighted correlated 160.86040798976293\n"
     ]
    },
    {
     "name": "stderr",
     "output_type": "stream",
     "text": [
      "/Users/akshay/Library/Python/3.9/lib/python/site-packages/openpyxl/worksheet/_reader.py:329: UserWarning: Unknown extension is not supported and will be removed\n",
      "  warn(msg)\n"
     ]
    },
    {
     "name": "stdout",
     "output_type": "stream",
     "text": [
      "elongt codon-weighted anticorrelated 201.98069341865528\n",
      "Starting GA fast and slow\n",
      "GFP fast [157.0782563093391, {'Ala1B': 0.012213740457866095, 'Ala2': 0.0, 'Arg2': 0.0384598298438721, 'Arg3': 0.0, 'Arg4': 0.0, 'Arg5': 0.0, 'Asn': 0.0781333287422843, 'Asp1': 0.07312459403581285, 'Cys': 0.012242397251647124, 'Gln1': 0.0, 'Gln2': 0.013887117315757497, 'Glu2': 0.05959373167753873, 'Gly2': 0.10302599368310193, 'Gly3': 0.0, 'His': 0.04232258403539275, 'Ile1': 0.05005884125288748, 'Leu1': 0.0, 'Leu2': 0.0, 'Leu3': 0.09902026535639162, 'Leu4': 0.0, 'Leu5': 0.0, 'Lys': 0.08726581015701147, 'Met m': 0.01241237943655594, 'Phe': 0.04439438813084877, 'Pro1': 0.013371694000643442, 'Pro2': 0.0, 'Pro3': 0.0, 'Sec': 0.0, 'Ser1': 0.033396327046990734, 'Ser2': 0.0, 'Ser3': 0.0, 'Ser5': 0.0, 'Thr1': 0.07126737930405906, 'Thr2': 0.0, 'Thr3': 0.0, 'Thr4': 0.0, 'Trp': 0.012213740457866095, 'Tyr1+Tyr2': 0.039550072265957296, 'Val1': 0.0, 'Val2A+2B': 0.10404578554751469}, {'GGG': 0.0, 'GGA': 0.09205020920502092, 'GGU': 0.0, 'GGC': 0.0, 'GAG': 0.0, 'GAA': 0.06694560669456066, 'GAU': 0.0, 'GAC': 0.07531380753138076, 'GUG': 0.0, 'GUA': 0.0, 'GUU': 0.0, 'GUC': 0.07531380753138076, 'GCG': 0.0, 'GCA': 0.03347280334728033, 'GCU': 0.0, 'GCC': 0.0, 'AGG': 0.0, 'AGA': 0.0, 'AGU': 0.0, 'AGC': 0.0, 'AAG': 0.0, 'AAA': 0.08368200836820083, 'AAU': 0.0, 'AAC': 0.05439330543933055, 'AUG': 0.02092050209205021, 'AUA': 0.0, 'AUU': 0.0, 'AUC': 0.04602510460251046, 'ACG': 0.0, 'ACA': 0.0, 'ACU': 0.0, 'ACC': 0.07531380753138076, 'UGG': 0.0041841004184100415, 'UGA': 0.0041841004184100415, 'UGU': 0.0, 'UGC': 0.008368200836820083, 'UAU': 0.0, 'UAC': 0.03765690376569038, 'UUG': 0.0, 'UUA': 0.0, 'UUU': 0.0, 'UUC': 0.0502092050209205, 'UCG': 0.0, 'UCA': 0.04184100418410042, 'UCU': 0.0, 'UCC': 0.0, 'CGG': 0.0, 'CGA': 0.0, 'CGU': 0.03347280334728033, 'CGC': 0.0, 'CAG': 0.029288702928870293, 'CAA': 0.0, 'CAU': 0.0, 'CAC': 0.04184100418410042, 'CUG': 0.0, 'CUA': 0.08368200836820083, 'CUU': 0.0, 'CUC': 0.0, 'CCG': 0.04184100418410042, 'CCA': 0.0, 'CCU': 0.0, 'CCC': 0.0}]\n",
      "GFP slow [222.88895430694168, {'Ala1B': 0.12824427480759398, 'Ala2': 0.0, 'Arg2': 0.020854399997907034, 'Arg3': 0.0, 'Arg4': 0.0, 'Arg5': 0.0, 'Asn': 0.012748207067400192, 'Asp1': 0.01458616805507364, 'Cys': 0.12824427480759398, 'Gln1': 0.0, 'Gln2': 0.11093523360092279, 'Glu2': 0.01785075002111989, 'Gly2': 0.0198571890382872, 'Gly3': 0.0, 'His': 0.025087985828868353, 'Ile1': 0.01591909690659266, 'Leu1': 0.0, 'Leu2': 0.0, 'Leu3': 0.021657477446607443, 'Leu4': 0.0, 'Leu5': 0.0, 'Lys': 0.016818642218725605, 'Met m': 0.12824427480759398, 'Phe': 0.013629221316339793, 'Pro1': 0.1127772672970097, 'Pro2': 0.0, 'Pro3': 0.0, 'Sec': 0.0, 'Ser1': 0.018831971267955168, 'Ser2': 0.0, 'Ser3': 0.0, 'Ser5': 0.0, 'Thr1': 0.015260666962034847, 'Thr2': 0.0, 'Thr3': 0.0, 'Thr4': 0.0, 'Trp': 0.12824427480759398, 'Tyr1+Tyr2': 0.031948875755518656, 'Val1': 0.0, 'Val2A+2B': 0.018259747989261096}, {'GGG': 0.0, 'GGA': 0.09205020920502092, 'GGU': 0.0, 'GGC': 0.0, 'GAG': 0.0, 'GAA': 0.06694560669456066, 'GAU': 0.0, 'GAC': 0.07531380753138076, 'GUG': 0.0, 'GUA': 0.0, 'GUU': 0.0, 'GUC': 0.07531380753138076, 'GCG': 0.0, 'GCA': 0.03347280334728033, 'GCU': 0.0, 'GCC': 0.0, 'AGG': 0.0, 'AGA': 0.0, 'AGU': 0.0, 'AGC': 0.0, 'AAG': 0.0, 'AAA': 0.08368200836820083, 'AAU': 0.0, 'AAC': 0.05439330543933055, 'AUG': 0.02092050209205021, 'AUA': 0.0, 'AUU': 0.0, 'AUC': 0.04602510460251046, 'ACG': 0.0, 'ACA': 0.0, 'ACU': 0.0, 'ACC': 0.07531380753138076, 'UGG': 0.0041841004184100415, 'UGA': 0.0041841004184100415, 'UGU': 0.0, 'UGC': 0.008368200836820083, 'UAU': 0.0, 'UAC': 0.03765690376569038, 'UUG': 0.0, 'UUA': 0.0, 'UUU': 0.0, 'UUC': 0.0502092050209205, 'UCG': 0.0, 'UCA': 0.04184100418410042, 'UCU': 0.0, 'UCC': 0.0, 'CGG': 0.0, 'CGA': 0.0, 'CGU': 0.03347280334728033, 'CGC': 0.0, 'CAG': 0.029288702928870293, 'CAA': 0.0, 'CAU': 0.0, 'CAC': 0.04184100418410042, 'CUG': 0.0, 'CUA': 0.08368200836820083, 'CUU': 0.0, 'CUC': 0.0, 'CCG': 0.04184100418410042, 'CCA': 0.0, 'CCU': 0.0, 'CCC': 0.0}]\n"
     ]
    }
   ],
   "source": [
    "tRNA_distributions = {}\n",
    "tRNA_elongrate_distributions = {}\n",
    "tRNA_tags = ['Ala1B', 'Ala2', 'Arg2', 'Arg3', 'Arg4', 'Arg5', 'Asn', 'Asp1', 'Cys', 'Gln1', 'Gln2', 'Glu2', 'Gly2', 'Gly3', 'His', 'Ile1', 'Leu1', 'Leu2', 'Leu3', 'Leu4', 'Leu5', 'Lys', 'Met m', 'Phe', 'Pro1', 'Pro2', 'Pro3', 'Sec', 'Ser1', 'Ser2', 'Ser3', 'Ser5', 'Thr1', 'Thr2', 'Thr3', 'Thr4', 'Trp', 'Tyr1+Tyr2', 'Val1', 'Val2A+2B']\n",
    "codon_tags = ['GGG', 'GGA', 'GGU', 'GGC', 'GAG', 'GAA', 'GAU', 'GAC', 'GUG', 'GUA', 'GUU', 'GUC', 'GCG', 'GCA', 'GCU', 'GCC', 'AGG', 'AGA', 'AGU', 'AGC', 'AAG', 'AAA', 'AAU', 'AAC', 'AUG', 'AUA', 'AUU', 'AUC', 'ACG', 'ACA', 'ACU', 'ACC', 'UGG', 'UGA', 'UGU', 'UGC', 'UAU', 'UAC', 'UUG', 'UUA', 'UUU', 'UUC', 'UCG', 'UCA', 'UCU', 'UCC', 'CGG', 'CGA', 'CGU', 'CGC', 'CAG', 'CAA', 'CAU', 'CAC', 'CUG', 'CUA', 'CUU', 'CUC', 'CCG', 'CCA', 'CCU', 'CCC']\n",
    "\n",
    "from analysis_utils import *\n",
    "gene_map, pCodon_GFP = singlegene_to_genemap('./data/tables/sfGFP_RED20.csv')\n",
    "#wildtype\n",
    "ptRNA_red20 = pd.read_excel('./data/tables/tRNAValues_RED20.xlsx',header=None)\n",
    "ptRNA_red20 = ptRNA_red20[6]/sum(ptRNA_red20[6])\n",
    "\n",
    "codon_elongt = compute_codon_elongt(ptRNA_red20, len(pCodon_GFP), ensmbl_latency_dict)\n",
    "avg_elongt_wt = compute_gene_elongt_genemap(gene_map['sfGFP_RED20'],codon_elongt)\n",
    "print('elongt wildtype', avg_elongt_wt)\n",
    "tRNA_distributions['GFP_wt'] = [avg_elongt_wt,dict(zip(tRNA_tags,ptRNA_red20)),dict(zip(codon_tags,pCodon_GFP))]\n",
    "\n",
    "#Uniform\n",
    "ptRNA_red20_uniform = pd.read_excel('./data/tables/tRNAValues_RED20.xlsx',header=None)\n",
    "ptRNA_red20_uniform = ptRNA_red20_uniform[6]/sum(ptRNA_red20_uniform[6])\n",
    "ptRNA_red20_uniform[ptRNA_red20_uniform>0] = 1/20\n",
    "\n",
    "codon_elongt = compute_codon_elongt(ptRNA_red20_uniform, len(pCodon_GFP), ensmbl_latency_dict)\n",
    "avg_elongt_uniform = compute_gene_elongt_genemap(gene_map['sfGFP_RED20'],codon_elongt)\n",
    "print('elongt uniform', avg_elongt_uniform)\n",
    "tRNA_distributions['GFP_uniform'] = [avg_elongt_uniform,dict(zip(tRNA_tags,ptRNA_red20_uniform)),dict(zip(codon_tags,pCodon_GFP))]\n",
    "\n",
    "\n",
    "#GFP Codon-weighted correlated\n",
    "ptRNA_red20 = pd.read_excel('./data/tables/tRNAValues_RED20.xlsx',header=None)\n",
    "ptRNA_red20 = ptRNA_red20[6]/sum(ptRNA_red20[6])\n",
    "ptRNA_dict, pcodon_dict, codon_dict, codonLabels, pCodon, tRNA_dict = cognateDistrib(ptRNA_red20,pCodon_GFP,extra2=True)\n",
    "tRNA_sum_dict = tRNA_dict.copy()\n",
    "tRNA_weightedbycodon = list()\n",
    "for keys in tRNA_dict.keys():\n",
    "    tRNA_sum_dict[keys] = (sum([pcodon_dict[tRNA_key] for tRNA_key in tRNA_dict[keys]]))\n",
    "tRNA_weightedbycodon = list(tRNA_sum_dict.values())/sum(tRNA_sum_dict.values())\n",
    "tRNA_sorted_indices = np.flip(tRNA_weightedbycodon.argsort())\n",
    "tRNA_sorted = np.array(tRNA_tags)[tRNA_sorted_indices]\n",
    "\n",
    "##Assign monotonic increase to GFP codon-sorted tRNA\n",
    "ptRNA_sorted = tRNA_weightedbycodon[tRNA_sorted_indices]\n",
    "sortedtRNAdict = dict(zip(tRNA_sorted, ptRNA_sorted))\n",
    "resortedtRNA = [sortedtRNAdict[tRNA] for tRNA in tRNA_tags]\n",
    "\n",
    "tRNA_sorted_codonweighted = tRNA_sorted.copy()\n",
    "ptRNA_sorted_codonweighted = ptRNA_sorted.copy()\n",
    "\n",
    "\n",
    "codon_elongt = compute_codon_elongt(resortedtRNA, len(pCodon_GFP), ensmbl_latency_dict)\n",
    "avg_elongt_codonweightedcorrelated = compute_gene_elongt_genemap(gene_map['sfGFP_RED20'],codon_elongt)\n",
    "print('elongt codon-weighted correlated', avg_elongt_codonweightedcorrelated)\n",
    "\n",
    "tRNA_distributions['GFP_codonweightedcorrelated'] = [avg_elongt_codonweightedcorrelated,dict(zip(tRNA_tags,resortedtRNA)),dict(zip(codon_tags,pCodon_GFP))]\n",
    "\n",
    "#GFP Codon-weighted anticorrelated\n",
    "tRNA_tags = ['Ala1B', 'Ala2', 'Arg2', 'Arg3', 'Arg4', 'Arg5', 'Asn', 'Asp1', 'Cys', 'Gln1', 'Gln2', 'Glu2', 'Gly2', 'Gly3', 'His', 'Ile1', 'Leu1', 'Leu2', 'Leu3', 'Leu4', 'Leu5', 'Lys', 'Met m', 'Phe', 'Pro1', 'Pro2', 'Pro3', 'Sec', 'Ser1', 'Ser2', 'Ser3', 'Ser5', 'Thr1', 'Thr2', 'Thr3', 'Thr4', 'Trp', 'Tyr1+Tyr2', 'Val1', 'Val2A+2B']\n",
    "codon_tags = ['GGG', 'GGA', 'GGU', 'GGC', 'GAG', 'GAA', 'GAU', 'GAC', 'GUG', 'GUA', 'GUU', 'GUC', 'GCG', 'GCA', 'GCU', 'GCC', 'AGG', 'AGA', 'AGU', 'AGC', 'AAG', 'AAA', 'AAU', 'AAC', 'AUG', 'AUA', 'AUU', 'AUC', 'ACG', 'ACA', 'ACU', 'ACC', 'UGG', 'UGA', 'UGU', 'UGC', 'UAU', 'UAC', 'UUG', 'UUA', 'UUU', 'UUC', 'UCG', 'UCA', 'UCU', 'UCC', 'CGG', 'CGA', 'CGU', 'CGC', 'CAG', 'CAA', 'CAU', 'CAC', 'CUG', 'CUA', 'CUU', 'CUC', 'CCG', 'CCA', 'CCU', 'CCC']\n",
    "\n",
    "ptRNA_red20 = pd.read_excel('./data/tables/tRNAValues_RED20.xlsx',header=None)\n",
    "ptRNA_red20 = ptRNA_red20[6]/sum(ptRNA_red20[6])\n",
    "ptRNA_dict, pcodon_dict, codon_dict, codonLabels, pCodon, tRNA_dict = cognateDistrib(ptRNA_red20,pCodon_GFP,extra2=True)\n",
    "tRNA_sum_dict = tRNA_dict.copy()\n",
    "tRNA_weightedbycodon = list()\n",
    "for keys in tRNA_dict.keys():\n",
    "    tRNA_sum_dict[keys] = (sum([pcodon_dict[tRNA_key] for tRNA_key in tRNA_dict[keys]]))\n",
    "tRNA_weightedbycodon = list(tRNA_sum_dict.values())/sum(tRNA_sum_dict.values())\n",
    "tRNA_sorted_indices = np.flip(tRNA_weightedbycodon.argsort())\n",
    "tRNA_sorted = np.array(tRNA_tags)[tRNA_sorted_indices]\n",
    "\n",
    "##Assign monotonic increase to GFP codon-sorted tRNA\n",
    "ptRNA_sorted = tRNA_weightedbycodon[tRNA_sorted_indices]\n",
    "ptRNA_sorted_flipped = np.append(np.flip([ptRNA for ptRNA in ptRNA_sorted if ptRNA != 0]),np.array([ptRNA for ptRNA in ptRNA_sorted if ptRNA == 0]))\n",
    "sortedtRNAdict = dict(zip(tRNA_sorted, ptRNA_sorted_flipped))\n",
    "resortedtRNA = [sortedtRNAdict[tRNA] for tRNA in tRNA_tags]\n",
    "\n",
    "codon_elongt = compute_codon_elongt(resortedtRNA, len(pCodon_GFP), ensmbl_latency_dict)\n",
    "avg_elongt_codonweightedanticorrelated = compute_gene_elongt_genemap(gene_map['sfGFP_RED20'],codon_elongt)\n",
    "print('elongt codon-weighted anticorrelated', avg_elongt_codonweightedanticorrelated)\n",
    "\n",
    "tRNA_distributions['GFP_codonweightedanticorrelated'] = [avg_elongt_codonweightedanticorrelated,dict(zip(tRNA_tags,resortedtRNA)),dict(zip(codon_tags,pCodon_GFP))]\n",
    "\n",
    "\n",
    "########### Genetic algorithm fast and slow #############\n",
    "\n",
    "print('Starting GA fast and slow')\n",
    "elongt_list_fast =np.load('./data/UniformRandomtRNA_minimalcode-sfGFP_2ksample_fasttRNA_elongt.npy')\n",
    "ptRNA_list_fast=np.load('./data/UniformRandomtRNA_minimalcode-sfGFP_2ksample_fasttRNA_ptRNA.npy')\n",
    "tRNA_elongrate_distributions['GFP_gafast'] = elongt_list_fast\n",
    "elongt_fastest = np.min(elongt_list_fast)\n",
    "ptRNA_min = ptRNA_list_fast[np.argmin(elongt_list_fast)]\n",
    "tRNA_distributions['GFP_gafast'] = [elongt_fastest,dict(zip(tRNA_tags,ptRNA_min)),dict(zip(codon_tags,pCodon_GFP))]\n",
    "print('GFP fast', tRNA_distributions['GFP_gafast'])\n",
    "\n",
    "elongt_list_slow =np.load('./data/UniformRandomtRNA_minimalcode-sfGFP_2ksample_slowtRNA_elongt.npy')\n",
    "ptRNA_list_slow =np.load('./data/UniformRandomtRNA_minimalcode-sfGFP_2ksample_slowtRNA_ptRNA.npy')\n",
    "tRNA_elongrate_distributions['GFP_gaslow'] = elongt_list_slow\n",
    "elongt_slowest = np.max(elongt_list_slow)\n",
    "ptRNA_max = ptRNA_list_slow[np.argmax(elongt_list_slow)]\n",
    "tRNA_distributions['GFP_gaslow'] = [elongt_slowest,dict(zip(tRNA_tags,ptRNA_max)),dict(zip(codon_tags,pCodon_GFP))]\n",
    "print('GFP slow', tRNA_distributions['GFP_gaslow'])\n",
    "\n",
    "\n",
    "\n",
    "######### Export all to pickle - will overwrite data file if uncomment ##############\n",
    "\n",
    "#import pickle\n",
    "#with open('tRNA_distributions-GFP.pickle', 'wb') as handle:\n",
    "#    pickle.dump(tRNA_distributions, handle, protocol=pickle.HIGHEST_PROTOCOL)\n",
    "    \n",
    "#with open('tRNA_elongrate_distributions-GFP.pickle', 'wb') as handle:\n",
    "#    pickle.dump(tRNA_elongrate_distributions, handle, protocol=pickle.HIGHEST_PROTOCOL)\n",
    "    \n",
    "    \n",
    "## Checks for tRNA abundances\n",
    "#a = list(tRNA_distributions['GFP_codonweightedanticorrelated'][1].values())\n",
    "#np.min(np.array(a)[np.nonzero(a)])\n",
    "\n",
    "#Check GFP_fast distribution\n",
    "#import pickle\n",
    "#with open(r\"tRNA_distributions-GFP.pickle\", \"rb\") as input_file:\n",
    "#    e = pickle.load(input_file)\n",
    "#e['GFP_gafast']"
   ]
  },
  {
   "cell_type": "code",
   "execution_count": 3,
   "metadata": {},
   "outputs": [],
   "source": [
    "#GFP GA slow fast optimization only -- standalone code if don't want to run full block of code computing other distributions as above\n",
    "#Run either this block or the one immediately above otherwise will overwrite tRNA_distributions\n",
    "tRNA_distributions = {}\n",
    "from analysis_utils import *\n",
    "gene_map, pCodon_GFP = singlegene_to_genemap('./data/tables/sfGFP_RED20.csv')\n",
    "\n",
    "tRNA_tags = ['Ala1B', 'Ala2', 'Arg2', 'Arg3', 'Arg4', 'Arg5', 'Asn', 'Asp1', 'Cys', 'Gln1', 'Gln2', 'Glu2', 'Gly2', 'Gly3', 'His', 'Ile1', 'Leu1', 'Leu2', 'Leu3', 'Leu4', 'Leu5', 'Lys', 'Met m', 'Phe', 'Pro1', 'Pro2', 'Pro3', 'Sec', 'Ser1', 'Ser2', 'Ser3', 'Ser5', 'Thr1', 'Thr2', 'Thr3', 'Thr4', 'Trp', 'Tyr1+Tyr2', 'Val1', 'Val2A+2B']\n",
    "codon_tags = ['GGG', 'GGA', 'GGU', 'GGC', 'GAG', 'GAA', 'GAU', 'GAC', 'GUG', 'GUA', 'GUU', 'GUC', 'GCG', 'GCA', 'GCU', 'GCC', 'AGG', 'AGA', 'AGU', 'AGC', 'AAG', 'AAA', 'AAU', 'AAC', 'AUG', 'AUA', 'AUU', 'AUC', 'ACG', 'ACA', 'ACU', 'ACC', 'UGG', 'UGA', 'UGU', 'UGC', 'UAU', 'UAC', 'UUG', 'UUA', 'UUU', 'UUC', 'UCG', 'UCA', 'UCU', 'UCC', 'CGG', 'CGA', 'CGU', 'CGC', 'CAG', 'CAA', 'CAU', 'CAC', 'CUG', 'CUA', 'CUU', 'CUC', 'CCG', 'CCA', 'CCU', 'CCC']\n",
    "\n",
    "import numpy as np\n",
    "elongt_list_fast =np.load('./data/UniformRandomtRNA_minimalcode-sfGFP_2ksample_fasttRNA_elongt.npy')\n",
    "ptRNA_list_fast=np.load('./data/UniformRandomtRNA_minimalcode-sfGFP_2ksample_fasttRNA_ptRNA.npy')\n",
    "elongt_fastest = np.min(elongt_list_fast)\n",
    "ptRNA_min = ptRNA_list_fast[np.argmin(elongt_list_fast)]\n",
    "tRNA_distributions['GFP_gafast'] = [elongt_fastest,dict(zip(tRNA_tags,ptRNA_min)),dict(zip(codon_tags,pCodon_GFP))]\n",
    "\n",
    "elongt_list_slow =np.load('./data/UniformRandomtRNA_minimalcode-sfGFP_2ksample_slowtRNA_elongt.npy')\n",
    "ptRNA_list_slow =np.load('./data/UniformRandomtRNA_minimalcode-sfGFP_2ksample_slowtRNA_ptRNA.npy')\n",
    "elongt_slowest = np.max(elongt_list_slow)\n",
    "ptRNA_max = ptRNA_list_slow[np.argmax(elongt_list_slow)]\n",
    "tRNA_distributions['GFP_gaslow'] = [elongt_slowest,dict(zip(tRNA_tags,ptRNA_max)),dict(zip(codon_tags,pCodon_GFP))]"
   ]
  },
  {
   "cell_type": "markdown",
   "metadata": {},
   "source": [
    "## Controls & Checks"
   ]
  },
  {
   "cell_type": "code",
   "execution_count": 4,
   "metadata": {},
   "outputs": [
    {
     "name": "stderr",
     "output_type": "stream",
     "text": [
      "/Users/akshay/Library/Python/3.9/lib/python/site-packages/openpyxl/worksheet/_reader.py:329: UserWarning: Unknown extension is not supported and will be removed\n",
      "  warn(msg)\n"
     ]
    },
    {
     "name": "stdout",
     "output_type": "stream",
     "text": [
      "elongt max 252.5984238536762\n"
     ]
    }
   ],
   "source": [
    "#Max elongt check w/ all tRNA zero but one tRNA = 1 probability, as control\n",
    "ptRNA_red20_zeros = pd.read_excel('./data/tables/tRNAValues_RED20.xlsx',header=None)\n",
    "ptRNA_red20_zeros = ptRNA_red20_zeros[6]/sum(ptRNA_red20_zeros[6])\n",
    "ptRNA_red20_zeros[ptRNA_red20_zeros>0] = 0\n",
    "ptRNA_red20_zeros[1] = 1\n",
    "\n",
    "codon_elongt = compute_codon_elongt(ptRNA_red20_zeros, len(pCodon_GFP), ensmbl_latency_dict)\n",
    "avg_elongt_max = compute_gene_elongt_genemap(gene_map['sfGFP_RED20'],codon_elongt)\n",
    "print('elongt max', avg_elongt_max)"
   ]
  },
  {
   "cell_type": "code",
   "execution_count": 10,
   "metadata": {},
   "outputs": [
    {
     "data": {
      "text/plain": [
       "([159.98901037188534], [7.666574393451629])"
      ]
     },
     "execution_count": 10,
     "metadata": {},
     "output_type": "execute_result"
    }
   ],
   "source": [
    "# Manually enter ptRNA\n",
    "gene_map, pCodon_GFP = singlegene_to_genemap('./data/tables/sfGFP_RED20.csv')\n",
    "ptRNA = [0.0059797, 0.,         0.07493208, 0.,        0.     ,    0.,\n",
    " 0.07962803, 0.07506485, 0.00259992 ,0.        , 0.0160313  ,0.07524019,\n",
    " 0.08669846 ,0.         ,0.04863804 ,0.05502781 ,0.         ,0.,\n",
    " 0.08228277 ,0.         ,0.         ,0.07989156 ,0.00939848 ,0.04610216,\n",
    " 0.00408228 ,0.         ,0.         ,0.         ,0.06124321 ,0.,\n",
    " 0.         ,0.         ,0.09661121 ,0.         ,0.         ,0.,\n",
    " 0.0139354  ,0.01994671 ,0.         ,0.06666584]\n",
    "computeElongationLatency(ptRNA,pCodon_GFP,ensmbl_latency_dict)\n",
    "\n"
   ]
  },
  {
   "cell_type": "code",
   "execution_count": 11,
   "metadata": {},
   "outputs": [
    {
     "data": {
      "text/plain": [
       "([215.3957635317656], [15.071619992434991])"
      ]
     },
     "execution_count": 11,
     "metadata": {},
     "output_type": "execute_result"
    }
   ],
   "source": [
    "#Set ptRNA as purely uniform\n",
    "gene_map, pCodon_GFP = singlegene_to_genemap('./data/tables/sfGFP_RED20.csv')\n",
    "ptRNA = np.ones(40)*0.00001\n",
    "\n",
    "computeElongationLatency(ptRNA,pCodon_GFP,ensmbl_latency_dict)"
   ]
  },
  {
   "cell_type": "markdown",
   "metadata": {},
   "source": [
    "# Make Heatplot GA fast vs. Uniform vs. GA slow"
   ]
  },
  {
   "cell_type": "markdown",
   "metadata": {},
   "source": [
    "## Figure 5A plotting a uniform random RED20 distribution"
   ]
  },
  {
   "cell_type": "code",
   "execution_count": 47,
   "metadata": {},
   "outputs": [
    {
     "name": "stdout",
     "output_type": "stream",
     "text": [
      "[0.10302599368310193, 0.09902026535639162, 0.08726581015701147, 0.10404578554751469, 0.07126737930405906, 0.07312459403581285, 0.05959373167753873, 0.0781333287422843, 0.04439438813084877, 0.05005884125288748, 0.04232258403539275, 0.033396327046990734, 0.013371694000643442, 0.039550072265957296, 0.0384598298438721, 0.012213740457866095, 0.013887117315757497, 0.01241237943655594, 0.012242397251647124, 0.012213740457866095, 0.0, 0.0, 0.0, 0.0, 0.0, 0.0, 0.0, 0.0, 0.0, 0.0, 0.0, 0.0, 0.0, 0.0, 0.0, 0.0, 0.0, 0.0]\n",
      "fast 158.78437455994464\n",
      "uniform 181.7079011198748\n"
     ]
    },
    {
     "name": "stderr",
     "output_type": "stream",
     "text": [
      "/Users/akshay/Library/Python/3.9/lib/python/site-packages/openpyxl/worksheet/_reader.py:329: UserWarning: Unknown extension is not supported and will be removed\n",
      "  warn(msg)\n",
      "/var/folders/wr/cby0172x24d_6b7kwlbjy44r0000gn/T/ipykernel_6082/2875862163.py:65: UserWarning: This figure includes Axes that are not compatible with tight_layout, so results might be incorrect.\n",
      "  plt.tight_layout()\n"
     ]
    },
    {
     "data": {
      "image/png": "[encoded data removed]",
      "text/plain": [
       "<Figure size 700x300 with 2 Axes>"
      ]
     },
     "metadata": {},
     "output_type": "display_data"
    }
   ],
   "source": [
    "ptRNA_red20 = pd.read_excel('./data/tables/tRNAValues_RED20.xlsx',header=None)\n",
    "ptRNA_red20 = ptRNA_red20[6]/sum(ptRNA_red20[6])\n",
    "ptRNA_dict, pcodon_dict, codon_dict, codonLabels, pCodon, tRNA_dict = cognateDistrib(ptRNA_red20,pCodon_GFP,extra2=True)\n",
    "\n",
    "ptRNA_list_uniform = np.load('./data/minimaltRNA_minimalcode-sfGFP_100sample_ptRNA.npy')\n",
    "ptRNA_list_fast=np.load('./data/UniformRandomtRNA_minimalcode-sfGFP_2ksample_fasttRNA_ptRNA.npy')\n",
    "ptRNA_list_slow =np.load('./data/UniformRandomtRNA_minimalcode-sfGFP_2ksample_slowtRNA_ptRNA.npy')\n",
    "\n",
    "elongt_list_uniform = np.load('./data/minimaltRNA_minimalcode-sfGFP_100sample_elongt.npy')\n",
    "elongt_list_fast=np.load('./data/UniformRandomtRNA_minimalcode-sfGFP_2ksample_fasttRNA_elongt.npy')\n",
    "elongt_list_slow =np.load('./data/UniformRandomtRNA_minimalcode-sfGFP_2ksample_slowtRNA_elongt.npy')\n",
    "\n",
    "tRNA_tags = [\"Ala1B\", \"Ala2\", \"Arg2\", \"Arg3\", \"Arg4\", \"Arg5\", \"Asn\", \"Asp1\", \"Cys\", \"Gln1\", \"Gln2\", \\\n",
    "\"Glu2\", \"Gly2\", \"Gly3\", \"His\", \"Ile1\", \"Leu1\", \"Leu2\", \"Leu3\", \"Leu4\", \"Leu5\", \"Lys\", \\\n",
    "\"Met_m\", \"Phe\", \"Pro1\", \"Pro2\", \"Pro3\", \"Sel_Cys\", \"Ser1\", \"Ser2\", \"Ser3\", \"Ser5\", \"Thr1\", \\\n",
    "\"Thr2\", \"Thr3\", \"Thr4\", \"Trp\", \"Tyr1+Tyr2\", \"Val1\", \"Val2ApB\"]\n",
    "\n",
    "\n",
    "#Sort tRNA by codon usage in transcriptome and plot baseline tRNA frequency\n",
    "tRNA_sum_dict = tRNA_dict.copy()\n",
    "tRNA_weightedbycodon = list()\n",
    "for keys in tRNA_dict.keys():\n",
    "    tRNA_sum_dict[keys] = (sum([pcodon_dict[tRNA_key] for tRNA_key in tRNA_dict[keys]]))\n",
    "tRNA_weightedbycodon = list(tRNA_sum_dict.values())/sum(tRNA_sum_dict.values())\n",
    "tRNA_sorted_indices = np.flip(tRNA_weightedbycodon.argsort())\n",
    "tRNA_sorted = np.array(tRNA_tags)[tRNA_sorted_indices]\n",
    "ptRNA_sorted = gr25_ptRNA[tRNA_sorted_indices]\n",
    "\n",
    "ptRNA_sorted=np.delete(ptRNA_sorted,5)\n",
    "ptRNA_sorted=np.delete(ptRNA_sorted,12)\n",
    "\n",
    "tRNA_sorted=np.delete(tRNA_sorted,5)\n",
    "tRNA_sorted=np.delete(tRNA_sorted,12)\n",
    "\n",
    "ptRNA_sorted = ptRNA_sorted[0:20]\n",
    "\n",
    "#Resort ptRNA_min and plot\n",
    "ptRNA_min = ptRNA_list_fast[np.argmin(elongt_list_fast)]\n",
    "ptRNA_min_dict = dict(zip(tRNA_tags,ptRNA_min))\n",
    "ptRNA_min_sorted=[ptRNA_min_dict[tRNA] for tRNA in tRNA_sorted]\n",
    "print(ptRNA_min_sorted)\n",
    "print(\"fast\",np.average(elongt_list_fast))\n",
    "\n",
    "fig, ax2 = plt.subplots(nrows=1, sharex=True,figsize=(7,3))\n",
    "\n",
    "#Uniform\n",
    "ptRNA_uniform = ptRNA_list_uniform[0]\n",
    "ptRNA_uniform_dict = dict(zip(tRNA_tags,ptRNA_uniform))\n",
    "ptRNA_uniform_sorted=[ptRNA_uniform_dict[tRNA] for tRNA in tRNA_sorted]\n",
    "x = np.arange(0,20)\n",
    "y = np.array(ptRNA_uniform_sorted)[0:20]\n",
    "extent = [x[0]-(x[1]-x[0])/2., x[-1]+(x[1]-x[0])/2.,0,1]\n",
    "heatmap = ax2.imshow(y[np.newaxis,:], cmap=\"plasma\", aspect=\"auto\", extent=extent,vmin=0,vmax=0.128)\n",
    "ax2.set_yticks([])\n",
    "ax2.set_xlim(extent[0], extent[1])\n",
    "print(\"uniform\",np.average(elongt_list_uniform))\n",
    "\n",
    "plt.xticks(range(len(tRNA_tags[0:20])), tRNA_sorted[0:20],rotation='vertical')\n",
    "fig.subplots_adjust(right=0.8)\n",
    "cbar_ax = fig.add_axes([0.1, 1.1, 0.8, 0.2])\n",
    "cbar = fig.colorbar(heatmap, cax=cbar_ax,orientation='horizontal',ticks=[0,0.02,0.04,0.06,0.08,0.10,0.12])\n",
    "cbar.ax.tick_params(labelsize=20)\n",
    "plt.rcParams.update({'font.size': 16})\n",
    "\n",
    "plt.tight_layout()\n",
    "plt.show()  \n",
    "\n",
    "fig.savefig('./Figures/5A.svg', dpi=300,bbox_inches='tight')"
   ]
  },
  {
   "cell_type": "markdown",
   "metadata": {},
   "source": [
    "# Synfast and Synslow distributions"
   ]
  },
  {
   "cell_type": "code",
   "execution_count": 29,
   "metadata": {},
   "outputs": [
    {
     "name": "stdout",
     "output_type": "stream",
     "text": [
      "dict_values([0.048204638114246794, 0.0, 0.03618178216935147, 0.0, 0.0, 0.0, 0.059981364885348526, 0.0754751853552089, 0.014095078149276317, 0.0, 0.012545073592836742, 0.09676048713507972, 0.08207273693853659, 0.0, 0.020539831304472365, 0.05074935073554299, 0.0, 0.0, 0.08796342374035546, 0.0, 0.0, 0.09743518345055334, 0.012545073592836742, 0.06622090069588156, 0.016644118014926993, 0.0, 0.0, 0.0, 0.04107876164977899, 0.0, 0.0, 0.0, 0.08520426515877168, 0.0, 0.0, 0.0, 0.012213740457866095, 0.013176498402154959, 0.0, 0.07091250645697382])\n",
      "dict_values([0.02082680434158029, 0.0, 0.12323980161424616, 0.0, 0.0, 0.0, 0.01739667397037426, 0.020975645623160337, 0.12466849269431418, 0.0, 0.12466849269431418, 0.014024373153645861, 0.012468278443788023, 0.0, 0.01609265356515718, 0.01799064138499569, 0.0, 0.0, 0.024129570966893474, 0.0, 0.0, 0.017038592247139092, 0.12466849269431418, 0.01595783216249294, 0.12466849269431418, 0.0, 0.0, 0.0, 0.02415848319473384, 0.0, 0.0, 0.0, 0.01830728715332997, 0.0, 0.0, 0.0, 0.12061695105488894, 0.02542642241094747, 0.0, 0.012676017935369743])\n"
     ]
    }
   ],
   "source": [
    "#Prior distributions for which experiments were performed\n",
    "import pickle\n",
    "with open(r\"./tRNA_distributions-GFP.pickle\", \"rb\") as input_file:\n",
    "    e = pickle.load(input_file)\n",
    "e.keys()\n",
    "print(e['GFP_gafast'][1].values())\n",
    "print(e['GFP_gaslow'][1].values())"
   ]
  },
  {
   "cell_type": "code",
   "execution_count": 42,
   "metadata": {},
   "outputs": [
    {
     "name": "stdout",
     "output_type": "stream",
     "text": [
      "fast 158.78437455994464\n",
      "slow 220.56648350026717\n"
     ]
    },
    {
     "data": {
      "image/png": "[encoded data removed]",
      "text/plain": [
       "<Figure size 700x600 with 2 Axes>"
      ]
     },
     "metadata": {},
     "output_type": "display_data"
    }
   ],
   "source": [
    "tRNA_tags = [\"Ala1B\", \"Ala2\", \"Arg2\", \"Arg3\", \"Arg4\", \"Arg5\", \"Asn\", \"Asp1\", \"Cys\", \"Gln1\", \"Gln2\", \\\n",
    "\"Glu2\", \"Gly2\", \"Gly3\", \"His\", \"Ile1\", \"Leu1\", \"Leu2\", \"Leu3\", \"Leu4\", \"Leu5\", \"Lys\", \\\n",
    "\"Met_m\", \"Phe\", \"Pro1\", \"Pro2\", \"Pro3\", \"Sel_Cys\", \"Ser1\", \"Ser2\", \"Ser3\", \"Ser5\", \"Thr1\", \\\n",
    "\"Thr2\", \"Thr3\", \"Thr4\", \"Trp\", \"Tyr1+Tyr2\", \"Val1\", \"Val2ApB\"]\n",
    "\n",
    "#Sort tRNA by codon usage in transcriptome and plot baseline tRNA frequency\n",
    "tRNA_sum_dict = tRNA_dict.copy()\n",
    "tRNA_weightedbycodon = list()\n",
    "for keys in tRNA_dict.keys():\n",
    "    tRNA_sum_dict[keys] = (sum([pcodon_dict[tRNA_key] for tRNA_key in tRNA_dict[keys]]))\n",
    "tRNA_weightedbycodon = list(tRNA_sum_dict.values())/sum(tRNA_sum_dict.values())\n",
    "tRNA_sorted_indices = np.flip(tRNA_weightedbycodon.argsort())\n",
    "tRNA_sorted = np.array(tRNA_tags)[tRNA_sorted_indices]\n",
    "ptRNA_sorted = gr25_ptRNA[tRNA_sorted_indices]\n",
    "\n",
    "ptRNA_sorted=np.delete(ptRNA_sorted,5)\n",
    "ptRNA_sorted=np.delete(ptRNA_sorted,12)\n",
    "\n",
    "tRNA_sorted=np.delete(tRNA_sorted,5)\n",
    "tRNA_sorted=np.delete(tRNA_sorted,12)\n",
    "\n",
    "#Resort ptRNA_min and plot\n",
    "GA_fast_values =np.array(list(e['GFP_gafast'][1].values()))\n",
    "ptRNA_min_dict = dict(zip(tRNA_tags,GA_fast_values))\n",
    "ptRNA_min_sorted=[ptRNA_min_dict[tRNA] for tRNA in tRNA_sorted]\n",
    "print(\"fast\",np.average(elongt_list_fast))\n",
    "\n",
    "fig, (ax,ax3) = plt.subplots(nrows=2, sharex=True,figsize=(7,6))\n",
    "\n",
    "x = np.arange(0,20)\n",
    "y = np.array(ptRNA_min_sorted)[0:20]*100\n",
    "extent = [x[0]-(x[1]-x[0])/2., x[-1]+(x[1]-x[0])/2.,0,1]\n",
    "heatmap = ax.imshow(y[np.newaxis,:], cmap=\"plasma\", aspect=\"auto\", extent=extent,vmin=0,vmax=12.8)\n",
    "ax.set_yticks([])\n",
    "ax.set_xlim(extent[0], extent[1])\n",
    "plt.xticks(range(len(tRNA_tags[0:20])), tRNA_sorted[0:20],rotation='vertical')\n",
    "ax.tick_params(axis='x', which='major', labelsize=9)\n",
    "\n",
    "#Uniform\n",
    "#ptRNA_uniform = np.fromiter(e['GFP_uniform'][1].values(),dtype=float)\n",
    "#ptRNA_uniform_dict = dict(zip(tRNA_tags,ptRNA_uniform))\n",
    "#ptRNA_uniform_sorted=[ptRNA_uniform_dict[tRNA] for tRNA in tRNA_sorted]\n",
    "#x = np.arange(0,40)\n",
    "#y = np.array(ptRNA_uniform_sorted)\n",
    "#extent = [x[0]-(x[1]-x[0])/2., x[-1]+(x[1]-x[0])/2.,0,1]\n",
    "#ax2.imshow(y[np.newaxis,:], cmap=\"plasma\", aspect=\"auto\", extent=extent,vmin=0,vmax=0.08)\n",
    "#ax2.set_yticks([])\n",
    "#ax2.set_xlim(extent[0], extent[1])\n",
    "#print(\"uniform\",np.average(elongt_list_uniform))\n",
    "\n",
    "#Resort ptRNA_max and plot\n",
    "GA_slow_values =np.array(list(e['GFP_gaslow'][1].values()))\n",
    "ptRNA_max_dict = dict(zip(tRNA_tags,GA_slow_values))\n",
    "ptRNA_max_sorted=[ptRNA_max_dict[tRNA] for tRNA in tRNA_sorted]\n",
    "print(\"slow\",np.average(elongt_list_slow))\n",
    "\n",
    "x = np.arange(0,20)\n",
    "y = np.array(ptRNA_max_sorted)[0:20]*100\n",
    "extent = [x[0]-(x[1]-x[0])/2., x[-1]+(x[1]-x[0])/2.,0,1]\n",
    "heatmap = ax3.imshow(y[np.newaxis,:], cmap=\"plasma\", aspect=\"auto\", extent=extent,vmin=0,vmax=12.8)\n",
    "ax3.set_yticks([])\n",
    "ax3.set_xlim(extent[0], extent[1])\n",
    "plt.xticks(range(len(tRNA_tags[0:20])), tRNA_sorted[0:20],rotation='vertical')\n",
    "ax3.tick_params(axis='x', which='major', labelsize=20)\n",
    "\n",
    "#fig.subplots_adjust(right=0.8)\n",
    "#cbar_ax = fig.add_axes([1.0, 0.18, 0.05, 0.8])\n",
    "#cbar = fig.colorbar(heatmap, cax=cbar_ax,ticks=[0,2,4,6,8,10,12])\n",
    "#cbar.ax.tick_params(labelsize=18)\n",
    "\n",
    "plt.tight_layout()\n",
    "plt.show()    \n",
    "fig.savefig('./Figures/5b.svg', dpi=300,bbox_inches='tight')"
   ]
  },
  {
   "cell_type": "code",
   "execution_count": 35,
   "metadata": {},
   "outputs": [
    {
     "data": {
      "image/png": "[encoded data removed]",
      "text/plain": [
       "<Figure size 700x200 with 2 Axes>"
      ]
     },
     "metadata": {},
     "output_type": "display_data"
    }
   ],
   "source": [
    "# Supplemental Figure showing codon-weighted distribution:\n",
    "\n",
    "fig, ax = plt.subplots(figsize=(7,2))\n",
    "\n",
    "x = np.arange(0,20)\n",
    "y = np.array(ptRNA_sorted_codonweighted)[0:20]\n",
    "extent = [x[0]-(x[1]-x[0])/2., x[-1]+(x[1]-x[0])/2.,0,1]\n",
    "heatmap = ax.imshow(y[np.newaxis,:], cmap=\"plasma\", aspect=\"auto\", extent=extent,vmin=0,vmax=0.128)\n",
    "ax.set_yticks([])\n",
    "ax.set_xlim(extent[0], extent[1])\n",
    "plt.xticks(range(len(tRNA_tags[0:20])), tRNA_sorted_codonweighted[0:20],rotation='vertical')\n",
    "ax.tick_params(axis='x', which='major', labelsize=9)\n",
    "\n",
    "fig.subplots_adjust(right=0.8)\n",
    "cbar_ax = fig.add_axes([0.85, -0.2, 0.05, 1.3])\n",
    "cbar = fig.colorbar(heatmap, cax=cbar_ax,ticks=[0,0.02,0.04,0.06,0.08,0.10,0.12])\n",
    "\n",
    "cbar.ax.tick_params(labelsize=18)\n",
    "\n",
    "plt.show()"
   ]
  },
  {
   "cell_type": "code",
   "execution_count": 49,
   "metadata": {},
   "outputs": [
    {
     "name": "stdout",
     "output_type": "stream",
     "text": [
      "163.08704611968426\n",
      "157.0782563093391\n"
     ]
    },
    {
     "data": {
      "image/png": "[encoded data removed]",
      "text/plain": [
       "<Figure size 700x400 with 1 Axes>"
      ]
     },
     "metadata": {},
     "output_type": "display_data"
    }
   ],
   "source": [
    "fig,ax4 = plt.subplots(figsize=(7,4))\n",
    "ax4.plot([avg_elongt_codonweightedcorrelated]*100,np.linspace(0,0.4,100),linewidth=3,color='#481567FF')\n",
    "ax4.plot([elongt_fastest]*100,np.linspace(0,0.4,100),linewidth=3,color='darkseagreen')\n",
    "\n",
    "ax4.set_ylim(0,0.3)\n",
    "ax4.set_xlim(150,170)\n",
    "ax4.set_xlabel('Elongation latency (ms)',size=25)\n",
    "ax4.set_ylabel('Probability Density',size=25)\n",
    "\n",
    "for ax in [ax4]:\n",
    "    ax.tick_params(axis='y', which='major', labelsize=20)\n",
    "    ax.tick_params(axis='x', which='major', labelsize=20)\n",
    "    ax.spines['left'].set_linewidth(4)\n",
    "    ax.spines['bottom'].set_linewidth(4)\n",
    "    ax.spines['top'].set_linewidth(0)\n",
    "    ax.spines['right'].set_linewidth(0)\n",
    "print(avg_elongt_codonweightedcorrelated)\n",
    "print(elongt_fastest)\n",
    "plt.tight_layout()"
   ]
  },
  {
   "cell_type": "markdown",
   "metadata": {},
   "source": [
    "## Elongation latency distributions for fast and wild type"
   ]
  },
  {
   "cell_type": "code",
   "execution_count": 37,
   "metadata": {},
   "outputs": [
    {
     "name": "stderr",
     "output_type": "stream",
     "text": [
      "/Users/akshay/Library/Python/3.9/lib/python/site-packages/openpyxl/worksheet/_reader.py:329: UserWarning: Unknown extension is not supported and will be removed\n",
      "  warn(msg)\n"
     ]
    },
    {
     "name": "stdout",
     "output_type": "stream",
     "text": [
      "elongt uniform 176.5852849562453\n"
     ]
    },
    {
     "name": "stderr",
     "output_type": "stream",
     "text": [
      "/Users/akshay/Library/Python/3.9/lib/python/site-packages/openpyxl/worksheet/_reader.py:329: UserWarning: Unknown extension is not supported and will be removed\n",
      "  warn(msg)\n"
     ]
    },
    {
     "name": "stdout",
     "output_type": "stream",
     "text": [
      "elongt uniform 177.6907808340741\n"
     ]
    },
    {
     "name": "stderr",
     "output_type": "stream",
     "text": [
      "/Users/akshay/Library/Python/3.9/lib/python/site-packages/openpyxl/worksheet/_reader.py:329: UserWarning: Unknown extension is not supported and will be removed\n",
      "  warn(msg)\n"
     ]
    },
    {
     "name": "stdout",
     "output_type": "stream",
     "text": [
      "elongt uniform 177.17341798660334\n"
     ]
    },
    {
     "name": "stderr",
     "output_type": "stream",
     "text": [
      "/Users/akshay/Library/Python/3.9/lib/python/site-packages/openpyxl/worksheet/_reader.py:329: UserWarning: Unknown extension is not supported and will be removed\n",
      "  warn(msg)\n"
     ]
    },
    {
     "ename": "KeyboardInterrupt",
     "evalue": "",
     "output_type": "error",
     "traceback": [
      "\u001b[0;31m---------------------------------------------------------------------------\u001b[0m",
      "\u001b[0;31mKeyboardInterrupt\u001b[0m                         Traceback (most recent call last)",
      "Cell \u001b[0;32mIn[37], line 18\u001b[0m\n\u001b[1;32m     15\u001b[0m ptRNA_red20_uniform \u001b[38;5;241m=\u001b[39m ptRNA_red20_uniform[\u001b[38;5;241m6\u001b[39m]\u001b[38;5;241m/\u001b[39m\u001b[38;5;28msum\u001b[39m(ptRNA_red20_uniform[\u001b[38;5;241m6\u001b[39m])\n\u001b[1;32m     16\u001b[0m ptRNA_red20_uniform[ptRNA_red20_uniform\u001b[38;5;241m>\u001b[39m\u001b[38;5;241m0\u001b[39m] \u001b[38;5;241m=\u001b[39m \u001b[38;5;241m1\u001b[39m\u001b[38;5;241m/\u001b[39m\u001b[38;5;241m20\u001b[39m\n\u001b[0;32m---> 18\u001b[0m codon_elongt \u001b[38;5;241m=\u001b[39m \u001b[43mcompute_codon_elongt\u001b[49m\u001b[43m(\u001b[49m\u001b[43mptRNA_red20_uniform\u001b[49m\u001b[43m,\u001b[49m\u001b[43m \u001b[49m\u001b[38;5;28;43mlen\u001b[39;49m\u001b[43m(\u001b[49m\u001b[43mpCodon_GFP\u001b[49m\u001b[43m)\u001b[49m\u001b[43m,\u001b[49m\u001b[43m \u001b[49m\u001b[43mensmbl_latency_dict\u001b[49m\u001b[43m)\u001b[49m\n\u001b[1;32m     19\u001b[0m avg_elongt_uniform \u001b[38;5;241m=\u001b[39m compute_gene_elongt_genemap(gene_map[\u001b[38;5;124m'\u001b[39m\u001b[38;5;124msfGFP_RED20\u001b[39m\u001b[38;5;124m'\u001b[39m],codon_elongt)\n\u001b[1;32m     20\u001b[0m \u001b[38;5;28mprint\u001b[39m(\u001b[38;5;124m'\u001b[39m\u001b[38;5;124melongt uniform\u001b[39m\u001b[38;5;124m'\u001b[39m, avg_elongt_uniform)\n",
      "File \u001b[0;32m~/Documents/tRNACAD/analysis_utils.py:723\u001b[0m, in \u001b[0;36mcompute_codon_elongt\u001b[0;34m(ptRNA, pCodon_len, ensmbl_latency_dict)\u001b[0m\n\u001b[1;32m    721\u001b[0m     pCodon_zeros\u001b[38;5;241m=\u001b[39m np\u001b[38;5;241m.\u001b[39mzeros(pCodon_len)\n\u001b[1;32m    722\u001b[0m     pCodon_zeros[i] \u001b[38;5;241m=\u001b[39m \u001b[38;5;241m1\u001b[39m\n\u001b[0;32m--> 723\u001b[0m     codon_elongation_latency\u001b[38;5;241m.\u001b[39mappend(\u001b[43mcomputeElongationLatency\u001b[49m\u001b[43m(\u001b[49m\u001b[43mptRNA\u001b[49m\u001b[43m,\u001b[49m\u001b[43mpCodon_zeros\u001b[49m\u001b[43m,\u001b[49m\u001b[43mensmbl_latency_dict\u001b[49m\u001b[43m)\u001b[49m[\u001b[38;5;241m0\u001b[39m][\u001b[38;5;241m0\u001b[39m])\n\u001b[1;32m    724\u001b[0m codon_elongt \u001b[38;5;241m=\u001b[39m \u001b[38;5;28mdict\u001b[39m(\u001b[38;5;28mzip\u001b[39m(codon_tags, codon_elongation_latency))\n\u001b[1;32m    725\u001b[0m \u001b[38;5;28;01mreturn\u001b[39;00m(codon_elongt)\n",
      "File \u001b[0;32m~/Documents/tRNACAD/analysis_utils.py:509\u001b[0m, in \u001b[0;36mcomputeElongationLatency\u001b[0;34m(ptRNA, pCodon, ensmbl_latency_dict)\u001b[0m\n\u001b[1;32m    507\u001b[0m \u001b[38;5;28;01mdef\u001b[39;00m \u001b[38;5;21mcomputeElongationLatency\u001b[39m(ptRNA,pCodon,ensmbl_latency_dict):\n\u001b[1;32m    508\u001b[0m     rxndiff\u001b[38;5;241m=\u001b[39m\u001b[38;5;28mdict\u001b[39m()\n\u001b[0;32m--> 509\u001b[0m     transportRxnResults \u001b[38;5;241m=\u001b[39m \u001b[43mtransportRxnCalc\u001b[49m\u001b[43m(\u001b[49m\u001b[43mptRNA\u001b[49m\u001b[43m,\u001b[49m\u001b[43mpCodon\u001b[49m\u001b[43m,\u001b[49m\u001b[43mensmbl_latency_dict\u001b[49m\u001b[43m)\u001b[49m\n\u001b[1;32m    510\u001b[0m     rxndiff[\u001b[38;5;124m'\u001b[39m\u001b[38;5;124m30\u001b[39m\u001b[38;5;124m'\u001b[39m] \u001b[38;5;241m=\u001b[39m transportRxnResults[\u001b[38;5;241m1\u001b[39m:]\n\u001b[1;32m    512\u001b[0m     \u001b[38;5;66;03m#The added scalar values are the average reaction latencies following succesful reaction\u001b[39;00m\n",
      "File \u001b[0;32m~/Documents/tRNACAD/analysis_utils.py:152\u001b[0m, in \u001b[0;36mtransportRxnCalc\u001b[0;34m(ptRNA, pCodon, ensmbl_latency_dict, bias)\u001b[0m\n\u001b[1;32m    149\u001b[0m search_std_phi \u001b[38;5;241m=\u001b[39m\u001b[38;5;28mlist\u001b[39m()\n\u001b[1;32m    150\u001b[0m search_list \u001b[38;5;241m=\u001b[39m \u001b[38;5;28mlist\u001b[39m()\n\u001b[0;32m--> 152\u001b[0m p_codon_count_hist_weighted_avg\u001b[38;5;241m=\u001b[39m\u001b[43mcognateDistrib\u001b[49m\u001b[43m(\u001b[49m\u001b[43mptRNA\u001b[49m\u001b[43m,\u001b[49m\u001b[43mpCodon\u001b[49m\u001b[43m)\u001b[49m\n\u001b[1;32m    154\u001b[0m transport_vals_list \u001b[38;5;241m=\u001b[39m \u001b[38;5;28mlist\u001b[39m()\n\u001b[1;32m    155\u001b[0m reaction_vals_list \u001b[38;5;241m=\u001b[39m \u001b[38;5;28mlist\u001b[39m()\n",
      "File \u001b[0;32m~/Documents/tRNACAD/analysis_utils.py:334\u001b[0m, in \u001b[0;36mcognateDistrib\u001b[0;34m(ptRNA, pCodon, extra, extra2)\u001b[0m\n\u001b[1;32m    329\u001b[0m \u001b[38;5;28;01mfor\u001b[39;00m cell \u001b[38;5;129;01min\u001b[39;00m \u001b[38;5;28mrange\u001b[39m(cells):\n\u001b[1;32m    330\u001b[0m     \u001b[38;5;66;03m# Generate distribution for cognate tRNA count for each codon\u001b[39;00m\n\u001b[1;32m    331\u001b[0m     \u001b[38;5;28;01mfor\u001b[39;00m i \u001b[38;5;129;01min\u001b[39;00m \u001b[38;5;28mrange\u001b[39m(voxels):\n\u001b[1;32m    332\u001b[0m \n\u001b[1;32m    333\u001b[0m         \u001b[38;5;66;03m#Choose 1 random codon for tranlsation voxel (weighted by codon probabilities), and identify cognate and non cognate ternary complexes\u001b[39;00m\n\u001b[0;32m--> 334\u001b[0m         codon_vox \u001b[38;5;241m=\u001b[39m \u001b[43mnp\u001b[49m\u001b[38;5;241;43m.\u001b[39;49m\u001b[43mrandom\u001b[49m\u001b[38;5;241;43m.\u001b[39;49m\u001b[43mchoice\u001b[49m\u001b[43m(\u001b[49m\u001b[43mcodonLabels\u001b[49m\u001b[43m,\u001b[49m\u001b[43m \u001b[49m\u001b[38;5;241;43m1\u001b[39;49m\u001b[43m)\u001b[49m\n\u001b[1;32m    335\u001b[0m         cognatetRNA \u001b[38;5;241m=\u001b[39m codon_dict[codon_vox[\u001b[38;5;241m0\u001b[39m]]\n\u001b[1;32m    336\u001b[0m         noncognatetRNA \u001b[38;5;241m=\u001b[39m [tRNA \u001b[38;5;28;01mfor\u001b[39;00m tRNA \u001b[38;5;129;01min\u001b[39;00m tRNA_tags \u001b[38;5;28;01mif\u001b[39;00m tRNA \u001b[38;5;129;01mnot\u001b[39;00m \u001b[38;5;129;01min\u001b[39;00m codon_dict[codon_vox[\u001b[38;5;241m0\u001b[39m]]]\n",
      "\u001b[0;31mKeyboardInterrupt\u001b[0m: "
     ]
    }
   ],
   "source": [
    "tRNA_distributions = {}\n",
    "tRNA_elongrate_distributions = {}\n",
    "tRNA_tags = ['Ala1B', 'Ala2', 'Arg2', 'Arg3', 'Arg4', 'Arg5', 'Asn', 'Asp1', 'Cys', 'Gln1', 'Gln2', 'Glu2', 'Gly2', 'Gly3', 'His', 'Ile1', 'Leu1', 'Leu2', 'Leu3', 'Leu4', 'Leu5', 'Lys', 'Met m', 'Phe', 'Pro1', 'Pro2', 'Pro3', 'Sec', 'Ser1', 'Ser2', 'Ser3', 'Ser5', 'Thr1', 'Thr2', 'Thr3', 'Thr4', 'Trp', 'Tyr1+Tyr2', 'Val1', 'Val2A+2B']\n",
    "codon_tags = ['GGG', 'GGA', 'GGU', 'GGC', 'GAG', 'GAA', 'GAU', 'GAC', 'GUG', 'GUA', 'GUU', 'GUC', 'GCG', 'GCA', 'GCU', 'GCC', 'AGG', 'AGA', 'AGU', 'AGC', 'AAG', 'AAA', 'AAU', 'AAC', 'AUG', 'AUA', 'AUU', 'AUC', 'ACG', 'ACA', 'ACU', 'ACC', 'UGG', 'UGA', 'UGU', 'UGC', 'UAU', 'UAC', 'UUG', 'UUA', 'UUU', 'UUC', 'UCG', 'UCA', 'UCU', 'UCC', 'CGG', 'CGA', 'CGU', 'CGC', 'CAG', 'CAA', 'CAU', 'CAC', 'CUG', 'CUA', 'CUU', 'CUC', 'CCG', 'CCA', 'CCU', 'CCC']\n",
    "\n",
    "from analysis_utils import *\n",
    "gene_map, pCodon_GFP = singlegene_to_genemap('./data/tables/sfGFP_RED20.csv')\n",
    "\n",
    "N=20\n",
    "\n",
    "#uniform_elong = []\n",
    "#for i in range(N):\n",
    "#    #Uniform\n",
    "#    ptRNA_red20_uniform = pd.read_excel('./data/tables/tRNAValues_RED20.xlsx',header=None)\n",
    "#    ptRNA_red20_uniform = ptRNA_red20_uniform[6]/sum(ptRNA_red20_uniform[6])\n",
    "#    ptRNA_red20_uniform[ptRNA_red20_uniform>0] = 1/20\n",
    "\n",
    "#    codon_elongt = compute_codon_elongt(ptRNA_red20_uniform, len(pCodon_GFP), ensmbl_latency_dict)\n",
    "#    avg_elongt_uniform = compute_gene_elongt_genemap(gene_map['sfGFP_RED20'],codon_elongt)\n",
    "#    print('elongt uniform', avg_elongt_uniform)\n",
    "#    uniform_elong.append(avg_elongt_uniform)\n",
    "    \n",
    "ga_fast_elong = []\n",
    "for i in range(N):\n",
    "    codon_elongt = compute_codon_elongt(list(e['GFP_gafast'][1].values()), len(pCodon_GFP), ensmbl_latency_dict)\n",
    "    avg_elongt_fast = compute_gene_elongt_genemap(gene_map['sfGFP_RED20'],codon_elongt)\n",
    "    print('elongt ga fast', avg_elongt_fast)\n",
    "    ga_fast_elong.append(avg_elongt_fast)\n",
    "\n",
    "#ga_slow_elong = []\n",
    "#for i in range(N):\n",
    "#    codon_elongt = compute_codon_elongt(list(e['GFP_gaslow'][1].values()), len(pCodon_GFP), ensmbl_latency_dict)\n",
    "#    avg_elongt_slow = compute_gene_elongt_genemap(gene_map['sfGFP_RED20'],codon_elongt)\n",
    "#    print('elongt ga slow', avg_elongt_slow)\n",
    "#    ga_slow_elong.append(avg_elongt_slow)\n",
    "\n",
    "print(\"Uniform\", np.mean(uniform_elong), \" +/- \", np.std(uniform_elong))\n",
    "print(\"GA fast\", np.mean(ga_fast_elong), \" +/- \", np.std(ga_fast_elong))\n",
    "print(\"GA slow\", np.mean(ga_slow_elong), \" +/- \", np.std(ga_slow_elong))"
   ]
  },
  {
   "cell_type": "code",
   "execution_count": 38,
   "metadata": {},
   "outputs": [
    {
     "ename": "NameError",
     "evalue": "name 'ga_fast_elong' is not defined",
     "output_type": "error",
     "traceback": [
      "\u001b[0;31m---------------------------------------------------------------------------\u001b[0m",
      "\u001b[0;31mNameError\u001b[0m                                 Traceback (most recent call last)",
      "Cell \u001b[0;32mIn[38], line 2\u001b[0m\n\u001b[1;32m      1\u001b[0m fig,ax \u001b[38;5;241m=\u001b[39m plt\u001b[38;5;241m.\u001b[39msubplots(figsize\u001b[38;5;241m=\u001b[39m(\u001b[38;5;241m7\u001b[39m,\u001b[38;5;241m4\u001b[39m))\n\u001b[0;32m----> 2\u001b[0m hist\u001b[38;5;241m=\u001b[39max\u001b[38;5;241m.\u001b[39mhist(\u001b[43mga_fast_elong\u001b[49m,color\u001b[38;5;241m=\u001b[39m\u001b[38;5;124m'\u001b[39m\u001b[38;5;124m#481567FF\u001b[39m\u001b[38;5;124m'\u001b[39m,bins\u001b[38;5;241m=\u001b[39m\u001b[38;5;241m2\u001b[39m,\u001b[38;5;28mrange\u001b[39m\u001b[38;5;241m=\u001b[39m(\u001b[38;5;241m155\u001b[39m,\u001b[38;5;241m165\u001b[39m),density\u001b[38;5;241m=\u001b[39m\u001b[38;5;28;01mTrue\u001b[39;00m,alpha\u001b[38;5;241m=\u001b[39m\u001b[38;5;241m0.5\u001b[39m,hatch\u001b[38;5;241m=\u001b[39m\u001b[38;5;124m'\u001b[39m\u001b[38;5;124mx\u001b[39m\u001b[38;5;124m'\u001b[39m)\n",
      "\u001b[0;31mNameError\u001b[0m: name 'ga_fast_elong' is not defined"
     ]
    },
    {
     "data": {
      "image/png": "[encoded data removed]",
      "text/plain": [
       "<Figure size 700x400 with 1 Axes>"
      ]
     },
     "metadata": {},
     "output_type": "display_data"
    }
   ],
   "source": [
    "fig,ax = plt.subplots(figsize=(7,4))\n",
    "hist=ax.hist(ga_fast_elong,color='#481567FF',bins=2,range=(155,165),density=True,alpha=0.5,hatch='x')"
   ]
  },
  {
   "cell_type": "markdown",
   "metadata": {},
   "source": [
    "# Extras"
   ]
  },
  {
   "cell_type": "markdown",
   "metadata": {},
   "source": [
    "## Sorting by GFP vs. transcriptome"
   ]
  },
  {
   "cell_type": "code",
   "execution_count": null,
   "metadata": {},
   "outputs": [],
   "source": [
    "#### Sorting by transcriptome ####\n",
    "ptRNA_red20 = pd.read_excel('./data/tables/tRNAValues_RED20.xlsx',header=None)\n",
    "ptRNA_red20 = ptRNA_red20[6]/sum(ptRNA_red20[6])\n",
    "codon_elongt = compute_codon_elongt(ptRNA_red20, len(gr25_pCodon), ensmbl_latency_dict)\n",
    "gene_map, gene_latency = compute_gene_elongt(codon_elongt,red20=True)\n",
    "pCodon_transcriptome, transcriptome_elongt = compute_transcript_distributions(gene_map, gene_latency)\n",
    "ptRNA_dict, pcodon_dict, codon_dict, codonLabels, pCodon, tRNA_dict = cognateDistrib(ptRNA_red20,pCodon_transcriptome,extra2=True)\n",
    "\n",
    "ptRNA_list_uniform = np.load('./data/minimaltRNA_minimalcode-sfGFP_100sample_ptRNA.npy')\n",
    "ptRNA_list_fast=np.load('./data/UniformRandomtRNA_minimalcode-sfGFP_2ksample_fasttRNA_ptRNA.npy')\n",
    "ptRNA_list_slow =np.load('./data/UniformRandomtRNA_minimalcode-sfGFP_2ksample_slowtRNA_ptRNA.npy')\n",
    "\n",
    "elongt_list_uniform = np.load('./data/minimaltRNA_minimalcode-sfGFP_100sample_elongt.npy')\n",
    "elongt_list_fast=np.load('./data/UniformRandomtRNA_minimalcode-sfGFP_2ksample_fasttRNA_elongt.npy')\n",
    "elongt_list_slow =np.load('./data/UniformRandomtRNA_minimalcode-sfGFP_2ksample_slowtRNA_elongt.npy')\n",
    "\n",
    "tRNA_tags = [\"Ala1B\", \"Ala2\", \"Arg2\", \"Arg3\", \"Arg4\", \"Arg5\", \"Asn\", \"Asp1\", \"Cys\", \"Gln1\", \"Gln2\", \\\n",
    "\"Glu2\", \"Gly2\", \"Gly3\", \"His\", \"Ile1\", \"Leu1\", \"Leu2\", \"Leu3\", \"Leu4\", \"Leu5\", \"Lys\", \\\n",
    "\"Met_m\", \"Phe\", \"Pro1\", \"Pro2\", \"Pro3\", \"Sel_Cys\", \"Ser1\", \"Ser2\", \"Ser3\", \"Ser5\", \"Thr1\", \\\n",
    "\"Thr2\", \"Thr3\", \"Thr4\", \"Trp\", \"Tyr1pTyr2\", \"Val1\", \"Val2ApB\"]\n",
    "\n",
    "#Sort tRNA by codon usage in transcriptome and plot baseline tRNA frequency\n",
    "tRNA_sum_dict = tRNA_dict.copy()\n",
    "tRNA_weightedbycodon = list()\n",
    "for keys in tRNA_dict.keys():\n",
    "    tRNA_sum_dict[keys] = (sum([pcodon_dict[tRNA_key] for tRNA_key in tRNA_dict[keys]]))\n",
    "tRNA_weightedbycodon = list(tRNA_sum_dict.values())/sum(tRNA_sum_dict.values())\n",
    "tRNA_sorted_indices = np.flip(tRNA_weightedbycodon.argsort())\n",
    "tRNA_sorted = np.array(tRNA_tags)[tRNA_sorted_indices]\n",
    "ptRNA_sorted = gr25_ptRNA[tRNA_sorted_indices]\n",
    "\n",
    "#Resort ptRNA_min and plot\n",
    "ptRNA_min = ptRNA_list_fast[np.argmin(elongt_list_fast)]\n",
    "ptRNA_min_dict = dict(zip(tRNA_tags,ptRNA_min))\n",
    "ptRNA_min_sorted=[ptRNA_min_dict[tRNA] for tRNA in tRNA_sorted]\n",
    "print(\"fast\",np.average(elongt_list_fast))\n",
    "\n",
    "fig, (ax,ax2,ax3) = plt.subplots(nrows=3, sharex=True,figsize=(7,6))\n",
    "\n",
    "x = np.arange(0,40)\n",
    "y = np.array(ptRNA_min_sorted)\n",
    "extent = [x[0]-(x[1]-x[0])/2., x[-1]+(x[1]-x[0])/2.,0,1]\n",
    "heatmap = ax.imshow(y[np.newaxis,:], cmap=\"plasma\", aspect=\"auto\", extent=extent,vmin=0,vmax=0.08)\n",
    "ax.set_yticks([])\n",
    "ax.set_xlim(extent[0], extent[1])\n",
    "plt.xticks(range(len(tRNA_tags)), tRNA_sorted,rotation='vertical')\n",
    "ax.tick_params(axis='x', which='major', labelsize=9)\n",
    "\n",
    "#Uniform\n",
    "ptRNA_uniform = ptRNA_list_uniform[0]\n",
    "ptRNA_uniform_dict = dict(zip(tRNA_tags,ptRNA_uniform))\n",
    "ptRNA_uniform_sorted=[ptRNA_uniform_dict[tRNA] for tRNA in tRNA_sorted]\n",
    "x = np.arange(0,40)\n",
    "y = np.array(ptRNA_uniform_sorted)\n",
    "extent = [x[0]-(x[1]-x[0])/2., x[-1]+(x[1]-x[0])/2.,0,1]\n",
    "ax2.imshow(y[np.newaxis,:], cmap=\"plasma\", aspect=\"auto\", extent=extent,vmin=0,vmax=0.08)\n",
    "ax2.set_yticks([])\n",
    "ax2.set_xlim(extent[0], extent[1])\n",
    "print(\"uniform\",np.average(elongt_list_uniform))\n",
    "\n",
    "\n",
    "#Resort ptRNA_max and plot\n",
    "ptRNA_max = ptRNA_list_slow[np.argmax(elongt_list_slow)]\n",
    "ptRNA_max_dict = dict(zip(tRNA_tags,ptRNA_max))\n",
    "ptRNA_max_sorted=[ptRNA_max_dict[tRNA] for tRNA in tRNA_sorted]\n",
    "print(\"slow\",np.average(elongt_list_slow))\n",
    "x = np.arange(0,40)\n",
    "y = np.array(ptRNA_max_sorted)\n",
    "extent = [x[0]-(x[1]-x[0])/2., x[-1]+(x[1]-x[0])/2.,0,1]\n",
    "heatmap = ax3.imshow(y[np.newaxis,:], cmap=\"plasma\", aspect=\"auto\", extent=extent,vmin=0,vmax=0.08)\n",
    "ax3.set_yticks([])\n",
    "ax3.set_xlim(extent[0], extent[1])\n",
    "plt.xticks(range(len(tRNA_tags)), tRNA_sorted,rotation='vertical')\n",
    "ax3.tick_params(axis='x', which='major', labelsize=9)\n",
    "\n",
    "fig.subplots_adjust(right=0.8)\n",
    "cbar_ax = fig.add_axes([1.0, 0.21, 0.05, 0.7])\n",
    "cbar = fig.colorbar(heatmap, cax=cbar_ax)\n",
    "cbar.ax.tick_params(labelsize=20)\n",
    "\n",
    "plt.tight_layout()\n",
    "plt.show()    \n",
    "fig.savefig('./Figures/Heatmap_GFPexpression_fastuniformslow_transcriptomesorted.svg', dpi=300,bbox_inches='tight')"
   ]
  },
  {
   "cell_type": "code",
   "execution_count": null,
   "metadata": {},
   "outputs": [],
   "source": [
    "#### Sorting by GFP order ####\n",
    "gene_map, pCodon_GFP = singlegene_to_genemap('./data/tables/sfGFP_RED20.csv')\n",
    "ptRNA_dict, pcodon_dict, codon_dict, codonLabels, pCodon, tRNA_dict = cognateDistrib(ptRNA_red20,pCodon_GFP,extra2=True)\n",
    "\n",
    "ptRNA_list_uniform = np.load('./data/minimaltRNA_minimalcode-sfGFP_100sample_ptRNA.npy')\n",
    "ptRNA_list_fast=np.load('./data/UniformRandomtRNA_minimalcode-sfGFP_2ksample_fasttRNA_ptRNA.npy')\n",
    "ptRNA_list_slow =np.load('./data/UniformRandomtRNA_minimalcode-sfGFP_2ksample_slowtRNA_ptRNA.npy')\n",
    "\n",
    "elongt_list_uniform = np.load('./data/minimaltRNA_minimalcode-sfGFP_100sample_elongt.npy')\n",
    "elongt_list_fast=np.load('./data/UniformRandomtRNA_minimalcode-sfGFP_2ksample_fasttRNA_elongt.npy')\n",
    "elongt_list_slow =np.load('./data/UniformRandomtRNA_minimalcode-sfGFP_2ksample_slowtRNA_elongt.npy')\n",
    "\n",
    "tRNA_tags = [\"Ala1B\", \"Ala2\", \"Arg2\", \"Arg3\", \"Arg4\", \"Arg5\", \"Asn\", \"Asp1\", \"Cys\", \"Gln1\", \"Gln2\", \\\n",
    "\"Glu2\", \"Gly2\", \"Gly3\", \"His\", \"Ile1\", \"Leu1\", \"Leu2\", \"Leu3\", \"Leu4\", \"Leu5\", \"Lys\", \\\n",
    "\"Met_m\", \"Phe\", \"Pro1\", \"Pro2\", \"Pro3\", \"Sel_Cys\", \"Ser1\", \"Ser2\", \"Ser3\", \"Ser5\", \"Thr1\", \\\n",
    "\"Thr2\", \"Thr3\", \"Thr4\", \"Trp\", \"Tyr1pTyr2\", \"Val1\", \"Val2ApB\"]\n",
    "\n",
    "#Sort tRNA by codon usage in transcriptome and plot baseline tRNA frequency\n",
    "tRNA_sum_dict = tRNA_dict.copy()\n",
    "tRNA_weightedbycodon = list()\n",
    "for keys in tRNA_dict.keys():\n",
    "    tRNA_sum_dict[keys] = (sum([pcodon_dict[tRNA_key] for tRNA_key in tRNA_dict[keys]]))\n",
    "tRNA_weightedbycodon = list(tRNA_sum_dict.values())/sum(tRNA_sum_dict.values())\n",
    "tRNA_sorted_indices = np.flip(tRNA_weightedbycodon.argsort())\n",
    "tRNA_sorted = np.array(tRNA_tags)[tRNA_sorted_indices]\n",
    "ptRNA_sorted = gr25_ptRNA[tRNA_sorted_indices]\n",
    "\n",
    "#Resort ptRNA_min and plot\n",
    "ptRNA_min = ptRNA_list_fast[np.argmin(elongt_list_fast)]\n",
    "ptRNA_min_dict = dict(zip(tRNA_tags,ptRNA_min))\n",
    "ptRNA_min_sorted=[ptRNA_min_dict[tRNA] for tRNA in tRNA_sorted]\n",
    "print(ptRNA_min_sorted)\n",
    "print(\"fast\",np.average(elongt_list_fast))\n",
    "\n",
    "fig, (ax,ax2,ax3) = plt.subplots(nrows=3, sharex=True,figsize=(7,6))\n",
    "\n",
    "x = np.arange(0,40)\n",
    "y = np.array(ptRNA_min_sorted)\n",
    "extent = [x[0]-(x[1]-x[0])/2., x[-1]+(x[1]-x[0])/2.,0,1]\n",
    "heatmap = ax.imshow(y[np.newaxis,:], cmap=\"plasma\", aspect=\"auto\", extent=extent,vmin=0,vmax=0.08)\n",
    "ax.set_yticks([])\n",
    "ax.set_xlim(extent[0], extent[1])\n",
    "plt.xticks(range(len(tRNA_tags)), tRNA_sorted,rotation='vertical')\n",
    "ax.tick_params(axis='x', which='major', labelsize=9)\n",
    "\n",
    "\n",
    "#Uniform\n",
    "ptRNA_uniform = ptRNA_list_uniform[0]\n",
    "ptRNA_uniform_dict = dict(zip(tRNA_tags,ptRNA_uniform))\n",
    "ptRNA_uniform_sorted=[ptRNA_uniform_dict[tRNA] for tRNA in tRNA_sorted]\n",
    "x = np.arange(0,40)\n",
    "y = np.ones(40)/20\n",
    "y[[5,13]] = 0\n",
    "y[22:] = 0\n",
    "extent = [x[0]-(x[1]-x[0])/2., x[-1]+(x[1]-x[0])/2.,0,1]\n",
    "ax2.imshow(y[np.newaxis,:], cmap=\"plasma\", aspect=\"auto\", extent=extent,vmin=0,vmax=0.08)\n",
    "ax2.set_yticks([])\n",
    "ax2.set_xlim(extent[0], extent[1])\n",
    "print(\"uniform\",np.average(elongt_list_uniform))\n",
    "\n",
    "\n",
    "#Resort ptRNA_max and plot\n",
    "ptRNA_max = ptRNA_list_slow[np.argmax(elongt_list_slow)]\n",
    "ptRNA_max_dict = dict(zip(tRNA_tags,ptRNA_max))\n",
    "ptRNA_max_sorted=[ptRNA_max_dict[tRNA] for tRNA in tRNA_sorted]\n",
    "print(\"slow\",np.average(elongt_list_slow))\n",
    "x = np.arange(0,40)\n",
    "y = np.array(ptRNA_max_sorted)\n",
    "extent = [x[0]-(x[1]-x[0])/2., x[-1]+(x[1]-x[0])/2.,0,1]\n",
    "heatmap = ax3.imshow(y[np.newaxis,:], cmap=\"plasma\", aspect=\"auto\", extent=extent,vmin=0,vmax=0.08)\n",
    "ax3.set_yticks([])\n",
    "ax3.set_xlim(extent[0], extent[1])\n",
    "plt.xticks(range(len(tRNA_tags)), tRNA_sorted,rotation='vertical')\n",
    "ax3.tick_params(axis='x', which='major', labelsize=9)\n",
    "\n",
    "fig.subplots_adjust(right=0.8)\n",
    "cbar_ax = fig.add_axes([1.0, 0.21, 0.05, 0.7])\n",
    "cbar = fig.colorbar(heatmap, cax=cbar_ax)\n",
    "cbar.ax.tick_params(labelsize=20)\n",
    "\n",
    "plt.tight_layout()\n",
    "plt.show()    \n",
    "fig.savefig('./Figures/Heatmap_GFPexpression_fastuniformslow_GFPsorted.svg', dpi=300,bbox_inches='tight')"
   ]
  },
  {
   "cell_type": "markdown",
   "metadata": {},
   "source": [
    "## mRFP gene optimization"
   ]
  },
  {
   "cell_type": "code",
   "execution_count": null,
   "metadata": {},
   "outputs": [],
   "source": [
    "\n",
    "tRNA_distributions = {}\n",
    "tRNA_tags = ['Ala1B', 'Ala2', 'Arg2', 'Arg3', 'Arg4', 'Arg5', 'Asn', 'Asp1', 'Cys', 'Gln1', 'Gln2', 'Glu2', 'Gly2', 'Gly3', 'His', 'Ile1', 'Leu1', 'Leu2', 'Leu3', 'Leu4', 'Leu5', 'Lys', 'Met m', 'Phe', 'Pro1', 'Pro2', 'Pro3', 'Sec', 'Ser1', 'Ser2', 'Ser3', 'Ser5', 'Thr1', 'Thr2', 'Thr3', 'Thr4', 'Trp', 'Tyr1+Tyr2', 'Val1', 'Val2A+2B']\n",
    "codon_tags = ['GGG', 'GGA', 'GGU', 'GGC', 'GAG', 'GAA', 'GAU', 'GAC', 'GUG', 'GUA', 'GUU', 'GUC', 'GCG', 'GCA', 'GCU', 'GCC', 'AGG', 'AGA', 'AGU', 'AGC', 'AAG', 'AAA', 'AAU', 'AAC', 'AUG', 'AUA', 'AUU', 'AUC', 'ACG', 'ACA', 'ACU', 'ACC', 'UGG', 'UGA', 'UGU', 'UGC', 'UAU', 'UAC', 'UUG', 'UUA', 'UUU', 'UUC', 'UCG', 'UCA', 'UCU', 'UCC', 'CGG', 'CGA', 'CGU', 'CGC', 'CAG', 'CAA', 'CAU', 'CAC', 'CUG', 'CUA', 'CUU', 'CUC', 'CCG', 'CCA', 'CCU', 'CCC']\n",
    "\n",
    "\n",
    "from analysis_utils import *\n",
    "gene_map, pCodon_mRFP = singlegene_to_genemap('./data/tables/mRFP_RED20.csv')\n",
    "#wildtype\n",
    "ptRNA_red20 = pd.read_excel('./data/tables/tRNAValues_RED20.xlsx',header=None)\n",
    "ptRNA_red20 = ptRNA_red20[6]/sum(ptRNA_red20[6])\n",
    "\n",
    "codon_elongt = compute_codon_elongt(ptRNA_red20, len(pCodon_GFP), ensmbl_latency_dict)\n",
    "avg_elongt_wt = compute_gene_elongt_genemap(gene_map['mRFP_RED20'],codon_elongt)\n",
    "print('elongt wildtype', avg_elongt_wt)\n",
    "tRNA_distributions['mRFP_RED20'] = [avg_elongt_wt,dict(zip(tRNA_tags,ptRNA_red20)),dict(zip(codon_tags,pCodon_mRFP))]\n",
    "\n",
    "#Uniform\n",
    "ptRNA_red20_uniform = pd.read_excel('./data/tables/tRNAValues_RED20.xlsx',header=None)\n",
    "ptRNA_red20_uniform = ptRNA_red20_uniform[6]/sum(ptRNA_red20_uniform[6])\n",
    "ptRNA_red20_uniform[ptRNA_red20_uniform>0] = 1/20\n",
    "\n",
    "codon_elongt = compute_codon_elongt(ptRNA_red20_uniform, len(pCodon_GFP), ensmbl_latency_dict)\n",
    "avg_elongt_uniform = compute_gene_elongt_genemap(gene_map['mRFP_RED20'],codon_elongt)\n",
    "print('elongt uniform', avg_elongt_uniform)\n",
    "tRNA_distributions['mRFP_uniform'] = [avg_elongt_uniform,dict(zip(tRNA_tags,ptRNA_red20_uniform)),dict(zip(codon_tags,pCodon_mRFP))]\n",
    "\n",
    "\n",
    "#GFP Codon-weighted correlated\n",
    "\n",
    "ptRNA_red20 = pd.read_excel('./data/tables/tRNAValues_RED20.xlsx',header=None)\n",
    "ptRNA_red20 = ptRNA_red20[6]/sum(ptRNA_red20[6])\n",
    "ptRNA_dict, pcodon_dict, codon_dict, codonLabels, pCodon, tRNA_dict = cognateDistrib(ptRNA_red20,pCodon_mRFP,extra2=True)\n",
    "tRNA_sum_dict = tRNA_dict.copy()\n",
    "tRNA_weightedbycodon = list()\n",
    "for keys in tRNA_dict.keys():\n",
    "    tRNA_sum_dict[keys] = (sum([pcodon_dict[tRNA_key] for tRNA_key in tRNA_dict[keys]]))\n",
    "tRNA_weightedbycodon = list(tRNA_sum_dict.values())/sum(tRNA_sum_dict.values())\n",
    "tRNA_sorted_indices = np.flip(tRNA_weightedbycodon.argsort())\n",
    "tRNA_sorted = np.array(tRNA_tags)[tRNA_sorted_indices]\n",
    "\n",
    "##Assign monotonic increase to GFP codon-sorted tRNA\n",
    "ptRNA_sorted = tRNA_weightedbycodon[tRNA_sorted_indices]\n",
    "sortedtRNAdict = dict(zip(tRNA_sorted, ptRNA_sorted))\n",
    "resortedtRNA = [sortedtRNAdict[tRNA] for tRNA in tRNA_tags]\n",
    "\n",
    "codon_elongt = compute_codon_elongt(resortedtRNA, len(pCodon_GFP), ensmbl_latency_dict)\n",
    "avg_elongt_codonweightedcorrelated = compute_gene_elongt_genemap(gene_map['mRFP_RED20'],codon_elongt)\n",
    "print('elongt codon-weighted correlated', avg_elongt_codonweightedcorrelated)\n",
    "\n",
    "tRNA_distributions['mRFP_codonweightedcorrelated'] = [avg_elongt_codonweightedcorrelated,dict(zip(tRNA_tags,resortedtRNA)),dict(zip(codon_tags,pCodon_mRFP))]\n",
    "\n",
    "\n",
    "#GFP Codon-weighted anticorrelated\n",
    "tRNA_tags = ['Ala1B', 'Ala2', 'Arg2', 'Arg3', 'Arg4', 'Arg5', 'Asn', 'Asp1', 'Cys', 'Gln1', 'Gln2', 'Glu2', 'Gly2', 'Gly3', 'His', 'Ile1', 'Leu1', 'Leu2', 'Leu3', 'Leu4', 'Leu5', 'Lys', 'Met m', 'Phe', 'Pro1', 'Pro2', 'Pro3', 'Sec', 'Ser1', 'Ser2', 'Ser3', 'Ser5', 'Thr1', 'Thr2', 'Thr3', 'Thr4', 'Trp', 'Tyr1+Tyr2', 'Val1', 'Val2A+2B']\n",
    "codon_tags = ['GGG', 'GGA', 'GGU', 'GGC', 'GAG', 'GAA', 'GAU', 'GAC', 'GUG', 'GUA', 'GUU', 'GUC', 'GCG', 'GCA', 'GCU', 'GCC', 'AGG', 'AGA', 'AGU', 'AGC', 'AAG', 'AAA', 'AAU', 'AAC', 'AUG', 'AUA', 'AUU', 'AUC', 'ACG', 'ACA', 'ACU', 'ACC', 'UGG', 'UGA', 'UGU', 'UGC', 'UAU', 'UAC', 'UUG', 'UUA', 'UUU', 'UUC', 'UCG', 'UCA', 'UCU', 'UCC', 'CGG', 'CGA', 'CGU', 'CGC', 'CAG', 'CAA', 'CAU', 'CAC', 'CUG', 'CUA', 'CUU', 'CUC', 'CCG', 'CCA', 'CCU', 'CCC']\n",
    "\n",
    "ptRNA_red20 = pd.read_excel('./data/tables/tRNAValues_RED20.xlsx',header=None)\n",
    "ptRNA_red20 = ptRNA_red20[6]/sum(ptRNA_red20[6])\n",
    "ptRNA_dict, pcodon_dict, codon_dict, codonLabels, pCodon, tRNA_dict = cognateDistrib(ptRNA_red20,pCodon_mRFP,extra2=True)\n",
    "tRNA_sum_dict = tRNA_dict.copy()\n",
    "tRNA_weightedbycodon = list()\n",
    "for keys in tRNA_dict.keys():\n",
    "    tRNA_sum_dict[keys] = (sum([pcodon_dict[tRNA_key] for tRNA_key in tRNA_dict[keys]]))\n",
    "tRNA_weightedbycodon = list(tRNA_sum_dict.values())/sum(tRNA_sum_dict.values())\n",
    "tRNA_sorted_indices = np.flip(tRNA_weightedbycodon.argsort())\n",
    "tRNA_sorted = np.array(tRNA_tags)[tRNA_sorted_indices]\n",
    "\n",
    "##Assign monotonic increase to GFP codon-sorted tRNA\n",
    "ptRNA_sorted = tRNA_weightedbycodon[tRNA_sorted_indices]\n",
    "ptRNA_sorted_flipped = np.append(np.flip([ptRNA for ptRNA in ptRNA_sorted if ptRNA != 0]),np.array([ptRNA for ptRNA in ptRNA_sorted if ptRNA == 0]))\n",
    "sortedtRNAdict = dict(zip(tRNA_sorted, ptRNA_sorted_flipped))\n",
    "resortedtRNA = [sortedtRNAdict[tRNA] for tRNA in tRNA_tags]\n",
    "\n",
    "codon_elongt = compute_codon_elongt(resortedtRNA, len(pCodon_GFP), ensmbl_latency_dict)\n",
    "avg_elongt_codonweightedanticorrelated = compute_gene_elongt_genemap(gene_map['mRFP_RED20'],codon_elongt)\n",
    "print('elongt codon-weighted anticorrelated', avg_elongt_codonweightedanticorrelated)\n",
    "\n",
    "tRNA_distributions['mRFP_codonweightedanticorrelated'] = [avg_elongt_codonweightedanticorrelated,dict(zip(tRNA_tags,resortedtRNA)),dict(zip(codon_tags,pCodon_mRFP))]\n",
    "\n",
    "\n",
    "########### Genetic algorithm fast and slow #############\n",
    "\n",
    "elongt_list_fast =np.load('./data/UniformRandomtRNA_minimalcode-mRFP_2ksample_fasttRNA_elongt.npy')\n",
    "ptRNA_list_fast=np.load('./data/UniformRandomtRNA_minimalcode-mRFP_2ksample_fasttRNA_ptRNA.npy')\n",
    "elongt_fastest = np.min(elongt_list_fast)\n",
    "ptRNA_min = ptRNA_list_fast[np.argmin(elongt_list_fast)]\n",
    "tRNA_distributions['mRFP_gafast'] = [elongt_fastest,dict(zip(tRNA_tags,ptRNA_min)),dict(zip(codon_tags,pCodon_mRFP))]\n",
    "\n",
    "elongt_list_slow =np.load('./data/UniformRandomtRNA_minimalcode-mRFP_2ksample_slowtRNA_elongt.npy')\n",
    "ptRNA_list_slow =np.load('./data/UniformRandomtRNA_minimalcode-mRFP_2ksample_slowtRNA_ptRNA.npy')\n",
    "elongt_slowest = np.max(elongt_list_slow)\n",
    "ptRNA_max = ptRNA_list_slow[np.argmax(elongt_list_slow)]\n",
    "tRNA_distributions['mRFP_gaslow'] = [elongt_slowest,dict(zip(tRNA_tags,ptRNA_max)),dict(zip(codon_tags,pCodon_mRFP))]\n",
    "\n",
    "\n",
    "######### Export all to pickle ##############\n",
    "\n",
    "import pickle\n",
    "with open('tRNA_distributions-mRFP.pickle', 'wb') as handle:\n",
    "    pickle.dump(tRNA_distributions, handle, protocol=pickle.HIGHEST_PROTOCOL)"
   ]
  }
 ],
 "metadata": {
  "kernelspec": {
   "display_name": "Python 3 (ipykernel)",
   "language": "python",
   "name": "python3"
  },
  "language_info": {
   "codemirror_mode": {
    "name": "ipython",
    "version": 3
   },
   "file_extension": ".py",
   "mimetype": "text/x-python",
   "name": "python",
   "nbconvert_exporter": "python",
   "pygments_lexer": "ipython3",
   "version": "3.9.6"
  }
 },
 "nbformat": 4,
 "nbformat_minor": 2
}
