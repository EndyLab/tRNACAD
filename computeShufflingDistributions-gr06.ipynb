{
 "cells": [
  {
   "cell_type": "markdown",
   "metadata": {},
   "source": [
    "# Load translation voxel simulation data"
   ]
  },
  {
   "cell_type": "code",
   "execution_count": 1,
   "metadata": {},
   "outputs": [
    {
     "name": "stdout",
     "output_type": "stream",
     "text": [
      "Computing...\n",
      "Computing...\n",
      "Computing...\n",
      "Computing...\n",
      "Computing...\n",
      "Computing...\n",
      "Computing...\n",
      "Computing...\n",
      "Computing...\n",
      "Computing...\n",
      "Computing...\n",
      "Computing...\n",
      "Computing...\n",
      "Computing...\n",
      "Computing...\n",
      "Number of polypeptides reported:  4434\n",
      "Returned gene map of length  15934\n",
      "Removed  24  non-divisible by three genes\n",
      "['insAB1', 'insCD2', 'dgd', 'insCD4', 'insCD6', 'alaB', 'prfB', 'supK', 'b2891', 'ECK2886', 'insCD3', 'insEF4', 'insAB2', 'insEF5', 'insCD1', 'insAB5', 'insEF1', 'insCD5', 'insEF3', 'insAB3', 'insJK', 'insAB4', 'insEF2', 'insAB6']\n",
      "Unique transcripts without a Gene identifier:  272\n",
      "Sequences not available for # genes in Ecocyc DB:  153\n",
      "Inconsistency in codons:  0\n",
      "3767\n",
      "Missing genes in transcriptome_dict in compute_transcript_distributions:  133\n",
      "CPU times: user 2min 34s, sys: 1.46 s, total: 2min 35s\n",
      "Wall time: 2min 36s\n"
     ]
    }
   ],
   "source": [
    "%%time\n",
    "%load_ext autoreload\n",
    "\n",
    "from analysis_utils import *\n",
    "from joblib import Parallel, delayed\n",
    "import multiprocessing  \n",
    "import numpy as np\n",
    "import pandas as pd\n",
    "\n",
    "#Growth rate = 3.0\n",
    "#Computes the translation latencies from our model with simulations containing\n",
    "#1 to 14 cognate ternary complexes in the voxel (14 to 42 not included because\n",
    "#the probability of voxels with that number of cognates is ~0)\n",
    "path = \"/Users/Akshay/Documents/tRNAShuffle/data/\"\n",
    "ensmbl_latency_dict = dict()\n",
    "rxndiff=dict()\n",
    "scalingFactor = 200\n",
    "NR_scaledrates = {'k1r':718*200/scalingFactor,'k2f':1475*200/scalingFactor,'k2r_nr':1120*200/scalingFactor,'k3_nr':6*200/scalingFactor,'k4':209*200/scalingFactor}\n",
    "\n",
    "\n",
    "data = \"191003_2140/\"\n",
    "for i in range(1,7):\n",
    "    sim_i = computeTransportRxnTimes(path+data,100*(i-1),100*(i-1)+100,cogtRNANum=i, ribosomeNum = 7,scaling=scalingFactor,NR_scaling = NR_scaledrates)\n",
    "    ensmbl_latency_dict[i] = (CellLatencies(sim_i))\n",
    "\n",
    "data = \"191105_1738/\"\n",
    "for i in range(7,16):\n",
    "    sim_i = computeTransportRxnTimes(path+data, 100*(i-1-6),100*(i-1-6)+100,cogtRNANum=i, ribosomeNum = 7,scaling=scalingFactor,NR_scaling = NR_scaledrates)\n",
    "    ensmbl_latency_dict[i] = (CellLatencies(sim_i))\n",
    "    \n",
    "    \n",
    "#Experimentally obtained codon usage frequencies and tRNA abundances at growth rate = 2.5 dbl/hr\n",
    "gr25_Codon = np.array([2.36, 1.26, 45.55, 34.17, 16.97, 57.86, 19.27, 33.74, 14.98, 22.31, 43.18, 7.67, 24.11, 24.87, 39.49, 11.81, 0.03, 0.63, 2.19, 9.31, 17.22, 55.01, 5.61, 29.21, 21.67, 0.52, 15.79, 43.86, 4.17, 2.61, 20.64, 26.7, 7.03, 0.19, 2.76, 3.81, 6.72, 16.52, 4.27, 2.73, 7.92, 23.25, 2.51, 1.98, 16.33, 11.68, 0.62, 0.67, 43.82, 20.59, 27.28, 7.01, 6.78, 14.21, 60.75, 0.82, 3.86, 4.09, 28.82, 5.18, 4.38, 1.09])\n",
    "gr25_pCodon = gr25_Codon/np.sum(gr25_Codon)\n",
    "gr25_ptRNA = [0.0602409638554217, 0.010542168674698798, 0.07379518072289158, 0.00602409638554217, 0.010542168674698798, 0.00602409638554217, 0.021084337349397596, 0.043674698795180725, 0.021084337349397596, 0.01204819277108434, 0.01807228915662651, 0.08433734939759038, 0.03162650602409639, 0.07228915662650603, 0.01204819277108434, 0.07078313253012049, 0.06325301204819278, 0.01656626506024097, 0.009036144578313254, 0.027108433734939763, 0.010542168674698798, 0.03012048192771085, 0.013554216867469882, 0.015060240963855425, 0.0075301204819277125, 0.010542168674698798, 0.0075301204819277125, 0.003012048192771085, 0.021084337349397596, 0.004518072289156627, 0.01656626506024097, 0.01204819277108434, 0.0015060240963855425, 0.009036144578313254, 0.01656626506024097, 0.019578313253012052, 0.015060240963855425, 0.027108434, 0.05873493975903616, 0.019578313]\n",
    "gr25_ptRNA = gr25_ptRNA/np.sum(gr25_ptRNA)\n",
    "\n",
    "n_cores = 16\n",
    "\n",
    "##Compute the codon distribution and elongation latency of each gene weighted by transcript number\n",
    "codon_elongt = compute_codon_elongt(gr25_ptRNA, len(gr25_pCodon), ensmbl_latency_dict)\n",
    "gene_map, gene_latency = compute_gene_elongt(codon_elongt)\n",
    "pCodon_transcriptome, transcriptome_elongt = compute_transcript_distributions(gene_map,gene_latency)\n",
    "pCodon_transcriptome = np.array(pCodon_transcriptome)"
   ]
  },
  {
   "cell_type": "markdown",
   "metadata": {},
   "source": [
    "## minimal uniform random tRNA, minimal code GFP, 100 samples"
   ]
  },
  {
   "cell_type": "code",
   "execution_count": 2,
   "metadata": {},
   "outputs": [
    {
     "name": "stderr",
     "output_type": "stream",
     "text": [
      "/Users/akshay/opt/anaconda3/lib/python3.8/site-packages/openpyxl/worksheet/_reader.py:312: UserWarning: Unknown extension is not supported and will be removed\n",
      "  warn(msg)\n"
     ]
    },
    {
     "name": "stdout",
     "output_type": "stream",
     "text": [
      "466.7122760170306\n",
      "CPU times: user 2.14 s, sys: 210 ms, total: 2.35 s\n",
      "Wall time: 18 s\n"
     ]
    }
   ],
   "source": [
    "%%time\n",
    "\n",
    "gene_map, pCodon_GFP = singlegene_to_genemap('/Users/akshay/Documents/tRNAShuffle/data/tables/sfGFP_RED20.csv')\n",
    "\n",
    "ptRNA_red20 = pd.read_excel('./data/tables/tRNAValues_RED20.xlsx',header=None)\n",
    "ptRNA_red20 = np.array(ptRNA_red20[6]/sum(ptRNA_red20[6]))\n",
    "tRNA_indices = np.argwhere(ptRNA_red20 == 0)\n",
    "tRNA_indices = [indices[0] for indices in tRNA_indices]\n",
    "elongt_list = list()\n",
    "ptRNA_list = list()\n",
    "inputs = list()\n",
    "\n",
    "for i in range(100):\n",
    "    ptRNA_uniform = np.random.uniform(min(ptRNA_red20[np.nonzero(ptRNA_red20)]),max(ptRNA_red20),len(ptRNA_red20))\n",
    "    ptRNA_uniform[tRNA_indices] = 0\n",
    "    ptRNA_list.append(ptRNA_uniform)\n",
    "    inputs.append([ptRNA_uniform,pCodon_GFP,ensmbl_latency_dict])\n",
    "elongt_list = Parallel(n_jobs=n_cores,backend='loky')(delayed(computeElongationLatency_multithread)(i) for i in inputs)\n",
    "elongt_list = [elongt[0][0] for elongt in elongt_list]\n",
    "np.save('./data/minimaltRNA_minimalcode-sfGFP_100sample_elongt',elongt_list)\n",
    "np.save('./data/minimaltRNA_minimalcode-sfGFP_100sample_ptRNA',ptRNA_list)\n",
    "print(np.average(elongt_list))"
   ]
  },
  {
   "cell_type": "code",
   "execution_count": 3,
   "metadata": {},
   "outputs": [
    {
     "data": {
      "text/plain": [
       "(0.0, 0.12824427480759398)"
      ]
     },
     "execution_count": 3,
     "metadata": {},
     "output_type": "execute_result"
    }
   ],
   "source": [
    "min(ptRNA_red20),max(ptRNA_red20)"
   ]
  },
  {
   "cell_type": "code",
   "execution_count": 4,
   "metadata": {},
   "outputs": [
    {
     "name": "stdout",
     "output_type": "stream",
     "text": [
      "[0.07882631 0.         0.12765575 0.         0.         0.\n",
      " 0.05769538 0.10220107 0.01291003 0.         0.09904176 0.0981974\n",
      " 0.12528648 0.         0.08588709 0.04660707 0.         0.\n",
      " 0.09723007 0.         0.         0.07917451 0.01781629 0.0494213\n",
      " 0.05502825 0.         0.         0.         0.0590446  0.\n",
      " 0.         0.         0.10233595 0.         0.         0.\n",
      " 0.03947795 0.06858593 0.         0.10788709] 1.5103102758120834\n",
      "([417.2574203276397], [23.212012233002824])\n",
      "[0.05219213 0.         0.08452286 0.         0.         0.\n",
      " 0.03820101 0.06766893 0.00854793 0.         0.0655771  0.06501803\n",
      " 0.08295413 0.         0.05686718 0.03085927 0.         0.\n",
      " 0.06437754 0.         0.         0.05242268 0.01179644 0.03272261\n",
      " 0.03643506 0.         0.         0.         0.03909435 0.\n",
      " 0.         0.         0.06775823 0.         0.         0.\n",
      " 0.02613896 0.04541181 0.         0.07143373] 0.9999999999999999\n",
      "([422.15287180520977], [23.849071269689784])\n"
     ]
    }
   ],
   "source": [
    "gene_map, pCodon_GFP = singlegene_to_genemap('/Users/akshay/Documents/tRNAShuffle/data/tables/sfGFP_RED20.csv')\n",
    "\n",
    "minRange = min(ptRNA_red20[np.nonzero(ptRNA_red20)])\n",
    "maxRange = max(ptRNA_red20)\n",
    "\n",
    "a = ptRNA_list[np.argmin(elongt_list)]\n",
    "print(a,sum(a))\n",
    "print(computeElongationLatency(a,pCodon_GFP,ensmbl_latency_dict))\n",
    "a = np.where((a>0)&(a<minRange), minRange, a)\n",
    "a = np.where(a>maxRange, maxRange, a)\n",
    "a_minmaxindices = np.where((a==minRange) | (a==maxRange))\n",
    "a_indices = np.where((a>minRange) & (a<maxRange))\n",
    "a[a_indices] = (a[a_indices]/sum(a[a_indices]))*(1-sum(a[a_minmaxindices]))\n",
    "print(a,sum(a))\n",
    "print(computeElongationLatency(a,pCodon_GFP,ensmbl_latency_dict))\n"
   ]
  },
  {
   "cell_type": "markdown",
   "metadata": {},
   "source": [
    "## Genetic algorithm: faster tRNA distribution with minimal tRNA, GFP"
   ]
  },
  {
   "cell_type": "code",
   "execution_count": 5,
   "metadata": {},
   "outputs": [
    {
     "name": "stdout",
     "output_type": "stream",
     "text": [
      "The autoreload extension is already loaded. To reload it, use:\n",
      "  %reload_ext autoreload\n"
     ]
    },
    {
     "name": "stderr",
     "output_type": "stream",
     "text": [
      "/Users/akshay/opt/anaconda3/lib/python3.8/site-packages/openpyxl/worksheet/_reader.py:312: UserWarning: Unknown extension is not supported and will be removed\n",
      "  warn(msg)\n"
     ]
    },
    {
     "name": "stdout",
     "output_type": "stream",
     "text": [
      "Generation:  0  elongt:  421.36397558540443 462.6822894682783 tRNA list:  [0.07882631 0.         0.12765575 0.         0.         0.\n",
      " 0.05769538 0.10220107 0.01291003 0.         0.09904176 0.0981974\n",
      " 0.12528648 0.         0.08588709 0.04660707 0.         0.\n",
      " 0.09723007 0.         0.         0.07917451 0.01781629 0.0494213\n",
      " 0.05502825 0.         0.         0.         0.0590446  0.\n",
      " 0.         0.         0.10233595 0.         0.         0.\n",
      " 0.03947795 0.06858593 0.         0.10788709]\n",
      "Generation:  100  elongt:  399.01813017052075 407.94268057112805 tRNA list:  [0.02871537 0.         0.01978458 0.         0.         0.\n",
      " 0.04907707 0.09403572 0.01252991 0.         0.05464172 0.07364998\n",
      " 0.08161851 0.         0.04625439 0.0453556  0.         0.\n",
      " 0.07292446 0.         0.         0.08596478 0.01252991 0.04506478\n",
      " 0.01260449 0.         0.         0.         0.03674125 0.\n",
      " 0.         0.         0.06259239 0.         0.         0.\n",
      " 0.02375287 0.0472468  0.         0.0949154 ]\n",
      "Generation:  200  elongt:  396.01598482756106 402.6307429560747 tRNA list:  [0.02706235 0.         0.03802961 0.         0.         0.\n",
      " 0.06339267 0.08231599 0.01221374 0.         0.04522976 0.08416521\n",
      " 0.08645176 0.         0.03978749 0.0524418  0.         0.\n",
      " 0.07353528 0.         0.         0.06320822 0.01221374 0.05075312\n",
      " 0.01221374 0.         0.         0.         0.03719762 0.\n",
      " 0.         0.         0.06145828 0.         0.         0.\n",
      " 0.02081042 0.05451416 0.         0.08300505]\n",
      "Generation:  300  elongt:  395.9178697632192 401.87742365399345 tRNA list:  [0.02649763 0.         0.01825658 0.         0.         0.\n",
      " 0.04528676 0.08885021 0.01221374 0.         0.04796701 0.07990548\n",
      " 0.08766    0.         0.04268208 0.05561551 0.         0.\n",
      " 0.07888507 0.         0.         0.06703351 0.01221374 0.04158435\n",
      " 0.01221374 0.         0.         0.         0.0600578  0.\n",
      " 0.         0.         0.06517767 0.         0.         0.\n",
      " 0.01250088 0.05781329 0.         0.08758492]\n",
      "Generation:  400  elongt:  393.5587522184645 400.44545242795147 tRNA list:  [0.02735334 0.         0.01884616 0.         0.         0.\n",
      " 0.07566083 0.08372037 0.01221374 0.         0.03897532 0.08337907\n",
      " 0.08581815 0.         0.04203781 0.05477602 0.         0.\n",
      " 0.07349484 0.         0.         0.07796926 0.01221374 0.05301218\n",
      " 0.01272016 0.         0.         0.         0.02621628 0.\n",
      " 0.         0.         0.06419383 0.         0.         0.\n",
      " 0.01326766 0.05968029 0.         0.08445096]\n",
      "Generation:  500  elongt:  392.6026864208105 398.3869669543929 tRNA list:  [0.02591635 0.         0.03502186 0.         0.         0.\n",
      " 0.05304684 0.0835155  0.01271426 0.         0.04691476 0.07304194\n",
      " 0.07076173 0.         0.04386306 0.05514876 0.         0.\n",
      " 0.07668592 0.         0.         0.08135462 0.01754418 0.05531392\n",
      " 0.01250024 0.         0.         0.         0.02735457 0.\n",
      " 0.         0.         0.09192056 0.         0.         0.\n",
      " 0.01335794 0.03835942 0.         0.08566358]\n",
      "Generation:  600  elongt:  389.903019529278 397.62121369865986 tRNA list:  [0.02718054 0.         0.04264893 0.         0.         0.\n",
      " 0.08440289 0.07898757 0.01233673 0.         0.04968769 0.07418557\n",
      " 0.09168335 0.         0.04488488 0.0230996  0.         0.\n",
      " 0.08327113 0.         0.         0.07985891 0.01233673 0.05451342\n",
      " 0.01251591 0.         0.         0.         0.02711939 0.\n",
      " 0.         0.         0.06601172 0.         0.         0.\n",
      " 0.01288746 0.03902001 0.         0.08336756]\n",
      "Generation:  700  elongt:  389.903019529278 396.8282281934992 tRNA list:  [0.02718054 0.         0.04264893 0.         0.         0.\n",
      " 0.08440289 0.07898757 0.01233673 0.         0.04968769 0.07418557\n",
      " 0.09168335 0.         0.04488488 0.0230996  0.         0.\n",
      " 0.08327113 0.         0.         0.07985891 0.01233673 0.05451342\n",
      " 0.01251591 0.         0.         0.         0.02711939 0.\n",
      " 0.         0.         0.06601172 0.         0.         0.\n",
      " 0.01288746 0.03902001 0.         0.08336756]\n",
      "Generation:  800  elongt:  389.903019529278 396.38470780317977 tRNA list:  [0.02718054 0.         0.04264893 0.         0.         0.\n",
      " 0.08440289 0.07898757 0.01233673 0.         0.04968769 0.07418557\n",
      " 0.09168335 0.         0.04488488 0.0230996  0.         0.\n",
      " 0.08327113 0.         0.         0.07985891 0.01233673 0.05451342\n",
      " 0.01251591 0.         0.         0.         0.02711939 0.\n",
      " 0.         0.         0.06601172 0.         0.         0.\n",
      " 0.01288746 0.03902001 0.         0.08336756]\n",
      "Generation:  900  elongt:  389.903019529278 396.5908663165271 tRNA list:  [0.02718054 0.         0.04264893 0.         0.         0.\n",
      " 0.08440289 0.07898757 0.01233673 0.         0.04968769 0.07418557\n",
      " 0.09168335 0.         0.04488488 0.0230996  0.         0.\n",
      " 0.08327113 0.         0.         0.07985891 0.01233673 0.05451342\n",
      " 0.01251591 0.         0.         0.         0.02711939 0.\n",
      " 0.         0.         0.06601172 0.         0.         0.\n",
      " 0.01288746 0.03902001 0.         0.08336756]\n",
      "Generation:  1000  elongt:  389.903019529278 396.13389676246965 tRNA list:  [0.02718054 0.         0.04264893 0.         0.         0.\n",
      " 0.08440289 0.07898757 0.01233673 0.         0.04968769 0.07418557\n",
      " 0.09168335 0.         0.04488488 0.0230996  0.         0.\n",
      " 0.08327113 0.         0.         0.07985891 0.01233673 0.05451342\n",
      " 0.01251591 0.         0.         0.         0.02711939 0.\n",
      " 0.         0.         0.06601172 0.         0.         0.\n",
      " 0.01288746 0.03902001 0.         0.08336756]\n",
      "Generation:  1100  elongt:  389.2416182524307 396.42994221780106 tRNA list:  [0.02758598 0.         0.02906801 0.         0.         0.\n",
      " 0.07745212 0.08020131 0.01253358 0.         0.02507193 0.07529217\n",
      " 0.09171884 0.         0.04555441 0.05296026 0.         0.\n",
      " 0.08451325 0.         0.         0.08105014 0.01253358 0.0438347\n",
      " 0.01253358 0.         0.         0.         0.04194576 0.\n",
      " 0.         0.         0.06705005 0.         0.         0.\n",
      " 0.01307969 0.03960206 0.         0.08641858]\n",
      "Generation:  1200  elongt:  389.2416182524307 395.6565045145872 tRNA list:  [0.02758598 0.         0.02906801 0.         0.         0.\n",
      " 0.07745212 0.08020131 0.01253358 0.         0.02507193 0.07529217\n",
      " 0.09171884 0.         0.04555441 0.05296026 0.         0.\n",
      " 0.08451325 0.         0.         0.08105014 0.01253358 0.0438347\n",
      " 0.01253358 0.         0.         0.         0.04194576 0.\n",
      " 0.         0.         0.06705005 0.         0.         0.\n",
      " 0.01307969 0.03960206 0.         0.08641858]\n",
      "Generation:  1300  elongt:  389.2416182524307 394.78207374161576 tRNA list:  [0.02758598 0.         0.02906801 0.         0.         0.\n",
      " 0.07745212 0.08020131 0.01253358 0.         0.02507193 0.07529217\n",
      " 0.09171884 0.         0.04555441 0.05296026 0.         0.\n",
      " 0.08451325 0.         0.         0.08105014 0.01253358 0.0438347\n",
      " 0.01253358 0.         0.         0.         0.04194576 0.\n",
      " 0.         0.         0.06705005 0.         0.         0.\n",
      " 0.01307969 0.03960206 0.         0.08641858]\n",
      "Generation:  1400  elongt:  389.2416182524307 394.964497606203 tRNA list:  [0.02758598 0.         0.02906801 0.         0.         0.\n",
      " 0.07745212 0.08020131 0.01253358 0.         0.02507193 0.07529217\n",
      " 0.09171884 0.         0.04555441 0.05296026 0.         0.\n",
      " 0.08451325 0.         0.         0.08105014 0.01253358 0.0438347\n",
      " 0.01253358 0.         0.         0.         0.04194576 0.\n",
      " 0.         0.         0.06705005 0.         0.         0.\n",
      " 0.01307969 0.03960206 0.         0.08641858]\n",
      "Generation:  1500  elongt:  389.2416182524307 394.33540994157937 tRNA list:  [0.02758598 0.         0.02906801 0.         0.         0.\n",
      " 0.07745212 0.08020131 0.01253358 0.         0.02507193 0.07529217\n",
      " 0.09171884 0.         0.04555441 0.05296026 0.         0.\n",
      " 0.08451325 0.         0.         0.08105014 0.01253358 0.0438347\n",
      " 0.01253358 0.         0.         0.         0.04194576 0.\n",
      " 0.         0.         0.06705005 0.         0.         0.\n",
      " 0.01307969 0.03960206 0.         0.08641858]\n",
      "Generation:  1600  elongt:  389.2416182524307 395.229332538345 tRNA list:  [0.02758598 0.         0.02906801 0.         0.         0.\n",
      " 0.07745212 0.08020131 0.01253358 0.         0.02507193 0.07529217\n",
      " 0.09171884 0.         0.04555441 0.05296026 0.         0.\n",
      " 0.08451325 0.         0.         0.08105014 0.01253358 0.0438347\n",
      " 0.01253358 0.         0.         0.         0.04194576 0.\n",
      " 0.         0.         0.06705005 0.         0.         0.\n",
      " 0.01307969 0.03960206 0.         0.08641858]\n"
     ]
    },
    {
     "name": "stdout",
     "output_type": "stream",
     "text": [
      "Generation:  1700  elongt:  389.2416182524307 394.7199245915154 tRNA list:  [0.02758598 0.         0.02906801 0.         0.         0.\n",
      " 0.07745212 0.08020131 0.01253358 0.         0.02507193 0.07529217\n",
      " 0.09171884 0.         0.04555441 0.05296026 0.         0.\n",
      " 0.08451325 0.         0.         0.08105014 0.01253358 0.0438347\n",
      " 0.01253358 0.         0.         0.         0.04194576 0.\n",
      " 0.         0.         0.06705005 0.         0.         0.\n",
      " 0.01307969 0.03960206 0.         0.08641858]\n",
      "Generation:  1800  elongt:  388.8058768983608 394.1875714438587 tRNA list:  [0.02164523 0.         0.01491333 0.         0.         0.\n",
      " 0.07562973 0.07624325 0.01221374 0.         0.04200595 0.06944695\n",
      " 0.10269499 0.         0.03733073 0.05141847 0.         0.\n",
      " 0.06937837 0.         0.         0.09739941 0.01221374 0.04307408\n",
      " 0.01221374 0.         0.         0.         0.04934119 0.\n",
      " 0.         0.         0.07823124 0.         0.         0.\n",
      " 0.01221374 0.04722618 0.         0.07516596]\n",
      "Generation:  1900  elongt:  388.8058768983608 394.4877773709923 tRNA list:  [0.02164523 0.         0.01491333 0.         0.         0.\n",
      " 0.07562973 0.07624325 0.01221374 0.         0.04200595 0.06944695\n",
      " 0.10269499 0.         0.03733073 0.05141847 0.         0.\n",
      " 0.06937837 0.         0.         0.09739941 0.01221374 0.04307408\n",
      " 0.01221374 0.         0.         0.         0.04934119 0.\n",
      " 0.         0.         0.07823124 0.         0.         0.\n",
      " 0.01221374 0.04722618 0.         0.07516596]\n",
      "CPU times: user 4min 52s, sys: 3.4 s, total: 4min 56s\n",
      "Wall time: 1h 3min 59s\n"
     ]
    }
   ],
   "source": [
    "%%time\n",
    "%load_ext autoreload\n",
    "%autoreload 2\n",
    "from analysis_utils import *\n",
    "gene_map, pCodon_GFP = singlegene_to_genemap('/Users/akshay/Documents/tRNAShuffle/data/tables/sfGFP_RED20.csv')\n",
    "ptRNA_red20 = pd.read_excel('./data/tables/tRNAValues_RED20.xlsx',header=None)\n",
    "ptRNA_red20 = np.array(ptRNA_red20[6]/sum(ptRNA_red20[6]))\n",
    "tRNA_indices = np.argwhere(ptRNA_red20 == 0)\n",
    "tRNA_indices = [indices[0] for indices in tRNA_indices]\n",
    "elongt_list = list()\n",
    "ptRNA_list = list()\n",
    "inputs = list()\n",
    "### Codon array fixed\n",
    "elongt_list = np.load('./data/minimaltRNA_minimalcode-sfGFP_100sample_elongt.npy')\n",
    "ptRNA_list = np.load('./data/minimaltRNA_minimalcode-sfGFP_100sample_ptRNA.npy')\n",
    "fullelongt_list = list()\n",
    "\n",
    "for i in range(2000):\n",
    "    fitness, ptRNA_list, elongt_list = run_ga_tRNA(ptRNA_list,pCodon_GFP,elongt_list,ensmbl_latency_dict,min(ptRNA_red20[np.nonzero(ptRNA_red20)]),max(ptRNA_red20),objective='fast',ptRNA_red20=ptRNA_red20)\n",
    "    fullelongt_list.append(min(elongt_list))\n",
    "    if i%100 == 0:\n",
    "        print('Generation: ',i, ' elongt: ', min(elongt_list),np.average(elongt_list),'tRNA list: ',ptRNA_list[np.argmin(elongt_list)])\n",
    "        \n",
    "np.save('./data/gr06_UniformRandomtRNA_minimalcode-sfGFP_2ksample_fasttRNA_elongt',elongt_list)\n",
    "np.save('./data/gr06_UniformRandomtRNA_minimalcode-sfGFP_2ksample_fasttRNA_ptRNA',ptRNA_list)\n",
    "np.save('./data/gr06_UniformRandomtRNA_minimalcode-sfGFP_2ksample_fasttRNA_fullelongt',fullelongt_list)"
   ]
  },
  {
   "cell_type": "markdown",
   "metadata": {},
   "source": [
    "## Genetic algorithm: slower tRNA distribution with minimal tRNA, GFP"
   ]
  },
  {
   "cell_type": "code",
   "execution_count": 6,
   "metadata": {},
   "outputs": [
    {
     "name": "stdout",
     "output_type": "stream",
     "text": [
      "The autoreload extension is already loaded. To reload it, use:\n",
      "  %reload_ext autoreload\n"
     ]
    },
    {
     "name": "stderr",
     "output_type": "stream",
     "text": [
      "/Users/akshay/opt/anaconda3/lib/python3.8/site-packages/openpyxl/worksheet/_reader.py:312: UserWarning: Unknown extension is not supported and will be removed\n",
      "  warn(msg)\n"
     ]
    },
    {
     "name": "stdout",
     "output_type": "stream",
     "text": [
      "Generation:  0  elongt:  506.1319850512774 tRNA list:  [0.07175073 0.         0.11393193 0.         0.         0.\n",
      " 0.01223108 0.02299913 0.04398516 0.         0.01904474 0.1003129\n",
      " 0.01938072 0.         0.11923191 0.05015825 0.         0.\n",
      " 0.06209129 0.         0.         0.04627819 0.11436115 0.05679264\n",
      " 0.09855112 0.         0.         0.         0.0518254  0.\n",
      " 0.         0.         0.0132013  0.         0.         0.\n",
      " 0.04215812 0.04884841 0.         0.117174  ]\n",
      "Generation:  100  elongt:  587.0551287231337 tRNA list:  [0.12117265 0.         0.08810009 0.         0.         0.\n",
      " 0.03381009 0.01275431 0.0867927  0.         0.08187801 0.01275431\n",
      " 0.01466565 0.         0.05178705 0.01497055 0.         0.\n",
      " 0.01275431 0.         0.         0.01541613 0.12638762 0.03931565\n",
      " 0.07525727 0.         0.         0.         0.01657615 0.\n",
      " 0.         0.         0.02991053 0.         0.         0.\n",
      " 0.10573831 0.04152895 0.         0.01842969]\n",
      "Generation:  200  elongt:  603.6089489856116 tRNA list:  [0.10121411 0.         0.06372103 0.         0.         0.\n",
      " 0.01305604 0.01509825 0.0981364  0.         0.06093448 0.01860443\n",
      " 0.01329695 0.         0.0452418  0.01506273 0.         0.\n",
      " 0.01305604 0.         0.         0.01530035 0.11127046 0.03053475\n",
      " 0.12785497 0.         0.         0.         0.01634263 0.\n",
      " 0.         0.         0.01603431 0.         0.         0.\n",
      " 0.1116911  0.09614878 0.         0.01740039]\n",
      "Generation:  300  elongt:  611.2106600761051 tRNA list:  [0.02728618 0.         0.12427543 0.         0.         0.\n",
      " 0.01840125 0.01328552 0.1105027  0.         0.02759863 0.0168779\n",
      " 0.01803132 0.         0.03589441 0.01367136 0.         0.\n",
      " 0.01397825 0.         0.         0.02050019 0.12824427 0.01483574\n",
      " 0.12396202 0.         0.         0.         0.01904037 0.\n",
      " 0.         0.         0.01589226 0.         0.         0.\n",
      " 0.12824427 0.11032987 0.         0.01914804]\n",
      "Generation:  400  elongt:  619.4603856109626 tRNA list:  [0.02902727 0.         0.12824427 0.         0.         0.\n",
      " 0.0195754  0.01413324 0.11755369 0.         0.12170175 0.0143071\n",
      " 0.01918187 0.         0.01382416 0.01780165 0.         0.\n",
      " 0.01487018 0.         0.         0.01508923 0.11578366 0.01578238\n",
      " 0.12824427 0.         0.         0.         0.02216179 0.\n",
      " 0.         0.         0.01514605 0.         0.         0.\n",
      " 0.12353078 0.03383571 0.         0.02020553]\n",
      "Generation:  500  elongt:  625.6707088091545 tRNA list:  [0.02934777 0.         0.12824427 0.         0.         0.\n",
      " 0.01979154 0.01428929 0.11978461 0.         0.12304549 0.01446507\n",
      " 0.0142293  0.         0.0139768  0.0179982  0.         0.\n",
      " 0.01503437 0.         0.         0.01525583 0.12779492 0.01595664\n",
      " 0.12824427 0.         0.         0.         0.01853701 0.\n",
      " 0.         0.         0.01531328 0.         0.         0.\n",
      " 0.12489471 0.02336801 0.         0.02042862]\n",
      "Generation:  600  elongt:  625.6707088091545 tRNA list:  [0.02934777 0.         0.12824427 0.         0.         0.\n",
      " 0.01979154 0.01428929 0.11978461 0.         0.12304549 0.01446507\n",
      " 0.0142293  0.         0.0139768  0.0179982  0.         0.\n",
      " 0.01503437 0.         0.         0.01525583 0.12779492 0.01595664\n",
      " 0.12824427 0.         0.         0.         0.01853701 0.\n",
      " 0.         0.         0.01531328 0.         0.         0.\n",
      " 0.12489471 0.02336801 0.         0.02042862]\n",
      "Generation:  700  elongt:  625.6707088091545 tRNA list:  [0.02934777 0.         0.12824427 0.         0.         0.\n",
      " 0.01979154 0.01428929 0.11978461 0.         0.12304549 0.01446507\n",
      " 0.0142293  0.         0.0139768  0.0179982  0.         0.\n",
      " 0.01503437 0.         0.         0.01525583 0.12779492 0.01595664\n",
      " 0.12824427 0.         0.         0.         0.01853701 0.\n",
      " 0.         0.         0.01531328 0.         0.         0.\n",
      " 0.12489471 0.02336801 0.         0.02042862]\n",
      "Generation:  800  elongt:  625.6707088091545 tRNA list:  [0.02934777 0.         0.12824427 0.         0.         0.\n",
      " 0.01979154 0.01428929 0.11978461 0.         0.12304549 0.01446507\n",
      " 0.0142293  0.         0.0139768  0.0179982  0.         0.\n",
      " 0.01503437 0.         0.         0.01525583 0.12779492 0.01595664\n",
      " 0.12824427 0.         0.         0.         0.01853701 0.\n",
      " 0.         0.         0.01531328 0.         0.         0.\n",
      " 0.12489471 0.02336801 0.         0.02042862]\n",
      "Generation:  900  elongt:  625.6707088091545 tRNA list:  [0.02934777 0.         0.12824427 0.         0.         0.\n",
      " 0.01979154 0.01428929 0.11978461 0.         0.12304549 0.01446507\n",
      " 0.0142293  0.         0.0139768  0.0179982  0.         0.\n",
      " 0.01503437 0.         0.         0.01525583 0.12779492 0.01595664\n",
      " 0.12824427 0.         0.         0.         0.01853701 0.\n",
      " 0.         0.         0.01531328 0.         0.         0.\n",
      " 0.12489471 0.02336801 0.         0.02042862]\n",
      "Generation:  1000  elongt:  625.8471845430755 tRNA list:  [0.03030335 0.         0.12705997 0.         0.         0.\n",
      " 0.01985559 0.01433554 0.12368488 0.         0.12109769 0.01493606\n",
      " 0.01333545 0.         0.01402203 0.01858423 0.         0.\n",
      " 0.01552389 0.         0.         0.01417245 0.12705997 0.0164762\n",
      " 0.12705997 0.         0.         0.         0.01914058 0.\n",
      " 0.         0.         0.01581189 0.         0.         0.\n",
      " 0.12824427 0.02031806 0.         0.01897791]\n",
      "Generation:  1100  elongt:  627.0220755446256 tRNA list:  [0.02951271 0.         0.12645201 0.         0.         0.\n",
      " 0.02045586 0.01513095 0.11163063 0.         0.12645201 0.01531708\n",
      " 0.01506742 0.         0.01444594 0.01809935 0.         0.\n",
      " 0.0159199  0.         0.         0.01497499 0.12654915 0.01604632\n",
      " 0.12824427 0.         0.         0.         0.01962885 0.\n",
      " 0.         0.         0.01433269 0.         0.         0.\n",
      " 0.12645201 0.02474441 0.         0.02054344]\n",
      "Generation:  1200  elongt:  627.0220755446256 tRNA list:  [0.02951271 0.         0.12645201 0.         0.         0.\n",
      " 0.02045586 0.01513095 0.11163063 0.         0.12645201 0.01531708\n",
      " 0.01506742 0.         0.01444594 0.01809935 0.         0.\n",
      " 0.0159199  0.         0.         0.01497499 0.12654915 0.01604632\n",
      " 0.12824427 0.         0.         0.         0.01962885 0.\n",
      " 0.         0.         0.01433269 0.         0.         0.\n",
      " 0.12645201 0.02474441 0.         0.02054344]\n",
      "Generation:  1300  elongt:  627.0220755446256 tRNA list:  [0.02951271 0.         0.12645201 0.         0.         0.\n",
      " 0.02045586 0.01513095 0.11163063 0.         0.12645201 0.01531708\n",
      " 0.01506742 0.         0.01444594 0.01809935 0.         0.\n",
      " 0.0159199  0.         0.         0.01497499 0.12654915 0.01604632\n",
      " 0.12824427 0.         0.         0.         0.01962885 0.\n",
      " 0.         0.         0.01433269 0.         0.         0.\n",
      " 0.12645201 0.02474441 0.         0.02054344]\n",
      "Generation:  1400  elongt:  627.0220755446256 tRNA list:  [0.02951271 0.         0.12645201 0.         0.         0.\n",
      " 0.02045586 0.01513095 0.11163063 0.         0.12645201 0.01531708\n",
      " 0.01506742 0.         0.01444594 0.01809935 0.         0.\n",
      " 0.0159199  0.         0.         0.01497499 0.12654915 0.01604632\n",
      " 0.12824427 0.         0.         0.         0.01962885 0.\n",
      " 0.         0.         0.01433269 0.         0.         0.\n",
      " 0.12645201 0.02474441 0.         0.02054344]\n",
      "Generation:  1500  elongt:  627.0220755446256 tRNA list:  [0.02951271 0.         0.12645201 0.         0.         0.\n",
      " 0.02045586 0.01513095 0.11163063 0.         0.12645201 0.01531708\n",
      " 0.01506742 0.         0.01444594 0.01809935 0.         0.\n",
      " 0.0159199  0.         0.         0.01497499 0.12654915 0.01604632\n",
      " 0.12824427 0.         0.         0.         0.01962885 0.\n",
      " 0.         0.         0.01433269 0.         0.         0.\n",
      " 0.12645201 0.02474441 0.         0.02054344]\n",
      "Generation:  1600  elongt:  627.4355423613425 tRNA list:  [0.12824427 0.         0.02016024 0.         0.         0.\n",
      " 0.020203   0.01458636 0.1213225  0.         0.12560355 0.01476579\n",
      " 0.01554858 0.         0.01504514 0.01937392 0.         0.\n",
      " 0.01534692 0.         0.         0.01557299 0.11949573 0.0204817\n",
      " 0.12824427 0.         0.         0.         0.01995392 0.\n",
      " 0.         0.         0.01563163 0.         0.         0.\n",
      " 0.12749122 0.02207491 0.         0.02085333]\n",
      "Generation:  1700  elongt:  627.4355423613425 tRNA list:  [0.12824427 0.         0.02016024 0.         0.         0.\n",
      " 0.020203   0.01458636 0.1213225  0.         0.12560355 0.01476579\n",
      " 0.01554858 0.         0.01504514 0.01937392 0.         0.\n",
      " 0.01534692 0.         0.         0.01557299 0.11949573 0.0204817\n",
      " 0.12824427 0.         0.         0.         0.01995392 0.\n",
      " 0.         0.         0.01563163 0.         0.         0.\n",
      " 0.12749122 0.02207491 0.         0.02085333]\n"
     ]
    },
    {
     "name": "stdout",
     "output_type": "stream",
     "text": [
      "Generation:  1800  elongt:  627.4355423613425 tRNA list:  [0.12824427 0.         0.02016024 0.         0.         0.\n",
      " 0.020203   0.01458636 0.1213225  0.         0.12560355 0.01476579\n",
      " 0.01554858 0.         0.01504514 0.01937392 0.         0.\n",
      " 0.01534692 0.         0.         0.01557299 0.11949573 0.0204817\n",
      " 0.12824427 0.         0.         0.         0.01995392 0.\n",
      " 0.         0.         0.01563163 0.         0.         0.\n",
      " 0.12749122 0.02207491 0.         0.02085333]\n",
      "Generation:  1900  elongt:  627.4355423613425 tRNA list:  [0.12824427 0.         0.02016024 0.         0.         0.\n",
      " 0.020203   0.01458636 0.1213225  0.         0.12560355 0.01476579\n",
      " 0.01554858 0.         0.01504514 0.01937392 0.         0.\n",
      " 0.01534692 0.         0.         0.01557299 0.11949573 0.0204817\n",
      " 0.12824427 0.         0.         0.         0.01995392 0.\n",
      " 0.         0.         0.01563163 0.         0.         0.\n",
      " 0.12749122 0.02207491 0.         0.02085333]\n",
      "CPU times: user 5min 2s, sys: 3.16 s, total: 5min 5s\n",
      "Wall time: 1h 5min 49s\n"
     ]
    }
   ],
   "source": [
    "%%time\n",
    "%load_ext autoreload\n",
    "%autoreload 2\n",
    "from analysis_utils import *\n",
    "\n",
    "gene_map, pCodon_GFP = singlegene_to_genemap('/Users/akshay/Documents/tRNAShuffle/data/tables/sfGFP_RED20.csv')\n",
    "ptRNA_red20 = pd.read_excel('./data/tables/tRNAValues_RED20.xlsx',header=None)\n",
    "ptRNA_red20 = np.array(ptRNA_red20[6]/sum(ptRNA_red20[6]))\n",
    "tRNA_indices = np.argwhere(ptRNA_red20 == 0)\n",
    "tRNA_indices = [indices[0] for indices in tRNA_indices]\n",
    "elongt_list = list()\n",
    "ptRNA_list = list()\n",
    "inputs = list()\n",
    "\n",
    "### Codon array fixed\n",
    "elongt_list = np.load('./data/minimaltRNA_minimalcode-sfGFP_100sample_elongt.npy')\n",
    "ptRNA_list = np.load('./data/minimaltRNA_minimalcode-sfGFP_100sample_ptRNA.npy')\n",
    "fullelongt_list = list()\n",
    "\n",
    "for i in range(2000):\n",
    "    fitness, ptRNA_list, elongt_list = run_ga_tRNA(ptRNA_list,pCodon_GFP,elongt_list,ensmbl_latency_dict,min(ptRNA_red20[np.nonzero(ptRNA_red20)]),max(ptRNA_red20),objective='slow',ptRNA_red20=ptRNA_red20)\n",
    "    fullelongt_list.append(max(elongt_list))\n",
    "    if i%100 == 0:\n",
    "        print('Generation: ',i, ' elongt: ', max(elongt_list),'tRNA list: ',ptRNA_list[np.argmax(elongt_list)])\n",
    "        \n",
    "np.save('./data/UniformRandomtRNA_minimalcode-sfGFP_2ksample_slowtRNA_elongt',elongt_list)\n",
    "np.save('./data/UniformRandomtRNA_minimalcode-sfGFP_2ksample_slowtRNA_ptRNA',ptRNA_list)\n",
    "np.save('./data/UniformRandomtRNA_minimalcode-sfGFP_2ksample_slowtRNA_fullelongt',fullelongt_list)"
   ]
  },
  {
   "cell_type": "code",
   "execution_count": 7,
   "metadata": {},
   "outputs": [
    {
     "name": "stdout",
     "output_type": "stream",
     "text": [
      "0.012213740457866095\n",
      "0.12824427480759398\n"
     ]
    }
   ],
   "source": [
    "print(min(ptRNA_red20[np.nonzero(ptRNA_red20)]))\n",
    "print(max(ptRNA_red20))"
   ]
  },
  {
   "cell_type": "markdown",
   "metadata": {},
   "source": [
    "## minimal uniform random tRNA, minimal code mRFP, 100 samples"
   ]
  },
  {
   "cell_type": "code",
   "execution_count": 43,
   "metadata": {},
   "outputs": [
    {
     "name": "stdout",
     "output_type": "stream",
     "text": [
      "184.3356414849228\n",
      "CPU times: user 12.4 s, sys: 354 ms, total: 12.7 s\n",
      "Wall time: 22 s\n"
     ]
    }
   ],
   "source": [
    "%%time\n",
    "\n",
    "gene_map, pCodon_GFP = singlegene_to_genemap('/Users/akshay/Documents/tRNAShuffle/data/tables/mRFP_RED20.csv')\n",
    "\n",
    "ptRNA_red20 = pd.read_excel('./data/tables/tRNAValues_RED20.xlsx',header=None)\n",
    "ptRNA_red20 = ptRNA_red20[6]/sum(ptRNA_red20[6])\n",
    "tRNA_indices = np.argwhere(ptRNA_red20 == 0)\n",
    "tRNA_indices = [indices[0] for indices in tRNA_indices]\n",
    "elongt_list = list()\n",
    "ptRNA_list = list()\n",
    "inputs = list()\n",
    "\n",
    "for i in range(100):\n",
    "    ptRNA_uniform = np.random.uniform(min(ptRNA_red20),max(ptRNA_red20),len(ptRNA_red20))\n",
    "    ptRNA_uniform[tRNA_indices] = 0\n",
    "    ptRNA_list.append(ptRNA_uniform)\n",
    "    inputs.append([ptRNA_uniform,pCodon_GFP,ensmbl_latency_dict])\n",
    "elongt_list = Parallel(n_jobs=n_cores,backend='loky')(delayed(computeElongationLatency_multithread)(i) for i in inputs)\n",
    "elongt_list = [elongt[0][0] for elongt in elongt_list]\n",
    "np.save('./data/minimaltRNA_minimalcode-mRFP_100sample_elongt',elongt_list)\n",
    "np.save('./data/minimaltRNA_minimalcode-mRFP_100sample_ptRNA',ptRNA_list)\n",
    "print(np.average(elongt_list))"
   ]
  },
  {
   "cell_type": "markdown",
   "metadata": {},
   "source": [
    "## Genetic algorithm: faster tRNA distribution with minimal tRNA, mRFP"
   ]
  },
  {
   "cell_type": "code",
   "execution_count": 44,
   "metadata": {},
   "outputs": [
    {
     "name": "stdout",
     "output_type": "stream",
     "text": [
      "The autoreload extension is already loaded. To reload it, use:\n",
      "  %reload_ext autoreload\n",
      "Generation:  0  elongt:  168.74550105211244\n",
      "Generation:  100  elongt:  160.17600220335808\n",
      "Generation:  200  elongt:  156.65755391893552\n",
      "Generation:  300  elongt:  155.83525207164303\n",
      "Generation:  400  elongt:  155.79226660354004\n",
      "Generation:  500  elongt:  155.31931077776082\n",
      "Generation:  600  elongt:  154.47035931724673\n",
      "Generation:  700  elongt:  154.47035931724673\n",
      "Generation:  800  elongt:  154.34752486159513\n",
      "Generation:  900  elongt:  154.34752486159513\n",
      "Generation:  1000  elongt:  154.34752486159513\n",
      "Generation:  1100  elongt:  153.24877589258833\n",
      "Generation:  1200  elongt:  153.24877589258833\n",
      "Generation:  1300  elongt:  153.24877589258833\n",
      "Generation:  1400  elongt:  153.24877589258833\n",
      "Generation:  1500  elongt:  153.24877589258833\n",
      "Generation:  1600  elongt:  153.24877589258833\n",
      "Generation:  1700  elongt:  153.24877589258833\n",
      "Generation:  1800  elongt:  153.24877589258833\n",
      "Generation:  1900  elongt:  153.24877589258833\n",
      "CPU times: user 25min 43s, sys: 4.44 s, total: 25min 47s\n",
      "Wall time: 1h 25min 32s\n"
     ]
    }
   ],
   "source": [
    "%%time\n",
    "%load_ext autoreload\n",
    "%autoreload 2\n",
    "from analysis_utils import *\n",
    "\n",
    "### Codon array fixed\n",
    "elongt_list = np.load('./data/minimaltRNA_minimalcode-mRFP_100sample_elongt.npy')\n",
    "ptRNA_list = np.load('./data/minimaltRNA_minimalcode-mRFP_100sample_ptRNA.npy')\n",
    "fullelongt_list = list()\n",
    "\n",
    "for i in range(2000):\n",
    "    fitness, ptRNA_list, elongt_list = run_ga_tRNA(ptRNA_list,pCodon_GFP,elongt_list,ensmbl_latency_dict,min(ptRNA_red20),max(ptRNA_red20),objective='fast',ptRNA_red20=ptRNA_red20)\n",
    "    fullelongt_list.append(min(elongt_list))\n",
    "    if i%100 == 0:\n",
    "        print('Generation: ',i, ' elongt: ', min(elongt_list))\n",
    "        \n",
    "np.save('./data/UniformRandomtRNA_minimalcode-mRFP_2ksample_fasttRNA_elongt',elongt_list)\n",
    "np.save('./data/UniformRandomtRNA_minimalcode-mRFP_2ksample_fasttRNA_ptRNA',ptRNA_list)\n",
    "np.save('./data/UniformRandomtRNA_minimalcode-mRFP_2ksample_fasttRNA_fullelongt',fullelongt_list)"
   ]
  },
  {
   "cell_type": "markdown",
   "metadata": {},
   "source": [
    "## Genetic algorithm: slower tRNA distribution with minimal tRNA, mRFP"
   ]
  },
  {
   "cell_type": "code",
   "execution_count": 45,
   "metadata": {},
   "outputs": [
    {
     "name": "stdout",
     "output_type": "stream",
     "text": [
      "The autoreload extension is already loaded. To reload it, use:\n",
      "  %reload_ext autoreload\n",
      "Generation:  0  elongt:  175.1247041405708\n",
      "Generation:  100  elongt:  211.03438110718938\n",
      "Generation:  200  elongt:  222.29216190704705\n",
      "Generation:  300  elongt:  229.20293389041973\n",
      "Generation:  400  elongt:  222.00841180441049\n",
      "Generation:  500  elongt:  222.42975185073902\n",
      "Generation:  600  elongt:  235.79605392618652\n",
      "Generation:  700  elongt:  232.7473907291243\n",
      "Generation:  800  elongt:  235.0525272570431\n",
      "Generation:  900  elongt:  236.13680000893967\n",
      "Generation:  1000  elongt:  238.68686851934845\n",
      "Generation:  1100  elongt:  233.47878212946296\n",
      "Generation:  1200  elongt:  233.2166650611879\n",
      "Generation:  1300  elongt:  238.0814716424852\n",
      "Generation:  1400  elongt:  235.79969613071896\n",
      "Generation:  1500  elongt:  205.83571058026317\n",
      "Generation:  1600  elongt:  235.51616418980637\n",
      "Generation:  1700  elongt:  240.72484231501417\n",
      "Generation:  1800  elongt:  240.78492448637914\n",
      "Generation:  1900  elongt:  238.60569905800006\n",
      "CPU times: user 26min 19s, sys: 5.38 s, total: 26min 25s\n",
      "Wall time: 1h 27min 36s\n"
     ]
    }
   ],
   "source": [
    "%%time\n",
    "%load_ext autoreload\n",
    "%autoreload 2\n",
    "from analysis_utils import *\n",
    "\n",
    "### Codon array fixed\n",
    "elongt_list = np.load('./data/minimaltRNA_minimalcode-mRFP_100sample_elongt.npy')\n",
    "ptRNA_list = np.load('./data/minimaltRNA_minimalcode-mRFP_100sample_ptRNA.npy')\n",
    "fullelongt_list = list()\n",
    "\n",
    "for i in range(2000):\n",
    "    fitness, ptRNA_list, elongt_list = run_ga_tRNA(ptRNA_list,pCodon_GFP,elongt_list,ensmbl_latency_dict,min(ptRNA_red20),max(ptRNA_red20),objective='slow',ptRNA_red20=ptRNA_red20)\n",
    "    fullelongt_list.append(min(elongt_list))\n",
    "    if i%100 == 0:\n",
    "        print('Generation: ',i, ' elongt: ', min(elongt_list))\n",
    "        \n",
    "np.save('./data/UniformRandomtRNA_minimalcode-mRFP_2ksample_slowtRNA_elongt',elongt_list)\n",
    "np.save('./data/UniformRandomtRNA_minimalcode-mRFP_2ksample_slowtRNA_ptRNA',ptRNA_list)\n",
    "np.save('./data/UniformRandomtRNA_minimalcode-mRFP_2ksample_slowtRNA_fullelongt',fullelongt_list)"
   ]
  },
  {
   "cell_type": "code",
   "execution_count": 9,
   "metadata": {},
   "outputs": [
    {
     "data": {
      "text/plain": [
       "0.08523592085132133"
      ]
     },
     "execution_count": 9,
     "metadata": {},
     "output_type": "execute_result"
    }
   ],
   "source": [
    "import numpy as np\n",
    "gr25_Codon = np.array([2.36, 1.26, 45.55, 34.17, 16.97, 57.86, 19.27, 33.74, 14.98, 22.31, 43.18, 7.67, 24.11, 24.87, 39.49, 11.81, 0.03, 0.63, 2.19, 9.31, 17.22, 55.01, 5.61, 29.21, 21.67, 0.52, 15.79, 43.86, 4.17, 2.61, 20.64, 26.7, 7.03, 0.19, 2.76, 3.81, 6.72, 16.52, 4.27, 2.73, 7.92, 23.25, 2.51, 1.98, 16.33, 11.68, 0.62, 0.67, 43.82, 20.59, 27.28, 7.01, 6.78, 14.21, 60.75, 0.82, 3.86, 4.09, 28.82, 5.18, 4.38, 1.09])\n",
    "gr25_pCodon = gr25_Codon/np.sum(gr25_Codon)\n",
    "gr25_ptRNA = [0.0602409638554217, 0.010542168674698798, 0.07379518072289158, 0.00602409638554217, 0.010542168674698798, 0.00602409638554217, 0.021084337349397596, 0.043674698795180725, 0.021084337349397596, 0.01204819277108434, 0.01807228915662651, 0.08433734939759038, 0.03162650602409639, 0.07228915662650603, 0.01204819277108434, 0.07078313253012049, 0.06325301204819278, 0.01656626506024097, 0.009036144578313254, 0.027108433734939763, 0.010542168674698798, 0.03012048192771085, 0.013554216867469882, 0.015060240963855425, 0.0075301204819277125, 0.010542168674698798, 0.0075301204819277125, 0.003012048192771085, 0.021084337349397596, 0.004518072289156627, 0.01656626506024097, 0.01204819277108434, 0.0015060240963855425, 0.009036144578313254, 0.01656626506024097, 0.019578313253012052, 0.015060240963855425, 0.027108434, 0.05873493975903616, 0.019578313]\n",
    "gr25_ptRNA = gr25_ptRNA/np.sum(gr25_ptRNA)\n",
    "\n",
    "max(gr25_ptRNA)"
   ]
  },
  {
   "cell_type": "code",
   "execution_count": null,
   "metadata": {},
   "outputs": [],
   "source": []
  }
 ],
 "metadata": {
  "kernelspec": {
   "display_name": "Python 3 (ipykernel)",
   "language": "python",
   "name": "python3"
  },
  "language_info": {
   "codemirror_mode": {
    "name": "ipython",
    "version": 3
   },
   "file_extension": ".py",
   "mimetype": "text/x-python",
   "name": "python",
   "nbconvert_exporter": "python",
   "pygments_lexer": "ipython3",
   "version": "3.8.12"
  }
 },
 "nbformat": 4,
 "nbformat_minor": 2
}
